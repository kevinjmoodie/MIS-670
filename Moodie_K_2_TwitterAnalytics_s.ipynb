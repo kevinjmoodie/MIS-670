{
 "cells": [
  {
   "cell_type": "markdown",
   "metadata": {},
   "source": [
    "Kevin Moodie  \n",
    "\"On my honor, as a student, I have neither given nor received unauthorized aid on this academic work.\""
   ]
  },
  {
   "cell_type": "markdown",
   "metadata": {
    "toc": true
   },
   "source": [
    "<h1>Table of Contents<span class=\"tocSkip\"></span></h1>\n",
    "<div class=\"toc\"><ul class=\"toc-item\"><li><span><a href=\"#Twitter-Data-Collection\" data-toc-modified-id=\"Twitter-Data-Collection-1\"><span class=\"toc-item-num\">1&nbsp;&nbsp;</span>Twitter Data Collection</a></span><ul class=\"toc-item\"><li><span><a href=\"#Twitter-App-and-Obtain-OAuth-Data\" data-toc-modified-id=\"Twitter-App-and-Obtain-OAuth-Data-1.1\"><span class=\"toc-item-num\">1.1&nbsp;&nbsp;</span>Twitter App and Obtain OAuth Data</a></span></li><li><span><a href=\"#Streaming-Twitter-data-and-save-it-in-a-JSON-file\" data-toc-modified-id=\"Streaming-Twitter-data-and-save-it-in-a-JSON-file-1.2\"><span class=\"toc-item-num\">1.2&nbsp;&nbsp;</span>Streaming Twitter data and save it in a JSON file</a></span><ul class=\"toc-item\"><li><span><a href=\"#If-you-receive-an-error-&quot;data-must-be-a-byte-string&quot;\" data-toc-modified-id=\"If-you-receive-an-error-&quot;data-must-be-a-byte-string&quot;-1.2.1\"><span class=\"toc-item-num\">1.2.1&nbsp;&nbsp;</span>If you receive an error \"data must be a byte string\"</a></span></li></ul></li></ul></li><li><span><a href=\"#Retrieve-and-Process-Twitter-Data-in-&quot;List&quot;\" data-toc-modified-id=\"Retrieve-and-Process-Twitter-Data-in-&quot;List&quot;-2\"><span class=\"toc-item-num\">2&nbsp;&nbsp;</span>Retrieve and Process Twitter Data in \"List\"</a></span><ul class=\"toc-item\"><li><span><a href=\"#Key-Attributes-in-Twitter-JOSN\" data-toc-modified-id=\"Key-Attributes-in-Twitter-JOSN-2.1\"><span class=\"toc-item-num\">2.1&nbsp;&nbsp;</span>Key Attributes in Twitter JOSN</a></span></li></ul></li><li><span><a href=\"#We-Can-Process-Tweets-in-Dataframe:-Parse-JSON-to-CSV-Automatically\" data-toc-modified-id=\"We-Can-Process-Tweets-in-Dataframe:-Parse-JSON-to-CSV-Automatically-3\"><span class=\"toc-item-num\">3&nbsp;&nbsp;</span>We Can Process Tweets in Dataframe: Parse JSON to CSV Automatically</a></span></li><li><span><a href=\"#Descriptive-Analytics-(data-in-list)\" data-toc-modified-id=\"Descriptive-Analytics-(data-in-list)-4\"><span class=\"toc-item-num\">4&nbsp;&nbsp;</span>Descriptive Analytics (data in list)</a></span><ul class=\"toc-item\"><li><span><a href=\"#Tweet-metrics\" data-toc-modified-id=\"Tweet-metrics-4.1\"><span class=\"toc-item-num\">4.1&nbsp;&nbsp;</span>Tweet metrics</a></span><ul class=\"toc-item\"><li><span><a href=\"#Tweet-statistics\" data-toc-modified-id=\"Tweet-statistics-4.1.1\"><span class=\"toc-item-num\">4.1.1&nbsp;&nbsp;</span>Tweet statistics</a></span></li><li><span><a href=\"#Tweet:-Hashtag\" data-toc-modified-id=\"Tweet:-Hashtag-4.1.2\"><span class=\"toc-item-num\">4.1.2&nbsp;&nbsp;</span>Tweet: Hashtag</a></span></li><li><span><a href=\"#Tweet:-Original-tweets-&amp;-Retweets\" data-toc-modified-id=\"Tweet:-Original-tweets-&amp;-Retweets-4.1.3\"><span class=\"toc-item-num\">4.1.3&nbsp;&nbsp;</span>Tweet: Original tweets &amp; Retweets</a></span></li><li><span><a href=\"#Tweet:-Time-series\" data-toc-modified-id=\"Tweet:-Time-series-4.1.4\"><span class=\"toc-item-num\">4.1.4&nbsp;&nbsp;</span>Tweet: Time series</a></span></li></ul></li><li><span><a href=\"#User-metrics\" data-toc-modified-id=\"User-metrics-4.2\"><span class=\"toc-item-num\">4.2&nbsp;&nbsp;</span>User metrics</a></span><ul class=\"toc-item\"><li><span><a href=\"#users\" data-toc-modified-id=\"users-4.2.1\"><span class=\"toc-item-num\">4.2.1&nbsp;&nbsp;</span>users</a></span></li><li><span><a href=\"#Most-active-users\" data-toc-modified-id=\"Most-active-users-4.2.2\"><span class=\"toc-item-num\">4.2.2&nbsp;&nbsp;</span>Most active users</a></span></li><li><span><a href=\"#Who-is-sharing-location-information?\" data-toc-modified-id=\"Who-is-sharing-location-information?-4.2.3\"><span class=\"toc-item-num\">4.2.3&nbsp;&nbsp;</span>Who is sharing location information?</a></span></li><li><span><a href=\"#Most-visible-users\" data-toc-modified-id=\"Most-visible-users-4.2.4\"><span class=\"toc-item-num\">4.2.4&nbsp;&nbsp;</span>Most visible users</a></span></li><li><span><a href=\"#Where-do-people-live?\" data-toc-modified-id=\"Where-do-people-live?-4.2.5\"><span class=\"toc-item-num\">4.2.5&nbsp;&nbsp;</span>Where do people live?</a></span></li></ul></li><li><span><a href=\"#URL-metrics\" data-toc-modified-id=\"URL-metrics-4.3\"><span class=\"toc-item-num\">4.3&nbsp;&nbsp;</span>URL metrics</a></span></li><li><span><a href=\"#More-Data-Preprocessing\" data-toc-modified-id=\"More-Data-Preprocessing-4.4\"><span class=\"toc-item-num\">4.4&nbsp;&nbsp;</span>More Data Preprocessing</a></span><ul class=\"toc-item\"><li><span><a href=\"#Data-for-more-descriptive-analytics\" data-toc-modified-id=\"Data-for-more-descriptive-analytics-4.4.1\"><span class=\"toc-item-num\">4.4.1&nbsp;&nbsp;</span>Data for more descriptive analytics</a></span></li></ul></li></ul></li><li><span><a href=\"#Content-Analytics\" data-toc-modified-id=\"Content-Analytics-5\"><span class=\"toc-item-num\">5&nbsp;&nbsp;</span>Content Analytics</a></span><ul class=\"toc-item\"><li><span><a href=\"#Word-analysis\" data-toc-modified-id=\"Word-analysis-5.1\"><span class=\"toc-item-num\">5.1&nbsp;&nbsp;</span>Word analysis</a></span><ul class=\"toc-item\"><li><span><a href=\"#Word-frequency\" data-toc-modified-id=\"Word-frequency-5.1.1\"><span class=\"toc-item-num\">5.1.1&nbsp;&nbsp;</span>Word frequency</a></span></li><li><span><a href=\"#Clustered-document-level-word-frequency-analysis\" data-toc-modified-id=\"Clustered-document-level-word-frequency-analysis-5.1.2\"><span class=\"toc-item-num\">5.1.2&nbsp;&nbsp;</span>Clustered document-level word frequency analysis</a></span></li></ul></li><li><span><a href=\"#Hashtag-analysis\" data-toc-modified-id=\"Hashtag-analysis-5.2\"><span class=\"toc-item-num\">5.2&nbsp;&nbsp;</span>Hashtag analysis</a></span><ul class=\"toc-item\"><li><span><a href=\"#Hashtag-Frequencies\" data-toc-modified-id=\"Hashtag-Frequencies-5.2.1\"><span class=\"toc-item-num\">5.2.1&nbsp;&nbsp;</span>Hashtag Frequencies</a></span></li><li><span><a href=\"#Hashtag-association-(strength)-analysis\" data-toc-modified-id=\"Hashtag-association-(strength)-analysis-5.2.2\"><span class=\"toc-item-num\">5.2.2&nbsp;&nbsp;</span>Hashtag association (strength) analysis</a></span></li></ul></li><li><span><a href=\"#Sentiment-analysis\" data-toc-modified-id=\"Sentiment-analysis-5.3\"><span class=\"toc-item-num\">5.3&nbsp;&nbsp;</span>Sentiment analysis</a></span></li><li><span><a href=\"#Topic-modeling\" data-toc-modified-id=\"Topic-modeling-5.4\"><span class=\"toc-item-num\">5.4&nbsp;&nbsp;</span>Topic modeling</a></span></li></ul></li><li><span><a href=\"#Network-Analytics\" data-toc-modified-id=\"Network-Analytics-6\"><span class=\"toc-item-num\">6&nbsp;&nbsp;</span>Network Analytics</a></span><ul class=\"toc-item\"><li><span><a href=\"#Mention-network\" data-toc-modified-id=\"Mention-network-6.1\"><span class=\"toc-item-num\">6.1&nbsp;&nbsp;</span>Mention network</a></span></li><li><span><a href=\"#Co-Hashtag-Network-=-Network-based-Topic-Modeling\" data-toc-modified-id=\"Co-Hashtag-Network-=-Network-based-Topic-Modeling-6.2\"><span class=\"toc-item-num\">6.2&nbsp;&nbsp;</span>Co-Hashtag Network = Network-based Topic Modeling</a></span></li></ul></li><li><span><a href=\"#Appendix\" data-toc-modified-id=\"Appendix-7\"><span class=\"toc-item-num\">7&nbsp;&nbsp;</span>Appendix</a></span><ul class=\"toc-item\"><li><ul class=\"toc-item\"><li><span><a href=\"#Collecting-and-analysting-user-profiles-(Appendix)\" data-toc-modified-id=\"Collecting-and-analysting-user-profiles-(Appendix)-7.0.1\"><span class=\"toc-item-num\">7.0.1&nbsp;&nbsp;</span>Collecting and analysting user profiles (Appendix)</a></span></li><li><span><a href=\"#Spatial-Analytics\" data-toc-modified-id=\"Spatial-Analytics-7.0.2\"><span class=\"toc-item-num\">7.0.2&nbsp;&nbsp;</span>Spatial Analytics</a></span></li></ul></li></ul></li><li><span><a href=\"#References-&amp;-Additional-Resources\" data-toc-modified-id=\"References-&amp;-Additional-Resources-8\"><span class=\"toc-item-num\">8&nbsp;&nbsp;</span>References &amp; Additional Resources</a></span></li></ul></div>"
   ]
  },
  {
   "cell_type": "markdown",
   "metadata": {},
   "source": [
    "**Twitter Analytics**\n",
    "\n",
    "+ Capture Twitter Data\n",
    "+ Analyze Twitter Data by Applying Descriptive, Content, & Network Analytics Techniques\n",
    "+ Present & Communicate The Results"
   ]
  },
  {
   "cell_type": "markdown",
   "metadata": {},
   "source": [
    "<img src = \"images/twitteranalytics.gif\">"
   ]
  },
  {
   "cell_type": "markdown",
   "metadata": {},
   "source": [
    "# Twitter Data Collection"
   ]
  },
  {
   "cell_type": "markdown",
   "metadata": {
    "collapsed": true
   },
   "source": [
    "## Twitter App and Obtain OAuth Data"
   ]
  },
  {
   "cell_type": "markdown",
   "metadata": {},
   "source": [
    "first, make sure you have a Twitter Application. https://developer.twitter.com/. You need to have the following information:\n",
    "\n",
    "- consumer_key\n",
    "- consumer_secret \n",
    "- access_token \n",
    "- access_token_secret \n",
    "\n",
    "second, tweepy python package is needed for this tutorial.\n",
    "\n",
    "- **pip install tweepy**"
   ]
  },
  {
   "cell_type": "markdown",
   "metadata": {},
   "source": [
    "## Streaming Twitter data and save it in a JSON file"
   ]
  },
  {
   "cell_type": "markdown",
   "metadata": {},
   "source": [
    "- Adapted from http://adilmoujahid.com/posts/2014/07/twitter-analytics/\n",
    "- Start **Spyder** and open the python file named **twitter_streaming.py**\n",
    "- Insert your access key information and run twitter_streaming.py. \n",
    "- Once data collection is done, you see a json file named as **twitterdata.json**."
   ]
  },
  {
   "cell_type": "markdown",
   "metadata": {},
   "source": [
    "# If you're collecting tweets with very popular keywords (e.g., bigdata, iop, trump, applebee), use the following script.\n",
    "\n",
    "from tweepy.streaming import StreamListener\n",
    "from tweepy import OAuthHandler\n",
    "from tweepy import Stream\n",
    "\n",
    "#Variables that contains the user credentials to access Twitter API\n",
    "consumer_key = '191mwkG6vZwCu9foP53MJDVn4'\n",
    "consumer_secret = 'T7ubECs9BXlObZG4GYpOSRbqDPXnoVYdAO4iKDWn7pfpHcIXiy'\n",
    "access_token = '1219695650088128518-2PKeIrOswCirujqLGk1xgUQLv4zmn'\n",
    "access_token_secret = 'eyLJskhwg6iG1JA1jN96gbqYqrr11P4upzIsxU8AqvJdP'\n",
    "\n",
    "save_file = open('twitterdata.json', 'a')\n",
    "\n",
    "#This is a basic listener that just prints received tweets to stdout.\n",
    "class StdOutListener(StreamListener):\n",
    "\n",
    "    def on_data(self, data):\n",
    "        if isinstance(data, dict):\n",
    "            # An attempt to cut down on non English tweets.\n",
    "            if data['user']['lang'] != 'en':\n",
    "                return\n",
    "\n",
    "\n",
    "        print(data)\n",
    "        save_file.write(str(data))\n",
    "        return True\n",
    "\n",
    "    def on_error(self, status):\n",
    "        print(status)\n",
    "\n",
    "if __name__ == '__main__':\n",
    "\n",
    "    #This handles Twitter authetification and the connection to Twitter Streaming API\n",
    "    l = StdOutListener()\n",
    "    auth = OAuthHandler(consumer_key, consumer_secret)\n",
    "    auth.set_access_token(access_token, access_token_secret)\n",
    "\n",
    "while True:\n",
    "\ttry:\n",
    "\t\tstream = Stream(auth, l)\n",
    "\t\t#This line filter Twitter Streams to capture data by the keywords: 'python', 'javascript', 'ruby', '#bigdata'\n",
    "\t\tstream.filter(track=['bigdata', 'iop'])\n",
    "\texcept: \n",
    "\t\tcontinue"
   ]
  },
  {
   "cell_type": "markdown",
   "metadata": {},
   "source": [
    "### If you receive an error \"data must be a byte string\"\n",
    "\n",
    "Install pyOpenSSL 0.15.1\n",
    "\n",
    "- Open a terminal in Mac or a command prompt in Windows\n",
    "- then, type **pip install pyopenssl**\n",
    "\n",
    "https://pypi.python.org/pypi/pyOpenSSL\n",
    "\n",
    "This will fix the error."
   ]
  },
  {
   "cell_type": "markdown",
   "metadata": {},
   "source": [
    "# Retrieve and Process Twitter Data in \"List\"\n",
    "\n",
    "- We can retrive and process twitter data in **dataframe** as well (if necessary)"
   ]
  },
  {
   "cell_type": "code",
   "execution_count": 624,
   "metadata": {
    "ExecuteTime": {
     "end_time": "2019-02-14T15:58:42.805256Z",
     "start_time": "2019-02-14T15:58:42.346257Z"
    }
   },
   "outputs": [],
   "source": [
    "# import popular packages\n",
    "import csv\n",
    "import pandas as pd\n",
    "import re\n",
    "import requests\n",
    "from bs4 import BeautifulSoup   # python package to handle HTML \n",
    "\n",
    "import json\n",
    "\n",
    "import numpy\n",
    "import matplotlib.pyplot as plt\n",
    "%matplotlib inline\n",
    "\n",
    "import nltk\n",
    "from nltk import word_tokenize\n",
    "from nltk.corpus import stopwords\n",
    "\n",
    "import itertools\n",
    "from collections import Counter\n",
    "from operator import itemgetter\n",
    "\n",
    "# sentiment analysis\n",
    "from nltk.sentiment.vader import SentimentIntensityAnalyzer\n",
    "\n",
    "# import packages for text processing\n",
    "import nltk\n",
    "from nltk.corpus import stopwords\n",
    "from nltk.stem.wordnet import WordNetLemmatizer\n",
    "from nltk.stem.porter import PorterStemmer\n",
    "import re\n",
    "\n",
    "# gensim for topic modeling\n",
    "import gensim\n",
    "from gensim.corpora import Dictionary\n",
    "from gensim.models import ldamodel\n",
    "from gensim import corpora, models, similarities\n",
    "from gensim.models.coherencemodel import CoherenceModel\n",
    "from gensim.models.wrappers import LdaVowpalWabbit, LdaMallet\n",
    "\n",
    "\n",
    "from wordcloud import WordCloud, STOPWORDS\n",
    "import matplotlib.colors as mcolors\n",
    "\n",
    "# show images\n",
    "from IPython.display import Image\n",
    "from IPython.core.display import HTML \n",
    "\n",
    "# suppress error messages\n",
    "import warnings\n",
    "warnings.filterwarnings('ignore')  # To ignore all warnings that arise here to enhance clarity\n",
    "pd.options.mode.chained_assignment = None  # default='warn'"
   ]
  },
  {
   "cell_type": "code",
   "execution_count": 625,
   "metadata": {
    "ExecuteTime": {
     "end_time": "2019-02-14T15:58:42.814262Z",
     "start_time": "2019-02-14T15:58:42.808258Z"
    }
   },
   "outputs": [],
   "source": [
    "with open('data/twitterdata.json', 'r') as f:\n",
    "    line = f.readline() # read only the first tweet/line\n",
    "    tweet = json.loads(line) # load it as Python dictionary\n",
    "    #print((json.dumps(tweet, indent=4))) \n",
    "    \n",
    "# the original data from Twitter looks like below."
   ]
  },
  {
   "cell_type": "markdown",
   "metadata": {},
   "source": [
    "## Key Attributes in Twitter JSON\n",
    "\n",
    "text: the text of the tweet itself\n",
    "\n",
    "created_at: the date of creation\n",
    "\n",
    "favorite_count, retweet_count: the number of favourites and retweets\n",
    "\n",
    "favorited, retweeted: boolean stating whether the authenticated user (you) have favourited or retweeted this tweet\n",
    "\n",
    "lang: acronym for the language (e.g. “en” for english)\n",
    "\n",
    "id: the tweet identifier\n",
    "\n",
    "place, coordinates, geo: geo-location information if available\n",
    "\n",
    "user: the author’s full profile\n",
    "\n",
    "entities: list of entities like URLs, @-mentions, hashtags and symbols\n",
    "\n",
    "in_reply_to_user_id: user identifier if the tweet is a reply to a specific user\n",
    "\n",
    "in_reply_to_status_id: status identifier id the tweet is a reply to a specific status\n",
    "\n",
    "http://marcobonzanini.com/2015/03/09/mining-twitter-data-with-python-part-2/"
   ]
  },
  {
   "cell_type": "code",
   "execution_count": 626,
   "metadata": {
    "ExecuteTime": {
     "end_time": "2019-02-14T15:58:42.943257Z",
     "start_time": "2019-02-14T15:58:42.816259Z"
    }
   },
   "outputs": [
    {
     "name": "stdout",
     "output_type": "stream",
     "text": [
      "9306\n"
     ]
    }
   ],
   "source": [
    "import json\n",
    "\n",
    "# create an empty list to store our tweets in\n",
    "data = []\n",
    "\n",
    "# append each line of the data to our tweets list using the json module\n",
    "for line in open('data/twitterdata.json'):\n",
    "    try:\n",
    "        data.append(json.loads(line))\n",
    "    except:\n",
    "        pass\n",
    "\n",
    "# lets see how many we got\n",
    "print(len(data))"
   ]
  },
  {
   "cell_type": "code",
   "execution_count": 632,
   "metadata": {
    "ExecuteTime": {
     "end_time": "2019-02-14T15:58:42.949260Z",
     "start_time": "2019-02-14T15:58:42.944260Z"
    }
   },
   "outputs": [
    {
     "name": "stdout",
     "output_type": "stream",
     "text": [
      "{'created_at': 'Mon Apr 27 01:44:47 +0000 2020', 'id': 1254587263398240256, 'id_str': '1254587263398240256', 'text': 'RT @TeamPelosi: The president is asking you to inject Lysol into your lungs. Please don’t do this or drink bleach. https://t.co/fSmiRvo8QG', 'source': '<a href=\"https://mobile.twitter.com\" rel=\"nofollow\">Twitter Web App</a>', 'truncated': False, 'in_reply_to_status_id': None, 'in_reply_to_status_id_str': None, 'in_reply_to_user_id': None, 'in_reply_to_user_id_str': None, 'in_reply_to_screen_name': None, 'user': {'id': 631816995, 'id_str': '631816995', 'name': 'John', 'screen_name': 'JbthomJohn', 'location': 'California High Desert', 'url': None, 'description': \"3'd gen. Union member, retired public servant, current non-union factory employee, Progressive, PLEASE KEEP ME OFF THE FOLLOWBACK LISTS! - #FBR #TheResistance\", 'translator_type': 'none', 'protected': False, 'verified': False, 'followers_count': 11081, 'friends_count': 11864, 'listed_count': 89, 'favourites_count': 3286, 'statuses_count': 215311, 'created_at': 'Tue Jul 10 06:23:56 +0000 2012', 'utc_offset': None, 'time_zone': None, 'geo_enabled': False, 'lang': None, 'contributors_enabled': False, 'is_translator': False, 'profile_background_color': '000000', 'profile_background_image_url': 'http://abs.twimg.com/images/themes/theme1/bg.png', 'profile_background_image_url_https': 'https://abs.twimg.com/images/themes/theme1/bg.png', 'profile_background_tile': False, 'profile_link_color': '1B95E0', 'profile_sidebar_border_color': '000000', 'profile_sidebar_fill_color': '000000', 'profile_text_color': '000000', 'profile_use_background_image': False, 'profile_image_url': 'http://pbs.twimg.com/profile_images/754110423708819456/pxPvNUOp_normal.jpg', 'profile_image_url_https': 'https://pbs.twimg.com/profile_images/754110423708819456/pxPvNUOp_normal.jpg', 'profile_banner_url': 'https://pbs.twimg.com/profile_banners/631816995/1497317323', 'default_profile': False, 'default_profile_image': False, 'following': None, 'follow_request_sent': None, 'notifications': None}, 'geo': None, 'coordinates': None, 'place': None, 'contributors': None, 'retweeted_status': {'created_at': 'Sun Apr 26 22:28:58 +0000 2020', 'id': 1254537987016331267, 'id_str': '1254537987016331267', 'text': 'The president is asking you to inject Lysol into your lungs. Please don’t do this or drink bleach. https://t.co/fSmiRvo8QG', 'display_text_range': [0, 98], 'source': '<a href=\"http://twitter.com/download/iphone\" rel=\"nofollow\">Twitter for iPhone</a>', 'truncated': False, 'in_reply_to_status_id': None, 'in_reply_to_status_id_str': None, 'in_reply_to_user_id': None, 'in_reply_to_user_id_str': None, 'in_reply_to_screen_name': None, 'user': {'id': 2461810448, 'id_str': '2461810448', 'name': 'Nancy Pelosi', 'screen_name': 'TeamPelosi', 'location': 'San Francisco', 'url': 'https://store.pelosiforcongress.org/', 'description': \"Organize, mobilize and fight #ForThePeople. This is Nancy's political account. Tweets from Nancy are signed -NP.\", 'translator_type': 'none', 'protected': False, 'verified': True, 'followers_count': 506084, 'friends_count': 8197, 'listed_count': 1754, 'favourites_count': 1445, 'statuses_count': 7364, 'created_at': 'Thu Apr 24 15:17:41 +0000 2014', 'utc_offset': None, 'time_zone': None, 'geo_enabled': False, 'lang': None, 'contributors_enabled': False, 'is_translator': False, 'profile_background_color': 'C0DEED', 'profile_background_image_url': 'http://abs.twimg.com/images/themes/theme1/bg.png', 'profile_background_image_url_https': 'https://abs.twimg.com/images/themes/theme1/bg.png', 'profile_background_tile': False, 'profile_link_color': '1DA1F2', 'profile_sidebar_border_color': 'C0DEED', 'profile_sidebar_fill_color': 'DDEEF6', 'profile_text_color': '333333', 'profile_use_background_image': True, 'profile_image_url': 'http://pbs.twimg.com/profile_images/978983398231351296/i_dVcde2_normal.jpg', 'profile_image_url_https': 'https://pbs.twimg.com/profile_images/978983398231351296/i_dVcde2_normal.jpg', 'profile_banner_url': 'https://pbs.twimg.com/profile_banners/2461810448/1571268285', 'default_profile': True, 'default_profile_image': False, 'following': None, 'follow_request_sent': None, 'notifications': None}, 'geo': None, 'coordinates': None, 'place': None, 'contributors': None, 'quoted_status_id': 1254410225446240256, 'quoted_status_id_str': '1254410225446240256', 'quoted_status': {'created_at': 'Sun Apr 26 14:01:18 +0000 2020', 'id': 1254410225446240256, 'id_str': '1254410225446240256', 'text': '\"Disinfectant in the body — you know what they call that? They call that embalming, that\\'s the medical term.\"… https://t.co/KVmcaziQVC', 'display_text_range': [0, 140], 'source': '<a href=\"http://www.snapstream.com\" rel=\"nofollow\">SnapStream TV Search</a>', 'truncated': True, 'in_reply_to_status_id': None, 'in_reply_to_status_id_str': None, 'in_reply_to_user_id': None, 'in_reply_to_user_id_str': None, 'in_reply_to_screen_name': None, 'user': {'id': 17112878, 'id_str': '17112878', 'name': 'State of the Union', 'screen_name': 'CNNSotu', 'location': 'Washington, D.C.', 'url': 'http://www.cnn.com/sotu', 'description': 'From the staff of State of the Union w/ @JakeTapper. Watch Sundays at 9a ET on 📺 @CNN & 🌎🌍🌏 @CNNi + 12p ET on @CNN. Always on 📱💻 https://t.co/klSXjzLI6R! #CNNSOTU', 'translator_type': 'none', 'protected': False, 'verified': True, 'followers_count': 188986, 'friends_count': 10309, 'listed_count': 1928, 'favourites_count': 328, 'statuses_count': 19980, 'created_at': 'Sun Nov 02 10:52:24 +0000 2008', 'utc_offset': None, 'time_zone': None, 'geo_enabled': True, 'lang': None, 'contributors_enabled': False, 'is_translator': False, 'profile_background_color': 'ABB8C2', 'profile_background_image_url': 'http://abs.twimg.com/images/themes/theme1/bg.png', 'profile_background_image_url_https': 'https://abs.twimg.com/images/themes/theme1/bg.png', 'profile_background_tile': False, 'profile_link_color': '0F0101', 'profile_sidebar_border_color': '000000', 'profile_sidebar_fill_color': '9087FD', 'profile_text_color': '333333', 'profile_use_background_image': False, 'profile_image_url': 'http://pbs.twimg.com/profile_images/878281253585387520/uwUqAoQe_normal.jpg', 'profile_image_url_https': 'https://pbs.twimg.com/profile_images/878281253585387520/uwUqAoQe_normal.jpg', 'profile_banner_url': 'https://pbs.twimg.com/profile_banners/17112878/1436480362', 'default_profile': False, 'default_profile_image': False, 'following': None, 'follow_request_sent': None, 'notifications': None}, 'geo': None, 'coordinates': None, 'place': None, 'contributors': None, 'is_quote_status': False, 'extended_tweet': {'full_text': '\"Disinfectant in the body — you know what they call that? They call that embalming, that\\'s the medical term.\" @SpeakerPelosi on President Trump\\'s request to look into the possibility of injecting disinfectant as a treatment for the coronavirus #CNNSOTU https://t.co/XxGWnS2GxQ', 'display_text_range': [0, 252], 'entities': {'hashtags': [{'text': 'CNNSOTU', 'indices': [244, 252]}], 'urls': [], 'user_mentions': [{'screen_name': 'SpeakerPelosi', 'name': 'Nancy Pelosi', 'id': 15764644, 'id_str': '15764644', 'indices': [110, 124]}], 'symbols': [], 'media': [{'id': 1254410080008785920, 'id_str': '1254410080008785920', 'indices': [253, 276], 'additional_media_info': {'monetizable': False}, 'media_url': 'http://pbs.twimg.com/amplify_video_thumb/1254410080008785920/img/08qP6KZxXFuvTjjH.jpg', 'media_url_https': 'https://pbs.twimg.com/amplify_video_thumb/1254410080008785920/img/08qP6KZxXFuvTjjH.jpg', 'url': 'https://t.co/XxGWnS2GxQ', 'display_url': 'pic.twitter.com/XxGWnS2GxQ', 'expanded_url': 'https://twitter.com/CNNSotu/status/1254410225446240256/video/1', 'type': 'video', 'video_info': {'aspect_ratio': [16, 9], 'duration_millis': 177077, 'variants': [{'bitrate': 2176000, 'content_type': 'video/mp4', 'url': 'https://video.twimg.com/amplify_video/1254410080008785920/vid/1280x720/o3yKe29QgO6fH0BQ.mp4?tag=13'}, {'bitrate': 832000, 'content_type': 'video/mp4', 'url': 'https://video.twimg.com/amplify_video/1254410080008785920/vid/640x360/HdyFovGYm42eTYz2.mp4?tag=13'}, {'content_type': 'application/x-mpegURL', 'url': 'https://video.twimg.com/amplify_video/1254410080008785920/pl/bdcBnHn7t9xksyWy.m3u8?tag=13'}, {'bitrate': 288000, 'content_type': 'video/mp4', 'url': 'https://video.twimg.com/amplify_video/1254410080008785920/vid/480x270/kP_OWMQX3VBvP8JO.mp4?tag=13'}]}, 'sizes': {'thumb': {'w': 150, 'h': 150, 'resize': 'crop'}, 'medium': {'w': 1200, 'h': 675, 'resize': 'fit'}, 'small': {'w': 680, 'h': 383, 'resize': 'fit'}, 'large': {'w': 1280, 'h': 720, 'resize': 'fit'}}}]}, 'extended_entities': {'media': [{'id': 1254410080008785920, 'id_str': '1254410080008785920', 'indices': [253, 276], 'additional_media_info': {'monetizable': False}, 'media_url': 'http://pbs.twimg.com/amplify_video_thumb/1254410080008785920/img/08qP6KZxXFuvTjjH.jpg', 'media_url_https': 'https://pbs.twimg.com/amplify_video_thumb/1254410080008785920/img/08qP6KZxXFuvTjjH.jpg', 'url': 'https://t.co/XxGWnS2GxQ', 'display_url': 'pic.twitter.com/XxGWnS2GxQ', 'expanded_url': 'https://twitter.com/CNNSotu/status/1254410225446240256/video/1', 'type': 'video', 'video_info': {'aspect_ratio': [16, 9], 'duration_millis': 177077, 'variants': [{'bitrate': 2176000, 'content_type': 'video/mp4', 'url': 'https://video.twimg.com/amplify_video/1254410080008785920/vid/1280x720/o3yKe29QgO6fH0BQ.mp4?tag=13'}, {'bitrate': 832000, 'content_type': 'video/mp4', 'url': 'https://video.twimg.com/amplify_video/1254410080008785920/vid/640x360/HdyFovGYm42eTYz2.mp4?tag=13'}, {'content_type': 'application/x-mpegURL', 'url': 'https://video.twimg.com/amplify_video/1254410080008785920/pl/bdcBnHn7t9xksyWy.m3u8?tag=13'}, {'bitrate': 288000, 'content_type': 'video/mp4', 'url': 'https://video.twimg.com/amplify_video/1254410080008785920/vid/480x270/kP_OWMQX3VBvP8JO.mp4?tag=13'}]}, 'sizes': {'thumb': {'w': 150, 'h': 150, 'resize': 'crop'}, 'medium': {'w': 1200, 'h': 675, 'resize': 'fit'}, 'small': {'w': 680, 'h': 383, 'resize': 'fit'}, 'large': {'w': 1280, 'h': 720, 'resize': 'fit'}}}]}}, 'quote_count': 18, 'reply_count': 31, 'retweet_count': 235, 'favorite_count': 600, 'entities': {'hashtags': [], 'urls': [{'url': 'https://t.co/KVmcaziQVC', 'expanded_url': 'https://twitter.com/i/web/status/1254410225446240256', 'display_url': 'twitter.com/i/web/status/1…', 'indices': [111, 134]}], 'user_mentions': [], 'symbols': []}, 'favorited': False, 'retweeted': False, 'possibly_sensitive': False, 'filter_level': 'low', 'lang': 'en'}, 'quoted_status_permalink': {'url': 'https://t.co/fSmiRvo8QG', 'expanded': 'https://twitter.com/cnnsotu/status/1254410225446240256', 'display': 'twitter.com/cnnsotu/status…'}, 'is_quote_status': True, 'quote_count': 50, 'reply_count': 209, 'retweet_count': 1327, 'favorite_count': 4240, 'entities': {'hashtags': [], 'urls': [{'url': 'https://t.co/fSmiRvo8QG', 'expanded_url': 'https://twitter.com/cnnsotu/status/1254410225446240256', 'display_url': 'twitter.com/cnnsotu/status…', 'indices': [99, 122]}], 'user_mentions': [], 'symbols': []}, 'favorited': False, 'retweeted': False, 'possibly_sensitive': False, 'filter_level': 'low', 'lang': 'en'}, 'quoted_status_id': 1254410225446240256, 'quoted_status_id_str': '1254410225446240256', 'quoted_status': {'created_at': 'Sun Apr 26 14:01:18 +0000 2020', 'id': 1254410225446240256, 'id_str': '1254410225446240256', 'text': '\"Disinfectant in the body — you know what they call that? They call that embalming, that\\'s the medical term.\"… https://t.co/KVmcaziQVC', 'display_text_range': [0, 140], 'source': '<a href=\"http://www.snapstream.com\" rel=\"nofollow\">SnapStream TV Search</a>', 'truncated': True, 'in_reply_to_status_id': None, 'in_reply_to_status_id_str': None, 'in_reply_to_user_id': None, 'in_reply_to_user_id_str': None, 'in_reply_to_screen_name': None, 'user': {'id': 17112878, 'id_str': '17112878', 'name': 'State of the Union', 'screen_name': 'CNNSotu', 'location': 'Washington, D.C.', 'url': 'http://www.cnn.com/sotu', 'description': 'From the staff of State of the Union w/ @JakeTapper. Watch Sundays at 9a ET on 📺 @CNN & 🌎🌍🌏 @CNNi + 12p ET on @CNN. Always on 📱💻 https://t.co/klSXjzLI6R! #CNNSOTU', 'translator_type': 'none', 'protected': False, 'verified': True, 'followers_count': 188986, 'friends_count': 10309, 'listed_count': 1928, 'favourites_count': 328, 'statuses_count': 19980, 'created_at': 'Sun Nov 02 10:52:24 +0000 2008', 'utc_offset': None, 'time_zone': None, 'geo_enabled': True, 'lang': None, 'contributors_enabled': False, 'is_translator': False, 'profile_background_color': 'ABB8C2', 'profile_background_image_url': 'http://abs.twimg.com/images/themes/theme1/bg.png', 'profile_background_image_url_https': 'https://abs.twimg.com/images/themes/theme1/bg.png', 'profile_background_tile': False, 'profile_link_color': '0F0101', 'profile_sidebar_border_color': '000000', 'profile_sidebar_fill_color': '9087FD', 'profile_text_color': '333333', 'profile_use_background_image': False, 'profile_image_url': 'http://pbs.twimg.com/profile_images/878281253585387520/uwUqAoQe_normal.jpg', 'profile_image_url_https': 'https://pbs.twimg.com/profile_images/878281253585387520/uwUqAoQe_normal.jpg', 'profile_banner_url': 'https://pbs.twimg.com/profile_banners/17112878/1436480362', 'default_profile': False, 'default_profile_image': False, 'following': None, 'follow_request_sent': None, 'notifications': None}, 'geo': None, 'coordinates': None, 'place': None, 'contributors': None, 'is_quote_status': False, 'extended_tweet': {'full_text': '\"Disinfectant in the body — you know what they call that? They call that embalming, that\\'s the medical term.\" @SpeakerPelosi on President Trump\\'s request to look into the possibility of injecting disinfectant as a treatment for the coronavirus #CNNSOTU https://t.co/XxGWnS2GxQ', 'display_text_range': [0, 252], 'entities': {'hashtags': [{'text': 'CNNSOTU', 'indices': [244, 252]}], 'urls': [], 'user_mentions': [{'screen_name': 'SpeakerPelosi', 'name': 'Nancy Pelosi', 'id': 15764644, 'id_str': '15764644', 'indices': [110, 124]}], 'symbols': [], 'media': [{'id': 1254410080008785920, 'id_str': '1254410080008785920', 'indices': [253, 276], 'additional_media_info': {'monetizable': False}, 'media_url': 'http://pbs.twimg.com/amplify_video_thumb/1254410080008785920/img/08qP6KZxXFuvTjjH.jpg', 'media_url_https': 'https://pbs.twimg.com/amplify_video_thumb/1254410080008785920/img/08qP6KZxXFuvTjjH.jpg', 'url': 'https://t.co/XxGWnS2GxQ', 'display_url': 'pic.twitter.com/XxGWnS2GxQ', 'expanded_url': 'https://twitter.com/CNNSotu/status/1254410225446240256/video/1', 'type': 'video', 'video_info': {'aspect_ratio': [16, 9], 'duration_millis': 177077, 'variants': [{'bitrate': 2176000, 'content_type': 'video/mp4', 'url': 'https://video.twimg.com/amplify_video/1254410080008785920/vid/1280x720/o3yKe29QgO6fH0BQ.mp4?tag=13'}, {'bitrate': 832000, 'content_type': 'video/mp4', 'url': 'https://video.twimg.com/amplify_video/1254410080008785920/vid/640x360/HdyFovGYm42eTYz2.mp4?tag=13'}, {'content_type': 'application/x-mpegURL', 'url': 'https://video.twimg.com/amplify_video/1254410080008785920/pl/bdcBnHn7t9xksyWy.m3u8?tag=13'}, {'bitrate': 288000, 'content_type': 'video/mp4', 'url': 'https://video.twimg.com/amplify_video/1254410080008785920/vid/480x270/kP_OWMQX3VBvP8JO.mp4?tag=13'}]}, 'sizes': {'thumb': {'w': 150, 'h': 150, 'resize': 'crop'}, 'medium': {'w': 1200, 'h': 675, 'resize': 'fit'}, 'small': {'w': 680, 'h': 383, 'resize': 'fit'}, 'large': {'w': 1280, 'h': 720, 'resize': 'fit'}}}]}, 'extended_entities': {'media': [{'id': 1254410080008785920, 'id_str': '1254410080008785920', 'indices': [253, 276], 'additional_media_info': {'monetizable': False}, 'media_url': 'http://pbs.twimg.com/amplify_video_thumb/1254410080008785920/img/08qP6KZxXFuvTjjH.jpg', 'media_url_https': 'https://pbs.twimg.com/amplify_video_thumb/1254410080008785920/img/08qP6KZxXFuvTjjH.jpg', 'url': 'https://t.co/XxGWnS2GxQ', 'display_url': 'pic.twitter.com/XxGWnS2GxQ', 'expanded_url': 'https://twitter.com/CNNSotu/status/1254410225446240256/video/1', 'type': 'video', 'video_info': {'aspect_ratio': [16, 9], 'duration_millis': 177077, 'variants': [{'bitrate': 2176000, 'content_type': 'video/mp4', 'url': 'https://video.twimg.com/amplify_video/1254410080008785920/vid/1280x720/o3yKe29QgO6fH0BQ.mp4?tag=13'}, {'bitrate': 832000, 'content_type': 'video/mp4', 'url': 'https://video.twimg.com/amplify_video/1254410080008785920/vid/640x360/HdyFovGYm42eTYz2.mp4?tag=13'}, {'content_type': 'application/x-mpegURL', 'url': 'https://video.twimg.com/amplify_video/1254410080008785920/pl/bdcBnHn7t9xksyWy.m3u8?tag=13'}, {'bitrate': 288000, 'content_type': 'video/mp4', 'url': 'https://video.twimg.com/amplify_video/1254410080008785920/vid/480x270/kP_OWMQX3VBvP8JO.mp4?tag=13'}]}, 'sizes': {'thumb': {'w': 150, 'h': 150, 'resize': 'crop'}, 'medium': {'w': 1200, 'h': 675, 'resize': 'fit'}, 'small': {'w': 680, 'h': 383, 'resize': 'fit'}, 'large': {'w': 1280, 'h': 720, 'resize': 'fit'}}}]}}, 'quote_count': 18, 'reply_count': 31, 'retweet_count': 235, 'favorite_count': 600, 'entities': {'hashtags': [], 'urls': [{'url': 'https://t.co/KVmcaziQVC', 'expanded_url': 'https://twitter.com/i/web/status/1254410225446240256', 'display_url': 'twitter.com/i/web/status/1…', 'indices': [111, 134]}], 'user_mentions': [], 'symbols': []}, 'favorited': False, 'retweeted': False, 'possibly_sensitive': False, 'filter_level': 'low', 'lang': 'en'}, 'quoted_status_permalink': {'url': 'https://t.co/fSmiRvo8QG', 'expanded': 'https://twitter.com/cnnsotu/status/1254410225446240256', 'display': 'twitter.com/cnnsotu/status…'}, 'is_quote_status': True, 'quote_count': 0, 'reply_count': 0, 'retweet_count': 0, 'favorite_count': 0, 'entities': {'hashtags': [], 'urls': [{'url': 'https://t.co/fSmiRvo8QG', 'expanded_url': 'https://twitter.com/cnnsotu/status/1254410225446240256', 'display_url': 'twitter.com/cnnsotu/status…', 'indices': [115, 138]}], 'user_mentions': [{'screen_name': 'TeamPelosi', 'name': 'Nancy Pelosi', 'id': 2461810448, 'id_str': '2461810448', 'indices': [3, 14]}], 'symbols': []}, 'favorited': False, 'retweeted': False, 'possibly_sensitive': False, 'filter_level': 'low', 'lang': 'en', 'timestamp_ms': '1587951887355'}\n",
      "{'created_at': 'Mon Apr 27 01:44:47 +0000 2020', 'id': 1254587263570153473, 'id_str': '1254587263570153473', 'text': 'RT @RepAdamSchiff: There’s a disturbing echo in Trump’s coronavirus response.\\n\\nFrom eschewing pandemic preparedness and oversight to demand…', 'source': '<a href=\"http://twitter.com/download/iphone\" rel=\"nofollow\">Twitter for iPhone</a>', 'truncated': False, 'in_reply_to_status_id': None, 'in_reply_to_status_id_str': None, 'in_reply_to_user_id': None, 'in_reply_to_user_id_str': None, 'in_reply_to_screen_name': None, 'user': {'id': 186244490, 'id_str': '186244490', 'name': '🅛🅔🅔', 'screen_name': 'leehall11', 'location': 'Beaverton, OR', 'url': None, 'description': 'Biden/Harris 2020!!', 'translator_type': 'none', 'protected': False, 'verified': False, 'followers_count': 406, 'friends_count': 789, 'listed_count': 1, 'favourites_count': 14737, 'statuses_count': 20092, 'created_at': 'Thu Sep 02 23:15:51 +0000 2010', 'utc_offset': None, 'time_zone': None, 'geo_enabled': False, 'lang': None, 'contributors_enabled': False, 'is_translator': False, 'profile_background_color': 'C0DEED', 'profile_background_image_url': 'http://abs.twimg.com/images/themes/theme1/bg.png', 'profile_background_image_url_https': 'https://abs.twimg.com/images/themes/theme1/bg.png', 'profile_background_tile': False, 'profile_link_color': '1DA1F2', 'profile_sidebar_border_color': 'C0DEED', 'profile_sidebar_fill_color': 'DDEEF6', 'profile_text_color': '333333', 'profile_use_background_image': True, 'profile_image_url': 'http://pbs.twimg.com/profile_images/1253104602599141376/iuKVHnzf_normal.jpg', 'profile_image_url_https': 'https://pbs.twimg.com/profile_images/1253104602599141376/iuKVHnzf_normal.jpg', 'profile_banner_url': 'https://pbs.twimg.com/profile_banners/186244490/1587447583', 'default_profile': True, 'default_profile_image': False, 'following': None, 'follow_request_sent': None, 'notifications': None}, 'geo': None, 'coordinates': None, 'place': None, 'contributors': None, 'retweeted_status': {'created_at': 'Sun Apr 26 16:44:05 +0000 2020', 'id': 1254451191863545856, 'id_str': '1254451191863545856', 'text': 'There’s a disturbing echo in Trump’s coronavirus response.\\n\\nFrom eschewing pandemic preparedness and oversight to d… https://t.co/7PwrLOSU1W', 'display_text_range': [0, 140], 'source': '<a href=\"https://studio.twitter.com\" rel=\"nofollow\">Twitter Media Studio</a>', 'truncated': True, 'in_reply_to_status_id': None, 'in_reply_to_status_id_str': None, 'in_reply_to_user_id': None, 'in_reply_to_user_id_str': None, 'in_reply_to_screen_name': None, 'user': {'id': 29501253, 'id_str': '29501253', 'name': 'Adam Schiff', 'screen_name': 'RepAdamSchiff', 'location': 'Burbank, CA', 'url': 'http://schiff.house.gov/', 'description': \"Representing California's 28th Congressional District. Chairman of the House Intelligence Committee (@HouseIntel).\", 'translator_type': 'none', 'protected': False, 'verified': True, 'followers_count': 2207808, 'friends_count': 776, 'listed_count': 9709, 'favourites_count': 153, 'statuses_count': 5686, 'created_at': 'Tue Apr 07 17:54:35 +0000 2009', 'utc_offset': None, 'time_zone': None, 'geo_enabled': True, 'lang': None, 'contributors_enabled': False, 'is_translator': False, 'profile_background_color': '2578B8', 'profile_background_image_url': 'http://abs.twimg.com/images/themes/theme1/bg.png', 'profile_background_image_url_https': 'https://abs.twimg.com/images/themes/theme1/bg.png', 'profile_background_tile': False, 'profile_link_color': '2578B8', 'profile_sidebar_border_color': 'FFFFFF', 'profile_sidebar_fill_color': 'DDEEF6', 'profile_text_color': '333333', 'profile_use_background_image': False, 'profile_image_url': 'http://pbs.twimg.com/profile_images/816361054699667458/0DVL6HrY_normal.jpg', 'profile_image_url_https': 'https://pbs.twimg.com/profile_images/816361054699667458/0DVL6HrY_normal.jpg', 'profile_banner_url': 'https://pbs.twimg.com/profile_banners/29501253/1547736718', 'default_profile': False, 'default_profile_image': False, 'following': None, 'follow_request_sent': None, 'notifications': None}, 'geo': None, 'coordinates': None, 'place': None, 'contributors': None, 'is_quote_status': False, 'extended_tweet': {'full_text': 'There’s a disturbing echo in Trump’s coronavirus response.\\n\\nFrom eschewing pandemic preparedness and oversight to demanding praise,\\n\\nTrump acts in his personal political interest, not the national interest.\\n \\nBecause a man with no moral compass will never find his way. https://t.co/Z6M4p8ZS5Z', 'display_text_range': [0, 269], 'entities': {'hashtags': [], 'urls': [], 'user_mentions': [], 'symbols': [], 'media': [{'id': 1254445606946459648, 'id_str': '1254445606946459648', 'indices': [270, 293], 'additional_media_info': {'title': '', 'description': '', 'embeddable': True, 'monetizable': False}, 'media_url': 'http://pbs.twimg.com/media/EWix6ftXgAMU986.jpg', 'media_url_https': 'https://pbs.twimg.com/media/EWix6ftXgAMU986.jpg', 'url': 'https://t.co/Z6M4p8ZS5Z', 'display_url': 'pic.twitter.com/Z6M4p8ZS5Z', 'expanded_url': 'https://twitter.com/RepAdamSchiff/status/1254451191863545856/video/1', 'type': 'video', 'video_info': {'aspect_ratio': [16, 9], 'duration_millis': 359026, 'variants': [{'bitrate': 832000, 'content_type': 'video/mp4', 'url': 'https://video.twimg.com/amplify_video/1254445606946459648/vid/640x360/Fm9tNKLE_9shdmwF.mp4?tag=13'}, {'bitrate': 288000, 'content_type': 'video/mp4', 'url': 'https://video.twimg.com/amplify_video/1254445606946459648/vid/480x270/0vyL7kEQ2c4LhycB.mp4?tag=13'}, {'content_type': 'application/x-mpegURL', 'url': 'https://video.twimg.com/amplify_video/1254445606946459648/pl/k32WLjevEL24Go4r.m3u8?tag=13'}, {'bitrate': 2176000, 'content_type': 'video/mp4', 'url': 'https://video.twimg.com/amplify_video/1254445606946459648/vid/1280x720/Cp7vZ8b5Sz3XuXut.mp4?tag=13'}]}, 'sizes': {'thumb': {'w': 150, 'h': 150, 'resize': 'crop'}, 'medium': {'w': 1200, 'h': 675, 'resize': 'fit'}, 'small': {'w': 680, 'h': 383, 'resize': 'fit'}, 'large': {'w': 1280, 'h': 720, 'resize': 'fit'}}}]}, 'extended_entities': {'media': [{'id': 1254445606946459648, 'id_str': '1254445606946459648', 'indices': [270, 293], 'additional_media_info': {'title': '', 'description': '', 'embeddable': True, 'monetizable': False}, 'media_url': 'http://pbs.twimg.com/media/EWix6ftXgAMU986.jpg', 'media_url_https': 'https://pbs.twimg.com/media/EWix6ftXgAMU986.jpg', 'url': 'https://t.co/Z6M4p8ZS5Z', 'display_url': 'pic.twitter.com/Z6M4p8ZS5Z', 'expanded_url': 'https://twitter.com/RepAdamSchiff/status/1254451191863545856/video/1', 'type': 'video', 'video_info': {'aspect_ratio': [16, 9], 'duration_millis': 359026, 'variants': [{'bitrate': 832000, 'content_type': 'video/mp4', 'url': 'https://video.twimg.com/amplify_video/1254445606946459648/vid/640x360/Fm9tNKLE_9shdmwF.mp4?tag=13'}, {'bitrate': 288000, 'content_type': 'video/mp4', 'url': 'https://video.twimg.com/amplify_video/1254445606946459648/vid/480x270/0vyL7kEQ2c4LhycB.mp4?tag=13'}, {'content_type': 'application/x-mpegURL', 'url': 'https://video.twimg.com/amplify_video/1254445606946459648/pl/k32WLjevEL24Go4r.m3u8?tag=13'}, {'bitrate': 2176000, 'content_type': 'video/mp4', 'url': 'https://video.twimg.com/amplify_video/1254445606946459648/vid/1280x720/Cp7vZ8b5Sz3XuXut.mp4?tag=13'}]}, 'sizes': {'thumb': {'w': 150, 'h': 150, 'resize': 'crop'}, 'medium': {'w': 1200, 'h': 675, 'resize': 'fit'}, 'small': {'w': 680, 'h': 383, 'resize': 'fit'}, 'large': {'w': 1280, 'h': 720, 'resize': 'fit'}}}]}}, 'quote_count': 303, 'reply_count': 1916, 'retweet_count': 6471, 'favorite_count': 21659, 'entities': {'hashtags': [], 'urls': [{'url': 'https://t.co/7PwrLOSU1W', 'expanded_url': 'https://twitter.com/i/web/status/1254451191863545856', 'display_url': 'twitter.com/i/web/status/1…', 'indices': [117, 140]}], 'user_mentions': [], 'symbols': []}, 'favorited': False, 'retweeted': False, 'possibly_sensitive': False, 'filter_level': 'low', 'lang': 'en'}, 'is_quote_status': False, 'quote_count': 0, 'reply_count': 0, 'retweet_count': 0, 'favorite_count': 0, 'entities': {'hashtags': [], 'urls': [], 'user_mentions': [{'screen_name': 'RepAdamSchiff', 'name': 'Adam Schiff', 'id': 29501253, 'id_str': '29501253', 'indices': [3, 17]}], 'symbols': []}, 'favorited': False, 'retweeted': False, 'filter_level': 'low', 'lang': 'en', 'timestamp_ms': '1587951887396'}\n",
      "{'created_at': 'Mon Apr 27 01:44:47 +0000 2020', 'id': 1254587263603924992, 'id_str': '1254587263603924992', 'text': 'RT @TheRickWilson: Trump Is Seething About Michael Cohen’s Tell-All https://t.co/qJpWR9IE4B via @thedailybeast', 'source': '<a href=\"http://twitter.com/#!/download/ipad\" rel=\"nofollow\">Twitter for iPad</a>', 'truncated': False, 'in_reply_to_status_id': None, 'in_reply_to_status_id_str': None, 'in_reply_to_user_id': None, 'in_reply_to_user_id_str': None, 'in_reply_to_screen_name': None, 'user': {'id': 1916167339, 'id_str': '1916167339', 'name': 'Sylvia  Henry', 'screen_name': 'psu4joe', 'location': 'United States', 'url': None, 'description': 'Vote Blue No Matter Who. Climate Change is here now.', 'translator_type': 'none', 'protected': False, 'verified': False, 'followers_count': 1592, 'friends_count': 1976, 'listed_count': 46, 'favourites_count': 224182, 'statuses_count': 147535, 'created_at': 'Sun Sep 29 04:28:03 +0000 2013', 'utc_offset': None, 'time_zone': None, 'geo_enabled': False, 'lang': None, 'contributors_enabled': False, 'is_translator': False, 'profile_background_color': 'C0DEED', 'profile_background_image_url': 'http://abs.twimg.com/images/themes/theme1/bg.png', 'profile_background_image_url_https': 'https://abs.twimg.com/images/themes/theme1/bg.png', 'profile_background_tile': False, 'profile_link_color': '1DA1F2', 'profile_sidebar_border_color': 'C0DEED', 'profile_sidebar_fill_color': 'DDEEF6', 'profile_text_color': '333333', 'profile_use_background_image': True, 'profile_image_url': 'http://pbs.twimg.com/profile_images/1242590392081670152/4ecwTZ7b_normal.jpg', 'profile_image_url_https': 'https://pbs.twimg.com/profile_images/1242590392081670152/4ecwTZ7b_normal.jpg', 'default_profile': True, 'default_profile_image': False, 'following': None, 'follow_request_sent': None, 'notifications': None}, 'geo': None, 'coordinates': None, 'place': None, 'contributors': None, 'retweeted_status': {'created_at': 'Mon Apr 27 01:41:33 +0000 2020', 'id': 1254586451754471424, 'id_str': '1254586451754471424', 'text': 'Trump Is Seething About Michael Cohen’s Tell-All https://t.co/qJpWR9IE4B via @thedailybeast', 'source': '<a href=\"http://twitter.com\" rel=\"nofollow\">Twitter Web Client</a>', 'truncated': False, 'in_reply_to_status_id': None, 'in_reply_to_status_id_str': None, 'in_reply_to_user_id': None, 'in_reply_to_user_id_str': None, 'in_reply_to_screen_name': None, 'user': {'id': 19084896, 'id_str': '19084896', 'name': 'Rick Wilson', 'screen_name': 'TheRickWilson', 'location': 'Florida and points beyond', 'url': 'http://therickwilson.com', 'description': 'Apostate GOP Media Guy, writer, NYT #1 best-selling author. Lincoln Project co-founder. Order \"Running Against The Devil\" here: http://bit.ly/RATD2020', 'translator_type': 'none', 'protected': False, 'verified': True, 'followers_count': 824027, 'friends_count': 5764, 'listed_count': 7859, 'favourites_count': 88054, 'statuses_count': 318328, 'created_at': 'Fri Jan 16 20:50:17 +0000 2009', 'utc_offset': None, 'time_zone': None, 'geo_enabled': False, 'lang': None, 'contributors_enabled': False, 'is_translator': False, 'profile_background_color': '1A1B1F', 'profile_background_image_url': 'http://abs.twimg.com/images/themes/theme1/bg.png', 'profile_background_image_url_https': 'https://abs.twimg.com/images/themes/theme1/bg.png', 'profile_background_tile': True, 'profile_link_color': 'FF691F', 'profile_sidebar_border_color': '000000', 'profile_sidebar_fill_color': '252429', 'profile_text_color': '666666', 'profile_use_background_image': True, 'profile_image_url': 'http://pbs.twimg.com/profile_images/1212477294901702656/ACjWbt9d_normal.jpg', 'profile_image_url_https': 'https://pbs.twimg.com/profile_images/1212477294901702656/ACjWbt9d_normal.jpg', 'profile_banner_url': 'https://pbs.twimg.com/profile_banners/19084896/1584978025', 'default_profile': False, 'default_profile_image': False, 'following': None, 'follow_request_sent': None, 'notifications': None}, 'geo': None, 'coordinates': None, 'place': None, 'contributors': None, 'is_quote_status': False, 'quote_count': 4, 'reply_count': 38, 'retweet_count': 99, 'favorite_count': 275, 'entities': {'hashtags': [], 'urls': [{'url': 'https://t.co/qJpWR9IE4B', 'expanded_url': 'https://www.thedailybeast.com/trump-seethes-about-michael-cohens-early-release-and-new-tell-all-book?source=twitter&via=desktop', 'display_url': 'thedailybeast.com/trump-seethes-…', 'indices': [49, 72]}], 'user_mentions': [{'screen_name': 'thedailybeast', 'name': 'The Daily Beast', 'id': 16012783, 'id_str': '16012783', 'indices': [77, 91]}], 'symbols': []}, 'favorited': False, 'retweeted': False, 'possibly_sensitive': False, 'filter_level': 'low', 'lang': 'en'}, 'is_quote_status': False, 'quote_count': 0, 'reply_count': 0, 'retweet_count': 0, 'favorite_count': 0, 'entities': {'hashtags': [], 'urls': [{'url': 'https://t.co/qJpWR9IE4B', 'expanded_url': 'https://www.thedailybeast.com/trump-seethes-about-michael-cohens-early-release-and-new-tell-all-book?source=twitter&via=desktop', 'display_url': 'thedailybeast.com/trump-seethes-…', 'indices': [68, 91]}], 'user_mentions': [{'screen_name': 'TheRickWilson', 'name': 'Rick Wilson', 'id': 19084896, 'id_str': '19084896', 'indices': [3, 17]}, {'screen_name': 'thedailybeast', 'name': 'The Daily Beast', 'id': 16012783, 'id_str': '16012783', 'indices': [96, 110]}], 'symbols': []}, 'favorited': False, 'retweeted': False, 'possibly_sensitive': False, 'filter_level': 'low', 'lang': 'en', 'timestamp_ms': '1587951887404'}\n",
      "{'created_at': 'Mon Apr 27 01:44:47 +0000 2020', 'id': 1254587263717163008, 'id_str': '1254587263717163008', 'text': 'RT @coleyworld: Fuck Trump and his “I’m the hardest working President EVER in all of history.” Bullshit.', 'source': '<a href=\"http://twitter.com/download/android\" rel=\"nofollow\">Twitter for Android</a>', 'truncated': False, 'in_reply_to_status_id': None, 'in_reply_to_status_id_str': None, 'in_reply_to_user_id': None, 'in_reply_to_user_id_str': None, 'in_reply_to_screen_name': None, 'user': {'id': 16725354, 'id_str': '16725354', 'name': 'Luka Luke🍀🌱🌿', 'screen_name': 'LukaLuke966', 'location': 'DMV Blue, in Crimson Red Bama ', 'url': None, 'description': \"*Don't live the same year 75 times and call it a life* DC Born 🇺🇸 USARMY VET! Black with a snipet of Irish/scottish/welch. #Resist #LegalizIt  #2fish\", 'translator_type': 'none', 'protected': False, 'verified': False, 'followers_count': 1267, 'friends_count': 2832, 'listed_count': 18, 'favourites_count': 25595, 'statuses_count': 61708, 'created_at': 'Mon Oct 13 19:05:44 +0000 2008', 'utc_offset': None, 'time_zone': None, 'geo_enabled': True, 'lang': None, 'contributors_enabled': False, 'is_translator': False, 'profile_background_color': '000000', 'profile_background_image_url': 'http://abs.twimg.com/images/themes/theme14/bg.gif', 'profile_background_image_url_https': 'https://abs.twimg.com/images/themes/theme14/bg.gif', 'profile_background_tile': False, 'profile_link_color': '19CF86', 'profile_sidebar_border_color': '000000', 'profile_sidebar_fill_color': '000000', 'profile_text_color': '000000', 'profile_use_background_image': False, 'profile_image_url': 'http://pbs.twimg.com/profile_images/1248449716129390594/f_OyEUbc_normal.jpg', 'profile_image_url_https': 'https://pbs.twimg.com/profile_images/1248449716129390594/f_OyEUbc_normal.jpg', 'profile_banner_url': 'https://pbs.twimg.com/profile_banners/16725354/1512702343', 'default_profile': False, 'default_profile_image': False, 'following': None, 'follow_request_sent': None, 'notifications': None}, 'geo': None, 'coordinates': None, 'place': None, 'contributors': None, 'retweeted_status': {'created_at': 'Sun Apr 26 18:38:57 +0000 2020', 'id': 1254480100726378498, 'id_str': '1254480100726378498', 'text': 'Fuck Trump and his “I’m the hardest working President EVER in all of history.” Bullshit.', 'source': '<a href=\"http://twitter.com/download/iphone\" rel=\"nofollow\">Twitter for iPhone</a>', 'truncated': False, 'in_reply_to_status_id': None, 'in_reply_to_status_id_str': None, 'in_reply_to_user_id': None, 'in_reply_to_user_id_str': None, 'in_reply_to_screen_name': None, 'user': {'id': 379209090, 'id_str': '379209090', 'name': '#RandomWhiteGuy', 'screen_name': 'coleyworld', 'location': 'Wilds of Ohio', 'url': 'https://www.gunviolencearchive.org/reports/mass-shooting', 'description': '“Arguing with a trumper is like playing chess with a pigeon. They knock over the pieces, shit on the board, then strut around like they won.” #Resist', 'translator_type': 'none', 'protected': False, 'verified': False, 'followers_count': 116679, 'friends_count': 21568, 'listed_count': 223, 'favourites_count': 149746, 'statuses_count': 66444, 'created_at': 'Sat Sep 24 15:18:29 +0000 2011', 'utc_offset': None, 'time_zone': None, 'geo_enabled': False, 'lang': None, 'contributors_enabled': False, 'is_translator': False, 'profile_background_color': '000000', 'profile_background_image_url': 'http://abs.twimg.com/images/themes/theme1/bg.png', 'profile_background_image_url_https': 'https://abs.twimg.com/images/themes/theme1/bg.png', 'profile_background_tile': False, 'profile_link_color': 'FF691F', 'profile_sidebar_border_color': '000000', 'profile_sidebar_fill_color': '000000', 'profile_text_color': '000000', 'profile_use_background_image': False, 'profile_image_url': 'http://pbs.twimg.com/profile_images/1108544451973185536/ETtVthzV_normal.jpg', 'profile_image_url_https': 'https://pbs.twimg.com/profile_images/1108544451973185536/ETtVthzV_normal.jpg', 'profile_banner_url': 'https://pbs.twimg.com/profile_banners/379209090/1586013884', 'default_profile': False, 'default_profile_image': False, 'following': None, 'follow_request_sent': None, 'notifications': None}, 'geo': None, 'coordinates': None, 'place': None, 'contributors': None, 'is_quote_status': False, 'quote_count': 12, 'reply_count': 39, 'retweet_count': 103, 'favorite_count': 739, 'entities': {'hashtags': [], 'urls': [], 'user_mentions': [], 'symbols': []}, 'favorited': False, 'retweeted': False, 'filter_level': 'low', 'lang': 'en'}, 'is_quote_status': False, 'quote_count': 0, 'reply_count': 0, 'retweet_count': 0, 'favorite_count': 0, 'entities': {'hashtags': [], 'urls': [], 'user_mentions': [{'screen_name': 'coleyworld', 'name': '#RandomWhiteGuy', 'id': 379209090, 'id_str': '379209090', 'indices': [3, 14]}], 'symbols': []}, 'favorited': False, 'retweeted': False, 'filter_level': 'low', 'lang': 'en', 'timestamp_ms': '1587951887431'}\n",
      "{'created_at': 'Mon Apr 27 01:44:47 +0000 2020', 'id': 1254587263893323776, 'id_str': '1254587263893323776', 'text': 'RT @realDonaldTrump: Laura, just another Fake News Report!', 'source': '<a href=\"http://twitter.com/download/iphone\" rel=\"nofollow\">Twitter for iPhone</a>', 'truncated': False, 'in_reply_to_status_id': None, 'in_reply_to_status_id_str': None, 'in_reply_to_user_id': None, 'in_reply_to_user_id_str': None, 'in_reply_to_screen_name': None, 'user': {'id': 741372932455342080, 'id_str': '741372932455342080', 'name': 'Deporable American Cult45', 'screen_name': 'agk_amy', 'location': 'Trumpsylvania USA', 'url': None, 'description': 'Follower of CHRIST 1st! . All else is secondary !! 💯%TRUMP supporter #FinishTheWall.', 'translator_type': 'none', 'protected': False, 'verified': False, 'followers_count': 1452, 'friends_count': 1165, 'listed_count': 33, 'favourites_count': 119394, 'statuses_count': 94051, 'created_at': 'Fri Jun 10 20:54:16 +0000 2016', 'utc_offset': None, 'time_zone': None, 'geo_enabled': True, 'lang': None, 'contributors_enabled': False, 'is_translator': False, 'profile_background_color': 'F5F8FA', 'profile_background_image_url': '', 'profile_background_image_url_https': '', 'profile_background_tile': False, 'profile_link_color': '1DA1F2', 'profile_sidebar_border_color': 'C0DEED', 'profile_sidebar_fill_color': 'DDEEF6', 'profile_text_color': '333333', 'profile_use_background_image': True, 'profile_image_url': 'http://pbs.twimg.com/profile_images/884177896192999424/daxxyB8q_normal.jpg', 'profile_image_url_https': 'https://pbs.twimg.com/profile_images/884177896192999424/daxxyB8q_normal.jpg', 'profile_banner_url': 'https://pbs.twimg.com/profile_banners/741372932455342080/1570386001', 'default_profile': True, 'default_profile_image': False, 'following': None, 'follow_request_sent': None, 'notifications': None}, 'geo': None, 'coordinates': None, 'place': None, 'contributors': None, 'retweeted_status': {'created_at': 'Mon Apr 27 00:14:39 +0000 2020', 'id': 1254564582020059136, 'id_str': '1254564582020059136', 'text': 'Laura, just another Fake News Report!', 'source': '<a href=\"http://twitter.com/download/iphone\" rel=\"nofollow\">Twitter for iPhone</a>', 'truncated': False, 'in_reply_to_status_id': None, 'in_reply_to_status_id_str': None, 'in_reply_to_user_id': None, 'in_reply_to_user_id_str': None, 'in_reply_to_screen_name': None, 'user': {'id': 25073877, 'id_str': '25073877', 'name': 'Donald J. Trump', 'screen_name': 'realDonaldTrump', 'location': 'Washington, DC', 'url': 'http://www.Instagram.com/realDonaldTrump', 'description': '45th President of the United States of America🇺🇸', 'translator_type': 'regular', 'protected': False, 'verified': True, 'followers_count': 78665585, 'friends_count': 46, 'listed_count': 120286, 'favourites_count': 6, 'statuses_count': 50995, 'created_at': 'Wed Mar 18 13:46:38 +0000 2009', 'utc_offset': None, 'time_zone': None, 'geo_enabled': True, 'lang': None, 'contributors_enabled': False, 'is_translator': False, 'profile_background_color': '6D5C18', 'profile_background_image_url': 'http://abs.twimg.com/images/themes/theme1/bg.png', 'profile_background_image_url_https': 'https://abs.twimg.com/images/themes/theme1/bg.png', 'profile_background_tile': True, 'profile_link_color': '1B95E0', 'profile_sidebar_border_color': 'BDDCAD', 'profile_sidebar_fill_color': 'C5CEC0', 'profile_text_color': '333333', 'profile_use_background_image': True, 'profile_image_url': 'http://pbs.twimg.com/profile_images/874276197357596672/kUuht00m_normal.jpg', 'profile_image_url_https': 'https://pbs.twimg.com/profile_images/874276197357596672/kUuht00m_normal.jpg', 'profile_banner_url': 'https://pbs.twimg.com/profile_banners/25073877/1583212785', 'default_profile': False, 'default_profile_image': False, 'following': None, 'follow_request_sent': None, 'notifications': None}, 'geo': None, 'coordinates': None, 'place': None, 'contributors': None, 'quoted_status_id': 1254539514699304960, 'quoted_status_id_str': '1254539514699304960', 'quoted_status': {'created_at': 'Sun Apr 26 22:35:03 +0000 2020', 'id': 1254539514699304960, 'id_str': '1254539514699304960', 'text': 'Azar is one of the best, smartest, multi-talented, experienced people in the Trump Cabinet.  Also really good and c… https://t.co/N7J0KC1O0H', 'source': '<a href=\"http://twitter.com/download/iphone\" rel=\"nofollow\">Twitter for iPhone</a>', 'truncated': True, 'in_reply_to_status_id': None, 'in_reply_to_status_id_str': None, 'in_reply_to_user_id': None, 'in_reply_to_user_id_str': None, 'in_reply_to_screen_name': None, 'user': {'id': 50769180, 'id_str': '50769180', 'name': 'Laura Ingraham', 'screen_name': 'IngrahamAngle', 'location': 'DC', 'url': 'http://www.lauraingraham.com', 'description': 'Mom, author, host, The Ingraham Angle, 10p ET @FoxNews. Retweets do not = Endorsements', 'translator_type': 'none', 'protected': False, 'verified': True, 'followers_count': 3358830, 'friends_count': 337, 'listed_count': 13306, 'favourites_count': 3143, 'statuses_count': 42302, 'created_at': 'Thu Jun 25 21:03:25 +0000 2009', 'utc_offset': None, 'time_zone': None, 'geo_enabled': True, 'lang': None, 'contributors_enabled': False, 'is_translator': False, 'profile_background_color': 'DBE9ED', 'profile_background_image_url': 'http://abs.twimg.com/images/themes/theme1/bg.png', 'profile_background_image_url_https': 'https://abs.twimg.com/images/themes/theme1/bg.png', 'profile_background_tile': False, 'profile_link_color': 'CC3366', 'profile_sidebar_border_color': 'FFFFFF', 'profile_sidebar_fill_color': 'DDEEF6', 'profile_text_color': '333333', 'profile_use_background_image': True, 'profile_image_url': 'http://pbs.twimg.com/profile_images/1146349820912660480/CjdAuR5i_normal.jpg', 'profile_image_url_https': 'https://pbs.twimg.com/profile_images/1146349820912660480/CjdAuR5i_normal.jpg', 'profile_banner_url': 'https://pbs.twimg.com/profile_banners/50769180/1562146071', 'default_profile': False, 'default_profile_image': False, 'following': None, 'follow_request_sent': None, 'notifications': None}, 'geo': None, 'coordinates': None, 'place': None, 'contributors': None, 'quoted_status_id': 1254529069733105665, 'quoted_status_id_str': '1254529069733105665', 'is_quote_status': True, 'extended_tweet': {'full_text': 'Azar is one of the best, smartest, multi-talented, experienced people in the Trump Cabinet.  Also really good and clear on TV—which is also a plus.', 'display_text_range': [0, 147], 'entities': {'hashtags': [], 'urls': [], 'user_mentions': [], 'symbols': []}}, 'quote_count': 97, 'reply_count': 474, 'retweet_count': 1678, 'favorite_count': 6387, 'entities': {'hashtags': [], 'urls': [{'url': 'https://t.co/N7J0KC1O0H', 'expanded_url': 'https://twitter.com/i/web/status/1254539514699304960', 'display_url': 'twitter.com/i/web/status/1…', 'indices': [117, 140]}], 'user_mentions': [], 'symbols': []}, 'favorited': False, 'retweeted': False, 'filter_level': 'low', 'lang': 'en'}, 'quoted_status_permalink': {'url': 'https://t.co/Kya7NViNRB', 'expanded': 'https://twitter.com/ingrahamangle/status/1254539514699304960', 'display': 'twitter.com/ingrahamangle/…'}, 'is_quote_status': True, 'quote_count': 200, 'reply_count': 2146, 'retweet_count': 4854, 'favorite_count': 19428, 'entities': {'hashtags': [], 'urls': [], 'user_mentions': [], 'symbols': []}, 'favorited': False, 'retweeted': False, 'filter_level': 'low', 'lang': 'en'}, 'quoted_status_id': 1254539514699304960, 'quoted_status_id_str': '1254539514699304960', 'quoted_status': {'created_at': 'Sun Apr 26 22:35:03 +0000 2020', 'id': 1254539514699304960, 'id_str': '1254539514699304960', 'text': 'Azar is one of the best, smartest, multi-talented, experienced people in the Trump Cabinet.  Also really good and c… https://t.co/N7J0KC1O0H', 'source': '<a href=\"http://twitter.com/download/iphone\" rel=\"nofollow\">Twitter for iPhone</a>', 'truncated': True, 'in_reply_to_status_id': None, 'in_reply_to_status_id_str': None, 'in_reply_to_user_id': None, 'in_reply_to_user_id_str': None, 'in_reply_to_screen_name': None, 'user': {'id': 50769180, 'id_str': '50769180', 'name': 'Laura Ingraham', 'screen_name': 'IngrahamAngle', 'location': 'DC', 'url': 'http://www.lauraingraham.com', 'description': 'Mom, author, host, The Ingraham Angle, 10p ET @FoxNews. Retweets do not = Endorsements', 'translator_type': 'none', 'protected': False, 'verified': True, 'followers_count': 3358830, 'friends_count': 337, 'listed_count': 13306, 'favourites_count': 3143, 'statuses_count': 42302, 'created_at': 'Thu Jun 25 21:03:25 +0000 2009', 'utc_offset': None, 'time_zone': None, 'geo_enabled': True, 'lang': None, 'contributors_enabled': False, 'is_translator': False, 'profile_background_color': 'DBE9ED', 'profile_background_image_url': 'http://abs.twimg.com/images/themes/theme1/bg.png', 'profile_background_image_url_https': 'https://abs.twimg.com/images/themes/theme1/bg.png', 'profile_background_tile': False, 'profile_link_color': 'CC3366', 'profile_sidebar_border_color': 'FFFFFF', 'profile_sidebar_fill_color': 'DDEEF6', 'profile_text_color': '333333', 'profile_use_background_image': True, 'profile_image_url': 'http://pbs.twimg.com/profile_images/1146349820912660480/CjdAuR5i_normal.jpg', 'profile_image_url_https': 'https://pbs.twimg.com/profile_images/1146349820912660480/CjdAuR5i_normal.jpg', 'profile_banner_url': 'https://pbs.twimg.com/profile_banners/50769180/1562146071', 'default_profile': False, 'default_profile_image': False, 'following': None, 'follow_request_sent': None, 'notifications': None}, 'geo': None, 'coordinates': None, 'place': None, 'contributors': None, 'quoted_status_id': 1254529069733105665, 'quoted_status_id_str': '1254529069733105665', 'is_quote_status': True, 'extended_tweet': {'full_text': 'Azar is one of the best, smartest, multi-talented, experienced people in the Trump Cabinet.  Also really good and clear on TV—which is also a plus.', 'display_text_range': [0, 147], 'entities': {'hashtags': [], 'urls': [], 'user_mentions': [], 'symbols': []}}, 'quote_count': 97, 'reply_count': 474, 'retweet_count': 1678, 'favorite_count': 6387, 'entities': {'hashtags': [], 'urls': [{'url': 'https://t.co/N7J0KC1O0H', 'expanded_url': 'https://twitter.com/i/web/status/1254539514699304960', 'display_url': 'twitter.com/i/web/status/1…', 'indices': [117, 140]}], 'user_mentions': [], 'symbols': []}, 'favorited': False, 'retweeted': False, 'filter_level': 'low', 'lang': 'en'}, 'quoted_status_permalink': {'url': 'https://t.co/Kya7NViNRB', 'expanded': 'https://twitter.com/ingrahamangle/status/1254539514699304960', 'display': 'twitter.com/ingrahamangle/…'}, 'is_quote_status': True, 'quote_count': 0, 'reply_count': 0, 'retweet_count': 0, 'favorite_count': 0, 'entities': {'hashtags': [], 'urls': [], 'user_mentions': [{'screen_name': 'realDonaldTrump', 'name': 'Donald J. Trump', 'id': 25073877, 'id_str': '25073877', 'indices': [3, 19]}], 'symbols': []}, 'favorited': False, 'retweeted': False, 'filter_level': 'low', 'lang': 'en', 'timestamp_ms': '1587951887473'}\n"
     ]
    }
   ],
   "source": [
    "# read the first five tweets and other meta data only\n",
    "for i in data[:5]:\n",
    "    print(i)"
   ]
  },
  {
   "cell_type": "code",
   "execution_count": 633,
   "metadata": {
    "ExecuteTime": {
     "end_time": "2019-02-14T15:58:42.981256Z",
     "start_time": "2019-02-14T15:58:42.951259Z"
    }
   },
   "outputs": [
    {
     "name": "stdout",
     "output_type": "stream",
     "text": [
      "RT @TeamPelosi: The president is asking you to inject Lysol into your lungs. Please don’t do this or drink bleach. https://t.co/fSmiRvo8QG\n",
      "RT @RepAdamSchiff: There’s a disturbing echo in Trump’s coronavirus response.\n",
      "\n",
      "From eschewing pandemic preparedness and oversight to demand…\n",
      "RT @TheRickWilson: Trump Is Seething About Michael Cohen’s Tell-All https://t.co/qJpWR9IE4B via @thedailybeast\n",
      "RT @coleyworld: Fuck Trump and his “I’m the hardest working President EVER in all of history.” Bullshit.\n",
      "RT @realDonaldTrump: Laura, just another Fake News Report!\n"
     ]
    }
   ],
   "source": [
    "# read first five tweets only \n",
    "for i in data[:5]:\n",
    "    print(i['text'])"
   ]
  },
  {
   "cell_type": "code",
   "execution_count": 634,
   "metadata": {},
   "outputs": [
    {
     "name": "stdout",
     "output_type": "stream",
     "text": [
      "Mon Apr 27 01:44:47 +0000 2020\n",
      "Mon Apr 27 01:44:47 +0000 2020\n",
      "Mon Apr 27 01:44:47 +0000 2020\n",
      "Mon Apr 27 01:44:47 +0000 2020\n",
      "Mon Apr 27 01:44:47 +0000 2020\n"
     ]
    }
   ],
   "source": [
    "# created_at first five tweets only \n",
    "for i in data[:5]:\n",
    "    print(i['created_at'])"
   ]
  },
  {
   "cell_type": "code",
   "execution_count": 635,
   "metadata": {
    "ExecuteTime": {
     "end_time": "2019-02-14T15:58:43.003256Z",
     "start_time": "2019-02-14T15:58:42.983256Z"
    }
   },
   "outputs": [
    {
     "data": {
      "text/plain": [
       "9297"
      ]
     },
     "execution_count": 635,
     "metadata": {},
     "output_type": "execute_result"
    }
   ],
   "source": [
    "# saving the entire tweets (not other data) in a variable and print it\n",
    "texts = [ T['text'] for T in data if 'text' in T ]\n",
    "len(texts)"
   ]
  },
  {
   "cell_type": "code",
   "execution_count": 636,
   "metadata": {
    "ExecuteTime": {
     "end_time": "2019-02-14T15:58:43.016274Z",
     "start_time": "2019-02-14T15:58:43.008255Z"
    }
   },
   "outputs": [
    {
     "name": "stdout",
     "output_type": "stream",
     "text": [
      "{'limit': {'track': 3, 'timestamp_ms': '1587951897762'}}\n",
      "{'limit': {'track': 8, 'timestamp_ms': '1587951907742'}}\n",
      "{'limit': {'track': 9, 'timestamp_ms': '1587951956766'}}\n",
      "{'limit': {'track': 19, 'timestamp_ms': '1587952027742'}}\n",
      "{'limit': {'track': 24, 'timestamp_ms': '1587952041797'}}\n",
      "{'limit': {'track': 26, 'timestamp_ms': '1587952085770'}}\n",
      "{'limit': {'track': 40, 'timestamp_ms': '1587952087757'}}\n",
      "{'limit': {'track': 45, 'timestamp_ms': '1587952117753'}}\n",
      "{'limit': {'track': 47, 'timestamp_ms': '1587952118778'}}\n"
     ]
    }
   ],
   "source": [
    "# to check if there is any non-tweet in the data \n",
    "# Twitter API has rate limit allows 15 requests per window per access token. 100 tweets per one request.\n",
    "for T in data:\n",
    "    if 'text' not in T:\n",
    "        print(T)\n",
    "        \n",
    "# I searched two terms \"analytics\" and \"bigdata\" and did not receive the rate limiting messages from Twitter. This is good."
   ]
  },
  {
   "cell_type": "markdown",
   "metadata": {},
   "source": [
    "Twitter sets a limit on how many requests your Twitter app can make to Twitter. \n",
    "\n",
    "I searched two terms \"analytics\" and \"bigdata\" and did not receive the rate limiting messages from Twitter. However, if you search popular terms (e.g., trump), there are so many tweets so you are likely to receive the rate limit messages from Twitter.\n",
    "\n",
    "Then, the solution is removing those rate limiting messages from your original data."
   ]
  },
  {
   "cell_type": "code",
   "execution_count": 637,
   "metadata": {
    "ExecuteTime": {
     "end_time": "2019-02-14T15:58:43.033256Z",
     "start_time": "2019-02-14T15:58:43.020257Z"
    }
   },
   "outputs": [
    {
     "name": "stdout",
     "output_type": "stream",
     "text": [
      "{'created_at': 'Mon Apr 27 01:44:47 +0000 2020', 'id': 1254587263398240256, 'id_str': '1254587263398240256', 'text': 'RT @TeamPelosi: The president is asking you to inject Lysol into your lungs. Please don’t do this or drink bleach. https://t.co/fSmiRvo8QG', 'source': '<a href=\"https://mobile.twitter.com\" rel=\"nofollow\">Twitter Web App</a>', 'truncated': False, 'in_reply_to_status_id': None, 'in_reply_to_status_id_str': None, 'in_reply_to_user_id': None, 'in_reply_to_user_id_str': None, 'in_reply_to_screen_name': None, 'user': {'id': 631816995, 'id_str': '631816995', 'name': 'John', 'screen_name': 'JbthomJohn', 'location': 'California High Desert', 'url': None, 'description': \"3'd gen. Union member, retired public servant, current non-union factory employee, Progressive, PLEASE KEEP ME OFF THE FOLLOWBACK LISTS! - #FBR #TheResistance\", 'translator_type': 'none', 'protected': False, 'verified': False, 'followers_count': 11081, 'friends_count': 11864, 'listed_count': 89, 'favourites_count': 3286, 'statuses_count': 215311, 'created_at': 'Tue Jul 10 06:23:56 +0000 2012', 'utc_offset': None, 'time_zone': None, 'geo_enabled': False, 'lang': None, 'contributors_enabled': False, 'is_translator': False, 'profile_background_color': '000000', 'profile_background_image_url': 'http://abs.twimg.com/images/themes/theme1/bg.png', 'profile_background_image_url_https': 'https://abs.twimg.com/images/themes/theme1/bg.png', 'profile_background_tile': False, 'profile_link_color': '1B95E0', 'profile_sidebar_border_color': '000000', 'profile_sidebar_fill_color': '000000', 'profile_text_color': '000000', 'profile_use_background_image': False, 'profile_image_url': 'http://pbs.twimg.com/profile_images/754110423708819456/pxPvNUOp_normal.jpg', 'profile_image_url_https': 'https://pbs.twimg.com/profile_images/754110423708819456/pxPvNUOp_normal.jpg', 'profile_banner_url': 'https://pbs.twimg.com/profile_banners/631816995/1497317323', 'default_profile': False, 'default_profile_image': False, 'following': None, 'follow_request_sent': None, 'notifications': None}, 'geo': None, 'coordinates': None, 'place': None, 'contributors': None, 'retweeted_status': {'created_at': 'Sun Apr 26 22:28:58 +0000 2020', 'id': 1254537987016331267, 'id_str': '1254537987016331267', 'text': 'The president is asking you to inject Lysol into your lungs. Please don’t do this or drink bleach. https://t.co/fSmiRvo8QG', 'display_text_range': [0, 98], 'source': '<a href=\"http://twitter.com/download/iphone\" rel=\"nofollow\">Twitter for iPhone</a>', 'truncated': False, 'in_reply_to_status_id': None, 'in_reply_to_status_id_str': None, 'in_reply_to_user_id': None, 'in_reply_to_user_id_str': None, 'in_reply_to_screen_name': None, 'user': {'id': 2461810448, 'id_str': '2461810448', 'name': 'Nancy Pelosi', 'screen_name': 'TeamPelosi', 'location': 'San Francisco', 'url': 'https://store.pelosiforcongress.org/', 'description': \"Organize, mobilize and fight #ForThePeople. This is Nancy's political account. Tweets from Nancy are signed -NP.\", 'translator_type': 'none', 'protected': False, 'verified': True, 'followers_count': 506084, 'friends_count': 8197, 'listed_count': 1754, 'favourites_count': 1445, 'statuses_count': 7364, 'created_at': 'Thu Apr 24 15:17:41 +0000 2014', 'utc_offset': None, 'time_zone': None, 'geo_enabled': False, 'lang': None, 'contributors_enabled': False, 'is_translator': False, 'profile_background_color': 'C0DEED', 'profile_background_image_url': 'http://abs.twimg.com/images/themes/theme1/bg.png', 'profile_background_image_url_https': 'https://abs.twimg.com/images/themes/theme1/bg.png', 'profile_background_tile': False, 'profile_link_color': '1DA1F2', 'profile_sidebar_border_color': 'C0DEED', 'profile_sidebar_fill_color': 'DDEEF6', 'profile_text_color': '333333', 'profile_use_background_image': True, 'profile_image_url': 'http://pbs.twimg.com/profile_images/978983398231351296/i_dVcde2_normal.jpg', 'profile_image_url_https': 'https://pbs.twimg.com/profile_images/978983398231351296/i_dVcde2_normal.jpg', 'profile_banner_url': 'https://pbs.twimg.com/profile_banners/2461810448/1571268285', 'default_profile': True, 'default_profile_image': False, 'following': None, 'follow_request_sent': None, 'notifications': None}, 'geo': None, 'coordinates': None, 'place': None, 'contributors': None, 'quoted_status_id': 1254410225446240256, 'quoted_status_id_str': '1254410225446240256', 'quoted_status': {'created_at': 'Sun Apr 26 14:01:18 +0000 2020', 'id': 1254410225446240256, 'id_str': '1254410225446240256', 'text': '\"Disinfectant in the body — you know what they call that? They call that embalming, that\\'s the medical term.\"… https://t.co/KVmcaziQVC', 'display_text_range': [0, 140], 'source': '<a href=\"http://www.snapstream.com\" rel=\"nofollow\">SnapStream TV Search</a>', 'truncated': True, 'in_reply_to_status_id': None, 'in_reply_to_status_id_str': None, 'in_reply_to_user_id': None, 'in_reply_to_user_id_str': None, 'in_reply_to_screen_name': None, 'user': {'id': 17112878, 'id_str': '17112878', 'name': 'State of the Union', 'screen_name': 'CNNSotu', 'location': 'Washington, D.C.', 'url': 'http://www.cnn.com/sotu', 'description': 'From the staff of State of the Union w/ @JakeTapper. Watch Sundays at 9a ET on 📺 @CNN & 🌎🌍🌏 @CNNi + 12p ET on @CNN. Always on 📱💻 https://t.co/klSXjzLI6R! #CNNSOTU', 'translator_type': 'none', 'protected': False, 'verified': True, 'followers_count': 188986, 'friends_count': 10309, 'listed_count': 1928, 'favourites_count': 328, 'statuses_count': 19980, 'created_at': 'Sun Nov 02 10:52:24 +0000 2008', 'utc_offset': None, 'time_zone': None, 'geo_enabled': True, 'lang': None, 'contributors_enabled': False, 'is_translator': False, 'profile_background_color': 'ABB8C2', 'profile_background_image_url': 'http://abs.twimg.com/images/themes/theme1/bg.png', 'profile_background_image_url_https': 'https://abs.twimg.com/images/themes/theme1/bg.png', 'profile_background_tile': False, 'profile_link_color': '0F0101', 'profile_sidebar_border_color': '000000', 'profile_sidebar_fill_color': '9087FD', 'profile_text_color': '333333', 'profile_use_background_image': False, 'profile_image_url': 'http://pbs.twimg.com/profile_images/878281253585387520/uwUqAoQe_normal.jpg', 'profile_image_url_https': 'https://pbs.twimg.com/profile_images/878281253585387520/uwUqAoQe_normal.jpg', 'profile_banner_url': 'https://pbs.twimg.com/profile_banners/17112878/1436480362', 'default_profile': False, 'default_profile_image': False, 'following': None, 'follow_request_sent': None, 'notifications': None}, 'geo': None, 'coordinates': None, 'place': None, 'contributors': None, 'is_quote_status': False, 'extended_tweet': {'full_text': '\"Disinfectant in the body — you know what they call that? They call that embalming, that\\'s the medical term.\" @SpeakerPelosi on President Trump\\'s request to look into the possibility of injecting disinfectant as a treatment for the coronavirus #CNNSOTU https://t.co/XxGWnS2GxQ', 'display_text_range': [0, 252], 'entities': {'hashtags': [{'text': 'CNNSOTU', 'indices': [244, 252]}], 'urls': [], 'user_mentions': [{'screen_name': 'SpeakerPelosi', 'name': 'Nancy Pelosi', 'id': 15764644, 'id_str': '15764644', 'indices': [110, 124]}], 'symbols': [], 'media': [{'id': 1254410080008785920, 'id_str': '1254410080008785920', 'indices': [253, 276], 'additional_media_info': {'monetizable': False}, 'media_url': 'http://pbs.twimg.com/amplify_video_thumb/1254410080008785920/img/08qP6KZxXFuvTjjH.jpg', 'media_url_https': 'https://pbs.twimg.com/amplify_video_thumb/1254410080008785920/img/08qP6KZxXFuvTjjH.jpg', 'url': 'https://t.co/XxGWnS2GxQ', 'display_url': 'pic.twitter.com/XxGWnS2GxQ', 'expanded_url': 'https://twitter.com/CNNSotu/status/1254410225446240256/video/1', 'type': 'video', 'video_info': {'aspect_ratio': [16, 9], 'duration_millis': 177077, 'variants': [{'bitrate': 2176000, 'content_type': 'video/mp4', 'url': 'https://video.twimg.com/amplify_video/1254410080008785920/vid/1280x720/o3yKe29QgO6fH0BQ.mp4?tag=13'}, {'bitrate': 832000, 'content_type': 'video/mp4', 'url': 'https://video.twimg.com/amplify_video/1254410080008785920/vid/640x360/HdyFovGYm42eTYz2.mp4?tag=13'}, {'content_type': 'application/x-mpegURL', 'url': 'https://video.twimg.com/amplify_video/1254410080008785920/pl/bdcBnHn7t9xksyWy.m3u8?tag=13'}, {'bitrate': 288000, 'content_type': 'video/mp4', 'url': 'https://video.twimg.com/amplify_video/1254410080008785920/vid/480x270/kP_OWMQX3VBvP8JO.mp4?tag=13'}]}, 'sizes': {'thumb': {'w': 150, 'h': 150, 'resize': 'crop'}, 'medium': {'w': 1200, 'h': 675, 'resize': 'fit'}, 'small': {'w': 680, 'h': 383, 'resize': 'fit'}, 'large': {'w': 1280, 'h': 720, 'resize': 'fit'}}}]}, 'extended_entities': {'media': [{'id': 1254410080008785920, 'id_str': '1254410080008785920', 'indices': [253, 276], 'additional_media_info': {'monetizable': False}, 'media_url': 'http://pbs.twimg.com/amplify_video_thumb/1254410080008785920/img/08qP6KZxXFuvTjjH.jpg', 'media_url_https': 'https://pbs.twimg.com/amplify_video_thumb/1254410080008785920/img/08qP6KZxXFuvTjjH.jpg', 'url': 'https://t.co/XxGWnS2GxQ', 'display_url': 'pic.twitter.com/XxGWnS2GxQ', 'expanded_url': 'https://twitter.com/CNNSotu/status/1254410225446240256/video/1', 'type': 'video', 'video_info': {'aspect_ratio': [16, 9], 'duration_millis': 177077, 'variants': [{'bitrate': 2176000, 'content_type': 'video/mp4', 'url': 'https://video.twimg.com/amplify_video/1254410080008785920/vid/1280x720/o3yKe29QgO6fH0BQ.mp4?tag=13'}, {'bitrate': 832000, 'content_type': 'video/mp4', 'url': 'https://video.twimg.com/amplify_video/1254410080008785920/vid/640x360/HdyFovGYm42eTYz2.mp4?tag=13'}, {'content_type': 'application/x-mpegURL', 'url': 'https://video.twimg.com/amplify_video/1254410080008785920/pl/bdcBnHn7t9xksyWy.m3u8?tag=13'}, {'bitrate': 288000, 'content_type': 'video/mp4', 'url': 'https://video.twimg.com/amplify_video/1254410080008785920/vid/480x270/kP_OWMQX3VBvP8JO.mp4?tag=13'}]}, 'sizes': {'thumb': {'w': 150, 'h': 150, 'resize': 'crop'}, 'medium': {'w': 1200, 'h': 675, 'resize': 'fit'}, 'small': {'w': 680, 'h': 383, 'resize': 'fit'}, 'large': {'w': 1280, 'h': 720, 'resize': 'fit'}}}]}}, 'quote_count': 18, 'reply_count': 31, 'retweet_count': 235, 'favorite_count': 600, 'entities': {'hashtags': [], 'urls': [{'url': 'https://t.co/KVmcaziQVC', 'expanded_url': 'https://twitter.com/i/web/status/1254410225446240256', 'display_url': 'twitter.com/i/web/status/1…', 'indices': [111, 134]}], 'user_mentions': [], 'symbols': []}, 'favorited': False, 'retweeted': False, 'possibly_sensitive': False, 'filter_level': 'low', 'lang': 'en'}, 'quoted_status_permalink': {'url': 'https://t.co/fSmiRvo8QG', 'expanded': 'https://twitter.com/cnnsotu/status/1254410225446240256', 'display': 'twitter.com/cnnsotu/status…'}, 'is_quote_status': True, 'quote_count': 50, 'reply_count': 209, 'retweet_count': 1327, 'favorite_count': 4240, 'entities': {'hashtags': [], 'urls': [{'url': 'https://t.co/fSmiRvo8QG', 'expanded_url': 'https://twitter.com/cnnsotu/status/1254410225446240256', 'display_url': 'twitter.com/cnnsotu/status…', 'indices': [99, 122]}], 'user_mentions': [], 'symbols': []}, 'favorited': False, 'retweeted': False, 'possibly_sensitive': False, 'filter_level': 'low', 'lang': 'en'}, 'quoted_status_id': 1254410225446240256, 'quoted_status_id_str': '1254410225446240256', 'quoted_status': {'created_at': 'Sun Apr 26 14:01:18 +0000 2020', 'id': 1254410225446240256, 'id_str': '1254410225446240256', 'text': '\"Disinfectant in the body — you know what they call that? They call that embalming, that\\'s the medical term.\"… https://t.co/KVmcaziQVC', 'display_text_range': [0, 140], 'source': '<a href=\"http://www.snapstream.com\" rel=\"nofollow\">SnapStream TV Search</a>', 'truncated': True, 'in_reply_to_status_id': None, 'in_reply_to_status_id_str': None, 'in_reply_to_user_id': None, 'in_reply_to_user_id_str': None, 'in_reply_to_screen_name': None, 'user': {'id': 17112878, 'id_str': '17112878', 'name': 'State of the Union', 'screen_name': 'CNNSotu', 'location': 'Washington, D.C.', 'url': 'http://www.cnn.com/sotu', 'description': 'From the staff of State of the Union w/ @JakeTapper. Watch Sundays at 9a ET on 📺 @CNN & 🌎🌍🌏 @CNNi + 12p ET on @CNN. Always on 📱💻 https://t.co/klSXjzLI6R! #CNNSOTU', 'translator_type': 'none', 'protected': False, 'verified': True, 'followers_count': 188986, 'friends_count': 10309, 'listed_count': 1928, 'favourites_count': 328, 'statuses_count': 19980, 'created_at': 'Sun Nov 02 10:52:24 +0000 2008', 'utc_offset': None, 'time_zone': None, 'geo_enabled': True, 'lang': None, 'contributors_enabled': False, 'is_translator': False, 'profile_background_color': 'ABB8C2', 'profile_background_image_url': 'http://abs.twimg.com/images/themes/theme1/bg.png', 'profile_background_image_url_https': 'https://abs.twimg.com/images/themes/theme1/bg.png', 'profile_background_tile': False, 'profile_link_color': '0F0101', 'profile_sidebar_border_color': '000000', 'profile_sidebar_fill_color': '9087FD', 'profile_text_color': '333333', 'profile_use_background_image': False, 'profile_image_url': 'http://pbs.twimg.com/profile_images/878281253585387520/uwUqAoQe_normal.jpg', 'profile_image_url_https': 'https://pbs.twimg.com/profile_images/878281253585387520/uwUqAoQe_normal.jpg', 'profile_banner_url': 'https://pbs.twimg.com/profile_banners/17112878/1436480362', 'default_profile': False, 'default_profile_image': False, 'following': None, 'follow_request_sent': None, 'notifications': None}, 'geo': None, 'coordinates': None, 'place': None, 'contributors': None, 'is_quote_status': False, 'extended_tweet': {'full_text': '\"Disinfectant in the body — you know what they call that? They call that embalming, that\\'s the medical term.\" @SpeakerPelosi on President Trump\\'s request to look into the possibility of injecting disinfectant as a treatment for the coronavirus #CNNSOTU https://t.co/XxGWnS2GxQ', 'display_text_range': [0, 252], 'entities': {'hashtags': [{'text': 'CNNSOTU', 'indices': [244, 252]}], 'urls': [], 'user_mentions': [{'screen_name': 'SpeakerPelosi', 'name': 'Nancy Pelosi', 'id': 15764644, 'id_str': '15764644', 'indices': [110, 124]}], 'symbols': [], 'media': [{'id': 1254410080008785920, 'id_str': '1254410080008785920', 'indices': [253, 276], 'additional_media_info': {'monetizable': False}, 'media_url': 'http://pbs.twimg.com/amplify_video_thumb/1254410080008785920/img/08qP6KZxXFuvTjjH.jpg', 'media_url_https': 'https://pbs.twimg.com/amplify_video_thumb/1254410080008785920/img/08qP6KZxXFuvTjjH.jpg', 'url': 'https://t.co/XxGWnS2GxQ', 'display_url': 'pic.twitter.com/XxGWnS2GxQ', 'expanded_url': 'https://twitter.com/CNNSotu/status/1254410225446240256/video/1', 'type': 'video', 'video_info': {'aspect_ratio': [16, 9], 'duration_millis': 177077, 'variants': [{'bitrate': 2176000, 'content_type': 'video/mp4', 'url': 'https://video.twimg.com/amplify_video/1254410080008785920/vid/1280x720/o3yKe29QgO6fH0BQ.mp4?tag=13'}, {'bitrate': 832000, 'content_type': 'video/mp4', 'url': 'https://video.twimg.com/amplify_video/1254410080008785920/vid/640x360/HdyFovGYm42eTYz2.mp4?tag=13'}, {'content_type': 'application/x-mpegURL', 'url': 'https://video.twimg.com/amplify_video/1254410080008785920/pl/bdcBnHn7t9xksyWy.m3u8?tag=13'}, {'bitrate': 288000, 'content_type': 'video/mp4', 'url': 'https://video.twimg.com/amplify_video/1254410080008785920/vid/480x270/kP_OWMQX3VBvP8JO.mp4?tag=13'}]}, 'sizes': {'thumb': {'w': 150, 'h': 150, 'resize': 'crop'}, 'medium': {'w': 1200, 'h': 675, 'resize': 'fit'}, 'small': {'w': 680, 'h': 383, 'resize': 'fit'}, 'large': {'w': 1280, 'h': 720, 'resize': 'fit'}}}]}, 'extended_entities': {'media': [{'id': 1254410080008785920, 'id_str': '1254410080008785920', 'indices': [253, 276], 'additional_media_info': {'monetizable': False}, 'media_url': 'http://pbs.twimg.com/amplify_video_thumb/1254410080008785920/img/08qP6KZxXFuvTjjH.jpg', 'media_url_https': 'https://pbs.twimg.com/amplify_video_thumb/1254410080008785920/img/08qP6KZxXFuvTjjH.jpg', 'url': 'https://t.co/XxGWnS2GxQ', 'display_url': 'pic.twitter.com/XxGWnS2GxQ', 'expanded_url': 'https://twitter.com/CNNSotu/status/1254410225446240256/video/1', 'type': 'video', 'video_info': {'aspect_ratio': [16, 9], 'duration_millis': 177077, 'variants': [{'bitrate': 2176000, 'content_type': 'video/mp4', 'url': 'https://video.twimg.com/amplify_video/1254410080008785920/vid/1280x720/o3yKe29QgO6fH0BQ.mp4?tag=13'}, {'bitrate': 832000, 'content_type': 'video/mp4', 'url': 'https://video.twimg.com/amplify_video/1254410080008785920/vid/640x360/HdyFovGYm42eTYz2.mp4?tag=13'}, {'content_type': 'application/x-mpegURL', 'url': 'https://video.twimg.com/amplify_video/1254410080008785920/pl/bdcBnHn7t9xksyWy.m3u8?tag=13'}, {'bitrate': 288000, 'content_type': 'video/mp4', 'url': 'https://video.twimg.com/amplify_video/1254410080008785920/vid/480x270/kP_OWMQX3VBvP8JO.mp4?tag=13'}]}, 'sizes': {'thumb': {'w': 150, 'h': 150, 'resize': 'crop'}, 'medium': {'w': 1200, 'h': 675, 'resize': 'fit'}, 'small': {'w': 680, 'h': 383, 'resize': 'fit'}, 'large': {'w': 1280, 'h': 720, 'resize': 'fit'}}}]}}, 'quote_count': 18, 'reply_count': 31, 'retweet_count': 235, 'favorite_count': 600, 'entities': {'hashtags': [], 'urls': [{'url': 'https://t.co/KVmcaziQVC', 'expanded_url': 'https://twitter.com/i/web/status/1254410225446240256', 'display_url': 'twitter.com/i/web/status/1…', 'indices': [111, 134]}], 'user_mentions': [], 'symbols': []}, 'favorited': False, 'retweeted': False, 'possibly_sensitive': False, 'filter_level': 'low', 'lang': 'en'}, 'quoted_status_permalink': {'url': 'https://t.co/fSmiRvo8QG', 'expanded': 'https://twitter.com/cnnsotu/status/1254410225446240256', 'display': 'twitter.com/cnnsotu/status…'}, 'is_quote_status': True, 'quote_count': 0, 'reply_count': 0, 'retweet_count': 0, 'favorite_count': 0, 'entities': {'hashtags': [], 'urls': [{'url': 'https://t.co/fSmiRvo8QG', 'expanded_url': 'https://twitter.com/cnnsotu/status/1254410225446240256', 'display_url': 'twitter.com/cnnsotu/status…', 'indices': [115, 138]}], 'user_mentions': [{'screen_name': 'TeamPelosi', 'name': 'Nancy Pelosi', 'id': 2461810448, 'id_str': '2461810448', 'indices': [3, 14]}], 'symbols': []}, 'favorited': False, 'retweeted': False, 'possibly_sensitive': False, 'filter_level': 'low', 'lang': 'en', 'timestamp_ms': '1587951887355'}\n",
      "{'created_at': 'Mon Apr 27 01:44:47 +0000 2020', 'id': 1254587263570153473, 'id_str': '1254587263570153473', 'text': 'RT @RepAdamSchiff: There’s a disturbing echo in Trump’s coronavirus response.\\n\\nFrom eschewing pandemic preparedness and oversight to demand…', 'source': '<a href=\"http://twitter.com/download/iphone\" rel=\"nofollow\">Twitter for iPhone</a>', 'truncated': False, 'in_reply_to_status_id': None, 'in_reply_to_status_id_str': None, 'in_reply_to_user_id': None, 'in_reply_to_user_id_str': None, 'in_reply_to_screen_name': None, 'user': {'id': 186244490, 'id_str': '186244490', 'name': '🅛🅔🅔', 'screen_name': 'leehall11', 'location': 'Beaverton, OR', 'url': None, 'description': 'Biden/Harris 2020!!', 'translator_type': 'none', 'protected': False, 'verified': False, 'followers_count': 406, 'friends_count': 789, 'listed_count': 1, 'favourites_count': 14737, 'statuses_count': 20092, 'created_at': 'Thu Sep 02 23:15:51 +0000 2010', 'utc_offset': None, 'time_zone': None, 'geo_enabled': False, 'lang': None, 'contributors_enabled': False, 'is_translator': False, 'profile_background_color': 'C0DEED', 'profile_background_image_url': 'http://abs.twimg.com/images/themes/theme1/bg.png', 'profile_background_image_url_https': 'https://abs.twimg.com/images/themes/theme1/bg.png', 'profile_background_tile': False, 'profile_link_color': '1DA1F2', 'profile_sidebar_border_color': 'C0DEED', 'profile_sidebar_fill_color': 'DDEEF6', 'profile_text_color': '333333', 'profile_use_background_image': True, 'profile_image_url': 'http://pbs.twimg.com/profile_images/1253104602599141376/iuKVHnzf_normal.jpg', 'profile_image_url_https': 'https://pbs.twimg.com/profile_images/1253104602599141376/iuKVHnzf_normal.jpg', 'profile_banner_url': 'https://pbs.twimg.com/profile_banners/186244490/1587447583', 'default_profile': True, 'default_profile_image': False, 'following': None, 'follow_request_sent': None, 'notifications': None}, 'geo': None, 'coordinates': None, 'place': None, 'contributors': None, 'retweeted_status': {'created_at': 'Sun Apr 26 16:44:05 +0000 2020', 'id': 1254451191863545856, 'id_str': '1254451191863545856', 'text': 'There’s a disturbing echo in Trump’s coronavirus response.\\n\\nFrom eschewing pandemic preparedness and oversight to d… https://t.co/7PwrLOSU1W', 'display_text_range': [0, 140], 'source': '<a href=\"https://studio.twitter.com\" rel=\"nofollow\">Twitter Media Studio</a>', 'truncated': True, 'in_reply_to_status_id': None, 'in_reply_to_status_id_str': None, 'in_reply_to_user_id': None, 'in_reply_to_user_id_str': None, 'in_reply_to_screen_name': None, 'user': {'id': 29501253, 'id_str': '29501253', 'name': 'Adam Schiff', 'screen_name': 'RepAdamSchiff', 'location': 'Burbank, CA', 'url': 'http://schiff.house.gov/', 'description': \"Representing California's 28th Congressional District. Chairman of the House Intelligence Committee (@HouseIntel).\", 'translator_type': 'none', 'protected': False, 'verified': True, 'followers_count': 2207808, 'friends_count': 776, 'listed_count': 9709, 'favourites_count': 153, 'statuses_count': 5686, 'created_at': 'Tue Apr 07 17:54:35 +0000 2009', 'utc_offset': None, 'time_zone': None, 'geo_enabled': True, 'lang': None, 'contributors_enabled': False, 'is_translator': False, 'profile_background_color': '2578B8', 'profile_background_image_url': 'http://abs.twimg.com/images/themes/theme1/bg.png', 'profile_background_image_url_https': 'https://abs.twimg.com/images/themes/theme1/bg.png', 'profile_background_tile': False, 'profile_link_color': '2578B8', 'profile_sidebar_border_color': 'FFFFFF', 'profile_sidebar_fill_color': 'DDEEF6', 'profile_text_color': '333333', 'profile_use_background_image': False, 'profile_image_url': 'http://pbs.twimg.com/profile_images/816361054699667458/0DVL6HrY_normal.jpg', 'profile_image_url_https': 'https://pbs.twimg.com/profile_images/816361054699667458/0DVL6HrY_normal.jpg', 'profile_banner_url': 'https://pbs.twimg.com/profile_banners/29501253/1547736718', 'default_profile': False, 'default_profile_image': False, 'following': None, 'follow_request_sent': None, 'notifications': None}, 'geo': None, 'coordinates': None, 'place': None, 'contributors': None, 'is_quote_status': False, 'extended_tweet': {'full_text': 'There’s a disturbing echo in Trump’s coronavirus response.\\n\\nFrom eschewing pandemic preparedness and oversight to demanding praise,\\n\\nTrump acts in his personal political interest, not the national interest.\\n \\nBecause a man with no moral compass will never find his way. https://t.co/Z6M4p8ZS5Z', 'display_text_range': [0, 269], 'entities': {'hashtags': [], 'urls': [], 'user_mentions': [], 'symbols': [], 'media': [{'id': 1254445606946459648, 'id_str': '1254445606946459648', 'indices': [270, 293], 'additional_media_info': {'title': '', 'description': '', 'embeddable': True, 'monetizable': False}, 'media_url': 'http://pbs.twimg.com/media/EWix6ftXgAMU986.jpg', 'media_url_https': 'https://pbs.twimg.com/media/EWix6ftXgAMU986.jpg', 'url': 'https://t.co/Z6M4p8ZS5Z', 'display_url': 'pic.twitter.com/Z6M4p8ZS5Z', 'expanded_url': 'https://twitter.com/RepAdamSchiff/status/1254451191863545856/video/1', 'type': 'video', 'video_info': {'aspect_ratio': [16, 9], 'duration_millis': 359026, 'variants': [{'bitrate': 832000, 'content_type': 'video/mp4', 'url': 'https://video.twimg.com/amplify_video/1254445606946459648/vid/640x360/Fm9tNKLE_9shdmwF.mp4?tag=13'}, {'bitrate': 288000, 'content_type': 'video/mp4', 'url': 'https://video.twimg.com/amplify_video/1254445606946459648/vid/480x270/0vyL7kEQ2c4LhycB.mp4?tag=13'}, {'content_type': 'application/x-mpegURL', 'url': 'https://video.twimg.com/amplify_video/1254445606946459648/pl/k32WLjevEL24Go4r.m3u8?tag=13'}, {'bitrate': 2176000, 'content_type': 'video/mp4', 'url': 'https://video.twimg.com/amplify_video/1254445606946459648/vid/1280x720/Cp7vZ8b5Sz3XuXut.mp4?tag=13'}]}, 'sizes': {'thumb': {'w': 150, 'h': 150, 'resize': 'crop'}, 'medium': {'w': 1200, 'h': 675, 'resize': 'fit'}, 'small': {'w': 680, 'h': 383, 'resize': 'fit'}, 'large': {'w': 1280, 'h': 720, 'resize': 'fit'}}}]}, 'extended_entities': {'media': [{'id': 1254445606946459648, 'id_str': '1254445606946459648', 'indices': [270, 293], 'additional_media_info': {'title': '', 'description': '', 'embeddable': True, 'monetizable': False}, 'media_url': 'http://pbs.twimg.com/media/EWix6ftXgAMU986.jpg', 'media_url_https': 'https://pbs.twimg.com/media/EWix6ftXgAMU986.jpg', 'url': 'https://t.co/Z6M4p8ZS5Z', 'display_url': 'pic.twitter.com/Z6M4p8ZS5Z', 'expanded_url': 'https://twitter.com/RepAdamSchiff/status/1254451191863545856/video/1', 'type': 'video', 'video_info': {'aspect_ratio': [16, 9], 'duration_millis': 359026, 'variants': [{'bitrate': 832000, 'content_type': 'video/mp4', 'url': 'https://video.twimg.com/amplify_video/1254445606946459648/vid/640x360/Fm9tNKLE_9shdmwF.mp4?tag=13'}, {'bitrate': 288000, 'content_type': 'video/mp4', 'url': 'https://video.twimg.com/amplify_video/1254445606946459648/vid/480x270/0vyL7kEQ2c4LhycB.mp4?tag=13'}, {'content_type': 'application/x-mpegURL', 'url': 'https://video.twimg.com/amplify_video/1254445606946459648/pl/k32WLjevEL24Go4r.m3u8?tag=13'}, {'bitrate': 2176000, 'content_type': 'video/mp4', 'url': 'https://video.twimg.com/amplify_video/1254445606946459648/vid/1280x720/Cp7vZ8b5Sz3XuXut.mp4?tag=13'}]}, 'sizes': {'thumb': {'w': 150, 'h': 150, 'resize': 'crop'}, 'medium': {'w': 1200, 'h': 675, 'resize': 'fit'}, 'small': {'w': 680, 'h': 383, 'resize': 'fit'}, 'large': {'w': 1280, 'h': 720, 'resize': 'fit'}}}]}}, 'quote_count': 303, 'reply_count': 1916, 'retweet_count': 6471, 'favorite_count': 21659, 'entities': {'hashtags': [], 'urls': [{'url': 'https://t.co/7PwrLOSU1W', 'expanded_url': 'https://twitter.com/i/web/status/1254451191863545856', 'display_url': 'twitter.com/i/web/status/1…', 'indices': [117, 140]}], 'user_mentions': [], 'symbols': []}, 'favorited': False, 'retweeted': False, 'possibly_sensitive': False, 'filter_level': 'low', 'lang': 'en'}, 'is_quote_status': False, 'quote_count': 0, 'reply_count': 0, 'retweet_count': 0, 'favorite_count': 0, 'entities': {'hashtags': [], 'urls': [], 'user_mentions': [{'screen_name': 'RepAdamSchiff', 'name': 'Adam Schiff', 'id': 29501253, 'id_str': '29501253', 'indices': [3, 17]}], 'symbols': []}, 'favorited': False, 'retweeted': False, 'filter_level': 'low', 'lang': 'en', 'timestamp_ms': '1587951887396'}\n",
      "{'created_at': 'Mon Apr 27 01:44:47 +0000 2020', 'id': 1254587263603924992, 'id_str': '1254587263603924992', 'text': 'RT @TheRickWilson: Trump Is Seething About Michael Cohen’s Tell-All https://t.co/qJpWR9IE4B via @thedailybeast', 'source': '<a href=\"http://twitter.com/#!/download/ipad\" rel=\"nofollow\">Twitter for iPad</a>', 'truncated': False, 'in_reply_to_status_id': None, 'in_reply_to_status_id_str': None, 'in_reply_to_user_id': None, 'in_reply_to_user_id_str': None, 'in_reply_to_screen_name': None, 'user': {'id': 1916167339, 'id_str': '1916167339', 'name': 'Sylvia  Henry', 'screen_name': 'psu4joe', 'location': 'United States', 'url': None, 'description': 'Vote Blue No Matter Who. Climate Change is here now.', 'translator_type': 'none', 'protected': False, 'verified': False, 'followers_count': 1592, 'friends_count': 1976, 'listed_count': 46, 'favourites_count': 224182, 'statuses_count': 147535, 'created_at': 'Sun Sep 29 04:28:03 +0000 2013', 'utc_offset': None, 'time_zone': None, 'geo_enabled': False, 'lang': None, 'contributors_enabled': False, 'is_translator': False, 'profile_background_color': 'C0DEED', 'profile_background_image_url': 'http://abs.twimg.com/images/themes/theme1/bg.png', 'profile_background_image_url_https': 'https://abs.twimg.com/images/themes/theme1/bg.png', 'profile_background_tile': False, 'profile_link_color': '1DA1F2', 'profile_sidebar_border_color': 'C0DEED', 'profile_sidebar_fill_color': 'DDEEF6', 'profile_text_color': '333333', 'profile_use_background_image': True, 'profile_image_url': 'http://pbs.twimg.com/profile_images/1242590392081670152/4ecwTZ7b_normal.jpg', 'profile_image_url_https': 'https://pbs.twimg.com/profile_images/1242590392081670152/4ecwTZ7b_normal.jpg', 'default_profile': True, 'default_profile_image': False, 'following': None, 'follow_request_sent': None, 'notifications': None}, 'geo': None, 'coordinates': None, 'place': None, 'contributors': None, 'retweeted_status': {'created_at': 'Mon Apr 27 01:41:33 +0000 2020', 'id': 1254586451754471424, 'id_str': '1254586451754471424', 'text': 'Trump Is Seething About Michael Cohen’s Tell-All https://t.co/qJpWR9IE4B via @thedailybeast', 'source': '<a href=\"http://twitter.com\" rel=\"nofollow\">Twitter Web Client</a>', 'truncated': False, 'in_reply_to_status_id': None, 'in_reply_to_status_id_str': None, 'in_reply_to_user_id': None, 'in_reply_to_user_id_str': None, 'in_reply_to_screen_name': None, 'user': {'id': 19084896, 'id_str': '19084896', 'name': 'Rick Wilson', 'screen_name': 'TheRickWilson', 'location': 'Florida and points beyond', 'url': 'http://therickwilson.com', 'description': 'Apostate GOP Media Guy, writer, NYT #1 best-selling author. Lincoln Project co-founder. Order \"Running Against The Devil\" here: http://bit.ly/RATD2020', 'translator_type': 'none', 'protected': False, 'verified': True, 'followers_count': 824027, 'friends_count': 5764, 'listed_count': 7859, 'favourites_count': 88054, 'statuses_count': 318328, 'created_at': 'Fri Jan 16 20:50:17 +0000 2009', 'utc_offset': None, 'time_zone': None, 'geo_enabled': False, 'lang': None, 'contributors_enabled': False, 'is_translator': False, 'profile_background_color': '1A1B1F', 'profile_background_image_url': 'http://abs.twimg.com/images/themes/theme1/bg.png', 'profile_background_image_url_https': 'https://abs.twimg.com/images/themes/theme1/bg.png', 'profile_background_tile': True, 'profile_link_color': 'FF691F', 'profile_sidebar_border_color': '000000', 'profile_sidebar_fill_color': '252429', 'profile_text_color': '666666', 'profile_use_background_image': True, 'profile_image_url': 'http://pbs.twimg.com/profile_images/1212477294901702656/ACjWbt9d_normal.jpg', 'profile_image_url_https': 'https://pbs.twimg.com/profile_images/1212477294901702656/ACjWbt9d_normal.jpg', 'profile_banner_url': 'https://pbs.twimg.com/profile_banners/19084896/1584978025', 'default_profile': False, 'default_profile_image': False, 'following': None, 'follow_request_sent': None, 'notifications': None}, 'geo': None, 'coordinates': None, 'place': None, 'contributors': None, 'is_quote_status': False, 'quote_count': 4, 'reply_count': 38, 'retweet_count': 99, 'favorite_count': 275, 'entities': {'hashtags': [], 'urls': [{'url': 'https://t.co/qJpWR9IE4B', 'expanded_url': 'https://www.thedailybeast.com/trump-seethes-about-michael-cohens-early-release-and-new-tell-all-book?source=twitter&via=desktop', 'display_url': 'thedailybeast.com/trump-seethes-…', 'indices': [49, 72]}], 'user_mentions': [{'screen_name': 'thedailybeast', 'name': 'The Daily Beast', 'id': 16012783, 'id_str': '16012783', 'indices': [77, 91]}], 'symbols': []}, 'favorited': False, 'retweeted': False, 'possibly_sensitive': False, 'filter_level': 'low', 'lang': 'en'}, 'is_quote_status': False, 'quote_count': 0, 'reply_count': 0, 'retweet_count': 0, 'favorite_count': 0, 'entities': {'hashtags': [], 'urls': [{'url': 'https://t.co/qJpWR9IE4B', 'expanded_url': 'https://www.thedailybeast.com/trump-seethes-about-michael-cohens-early-release-and-new-tell-all-book?source=twitter&via=desktop', 'display_url': 'thedailybeast.com/trump-seethes-…', 'indices': [68, 91]}], 'user_mentions': [{'screen_name': 'TheRickWilson', 'name': 'Rick Wilson', 'id': 19084896, 'id_str': '19084896', 'indices': [3, 17]}, {'screen_name': 'thedailybeast', 'name': 'The Daily Beast', 'id': 16012783, 'id_str': '16012783', 'indices': [96, 110]}], 'symbols': []}, 'favorited': False, 'retweeted': False, 'possibly_sensitive': False, 'filter_level': 'low', 'lang': 'en', 'timestamp_ms': '1587951887404'}\n",
      "{'created_at': 'Mon Apr 27 01:44:47 +0000 2020', 'id': 1254587263717163008, 'id_str': '1254587263717163008', 'text': 'RT @coleyworld: Fuck Trump and his “I’m the hardest working President EVER in all of history.” Bullshit.', 'source': '<a href=\"http://twitter.com/download/android\" rel=\"nofollow\">Twitter for Android</a>', 'truncated': False, 'in_reply_to_status_id': None, 'in_reply_to_status_id_str': None, 'in_reply_to_user_id': None, 'in_reply_to_user_id_str': None, 'in_reply_to_screen_name': None, 'user': {'id': 16725354, 'id_str': '16725354', 'name': 'Luka Luke🍀🌱🌿', 'screen_name': 'LukaLuke966', 'location': 'DMV Blue, in Crimson Red Bama ', 'url': None, 'description': \"*Don't live the same year 75 times and call it a life* DC Born 🇺🇸 USARMY VET! Black with a snipet of Irish/scottish/welch. #Resist #LegalizIt  #2fish\", 'translator_type': 'none', 'protected': False, 'verified': False, 'followers_count': 1267, 'friends_count': 2832, 'listed_count': 18, 'favourites_count': 25595, 'statuses_count': 61708, 'created_at': 'Mon Oct 13 19:05:44 +0000 2008', 'utc_offset': None, 'time_zone': None, 'geo_enabled': True, 'lang': None, 'contributors_enabled': False, 'is_translator': False, 'profile_background_color': '000000', 'profile_background_image_url': 'http://abs.twimg.com/images/themes/theme14/bg.gif', 'profile_background_image_url_https': 'https://abs.twimg.com/images/themes/theme14/bg.gif', 'profile_background_tile': False, 'profile_link_color': '19CF86', 'profile_sidebar_border_color': '000000', 'profile_sidebar_fill_color': '000000', 'profile_text_color': '000000', 'profile_use_background_image': False, 'profile_image_url': 'http://pbs.twimg.com/profile_images/1248449716129390594/f_OyEUbc_normal.jpg', 'profile_image_url_https': 'https://pbs.twimg.com/profile_images/1248449716129390594/f_OyEUbc_normal.jpg', 'profile_banner_url': 'https://pbs.twimg.com/profile_banners/16725354/1512702343', 'default_profile': False, 'default_profile_image': False, 'following': None, 'follow_request_sent': None, 'notifications': None}, 'geo': None, 'coordinates': None, 'place': None, 'contributors': None, 'retweeted_status': {'created_at': 'Sun Apr 26 18:38:57 +0000 2020', 'id': 1254480100726378498, 'id_str': '1254480100726378498', 'text': 'Fuck Trump and his “I’m the hardest working President EVER in all of history.” Bullshit.', 'source': '<a href=\"http://twitter.com/download/iphone\" rel=\"nofollow\">Twitter for iPhone</a>', 'truncated': False, 'in_reply_to_status_id': None, 'in_reply_to_status_id_str': None, 'in_reply_to_user_id': None, 'in_reply_to_user_id_str': None, 'in_reply_to_screen_name': None, 'user': {'id': 379209090, 'id_str': '379209090', 'name': '#RandomWhiteGuy', 'screen_name': 'coleyworld', 'location': 'Wilds of Ohio', 'url': 'https://www.gunviolencearchive.org/reports/mass-shooting', 'description': '“Arguing with a trumper is like playing chess with a pigeon. They knock over the pieces, shit on the board, then strut around like they won.” #Resist', 'translator_type': 'none', 'protected': False, 'verified': False, 'followers_count': 116679, 'friends_count': 21568, 'listed_count': 223, 'favourites_count': 149746, 'statuses_count': 66444, 'created_at': 'Sat Sep 24 15:18:29 +0000 2011', 'utc_offset': None, 'time_zone': None, 'geo_enabled': False, 'lang': None, 'contributors_enabled': False, 'is_translator': False, 'profile_background_color': '000000', 'profile_background_image_url': 'http://abs.twimg.com/images/themes/theme1/bg.png', 'profile_background_image_url_https': 'https://abs.twimg.com/images/themes/theme1/bg.png', 'profile_background_tile': False, 'profile_link_color': 'FF691F', 'profile_sidebar_border_color': '000000', 'profile_sidebar_fill_color': '000000', 'profile_text_color': '000000', 'profile_use_background_image': False, 'profile_image_url': 'http://pbs.twimg.com/profile_images/1108544451973185536/ETtVthzV_normal.jpg', 'profile_image_url_https': 'https://pbs.twimg.com/profile_images/1108544451973185536/ETtVthzV_normal.jpg', 'profile_banner_url': 'https://pbs.twimg.com/profile_banners/379209090/1586013884', 'default_profile': False, 'default_profile_image': False, 'following': None, 'follow_request_sent': None, 'notifications': None}, 'geo': None, 'coordinates': None, 'place': None, 'contributors': None, 'is_quote_status': False, 'quote_count': 12, 'reply_count': 39, 'retweet_count': 103, 'favorite_count': 739, 'entities': {'hashtags': [], 'urls': [], 'user_mentions': [], 'symbols': []}, 'favorited': False, 'retweeted': False, 'filter_level': 'low', 'lang': 'en'}, 'is_quote_status': False, 'quote_count': 0, 'reply_count': 0, 'retweet_count': 0, 'favorite_count': 0, 'entities': {'hashtags': [], 'urls': [], 'user_mentions': [{'screen_name': 'coleyworld', 'name': '#RandomWhiteGuy', 'id': 379209090, 'id_str': '379209090', 'indices': [3, 14]}], 'symbols': []}, 'favorited': False, 'retweeted': False, 'filter_level': 'low', 'lang': 'en', 'timestamp_ms': '1587951887431'}\n",
      "{'created_at': 'Mon Apr 27 01:44:47 +0000 2020', 'id': 1254587263893323776, 'id_str': '1254587263893323776', 'text': 'RT @realDonaldTrump: Laura, just another Fake News Report!', 'source': '<a href=\"http://twitter.com/download/iphone\" rel=\"nofollow\">Twitter for iPhone</a>', 'truncated': False, 'in_reply_to_status_id': None, 'in_reply_to_status_id_str': None, 'in_reply_to_user_id': None, 'in_reply_to_user_id_str': None, 'in_reply_to_screen_name': None, 'user': {'id': 741372932455342080, 'id_str': '741372932455342080', 'name': 'Deporable American Cult45', 'screen_name': 'agk_amy', 'location': 'Trumpsylvania USA', 'url': None, 'description': 'Follower of CHRIST 1st! . All else is secondary !! 💯%TRUMP supporter #FinishTheWall.', 'translator_type': 'none', 'protected': False, 'verified': False, 'followers_count': 1452, 'friends_count': 1165, 'listed_count': 33, 'favourites_count': 119394, 'statuses_count': 94051, 'created_at': 'Fri Jun 10 20:54:16 +0000 2016', 'utc_offset': None, 'time_zone': None, 'geo_enabled': True, 'lang': None, 'contributors_enabled': False, 'is_translator': False, 'profile_background_color': 'F5F8FA', 'profile_background_image_url': '', 'profile_background_image_url_https': '', 'profile_background_tile': False, 'profile_link_color': '1DA1F2', 'profile_sidebar_border_color': 'C0DEED', 'profile_sidebar_fill_color': 'DDEEF6', 'profile_text_color': '333333', 'profile_use_background_image': True, 'profile_image_url': 'http://pbs.twimg.com/profile_images/884177896192999424/daxxyB8q_normal.jpg', 'profile_image_url_https': 'https://pbs.twimg.com/profile_images/884177896192999424/daxxyB8q_normal.jpg', 'profile_banner_url': 'https://pbs.twimg.com/profile_banners/741372932455342080/1570386001', 'default_profile': True, 'default_profile_image': False, 'following': None, 'follow_request_sent': None, 'notifications': None}, 'geo': None, 'coordinates': None, 'place': None, 'contributors': None, 'retweeted_status': {'created_at': 'Mon Apr 27 00:14:39 +0000 2020', 'id': 1254564582020059136, 'id_str': '1254564582020059136', 'text': 'Laura, just another Fake News Report!', 'source': '<a href=\"http://twitter.com/download/iphone\" rel=\"nofollow\">Twitter for iPhone</a>', 'truncated': False, 'in_reply_to_status_id': None, 'in_reply_to_status_id_str': None, 'in_reply_to_user_id': None, 'in_reply_to_user_id_str': None, 'in_reply_to_screen_name': None, 'user': {'id': 25073877, 'id_str': '25073877', 'name': 'Donald J. Trump', 'screen_name': 'realDonaldTrump', 'location': 'Washington, DC', 'url': 'http://www.Instagram.com/realDonaldTrump', 'description': '45th President of the United States of America🇺🇸', 'translator_type': 'regular', 'protected': False, 'verified': True, 'followers_count': 78665585, 'friends_count': 46, 'listed_count': 120286, 'favourites_count': 6, 'statuses_count': 50995, 'created_at': 'Wed Mar 18 13:46:38 +0000 2009', 'utc_offset': None, 'time_zone': None, 'geo_enabled': True, 'lang': None, 'contributors_enabled': False, 'is_translator': False, 'profile_background_color': '6D5C18', 'profile_background_image_url': 'http://abs.twimg.com/images/themes/theme1/bg.png', 'profile_background_image_url_https': 'https://abs.twimg.com/images/themes/theme1/bg.png', 'profile_background_tile': True, 'profile_link_color': '1B95E0', 'profile_sidebar_border_color': 'BDDCAD', 'profile_sidebar_fill_color': 'C5CEC0', 'profile_text_color': '333333', 'profile_use_background_image': True, 'profile_image_url': 'http://pbs.twimg.com/profile_images/874276197357596672/kUuht00m_normal.jpg', 'profile_image_url_https': 'https://pbs.twimg.com/profile_images/874276197357596672/kUuht00m_normal.jpg', 'profile_banner_url': 'https://pbs.twimg.com/profile_banners/25073877/1583212785', 'default_profile': False, 'default_profile_image': False, 'following': None, 'follow_request_sent': None, 'notifications': None}, 'geo': None, 'coordinates': None, 'place': None, 'contributors': None, 'quoted_status_id': 1254539514699304960, 'quoted_status_id_str': '1254539514699304960', 'quoted_status': {'created_at': 'Sun Apr 26 22:35:03 +0000 2020', 'id': 1254539514699304960, 'id_str': '1254539514699304960', 'text': 'Azar is one of the best, smartest, multi-talented, experienced people in the Trump Cabinet.  Also really good and c… https://t.co/N7J0KC1O0H', 'source': '<a href=\"http://twitter.com/download/iphone\" rel=\"nofollow\">Twitter for iPhone</a>', 'truncated': True, 'in_reply_to_status_id': None, 'in_reply_to_status_id_str': None, 'in_reply_to_user_id': None, 'in_reply_to_user_id_str': None, 'in_reply_to_screen_name': None, 'user': {'id': 50769180, 'id_str': '50769180', 'name': 'Laura Ingraham', 'screen_name': 'IngrahamAngle', 'location': 'DC', 'url': 'http://www.lauraingraham.com', 'description': 'Mom, author, host, The Ingraham Angle, 10p ET @FoxNews. Retweets do not = Endorsements', 'translator_type': 'none', 'protected': False, 'verified': True, 'followers_count': 3358830, 'friends_count': 337, 'listed_count': 13306, 'favourites_count': 3143, 'statuses_count': 42302, 'created_at': 'Thu Jun 25 21:03:25 +0000 2009', 'utc_offset': None, 'time_zone': None, 'geo_enabled': True, 'lang': None, 'contributors_enabled': False, 'is_translator': False, 'profile_background_color': 'DBE9ED', 'profile_background_image_url': 'http://abs.twimg.com/images/themes/theme1/bg.png', 'profile_background_image_url_https': 'https://abs.twimg.com/images/themes/theme1/bg.png', 'profile_background_tile': False, 'profile_link_color': 'CC3366', 'profile_sidebar_border_color': 'FFFFFF', 'profile_sidebar_fill_color': 'DDEEF6', 'profile_text_color': '333333', 'profile_use_background_image': True, 'profile_image_url': 'http://pbs.twimg.com/profile_images/1146349820912660480/CjdAuR5i_normal.jpg', 'profile_image_url_https': 'https://pbs.twimg.com/profile_images/1146349820912660480/CjdAuR5i_normal.jpg', 'profile_banner_url': 'https://pbs.twimg.com/profile_banners/50769180/1562146071', 'default_profile': False, 'default_profile_image': False, 'following': None, 'follow_request_sent': None, 'notifications': None}, 'geo': None, 'coordinates': None, 'place': None, 'contributors': None, 'quoted_status_id': 1254529069733105665, 'quoted_status_id_str': '1254529069733105665', 'is_quote_status': True, 'extended_tweet': {'full_text': 'Azar is one of the best, smartest, multi-talented, experienced people in the Trump Cabinet.  Also really good and clear on TV—which is also a plus.', 'display_text_range': [0, 147], 'entities': {'hashtags': [], 'urls': [], 'user_mentions': [], 'symbols': []}}, 'quote_count': 97, 'reply_count': 474, 'retweet_count': 1678, 'favorite_count': 6387, 'entities': {'hashtags': [], 'urls': [{'url': 'https://t.co/N7J0KC1O0H', 'expanded_url': 'https://twitter.com/i/web/status/1254539514699304960', 'display_url': 'twitter.com/i/web/status/1…', 'indices': [117, 140]}], 'user_mentions': [], 'symbols': []}, 'favorited': False, 'retweeted': False, 'filter_level': 'low', 'lang': 'en'}, 'quoted_status_permalink': {'url': 'https://t.co/Kya7NViNRB', 'expanded': 'https://twitter.com/ingrahamangle/status/1254539514699304960', 'display': 'twitter.com/ingrahamangle/…'}, 'is_quote_status': True, 'quote_count': 200, 'reply_count': 2146, 'retweet_count': 4854, 'favorite_count': 19428, 'entities': {'hashtags': [], 'urls': [], 'user_mentions': [], 'symbols': []}, 'favorited': False, 'retweeted': False, 'filter_level': 'low', 'lang': 'en'}, 'quoted_status_id': 1254539514699304960, 'quoted_status_id_str': '1254539514699304960', 'quoted_status': {'created_at': 'Sun Apr 26 22:35:03 +0000 2020', 'id': 1254539514699304960, 'id_str': '1254539514699304960', 'text': 'Azar is one of the best, smartest, multi-talented, experienced people in the Trump Cabinet.  Also really good and c… https://t.co/N7J0KC1O0H', 'source': '<a href=\"http://twitter.com/download/iphone\" rel=\"nofollow\">Twitter for iPhone</a>', 'truncated': True, 'in_reply_to_status_id': None, 'in_reply_to_status_id_str': None, 'in_reply_to_user_id': None, 'in_reply_to_user_id_str': None, 'in_reply_to_screen_name': None, 'user': {'id': 50769180, 'id_str': '50769180', 'name': 'Laura Ingraham', 'screen_name': 'IngrahamAngle', 'location': 'DC', 'url': 'http://www.lauraingraham.com', 'description': 'Mom, author, host, The Ingraham Angle, 10p ET @FoxNews. Retweets do not = Endorsements', 'translator_type': 'none', 'protected': False, 'verified': True, 'followers_count': 3358830, 'friends_count': 337, 'listed_count': 13306, 'favourites_count': 3143, 'statuses_count': 42302, 'created_at': 'Thu Jun 25 21:03:25 +0000 2009', 'utc_offset': None, 'time_zone': None, 'geo_enabled': True, 'lang': None, 'contributors_enabled': False, 'is_translator': False, 'profile_background_color': 'DBE9ED', 'profile_background_image_url': 'http://abs.twimg.com/images/themes/theme1/bg.png', 'profile_background_image_url_https': 'https://abs.twimg.com/images/themes/theme1/bg.png', 'profile_background_tile': False, 'profile_link_color': 'CC3366', 'profile_sidebar_border_color': 'FFFFFF', 'profile_sidebar_fill_color': 'DDEEF6', 'profile_text_color': '333333', 'profile_use_background_image': True, 'profile_image_url': 'http://pbs.twimg.com/profile_images/1146349820912660480/CjdAuR5i_normal.jpg', 'profile_image_url_https': 'https://pbs.twimg.com/profile_images/1146349820912660480/CjdAuR5i_normal.jpg', 'profile_banner_url': 'https://pbs.twimg.com/profile_banners/50769180/1562146071', 'default_profile': False, 'default_profile_image': False, 'following': None, 'follow_request_sent': None, 'notifications': None}, 'geo': None, 'coordinates': None, 'place': None, 'contributors': None, 'quoted_status_id': 1254529069733105665, 'quoted_status_id_str': '1254529069733105665', 'is_quote_status': True, 'extended_tweet': {'full_text': 'Azar is one of the best, smartest, multi-talented, experienced people in the Trump Cabinet.  Also really good and clear on TV—which is also a plus.', 'display_text_range': [0, 147], 'entities': {'hashtags': [], 'urls': [], 'user_mentions': [], 'symbols': []}}, 'quote_count': 97, 'reply_count': 474, 'retweet_count': 1678, 'favorite_count': 6387, 'entities': {'hashtags': [], 'urls': [{'url': 'https://t.co/N7J0KC1O0H', 'expanded_url': 'https://twitter.com/i/web/status/1254539514699304960', 'display_url': 'twitter.com/i/web/status/1…', 'indices': [117, 140]}], 'user_mentions': [], 'symbols': []}, 'favorited': False, 'retweeted': False, 'filter_level': 'low', 'lang': 'en'}, 'quoted_status_permalink': {'url': 'https://t.co/Kya7NViNRB', 'expanded': 'https://twitter.com/ingrahamangle/status/1254539514699304960', 'display': 'twitter.com/ingrahamangle/…'}, 'is_quote_status': True, 'quote_count': 0, 'reply_count': 0, 'retweet_count': 0, 'favorite_count': 0, 'entities': {'hashtags': [], 'urls': [], 'user_mentions': [{'screen_name': 'realDonaldTrump', 'name': 'Donald J. Trump', 'id': 25073877, 'id_str': '25073877', 'indices': [3, 19]}], 'symbols': []}, 'favorited': False, 'retweeted': False, 'filter_level': 'low', 'lang': 'en', 'timestamp_ms': '1587951887473'}\n"
     ]
    }
   ],
   "source": [
    "for i in data[:5]:\n",
    "    print(i)"
   ]
  },
  {
   "cell_type": "code",
   "execution_count": 638,
   "metadata": {
    "ExecuteTime": {
     "end_time": "2019-02-14T15:58:43.063276Z",
     "start_time": "2019-02-14T15:58:43.035256Z"
    }
   },
   "outputs": [
    {
     "data": {
      "text/plain": [
       "9297"
      ]
     },
     "execution_count": 638,
     "metadata": {},
     "output_type": "execute_result"
    }
   ],
   "source": [
    "# removing any error messages from Twitter API\n",
    "tweets = []\n",
    "for T in data:\n",
    "    if 'text' in T:\n",
    "        tweets.append(T)\n",
    "len(tweets)   "
   ]
  },
  {
   "cell_type": "code",
   "execution_count": 639,
   "metadata": {},
   "outputs": [
    {
     "name": "stdout",
     "output_type": "stream",
     "text": [
      "California High Desert\n",
      "Beaverton, OR\n",
      "United States\n",
      "DMV Blue, in Crimson Red Bama \n",
      "Trumpsylvania USA\n"
     ]
    }
   ],
   "source": [
    "# display five locations (twitter user names)\n",
    "for i in tweets[:5]:\n",
    "    print(i['user']['location'])"
   ]
  },
  {
   "cell_type": "code",
   "execution_count": 640,
   "metadata": {
    "ExecuteTime": {
     "end_time": "2019-02-14T15:58:43.078272Z",
     "start_time": "2019-02-14T15:58:43.064255Z"
    }
   },
   "outputs": [
    {
     "name": "stdout",
     "output_type": "stream",
     "text": [
      "JbthomJohn\n",
      "leehall11\n",
      "psu4joe\n",
      "LukaLuke966\n",
      "agk_amy\n"
     ]
    }
   ],
   "source": [
    "# display five screen names (twitter user names)\n",
    "for i in tweets[:5]:\n",
    "    print(i['user']['screen_name'])"
   ]
  },
  {
   "cell_type": "code",
   "execution_count": 641,
   "metadata": {
    "ExecuteTime": {
     "end_time": "2019-02-14T15:58:43.096256Z",
     "start_time": "2019-02-14T15:58:43.079257Z"
    }
   },
   "outputs": [
    {
     "data": {
      "text/plain": [
       "9297"
      ]
     },
     "execution_count": 641,
     "metadata": {},
     "output_type": "execute_result"
    }
   ],
   "source": [
    "# save all screen_names\n",
    "screen_names = [T['user']['screen_name'] for T in tweets] # list comprehension\n",
    "len(screen_names)"
   ]
  },
  {
   "cell_type": "code",
   "execution_count": 642,
   "metadata": {
    "ExecuteTime": {
     "end_time": "2019-02-14T15:58:43.120257Z",
     "start_time": "2019-02-14T15:58:43.097278Z"
    }
   },
   "outputs": [
    {
     "name": "stdout",
     "output_type": "stream",
     "text": [
      "JbthomJohn RT @TeamPelosi: The president is asking you to inject Lysol into your lungs. Please don’t do this or drink bleach. https://t.co/fSmiRvo8QG\n",
      "leehall11 RT @RepAdamSchiff: There’s a disturbing echo in Trump’s coronavirus response.\n",
      "\n",
      "From eschewing pandemic preparedness and oversight to demand…\n",
      "psu4joe RT @TheRickWilson: Trump Is Seething About Michael Cohen’s Tell-All https://t.co/qJpWR9IE4B via @thedailybeast\n",
      "LukaLuke966 RT @coleyworld: Fuck Trump and his “I’m the hardest working President EVER in all of history.” Bullshit.\n",
      "agk_amy RT @realDonaldTrump: Laura, just another Fake News Report!\n"
     ]
    }
   ],
   "source": [
    "# display screen_name, tweets\n",
    "for i in tweets[:5]:\n",
    "    print(i['user']['screen_name'], i['text'])"
   ]
  },
  {
   "cell_type": "markdown",
   "metadata": {},
   "source": [
    "# We Can Process Tweets in Dataframe: Parse JSON to CSV Automatically"
   ]
  },
  {
   "cell_type": "code",
   "execution_count": 643,
   "metadata": {
    "ExecuteTime": {
     "end_time": "2019-02-14T15:58:43.199274Z",
     "start_time": "2019-02-14T15:58:43.122256Z"
    }
   },
   "outputs": [],
   "source": [
    "# More codes for extracting information from tweets\n",
    "\n",
    "ids = [T['id_str'] for T in tweets]\n",
    "times = [T['created_at'] for T in tweets]\n",
    "texts = [T['text'] for T in tweets]\n",
    "screen_names = [T['user']['screen_name'] for T in tweets]\n",
    "followers_count = [T['user']['followers_count'] for T in tweets]\n",
    "friends_count = [T['user']['friends_count'] for T in tweets]\n",
    "names = [T['user']['name'] for T in tweets]\n",
    "lats = [(T['geo']['coordinates'][0] if T['geo'] else None) for T in tweets]\n",
    "lons = [(T['geo']['coordinates'][1] if T['geo'] else None) for T in tweets]\n",
    "place_names = [(T['place']['full_name'] if T['place'] else None) for T in tweets]\n",
    "place_types = [(T['place']['place_type'] if T['place'] else None) for T in tweets]\n",
    "\n",
    "# open an output csv file to write to\n",
    "out = open('data/tweetdata.csv', 'w', encoding='UTF-8', newline='')\n",
    "\n",
    "# write the header of our CSV as its first line\n",
    "out.write('id,created at,text,screen name,followers_count,friends_count,name,lat,lon,place name,place type\\n')\n",
    "\n",
    "# merge each individual list into a single list using the zip function\n",
    "rows = list(zip(ids, times, texts, screen_names, followers_count, friends_count, names, lats, lons, place_names, place_types))\n",
    "\n",
    "# use the writer module on our csv file\n",
    "csv = csv.writer(out)\n",
    "\n",
    "# use one value from each of our rows list and write it to the csv as a new row\n",
    "for row in rows:\n",
    "    values = [value for value in row]\n",
    "    #values = [(value.encode('utf8') if hasattr(value, 'encode') else value) for value in row]\n",
    "    csv.writerow(values)\n",
    "\n",
    "# close our csv file when done\n",
    "out.close()\n",
    "\n",
    "#http://mike.teczno.com/notes/streaming-data-from-twitter.html"
   ]
  },
  {
   "cell_type": "code",
   "execution_count": 645,
   "metadata": {
    "ExecuteTime": {
     "end_time": "2019-02-14T15:58:43.238258Z",
     "start_time": "2019-02-14T15:58:43.200275Z"
    }
   },
   "outputs": [
    {
     "data": {
      "text/html": [
       "<div>\n",
       "<style scoped>\n",
       "    .dataframe tbody tr th:only-of-type {\n",
       "        vertical-align: middle;\n",
       "    }\n",
       "\n",
       "    .dataframe tbody tr th {\n",
       "        vertical-align: top;\n",
       "    }\n",
       "\n",
       "    .dataframe thead th {\n",
       "        text-align: right;\n",
       "    }\n",
       "</style>\n",
       "<table border=\"1\" class=\"dataframe\">\n",
       "  <thead>\n",
       "    <tr style=\"text-align: right;\">\n",
       "      <th></th>\n",
       "      <th>id</th>\n",
       "      <th>created at</th>\n",
       "      <th>text</th>\n",
       "      <th>screen name</th>\n",
       "      <th>followers_count</th>\n",
       "      <th>friends_count</th>\n",
       "      <th>name</th>\n",
       "      <th>lat</th>\n",
       "      <th>lon</th>\n",
       "      <th>place name</th>\n",
       "      <th>place type</th>\n",
       "    </tr>\n",
       "  </thead>\n",
       "  <tbody>\n",
       "    <tr>\n",
       "      <th>0</th>\n",
       "      <td>1254587263398240256</td>\n",
       "      <td>Mon Apr 27 01:44:47 +0000 2020</td>\n",
       "      <td>RT @TeamPelosi: The president is asking you to...</td>\n",
       "      <td>JbthomJohn</td>\n",
       "      <td>11081</td>\n",
       "      <td>11864</td>\n",
       "      <td>John</td>\n",
       "      <td>NaN</td>\n",
       "      <td>NaN</td>\n",
       "      <td>NaN</td>\n",
       "      <td>NaN</td>\n",
       "    </tr>\n",
       "    <tr>\n",
       "      <th>1</th>\n",
       "      <td>1254587263570153473</td>\n",
       "      <td>Mon Apr 27 01:44:47 +0000 2020</td>\n",
       "      <td>RT @RepAdamSchiff: There’s a disturbing echo i...</td>\n",
       "      <td>leehall11</td>\n",
       "      <td>406</td>\n",
       "      <td>789</td>\n",
       "      <td>🅛🅔🅔</td>\n",
       "      <td>NaN</td>\n",
       "      <td>NaN</td>\n",
       "      <td>NaN</td>\n",
       "      <td>NaN</td>\n",
       "    </tr>\n",
       "    <tr>\n",
       "      <th>2</th>\n",
       "      <td>1254587263603924992</td>\n",
       "      <td>Mon Apr 27 01:44:47 +0000 2020</td>\n",
       "      <td>RT @TheRickWilson: Trump Is Seething About Mic...</td>\n",
       "      <td>psu4joe</td>\n",
       "      <td>1592</td>\n",
       "      <td>1976</td>\n",
       "      <td>Sylvia  Henry</td>\n",
       "      <td>NaN</td>\n",
       "      <td>NaN</td>\n",
       "      <td>NaN</td>\n",
       "      <td>NaN</td>\n",
       "    </tr>\n",
       "    <tr>\n",
       "      <th>3</th>\n",
       "      <td>1254587263717163008</td>\n",
       "      <td>Mon Apr 27 01:44:47 +0000 2020</td>\n",
       "      <td>RT @coleyworld: Fuck Trump and his “I’m the ha...</td>\n",
       "      <td>LukaLuke966</td>\n",
       "      <td>1267</td>\n",
       "      <td>2832</td>\n",
       "      <td>Luka Luke🍀🌱🌿</td>\n",
       "      <td>NaN</td>\n",
       "      <td>NaN</td>\n",
       "      <td>NaN</td>\n",
       "      <td>NaN</td>\n",
       "    </tr>\n",
       "    <tr>\n",
       "      <th>4</th>\n",
       "      <td>1254587263893323776</td>\n",
       "      <td>Mon Apr 27 01:44:47 +0000 2020</td>\n",
       "      <td>RT @realDonaldTrump: Laura, just another Fake ...</td>\n",
       "      <td>agk_amy</td>\n",
       "      <td>1452</td>\n",
       "      <td>1165</td>\n",
       "      <td>Deporable American Cult45</td>\n",
       "      <td>NaN</td>\n",
       "      <td>NaN</td>\n",
       "      <td>NaN</td>\n",
       "      <td>NaN</td>\n",
       "    </tr>\n",
       "  </tbody>\n",
       "</table>\n",
       "</div>"
      ],
      "text/plain": [
       "                    id                      created at  \\\n",
       "0  1254587263398240256  Mon Apr 27 01:44:47 +0000 2020   \n",
       "1  1254587263570153473  Mon Apr 27 01:44:47 +0000 2020   \n",
       "2  1254587263603924992  Mon Apr 27 01:44:47 +0000 2020   \n",
       "3  1254587263717163008  Mon Apr 27 01:44:47 +0000 2020   \n",
       "4  1254587263893323776  Mon Apr 27 01:44:47 +0000 2020   \n",
       "\n",
       "                                                text  screen name  \\\n",
       "0  RT @TeamPelosi: The president is asking you to...   JbthomJohn   \n",
       "1  RT @RepAdamSchiff: There’s a disturbing echo i...    leehall11   \n",
       "2  RT @TheRickWilson: Trump Is Seething About Mic...      psu4joe   \n",
       "3  RT @coleyworld: Fuck Trump and his “I’m the ha...  LukaLuke966   \n",
       "4  RT @realDonaldTrump: Laura, just another Fake ...      agk_amy   \n",
       "\n",
       "   followers_count  friends_count                       name  lat  lon  \\\n",
       "0            11081          11864                       John  NaN  NaN   \n",
       "1              406            789                        🅛🅔🅔  NaN  NaN   \n",
       "2             1592           1976              Sylvia  Henry  NaN  NaN   \n",
       "3             1267           2832               Luka Luke🍀🌱🌿  NaN  NaN   \n",
       "4             1452           1165  Deporable American Cult45  NaN  NaN   \n",
       "\n",
       "  place name place type  \n",
       "0        NaN        NaN  \n",
       "1        NaN        NaN  \n",
       "2        NaN        NaN  \n",
       "3        NaN        NaN  \n",
       "4        NaN        NaN  "
      ]
     },
     "execution_count": 645,
     "metadata": {},
     "output_type": "execute_result"
    }
   ],
   "source": [
    "# read your data as dataframe\n",
    "\n",
    "df = pd.read_csv(\"data/tweetdata.csv\")\n",
    "df.head()"
   ]
  },
  {
   "cell_type": "markdown",
   "metadata": {},
   "source": [
    "# Descriptive Analytics (data in list)\n",
    "\n",
    "We will process and analyze the data in **list**\n",
    "\n",
    "Of course, you can do these activities in **dataframe** as well (**Module \"Pansas for Text Analytics\"**)"
   ]
  },
  {
   "cell_type": "markdown",
   "metadata": {},
   "source": [
    "## Tweet metrics"
   ]
  },
  {
   "cell_type": "markdown",
   "metadata": {},
   "source": [
    "### Tweet statistics "
   ]
  },
  {
   "cell_type": "code",
   "execution_count": 646,
   "metadata": {},
   "outputs": [
    {
     "data": {
      "text/plain": [
       "9297"
      ]
     },
     "execution_count": 646,
     "metadata": {},
     "output_type": "execute_result"
    }
   ],
   "source": [
    "# how many tweets?\n",
    "len(tweets)"
   ]
  },
  {
   "cell_type": "markdown",
   "metadata": {},
   "source": [
    "### Tweet: Hashtag"
   ]
  },
  {
   "cell_type": "code",
   "execution_count": 647,
   "metadata": {},
   "outputs": [
    {
     "name": "stdout",
     "output_type": "stream",
     "text": [
      "[]\n",
      "[]\n",
      "[]\n",
      "[]\n",
      "[]\n",
      "[]\n",
      "[]\n",
      "[]\n",
      "['FakeNews']\n",
      "[]\n",
      "[]\n"
     ]
    }
   ],
   "source": [
    "# how many tweets with hashtag?\n",
    "# extract and display all hashtags from first 10 tweets\n",
    "for tweet in texts[2:13]:\n",
    "    print(re.findall(r\"(?<=#)\\w+\", tweet))"
   ]
  },
  {
   "cell_type": "code",
   "execution_count": 648,
   "metadata": {},
   "outputs": [
    {
     "name": "stdout",
     "output_type": "stream",
     "text": [
      "608\n"
     ]
    }
   ],
   "source": [
    "counthashtag = 0\n",
    "\n",
    "for tweet in texts:\n",
    "    if len(re.findall(r\"(?<=#)\\w+\", tweet)) > 0:\n",
    "        counthashtag += 1\n",
    "        \n",
    "print(counthashtag)"
   ]
  },
  {
   "cell_type": "markdown",
   "metadata": {},
   "source": [
    "### Tweet: Original tweets & Retweets"
   ]
  },
  {
   "cell_type": "code",
   "execution_count": 649,
   "metadata": {
    "ExecuteTime": {
     "end_time": "2019-02-14T15:58:43.435255Z",
     "start_time": "2019-02-14T15:58:43.417273Z"
    }
   },
   "outputs": [
    {
     "data": {
      "text/plain": [
       "2301"
      ]
     },
     "execution_count": 649,
     "metadata": {},
     "output_type": "execute_result"
    }
   ],
   "source": [
    "# remove retweets so you can extract all original tweets and save them\n",
    "originaltweets = []\n",
    "for tweet in texts:\n",
    "    if 'rt @' not in tweet.lower():\n",
    "        originaltweets.append(tweet)\n",
    "        \n",
    "len(originaltweets)"
   ]
  },
  {
   "cell_type": "code",
   "execution_count": 650,
   "metadata": {
    "ExecuteTime": {
     "end_time": "2019-02-14T15:58:43.470258Z",
     "start_time": "2019-02-14T15:58:43.454260Z"
    }
   },
   "outputs": [
    {
     "data": {
      "text/plain": [
       "9297"
      ]
     },
     "execution_count": 650,
     "metadata": {},
     "output_type": "execute_result"
    }
   ],
   "source": [
    "# get retweets only\n",
    "#remove original tweets\n",
    "retweets_only = []\n",
    "for tweet in texts:\n",
    "    \n",
    "        retweets_only.append(tweet)\n",
    "        \n",
    "len(retweets_only)"
   ]
  },
  {
   "cell_type": "markdown",
   "metadata": {},
   "source": [
    "### Tweet: Time series"
   ]
  },
  {
   "cell_type": "code",
   "execution_count": 651,
   "metadata": {},
   "outputs": [
    {
     "data": {
      "text/plain": [
       "9297"
      ]
     },
     "execution_count": 651,
     "metadata": {},
     "output_type": "execute_result"
    }
   ],
   "source": [
    "# saving 'created_at' from the twitter data\n",
    "times = [T['created_at'] for T in tweets]\n",
    "len(times)"
   ]
  },
  {
   "cell_type": "code",
   "execution_count": 652,
   "metadata": {},
   "outputs": [
    {
     "data": {
      "text/html": [
       "<div>\n",
       "<style scoped>\n",
       "    .dataframe tbody tr th:only-of-type {\n",
       "        vertical-align: middle;\n",
       "    }\n",
       "\n",
       "    .dataframe tbody tr th {\n",
       "        vertical-align: top;\n",
       "    }\n",
       "\n",
       "    .dataframe thead th {\n",
       "        text-align: right;\n",
       "    }\n",
       "</style>\n",
       "<table border=\"1\" class=\"dataframe\">\n",
       "  <thead>\n",
       "    <tr style=\"text-align: right;\">\n",
       "      <th></th>\n",
       "    </tr>\n",
       "    <tr>\n",
       "      <th>time</th>\n",
       "    </tr>\n",
       "  </thead>\n",
       "  <tbody>\n",
       "    <tr>\n",
       "      <th>2020-04-27 01:44:47+00:00</th>\n",
       "    </tr>\n",
       "    <tr>\n",
       "      <th>2020-04-27 01:44:47+00:00</th>\n",
       "    </tr>\n",
       "    <tr>\n",
       "      <th>2020-04-27 01:44:47+00:00</th>\n",
       "    </tr>\n",
       "    <tr>\n",
       "      <th>2020-04-27 01:44:47+00:00</th>\n",
       "    </tr>\n",
       "    <tr>\n",
       "      <th>2020-04-27 01:44:47+00:00</th>\n",
       "    </tr>\n",
       "  </tbody>\n",
       "</table>\n",
       "</div>"
      ],
      "text/plain": [
       "Empty DataFrame\n",
       "Columns: []\n",
       "Index: [2020-04-27 01:44:47+00:00, 2020-04-27 01:44:47+00:00, 2020-04-27 01:44:47+00:00, 2020-04-27 01:44:47+00:00, 2020-04-27 01:44:47+00:00]"
      ]
     },
     "execution_count": 652,
     "metadata": {},
     "output_type": "execute_result"
    }
   ],
   "source": [
    "time_df = pd.DataFrame(times)\n",
    "time_df.columns = ['time']\n",
    "time_df['time'] = pd.to_datetime(time_df['time'])   # data type to datetime\n",
    "time_df = time_df.set_index('time')    # time as index\n",
    "time_df.head()"
   ]
  },
  {
   "cell_type": "markdown",
   "metadata": {},
   "source": [
    "Twitter API use UTC (Universal Time Zone) as the default time zone so we need to convert time zone to Central."
   ]
  },
  {
   "cell_type": "raw",
   "metadata": {},
   "source": [
    "# install pytz\n",
    "!pip install pytz"
   ]
  },
  {
   "cell_type": "code",
   "execution_count": 653,
   "metadata": {},
   "outputs": [
    {
     "data": {
      "text/html": [
       "<div>\n",
       "<style scoped>\n",
       "    .dataframe tbody tr th:only-of-type {\n",
       "        vertical-align: middle;\n",
       "    }\n",
       "\n",
       "    .dataframe tbody tr th {\n",
       "        vertical-align: top;\n",
       "    }\n",
       "\n",
       "    .dataframe thead th {\n",
       "        text-align: right;\n",
       "    }\n",
       "</style>\n",
       "<table border=\"1\" class=\"dataframe\">\n",
       "  <thead>\n",
       "    <tr style=\"text-align: right;\">\n",
       "      <th></th>\n",
       "    </tr>\n",
       "    <tr>\n",
       "      <th>time</th>\n",
       "    </tr>\n",
       "  </thead>\n",
       "  <tbody>\n",
       "    <tr>\n",
       "      <th>2020-04-26 20:44:47-05:00</th>\n",
       "    </tr>\n",
       "    <tr>\n",
       "      <th>2020-04-26 20:44:47-05:00</th>\n",
       "    </tr>\n",
       "    <tr>\n",
       "      <th>2020-04-26 20:44:47-05:00</th>\n",
       "    </tr>\n",
       "    <tr>\n",
       "      <th>2020-04-26 20:44:47-05:00</th>\n",
       "    </tr>\n",
       "    <tr>\n",
       "      <th>2020-04-26 20:44:47-05:00</th>\n",
       "    </tr>\n",
       "  </tbody>\n",
       "</table>\n",
       "</div>"
      ],
      "text/plain": [
       "Empty DataFrame\n",
       "Columns: []\n",
       "Index: [2020-04-26 20:44:47-05:00, 2020-04-26 20:44:47-05:00, 2020-04-26 20:44:47-05:00, 2020-04-26 20:44:47-05:00, 2020-04-26 20:44:47-05:00]"
      ]
     },
     "execution_count": 653,
     "metadata": {},
     "output_type": "execute_result"
    }
   ],
   "source": [
    "import pytz\n",
    "central = pytz.timezone('US/Central')\n",
    "time_df.index = time_df.index.tz_convert(central)\n",
    "time_df.head()"
   ]
  },
  {
   "cell_type": "code",
   "execution_count": 654,
   "metadata": {},
   "outputs": [
    {
     "data": {
      "text/plain": [
       "time\n",
       "2020-04-26 00:00:00-05:00    9297\n",
       "Freq: D, dtype: int64"
      ]
     },
     "execution_count": 654,
     "metadata": {},
     "output_type": "execute_result"
    }
   ],
   "source": [
    "# data collection was done for about 70 minutes\n",
    "#time_df.resample('Y').size()  # year\n",
    "#time_df.resample('M').size()  # month\n",
    "#time_df.resample('W').size()  # week\n",
    "time_df.resample('D').size()   # per day"
   ]
  },
  {
   "cell_type": "code",
   "execution_count": 655,
   "metadata": {},
   "outputs": [
    {
     "data": {
      "text/plain": [
       "time\n",
       "2020-04-26 20:44:00-05:00     474\n",
       "2020-04-26 20:45:00-05:00    2425\n",
       "2020-04-26 20:46:00-05:00    2305\n",
       "2020-04-26 20:47:00-05:00    2326\n",
       "2020-04-26 20:48:00-05:00    1767\n",
       "Freq: T, dtype: int64"
      ]
     },
     "execution_count": 655,
     "metadata": {},
     "output_type": "execute_result"
    }
   ],
   "source": [
    "# per every 1 minute\n",
    "time_df.resample('1Min').size()"
   ]
  },
  {
   "cell_type": "code",
   "execution_count": 656,
   "metadata": {},
   "outputs": [
    {
     "data": {
      "image/png": "[encoded data removed]",
      "text/plain": [
       "<Figure size 432x288 with 1 Axes>"
      ]
     },
     "metadata": {
      "needs_background": "light"
     },
     "output_type": "display_data"
    }
   ],
   "source": [
    "# visualize minute-level trend\n",
    "time_df.resample('1Min').size().plot();"
   ]
  },
  {
   "cell_type": "markdown",
   "metadata": {},
   "source": [
    "## User metrics"
   ]
  },
  {
   "cell_type": "markdown",
   "metadata": {},
   "source": [
    "### users"
   ]
  },
  {
   "cell_type": "code",
   "execution_count": 657,
   "metadata": {
    "ExecuteTime": {
     "end_time": "2019-02-14T15:58:43.246257Z",
     "start_time": "2019-02-14T15:58:43.240259Z"
    }
   },
   "outputs": [
    {
     "data": {
      "text/plain": [
       "7138"
      ]
     },
     "execution_count": 657,
     "metadata": {},
     "output_type": "execute_result"
    }
   ],
   "source": [
    "# how many unique users in the data?\n",
    "c = Counter(screen_names)\n",
    "len(c)"
   ]
  },
  {
   "cell_type": "markdown",
   "metadata": {},
   "source": [
    "### Most active users"
   ]
  },
  {
   "cell_type": "code",
   "execution_count": 658,
   "metadata": {
    "ExecuteTime": {
     "end_time": "2019-02-14T15:58:43.304277Z",
     "start_time": "2019-02-14T15:58:43.279258Z"
    }
   },
   "outputs": [
    {
     "data": {
      "text/plain": [
       "[('WomenSaveUSA', 24),\n",
       " ('PMGTS1', 19),\n",
       " ('joseph_mcnally', 13),\n",
       " ('CorinnaElite', 12),\n",
       " ('Tracycoulter14', 10)]"
      ]
     },
     "execution_count": 658,
     "metadata": {},
     "output_type": "execute_result"
    }
   ],
   "source": [
    "c = Counter(screen_names)\n",
    "# five most active tweeters\n",
    "c.most_common(5)"
   ]
  },
  {
   "cell_type": "code",
   "execution_count": 659,
   "metadata": {
    "ExecuteTime": {
     "end_time": "2019-02-14T15:58:43.343259Z",
     "start_time": "2019-02-14T15:58:43.323257Z"
    }
   },
   "outputs": [
    {
     "data": {
      "text/html": [
       "<div>\n",
       "<style scoped>\n",
       "    .dataframe tbody tr th:only-of-type {\n",
       "        vertical-align: middle;\n",
       "    }\n",
       "\n",
       "    .dataframe tbody tr th {\n",
       "        vertical-align: top;\n",
       "    }\n",
       "\n",
       "    .dataframe thead th {\n",
       "        text-align: right;\n",
       "    }\n",
       "</style>\n",
       "<table border=\"1\" class=\"dataframe\">\n",
       "  <thead>\n",
       "    <tr style=\"text-align: right;\">\n",
       "      <th></th>\n",
       "      <th>0</th>\n",
       "      <th>1</th>\n",
       "    </tr>\n",
       "  </thead>\n",
       "  <tbody>\n",
       "    <tr>\n",
       "      <th>0</th>\n",
       "      <td>WomenSaveUSA</td>\n",
       "      <td>24</td>\n",
       "    </tr>\n",
       "    <tr>\n",
       "      <th>1</th>\n",
       "      <td>PMGTS1</td>\n",
       "      <td>19</td>\n",
       "    </tr>\n",
       "    <tr>\n",
       "      <th>2</th>\n",
       "      <td>joseph_mcnally</td>\n",
       "      <td>13</td>\n",
       "    </tr>\n",
       "    <tr>\n",
       "      <th>3</th>\n",
       "      <td>CorinnaElite</td>\n",
       "      <td>12</td>\n",
       "    </tr>\n",
       "    <tr>\n",
       "      <th>4</th>\n",
       "      <td>Tracycoulter14</td>\n",
       "      <td>10</td>\n",
       "    </tr>\n",
       "  </tbody>\n",
       "</table>\n",
       "</div>"
      ],
      "text/plain": [
       "                0   1\n",
       "0    WomenSaveUSA  24\n",
       "1          PMGTS1  19\n",
       "2  joseph_mcnally  13\n",
       "3    CorinnaElite  12\n",
       "4  Tracycoulter14  10"
      ]
     },
     "execution_count": 659,
     "metadata": {},
     "output_type": "execute_result"
    }
   ],
   "source": [
    "# make it pretty\n",
    "activetweeters_df = pd.DataFrame(c.most_common(5))\n",
    "activetweeters_df"
   ]
  },
  {
   "cell_type": "code",
   "execution_count": 660,
   "metadata": {},
   "outputs": [
    {
     "data": {
      "image/png": "[encoded data removed]",
      "text/plain": [
       "<Figure size 432x288 with 1 Axes>"
      ]
     },
     "metadata": {
      "needs_background": "light"
     },
     "output_type": "display_data"
    }
   ],
   "source": [
    "# visualize the above results\n",
    "ax = activetweeters_df.plot(kind='bar', legend=False)\n",
    "ax.set_xticklabels(activetweeters_df[0], rotation=45);"
   ]
  },
  {
   "cell_type": "markdown",
   "metadata": {},
   "source": [
    "### Who is sharing location information?"
   ]
  },
  {
   "cell_type": "code",
   "execution_count": 661,
   "metadata": {
    "ExecuteTime": {
     "end_time": "2019-02-14T15:58:43.416256Z",
     "start_time": "2019-02-14T15:58:43.402258Z"
    }
   },
   "outputs": [
    {
     "name": "stdout",
     "output_type": "stream",
     "text": [
      "Counter({False: 6552, True: 2745})\n"
     ]
    }
   ],
   "source": [
    "#how many tweets contain geocode\n",
    "geo = [T['user']['geo_enabled'] for T in tweets if 'user' in T]\n",
    "c = Counter(geo)\n",
    "print(c)"
   ]
  },
  {
   "cell_type": "code",
   "execution_count": 662,
   "metadata": {},
   "outputs": [
    {
     "name": "stdout",
     "output_type": "stream",
     "text": [
      "dict_keys([False, True]) dict_values([6552, 2745])\n"
     ]
    }
   ],
   "source": [
    "# the out put is in dictionary\n",
    "print(c.keys(), c.values())"
   ]
  },
  {
   "cell_type": "code",
   "execution_count": 663,
   "metadata": {},
   "outputs": [
    {
     "data": {
      "image/png": "[encoded data removed]",
      "text/plain": [
       "<Figure size 432x288 with 1 Axes>"
      ]
     },
     "metadata": {
      "needs_background": "light"
     },
     "output_type": "display_data"
    }
   ],
   "source": [
    "# visualize the above results\n",
    "plt.bar(range(len(c)), c.values())\n",
    "plt.xticks(range(len(c)), c.keys());"
   ]
  },
  {
   "cell_type": "markdown",
   "metadata": {},
   "source": [
    "### Most visible users "
   ]
  },
  {
   "cell_type": "code",
   "execution_count": 664,
   "metadata": {
    "ExecuteTime": {
     "end_time": "2019-02-14T15:58:43.526255Z",
     "start_time": "2019-02-14T15:58:43.510255Z"
    }
   },
   "outputs": [
    {
     "name": "stdout",
     "output_type": "stream",
     "text": [
      "['TeamPelosi']\n",
      "['RepAdamSchiff']\n",
      "['TheRickWilson', 'thedailybeast']\n",
      "['coleyworld']\n",
      "['realDonaldTrump']\n"
     ]
    }
   ],
   "source": [
    "# first extract all users from tweets\n",
    "#let's use regular expression ...     \n",
    "for tweet in texts[:5]:\n",
    "    print(re.findall(r\"(?<=@)\\w+\", tweet))"
   ]
  },
  {
   "cell_type": "code",
   "execution_count": 665,
   "metadata": {
    "ExecuteTime": {
     "end_time": "2019-02-14T15:58:43.541256Z",
     "start_time": "2019-02-14T15:58:43.528259Z"
    }
   },
   "outputs": [
    {
     "name": "stdout",
     "output_type": "stream",
     "text": [
      "@TeamPelosi\n",
      "@RepAdamSchiff\n",
      "@TheRickWilson\n",
      "@thedailybeast\n",
      "@coleyworld\n",
      "@realDonaldTrump\n"
     ]
    }
   ],
   "source": [
    "# there could be multiple mentions in a single tweet\n",
    "for tweet in texts[:5]:\n",
    "    a = re.findall(r\"(?<=@)\\w+\", tweet)\n",
    "    for i in a:\n",
    "        print('@'+i)"
   ]
  },
  {
   "cell_type": "code",
   "execution_count": 666,
   "metadata": {
    "ExecuteTime": {
     "end_time": "2019-02-14T15:58:43.556257Z",
     "start_time": "2019-02-14T15:58:43.542258Z"
    }
   },
   "outputs": [],
   "source": [
    "visible_users = []\n",
    "for tweet in texts:\n",
    "    a = re.findall(r\"(?<=@)\\w+\", tweet)\n",
    "    for i in a:\n",
    "        visible_users.append(['@'+i][0])"
   ]
  },
  {
   "cell_type": "code",
   "execution_count": 667,
   "metadata": {
    "ExecuteTime": {
     "end_time": "2019-02-14T15:58:43.601258Z",
     "start_time": "2019-02-14T15:58:43.574255Z"
    }
   },
   "outputs": [
    {
     "data": {
      "text/plain": [
       "[('@realDonaldTrump', 1232),\n",
       " ('@EricTrump', 258),\n",
       " ('@TheRickWilson', 193),\n",
       " ('@JoeBiden', 178),\n",
       " ('@TomFitton', 150),\n",
       " ('@RealDonaldTrump', 145),\n",
       " ('@kylegriffin1', 137),\n",
       " ('@JessieJaneDuff', 124),\n",
       " ('@FLOTUS', 111),\n",
       " ('@tribelaw', 105)]"
      ]
     },
     "execution_count": 667,
     "metadata": {},
     "output_type": "execute_result"
    }
   ],
   "source": [
    "# 10 most visible users in this dataset\n",
    "c = Counter(visible_users)\n",
    "c.most_common(10)"
   ]
  },
  {
   "cell_type": "code",
   "execution_count": 668,
   "metadata": {},
   "outputs": [
    {
     "data": {
      "image/png": "[encoded data removed]",
      "text/plain": [
       "<Figure size 432x288 with 1 Axes>"
      ]
     },
     "metadata": {
      "needs_background": "light"
     },
     "output_type": "display_data"
    }
   ],
   "source": [
    "# visualize 10 most visible users\n",
    "visible_df = pd.DataFrame(c.most_common(10))\n",
    "\n",
    "ax = visible_df.plot(kind='bar', legend=False)\n",
    "ax.set_xticklabels(visible_df[0], rotation=45);"
   ]
  },
  {
   "cell_type": "markdown",
   "metadata": {},
   "source": [
    "### Where do people live?"
   ]
  },
  {
   "cell_type": "code",
   "execution_count": 669,
   "metadata": {},
   "outputs": [
    {
     "data": {
      "text/plain": [
       "9297"
      ]
     },
     "execution_count": 669,
     "metadata": {},
     "output_type": "execute_result"
    }
   ],
   "source": [
    "location = [i['user']['location'] for i in tweets ]\n",
    "len(location)"
   ]
  },
  {
   "cell_type": "code",
   "execution_count": 670,
   "metadata": {
    "ExecuteTime": {
     "end_time": "2019-02-14T15:58:44.459259Z",
     "start_time": "2019-02-14T15:58:44.382260Z"
    }
   },
   "outputs": [
    {
     "name": "stdout",
     "output_type": "stream",
     "text": [
      "California High Desert\n",
      "Beaverton, OR\n",
      "United States\n",
      "DMV Blue, in Crimson Red Bama \n",
      "Trumpsylvania USA\n",
      "Canada\n",
      "Georgia, USA\n",
      "New York, NY\n",
      "None\n",
      "None\n"
     ]
    }
   ],
   "source": [
    "for i in location[:10]:   # first 10 twitter users\n",
    "    print(i)"
   ]
  },
  {
   "cell_type": "markdown",
   "metadata": {},
   "source": [
    "## URL metrics"
   ]
  },
  {
   "cell_type": "code",
   "execution_count": 671,
   "metadata": {
    "ExecuteTime": {
     "end_time": "2019-02-14T15:58:43.641257Z",
     "start_time": "2019-02-14T15:58:43.603258Z"
    }
   },
   "outputs": [
    {
     "name": "stdout",
     "output_type": "stream",
     "text": [
      "[{'url': 'https://t.co/fSmiRvo8QG', 'expanded_url': 'https://twitter.com/cnnsotu/status/1254410225446240256', 'display_url': 'twitter.com/cnnsotu/status…', 'indices': [115, 138]}]\n",
      "[]\n",
      "[{'url': 'https://t.co/qJpWR9IE4B', 'expanded_url': 'https://www.thedailybeast.com/trump-seethes-about-michael-cohens-early-release-and-new-tell-all-book?source=twitter&via=desktop', 'display_url': 'thedailybeast.com/trump-seethes-…', 'indices': [68, 91]}]\n",
      "[]\n",
      "[]\n"
     ]
    }
   ],
   "source": [
    "# extract ad display urls from the first 10 tweets \n",
    "for T in tweets[:5]:\n",
    "    print(T['entities']['urls'])"
   ]
  },
  {
   "cell_type": "code",
   "execution_count": 672,
   "metadata": {
    "ExecuteTime": {
     "end_time": "2019-02-14T15:58:43.665258Z",
     "start_time": "2019-02-14T15:58:43.643258Z"
    }
   },
   "outputs": [
    {
     "name": "stdout",
     "output_type": "stream",
     "text": [
      "https://t.co/fSmiRvo8QG\n",
      "https://t.co/qJpWR9IE4B\n"
     ]
    }
   ],
   "source": [
    "# some tweets contain multiple urls ... print one in each line\n",
    "for T in tweets[:5]:\n",
    "    for i in T['entities']['urls']:\n",
    "        print (i['url'])"
   ]
  },
  {
   "cell_type": "code",
   "execution_count": 673,
   "metadata": {
    "ExecuteTime": {
     "end_time": "2019-02-14T15:58:43.715255Z",
     "start_time": "2019-02-14T15:58:43.706260Z"
    }
   },
   "outputs": [
    {
     "data": {
      "text/plain": [
       "['https://t.co/fSmiRvo8QG',\n",
       " 'https://t.co/qJpWR9IE4B',\n",
       " 'https://t.co/7sFDFBPlyi',\n",
       " 'https://t.co/HQHZyUtReR',\n",
       " 'https://t.co/3OvKz4adpa']"
      ]
     },
     "execution_count": 673,
     "metadata": {},
     "output_type": "execute_result"
    }
   ],
   "source": [
    "# save urls\n",
    "urls = []\n",
    "for T in tweets:\n",
    "    for i in T['entities']['urls']:\n",
    "        urls.append(i['url'])\n",
    "        \n",
    "urls[:5]"
   ]
  },
  {
   "cell_type": "code",
   "execution_count": 674,
   "metadata": {
    "ExecuteTime": {
     "end_time": "2019-02-14T15:58:43.742257Z",
     "start_time": "2019-02-14T15:58:43.736255Z"
    }
   },
   "outputs": [
    {
     "data": {
      "text/plain": [
       "[('https://t.co/qJpWR9IE4B', 85),\n",
       " ('https://t.co/86JOjaMKlS', 33),\n",
       " ('https://t.co/puXf1ldMTS', 29),\n",
       " ('https://t.co/chkDfxMU0K', 26),\n",
       " ('https://t.co/8RR7Lm8e5z', 18),\n",
       " ('https://t.co/USPIgHek0k', 14),\n",
       " ('https://t.co/wwL5GMccWi', 13),\n",
       " ('https://t.co/C7PaeD1uj6', 13),\n",
       " ('https://t.co/Kya7NViNRB', 11),\n",
       " ('https://t.co/IrwonjDREw', 8)]"
      ]
     },
     "execution_count": 674,
     "metadata": {},
     "output_type": "execute_result"
    }
   ],
   "source": [
    "#top 10 urls ... visit some of them and find out what the articles are about\n",
    "c = Counter(urls)\n",
    "c.most_common(10)\n"
   ]
  },
  {
   "cell_type": "code",
   "execution_count": 675,
   "metadata": {},
   "outputs": [
    {
     "name": "stdout",
     "output_type": "stream",
     "text": [
      "https://www.thedailybeast.com/trump-seethes-about-michael-cohens-early-release-and-new-tell-all-book?source=twitter&via=desktop\n",
      "https://www.washingtonpost.com/politics/13-hours-of-trump-the-president-fills-briefings-with-attacks-and-boasts-but-little-empathy/2020/04/25/7eec5ab0-8590-11ea-a3eb-e9fc93160703_story.html\n",
      "https://twitter.com/presssec/status/1254460454971342854\n",
      "https://www.worldtribune.com/report-mcconnells-sister-in-law-named-to-bank-of-china-board-10-days-after-trump-election/\n",
      "https://www.vox.com/2020/4/26/21237395/trump-birx-coronavirus-disinfectants-light-inside-the-body-spin\n",
      "https://thedcpatriot.com/report-new-documents-prove-comeys-fbi-used-russian-disinformation-to-spy-on-trump-campaign/\n",
      "https://nypost.com/2020/04/26/trump-works-so-hard-he-often-misses-lunch-white-house-officials/\n",
      "https://twitter.com/charliekirk11/status/1254514094847094784\n",
      "https://twitter.com/ingrahamangle/status/1254539514699304960\n",
      "https://www.snopes.com/fact-check/obama-admin-wuhan-lab-grant/\n"
     ]
    }
   ],
   "source": [
    "# expand 10 most common URLs\n",
    "\n",
    "for i in c.most_common(10):\n",
    "    site = (requests.get(i[0]))\n",
    "    print(site.url)"
   ]
  },
  {
   "cell_type": "markdown",
   "metadata": {},
   "source": [
    "## More Data Preprocessing\n",
    "- remove urls\n",
    "- remove user names\n",
    "- extract only urls (for url frequency analysis)"
   ]
  },
  {
   "cell_type": "code",
   "execution_count": 676,
   "metadata": {
    "ExecuteTime": {
     "end_time": "2019-02-14T15:58:43.775258Z",
     "start_time": "2019-02-14T15:58:43.759257Z"
    }
   },
   "outputs": [
    {
     "data": {
      "text/plain": [
       "['RT @TeamPelosi: The president is asking you to inject Lysol into your lungs. Please don’t do this or drink bleach. ',\n",
       " 'RT @RepAdamSchiff: There’s a disturbing echo in Trump’s coronavirus response.\\n\\nFrom eschewing pandemic preparedness and oversight to demand…',\n",
       " 'RT @TheRickWilson: Trump Is Seething About Michael Cohen’s Tell-All  via @thedailybeast',\n",
       " 'RT @coleyworld: Fuck Trump and his “I’m the hardest working President EVER in all of history.” Bullshit.',\n",
       " 'RT @realDonaldTrump: Laura, just another Fake News Report!']"
      ]
     },
     "execution_count": 676,
     "metadata": {},
     "output_type": "execute_result"
    }
   ],
   "source": [
    "# remove urls\n",
    "texts_wo_urls = []\n",
    "for i in texts:\n",
    "    result = re.sub(r\"http\\S+\", \"\", i)\n",
    "    texts_wo_urls.append(result)\n",
    "\n",
    "texts_wo_urls[:5]"
   ]
  },
  {
   "cell_type": "code",
   "execution_count": 677,
   "metadata": {
    "ExecuteTime": {
     "end_time": "2019-02-14T15:58:43.795264Z",
     "start_time": "2019-02-14T15:58:43.777261Z"
    }
   },
   "outputs": [
    {
     "data": {
      "text/plain": [
       "['RT : The president is asking you to inject Lysol into your lungs. Please don’t do this or drink bleach. ',\n",
       " 'RT : There’s a disturbing echo in Trump’s coronavirus response.\\n\\nFrom eschewing pandemic preparedness and oversight to demand…',\n",
       " 'RT : Trump Is Seething About Michael Cohen’s Tell-All  via ',\n",
       " 'RT : Fuck Trump and his “I’m the hardest working President EVER in all of history.” Bullshit.',\n",
       " 'RT : Laura, just another Fake News Report!']"
      ]
     },
     "execution_count": 677,
     "metadata": {},
     "output_type": "execute_result"
    }
   ],
   "source": [
    "# remove user names\n",
    "texts_wo_urls_usernames = []\n",
    "\n",
    "for i in texts_wo_urls:\n",
    "    result = re.sub(r\"(@[A-Za-z0-9]+)\", \"\", i)\n",
    "    texts_wo_urls_usernames.append(result)\n",
    "\n",
    "texts_wo_urls_usernames[:5]"
   ]
  },
  {
   "cell_type": "code",
   "execution_count": 678,
   "metadata": {
    "ExecuteTime": {
     "end_time": "2019-02-14T15:58:43.823262Z",
     "start_time": "2019-02-14T15:58:43.797257Z"
    }
   },
   "outputs": [
    {
     "data": {
      "text/plain": [
       "['RT  The president is asking you to inject Lysol into your lungs Please dont do this or drink bleach ',\n",
       " 'RT  Theres a disturbing echo in Trumps coronavirus responseFrom eschewing pandemic preparedness and oversight to demand',\n",
       " 'RT  Trump Is Seething About Michael Cohens TellAll  via ',\n",
       " 'RT  Fuck Trump and his Im the hardest working President EVER in all of history Bullshit',\n",
       " 'RT  Laura just another Fake News Report']"
      ]
     },
     "execution_count": 678,
     "metadata": {},
     "output_type": "execute_result"
    }
   ],
   "source": [
    "texts_clean_completely = []\n",
    "\n",
    "for i in texts:\n",
    "    result = re.sub(r\"(@[A-Za-z0-9]+)|([^0-9A-Za-z \\t])|(\\w+:\\/\\/\\S+)\", \"\", i)\n",
    "    texts_clean_completely.append(result)\n",
    "\n",
    "texts_clean_completely[:5]"
   ]
  },
  {
   "cell_type": "code",
   "execution_count": 679,
   "metadata": {
    "ExecuteTime": {
     "end_time": "2019-02-14T15:58:43.851258Z",
     "start_time": "2019-02-14T15:58:43.824261Z"
    }
   },
   "outputs": [
    {
     "data": {
      "text/plain": [
       "['RT The president is asking you to inject Lysol into your lungs Please dont do this or drink bleach',\n",
       " 'RT Theres a disturbing echo in Trumps coronavirus responseFrom eschewing pandemic preparedness and oversight to demand',\n",
       " 'RT Trump Is Seething About Michael Cohens TellAll via',\n",
       " 'RT Fuck Trump and his Im the hardest working President EVER in all of history Bullshit',\n",
       " 'RT Laura just another Fake News Report']"
      ]
     },
     "execution_count": 679,
     "metadata": {},
     "output_type": "execute_result"
    }
   ],
   "source": [
    "# this would be better ...\n",
    "texts_clean_completely2 = []\n",
    "\n",
    "for i in texts:\n",
    "    result = ' '.join(re.sub(r\"(@[A-Za-z0-9]+)|([^0-9A-Za-z \\t])|(\\w+:\\/\\/\\S+)\", \"\", i).split())\n",
    "    texts_clean_completely2.append(result)\n",
    "\n",
    "texts_clean_completely2[:5]"
   ]
  },
  {
   "cell_type": "markdown",
   "metadata": {},
   "source": [
    "The above data would be good for content analytics (e.g., word frequency, sentiment analysis). For content analytics (e.g., topic modeling), you need to go through text preprocessing steps (e.g., tokenization, remove stopwords, remove short words)."
   ]
  },
  {
   "cell_type": "code",
   "execution_count": 680,
   "metadata": {
    "ExecuteTime": {
     "end_time": "2019-02-14T15:58:43.867257Z",
     "start_time": "2019-02-14T15:58:43.853255Z"
    }
   },
   "outputs": [
    {
     "data": {
      "text/plain": [
       "['RT @TeamPelosi: The president is asking you to inject Lysol into your lungs. Please don’t do this or drink bleach. https://t.co/fSmiRvo8QG',\n",
       " 'RT @RepAdamSchiff: There’s a disturbing echo in Trump’s coronavirus response.\\n\\nFrom eschewing pandemic preparedness and oversight to demand…',\n",
       " 'RT @TheRickWilson: Trump Is Seething About Michael Cohen’s Tell-All https://t.co/qJpWR9IE4B via @thedailybeast',\n",
       " 'RT @coleyworld: Fuck Trump and his “I’m the hardest working President EVER in all of history.” Bullshit.',\n",
       " 'RT @realDonaldTrump: Laura, just another Fake News Report!']"
      ]
     },
     "execution_count": 680,
     "metadata": {},
     "output_type": "execute_result"
    }
   ],
   "source": [
    "texts[:5]"
   ]
  },
  {
   "cell_type": "markdown",
   "metadata": {},
   "source": [
    "### Data for more descriptive analytics"
   ]
  },
  {
   "cell_type": "code",
   "execution_count": 681,
   "metadata": {
    "ExecuteTime": {
     "end_time": "2019-02-14T15:58:43.950258Z",
     "start_time": "2019-02-14T15:58:43.932256Z"
    }
   },
   "outputs": [],
   "source": [
    "screen_names = [T['user']['screen_name'] for T in tweets if 'user' in T]\n",
    "screen_names_description = [status['user']['description'] for status in tweets if 'user' in status]\n",
    "followers_count = [status['user']['followers_count'] for status in tweets if 'user' in status]\n",
    "friends_count = [status['user']['friends_count'] for status in tweets if 'user' in status]\n",
    "screen_names_created = [status['user']['created_at'] for status in tweets if 'user' in status]\n",
    "location = [status['user']['location'] for status in tweets if 'user' in status]"
   ]
  },
  {
   "cell_type": "code",
   "execution_count": 682,
   "metadata": {
    "ExecuteTime": {
     "end_time": "2019-02-14T15:58:43.986258Z",
     "start_time": "2019-02-14T15:58:43.951259Z"
    }
   },
   "outputs": [
    {
     "name": "stdout",
     "output_type": "stream",
     "text": [
      "('JbthomJohn', 11081, 11864)\n",
      "('leehall11', 406, 789)\n",
      "('psu4joe', 1592, 1976)\n",
      "('LukaLuke966', 1267, 2832)\n",
      "('agk_amy', 1452, 1165)\n"
     ]
    }
   ],
   "source": [
    "followers_friends = list(zip(screen_names, followers_count, friends_count))\n",
    "for i in followers_friends[:5]:\n",
    "    print(i)"
   ]
  },
  {
   "cell_type": "code",
   "execution_count": 683,
   "metadata": {
    "ExecuteTime": {
     "end_time": "2019-02-14T15:58:44.331259Z",
     "start_time": "2019-02-14T15:58:43.988258Z"
    }
   },
   "outputs": [
    {
     "name": "stdout",
     "output_type": "stream",
     "text": [
      "JbthomJohn 11081 11864\n",
      "leehall11 406 789\n",
      "psu4joe 1592 1976\n",
      "LukaLuke966 1267 2832\n",
      "agk_amy 1452 1165\n"
     ]
    }
   ],
   "source": [
    "# this is another way to find out screen name, follower count, and friends count\n",
    "for tweet in tweets[:5]:\n",
    "    print(tweet['user']['screen_name'], tweet['user']['followers_count'], tweet['user']['friends_count'])"
   ]
  },
  {
   "cell_type": "code",
   "execution_count": 684,
   "metadata": {
    "ExecuteTime": {
     "end_time": "2019-02-14T15:58:44.339258Z",
     "start_time": "2019-02-14T15:58:44.333256Z"
    }
   },
   "outputs": [
    {
     "data": {
      "text/plain": [
       "[['JbthomJohn', 11081],\n",
       " ['leehall11', 406],\n",
       " ['psu4joe', 1592],\n",
       " ['LukaLuke966', 1267],\n",
       " ['agk_amy', 1452],\n",
       " ['PaulaMarieOliv2', 37],\n",
       " ['Fizzlbritches', 43],\n",
       " ['Mkhristina', 476],\n",
       " ['MaNH5934', 5],\n",
       " ['kelwigy', 11]]"
      ]
     },
     "execution_count": 684,
     "metadata": {},
     "output_type": "execute_result"
    }
   ],
   "source": [
    "# saving every user and his/her follower counts\n",
    "\n",
    "user_followerscount = []\n",
    "for tweet in tweets:\n",
    "    user_followerscount.append([tweet['user']['screen_name'], tweet['user']['followers_count']]) \n",
    "    \n",
    "user_followerscount[:10]"
   ]
  },
  {
   "cell_type": "code",
   "execution_count": 685,
   "metadata": {},
   "outputs": [
    {
     "data": {
      "text/plain": [
       "9297"
      ]
     },
     "execution_count": 685,
     "metadata": {},
     "output_type": "execute_result"
    }
   ],
   "source": [
    "len(user_followerscount)"
   ]
  },
  {
   "cell_type": "code",
   "execution_count": 686,
   "metadata": {},
   "outputs": [
    {
     "data": {
      "text/plain": [
       "[['CaraotaDigital', 1595730],\n",
       " ['europapress', 1309080],\n",
       " ['DanielNewman', 942407],\n",
       " ['DanielNewman', 942406],\n",
       " ['NicolleDWallace', 763611],\n",
       " ['TReporta', 626826],\n",
       " ['waltshaub', 491737],\n",
       " ['ImDavidLamar', 276043],\n",
       " ['bfraser747', 255005],\n",
       " ['garyowencomedy', 233913]]"
      ]
     },
     "execution_count": 686,
     "metadata": {},
     "output_type": "execute_result"
    }
   ],
   "source": [
    "# top Twitter users with most followers\n",
    "sorted(user_followerscount,key=itemgetter(1), reverse=True)[:10]"
   ]
  },
  {
   "cell_type": "code",
   "execution_count": 687,
   "metadata": {},
   "outputs": [
    {
     "data": {
      "text/plain": [
       "[['CaraotaDigital', 1595730],\n",
       " ['europapress', 1309080],\n",
       " ['DanielNewman', 942407],\n",
       " ['NicolleDWallace', 763611],\n",
       " ['TReporta', 626826],\n",
       " ['waltshaub', 491737],\n",
       " ['ImDavidLamar', 276043],\n",
       " ['bfraser747', 255005],\n",
       " ['garyowencomedy', 233913]]"
      ]
     },
     "execution_count": 687,
     "metadata": {},
     "output_type": "execute_result"
    }
   ],
   "source": [
    "# the above list contains duplicates. For example, KirkDBorne appears multiple times. So let's remove duplicates\n",
    "topusers = sorted(user_followerscount,key=itemgetter(1), reverse=True)[:10]\n",
    "\n",
    "new_list = []\n",
    "for i in topusers:\n",
    "    if i[0] not in [item[0] for item in new_list]:\n",
    "        new_list.append(i)\n",
    "        \n",
    "new_list"
   ]
  },
  {
   "cell_type": "code",
   "execution_count": 688,
   "metadata": {},
   "outputs": [
    {
     "data": {
      "image/png": "[encoded data removed]",
      "text/plain": [
       "<Figure size 432x288 with 1 Axes>"
      ]
     },
     "metadata": {
      "needs_background": "light"
     },
     "output_type": "display_data"
    }
   ],
   "source": [
    "# visualize Twitter users with most followers\n",
    "\n",
    "fol_df = pd.DataFrame(new_list)\n",
    "\n",
    "ax = fol_df.plot(kind='bar', legend=False)\n",
    "ax.set_xticklabels(fol_df[0], rotation=45);"
   ]
  },
  {
   "cell_type": "markdown",
   "metadata": {},
   "source": [
    "# Content Analytics"
   ]
  },
  {
   "cell_type": "markdown",
   "metadata": {},
   "source": [
    "## Word analysis"
   ]
  },
  {
   "cell_type": "markdown",
   "metadata": {},
   "source": [
    "### Word frequency"
   ]
  },
  {
   "cell_type": "code",
   "execution_count": 689,
   "metadata": {},
   "outputs": [],
   "source": [
    "from html import unescape\n",
    "\n",
    "def freq_analysis(texts):\n",
    "    tokens = str(texts)\n",
    "    #lowecases\n",
    "    tokens = tokens.lower()\n",
    "    # remove HTML related characters (&amp’,’&quot’,etc.)\n",
    "    soup = BeautifulSoup(unescape(tokens), 'lxml')\n",
    "    # remove urls\n",
    "    tokens = re.sub(r'http\\S+', '', soup.text)\n",
    "    # Remove useless numbers and alphanumerical words\n",
    "    tokens = re.sub(\"[^a-zA-Z0-9]\", \" \", tokens)\n",
    "    #tokenization or word split\n",
    "    tokens = word_tokenize(tokens)\n",
    "    #Remove stopwords\n",
    "    tokens = (word for word in tokens if word not in stopwords.words('english'))\n",
    "    # Filter non-alphanumeric characters from tokens\n",
    "    tokens = (word for word in tokens if word.isalpha())\n",
    "    #remove short words\n",
    "    tokens = (word for word in tokens if len(word) >= 4)\n",
    "    #Create your bigrams\n",
    "    #bgs = nltk.bigrams(tokens)\n",
    "    #compute frequency distribution for all the bigrams in the text\n",
    "    fdist = nltk.FreqDist(tokens)\n",
    "    #k refers to keys (or tokens); v refers to values (or counts)\n",
    "    return fdist"
   ]
  },
  {
   "cell_type": "code",
   "execution_count": 690,
   "metadata": {},
   "outputs": [
    {
     "name": "stdout",
     "output_type": "stream",
     "text": [
      "bullsh 1\n",
      "stay 9\n",
      "bedroom 1\n",
      "remote 1\n",
      "watching 9\n",
      "morning 2\n",
      "easily 3\n",
      "tracked 1\n",
      "twee 1\n",
      "erictrump 25\n"
     ]
    }
   ],
   "source": [
    "fdist = freq_analysis(originaltweets)\n",
    "for k,v in list(fdist.items())[:10]:\n",
    "    print(k,v)"
   ]
  },
  {
   "cell_type": "code",
   "execution_count": 691,
   "metadata": {
    "ExecuteTime": {
     "end_time": "2019-02-14T15:58:55.160492Z",
     "start_time": "2019-02-14T15:58:55.144938Z"
    }
   },
   "outputs": [
    {
     "data": {
      "text/plain": [
       "[('trump', 1470),\n",
       " ('realdonaldtrump', 478),\n",
       " ('president', 178),\n",
       " ('donald', 102),\n",
       " ('like', 91),\n",
       " ('people', 86),\n",
       " ('news', 80),\n",
       " ('time', 72),\n",
       " ('know', 64),\n",
       " ('would', 53)]"
      ]
     },
     "execution_count": 691,
     "metadata": {},
     "output_type": "execute_result"
    }
   ],
   "source": [
    "fdist.most_common(10)"
   ]
  },
  {
   "cell_type": "code",
   "execution_count": 692,
   "metadata": {},
   "outputs": [
    {
     "data": {
      "image/png": "[encoded data removed]",
      "text/plain": [
       "<Figure size 432x288 with 1 Axes>"
      ]
     },
     "metadata": {
      "needs_background": "light"
     },
     "output_type": "display_data"
    }
   ],
   "source": [
    "# visualize 10 most visible users\n",
    "\n",
    "pophash = fdist.most_common(10)\n",
    "pophash_df = pd.DataFrame(pophash)\n",
    "\n",
    "ax = pophash_df.plot(kind='bar', legend=False)\n",
    "ax.set_xticklabels(pophash_df[0], rotation=45);"
   ]
  },
  {
   "cell_type": "markdown",
   "metadata": {},
   "source": [
    "### Clustered document-level word frequency analysis"
   ]
  },
  {
   "cell_type": "markdown",
   "metadata": {},
   "source": [
    "The Twitter data I have contains a variety of topics or themes. For example, the above word frequency analysis shows **coronavirus** appears to be important. Then, we can find all the tweets associated with **coronavirus** and then perform word frequency analysis"
   ]
  },
  {
   "cell_type": "code",
   "execution_count": 693,
   "metadata": {},
   "outputs": [
    {
     "data": {
      "text/plain": [
       "['RT @TeamPelosi: The president is asking you to inject Lysol into your lungs. Please don’t do this or drink bleach. https://t.co/fSmiRvo8QG',\n",
       " 'RT @RepAdamSchiff: There’s a disturbing echo in Trump’s coronavirus response.\\n\\nFrom eschewing pandemic preparedness and oversight to demand…',\n",
       " 'RT @TheRickWilson: Trump Is Seething About Michael Cohen’s Tell-All https://t.co/qJpWR9IE4B via @thedailybeast',\n",
       " 'RT @coleyworld: Fuck Trump and his “I’m the hardest working President EVER in all of history.” Bullshit.',\n",
       " 'RT @realDonaldTrump: Laura, just another Fake News Report!']"
      ]
     },
     "execution_count": 693,
     "metadata": {},
     "output_type": "execute_result"
    }
   ],
   "source": [
    "texts[:5]"
   ]
  },
  {
   "cell_type": "code",
   "execution_count": 694,
   "metadata": {},
   "outputs": [
    {
     "data": {
      "text/plain": [
       "329"
      ]
     },
     "execution_count": 694,
     "metadata": {},
     "output_type": "execute_result"
    }
   ],
   "source": [
    "# select tweets containing the word 'bigdata'\n",
    "bigdata = []\n",
    "for tweet in texts:\n",
    "    if 'coronavirus' in tweet.lower():\n",
    "        bigdata.append(tweet)\n",
    "        \n",
    "len(bigdata)"
   ]
  },
  {
   "cell_type": "code",
   "execution_count": 695,
   "metadata": {},
   "outputs": [
    {
     "name": "stdout",
     "output_type": "stream",
     "text": [
      "repadamschiff 22\n",
      "disturbing 22\n",
      "echo 22\n",
      "trump 275\n",
      "coronavirus 322\n",
      "response 34\n",
      "nfrom 22\n",
      "eschewing 22\n",
      "pandemic 33\n",
      "preparedness 22\n"
     ]
    }
   ],
   "source": [
    "fdist = freq_analysis(bigdata)\n",
    "for k,v in list(fdist.items())[:10]:\n",
    "    print(k,v)"
   ]
  },
  {
   "cell_type": "code",
   "execution_count": 696,
   "metadata": {},
   "outputs": [
    {
     "data": {
      "text/plain": [
       "[('coronavirus', 322),\n",
       " ('trump', 275),\n",
       " ('americans', 74),\n",
       " ('briefings', 72),\n",
       " ('daily', 68),\n",
       " ('breaking', 66),\n",
       " ('propaganda', 65),\n",
       " ('funder', 63),\n",
       " ('longer', 63),\n",
       " ('hold', 63)]"
      ]
     },
     "execution_count": 696,
     "metadata": {},
     "output_type": "execute_result"
    }
   ],
   "source": [
    "# 10 most popular words associated with coronavirus\n",
    "fdist.most_common(10)"
   ]
  },
  {
   "cell_type": "code",
   "execution_count": 697,
   "metadata": {},
   "outputs": [
    {
     "data": {
      "image/png": "[encoded data removed]",
      "text/plain": [
       "<Figure size 432x288 with 1 Axes>"
      ]
     },
     "metadata": {
      "needs_background": "light"
     },
     "output_type": "display_data"
    }
   ],
   "source": [
    "# Visualizae 10 most common words related to big data\n",
    "\n",
    "popwords = fdist.most_common(10)\n",
    "popwords_df = pd.DataFrame(popwords)\n",
    "\n",
    "ax = popwords_df.plot(kind='bar', legend=False)\n",
    "ax.set_xticklabels(popwords_df[0], rotation=45);"
   ]
  },
  {
   "cell_type": "markdown",
   "metadata": {},
   "source": [
    "## Hashtag analysis"
   ]
  },
  {
   "cell_type": "markdown",
   "metadata": {
    "collapsed": true
   },
   "source": [
    "### Hashtag Frequencies"
   ]
  },
  {
   "cell_type": "code",
   "execution_count": 698,
   "metadata": {
    "ExecuteTime": {
     "end_time": "2019-02-14T15:58:55.204954Z",
     "start_time": "2019-02-14T15:58:55.180030Z"
    }
   },
   "outputs": [
    {
     "name": "stdout",
     "output_type": "stream",
     "text": [
      "['TeamPelosi']\n",
      "['RepAdamSchiff']\n",
      "['TheRickWilson', 'thedailybeast']\n",
      "['coleyworld']\n",
      "['realDonaldTrump']\n",
      "['TomFitton', 'RealDonaldTrump']\n",
      "['CaslerNoel']\n",
      "['LVanessa213']\n",
      "[]\n",
      "['pattonoswalt']\n"
     ]
    }
   ],
   "source": [
    "# extract and display all hashtags from first 10 tweets\n",
    "for tweet in texts[:10]:\n",
    "    print(re.findall(r\"(?<=@)\\w+\", tweet))"
   ]
  },
  {
   "cell_type": "code",
   "execution_count": 699,
   "metadata": {
    "ExecuteTime": {
     "end_time": "2019-02-14T16:24:22.216464Z",
     "start_time": "2019-02-14T16:24:22.206465Z"
    }
   },
   "outputs": [],
   "source": [
    "# list one hashtag in a row and save them\n",
    "hashtags = []\n",
    "for tweet in texts:\n",
    "    a = re.findall(r\"(?<=#)\\w+\", tweet)\n",
    "    for i in a:\n",
    "        hashtags.append(['#'+i][0])"
   ]
  },
  {
   "cell_type": "code",
   "execution_count": 700,
   "metadata": {
    "ExecuteTime": {
     "end_time": "2019-02-14T16:24:23.924372Z",
     "start_time": "2019-02-14T16:24:23.914387Z"
    }
   },
   "outputs": [
    {
     "data": {
      "text/plain": [
       "[('#Trump', 51),\n",
       " ('#TeamTrump', 34),\n",
       " ('#COVID19', 33),\n",
       " ('#trump', 22),\n",
       " ('#BleachGate', 20),\n",
       " ('#coronavirus', 20),\n",
       " ('#Covid_19', 19),\n",
       " ('#FakeNews', 18),\n",
       " ('#disinfectant', 12),\n",
       " ('#MAGA', 12)]"
      ]
     },
     "execution_count": 700,
     "metadata": {},
     "output_type": "execute_result"
    }
   ],
   "source": [
    "c = Counter(hashtags)\n",
    "c.most_common(10)"
   ]
  },
  {
   "cell_type": "code",
   "execution_count": 701,
   "metadata": {},
   "outputs": [
    {
     "data": {
      "image/png": "[encoded data removed]",
      "text/plain": [
       "<Figure size 432x288 with 1 Axes>"
      ]
     },
     "metadata": {
      "needs_background": "light"
     },
     "output_type": "display_data"
    }
   ],
   "source": [
    "# Visualize the above results\n",
    "\n",
    "\n",
    "pophashtag = c.most_common(10)\n",
    "pophashtag_df = pd.DataFrame(pophashtag)\n",
    "\n",
    "ax = pophashtag_df.plot(kind='bar', legend=False)\n",
    "ax.set_xticklabels(pophashtag_df[0], rotation=45);\n"
   ]
  },
  {
   "cell_type": "markdown",
   "metadata": {},
   "source": [
    "### Hashtag association (strength) analysis"
   ]
  },
  {
   "cell_type": "code",
   "execution_count": 702,
   "metadata": {},
   "outputs": [
    {
     "data": {
      "text/plain": [
       "136"
      ]
     },
     "execution_count": 702,
     "metadata": {},
     "output_type": "execute_result"
    }
   ],
   "source": [
    "# if your dataset is big, then extract and display all hashtags from first 10000 tweets. Let's focus on a small dataset (10000 tweets for demo)\n",
    "cohash = []\n",
    "for tweet in texts[:10000]:\n",
    "    h = (re.findall(r\"(?<=#)\\w+\", tweet))\n",
    "    if len(h) > 1:\n",
    "        #print(h)\n",
    "        cohash.append(h)\n",
    "        \n",
    "len(cohash)"
   ]
  },
  {
   "cell_type": "code",
   "execution_count": 703,
   "metadata": {},
   "outputs": [
    {
     "data": {
      "text/plain": [
       "[('SupportTheUSPostalService', 'ResignPostCard'),\n",
       " ('TRUMP2020LandsideReElectionVictory', 'KAG20'),\n",
       " ('Trump', 'disinfectant'),\n",
       " ('Trump', 'COVI'),\n",
       " ('disinfectant', 'COVI')]"
      ]
     },
     "execution_count": 703,
     "metadata": {},
     "output_type": "execute_result"
    }
   ],
   "source": [
    "from itertools import combinations\n",
    "cohashtags = [x for d in cohash for x in combinations(d, 2)]\n",
    "cohashtags[:5]"
   ]
  },
  {
   "cell_type": "code",
   "execution_count": 704,
   "metadata": {},
   "outputs": [
    {
     "name": "stdout",
     "output_type": "stream",
     "text": [
      "SupportTheUSPostalService ResignPostCard\n",
      "TRUMP2020LandsideReElectionVictory KAG20\n",
      "Trump disinfectant\n",
      "Trump COVI\n",
      "disinfectant COVI\n"
     ]
    }
   ],
   "source": [
    "for i in cohashtags[:5]:\n",
    "    print(i[0],i[1])"
   ]
  },
  {
   "cell_type": "code",
   "execution_count": 705,
   "metadata": {},
   "outputs": [
    {
     "data": {
      "text/plain": [
       "[(('Trump', 'disinfectant'), 5),\n",
       " (('Pelosi', 'Dems'), 4),\n",
       " (('Pelosi', 'Trump'), 4),\n",
       " (('Dems', 'Trump'), 4),\n",
       " (('Americans', 'Democrats'), 4)]"
      ]
     },
     "execution_count": 705,
     "metadata": {},
     "output_type": "execute_result"
    }
   ],
   "source": [
    "from collections import Counter\n",
    "Counter(i for i in cohashtags).most_common(5)"
   ]
  },
  {
   "cell_type": "markdown",
   "metadata": {},
   "source": [
    "(('AI', 'BigData'), 44) are the same as (('BigData', 'AI'), 43) we can combine them."
   ]
  },
  {
   "cell_type": "code",
   "execution_count": 706,
   "metadata": {},
   "outputs": [
    {
     "data": {
      "text/plain": [
       "[(('Trump', 'disinfectant'), 6),\n",
       " (('Dems', 'Pelosi'), 4),\n",
       " (('Pelosi', 'Trump'), 4),\n",
       " (('Dems', 'Trump'), 4),\n",
       " (('Americans', 'Democrats'), 4)]"
      ]
     },
     "execution_count": 706,
     "metadata": {},
     "output_type": "execute_result"
    }
   ],
   "source": [
    "import itertools\n",
    "it = itertools.chain.from_iterable(itertools.combinations(pair_list, 2) for pair_list in cohashtags)\n",
    "c = Counter((a,b) if a<=b else (b,a) for a,b in it)\n",
    "c.most_common(5)"
   ]
  },
  {
   "cell_type": "code",
   "execution_count": 707,
   "metadata": {},
   "outputs": [
    {
     "data": {
      "image/png": "[encoded data removed]",
      "text/plain": [
       "<Figure size 432x288 with 1 Axes>"
      ]
     },
     "metadata": {
      "needs_background": "light"
     },
     "output_type": "display_data"
    }
   ],
   "source": [
    "# Visualize the above results\n",
    "\n",
    "\n",
    "pophashtag1 = c.most_common(10)\n",
    "pophashtag1_df = pd.DataFrame(pophashtag1)\n",
    "\n",
    "ax = pophashtag1_df.plot(kind='bar', legend=False)\n",
    "ax.set_xticklabels(pophashtag1_df[0], rotation=45);\n"
   ]
  },
  {
   "cell_type": "markdown",
   "metadata": {},
   "source": [
    "## Sentiment analysis\n",
    "\n",
    "- use SentimentIntensityAnalyzer (vaderSentiment)\n",
    "- original tweets only\n",
    "- no need to clean data"
   ]
  },
  {
   "cell_type": "code",
   "execution_count": 708,
   "metadata": {},
   "outputs": [],
   "source": [
    "import csv\n",
    "import re\n",
    "import pandas as pd\n",
    "\n",
    "import nltk\n",
    "from nltk.corpus import stopwords\n",
    "\n",
    "# sentiment analysis\n",
    "from nltk.sentiment.vader import SentimentIntensityAnalyzer"
   ]
  },
  {
   "cell_type": "code",
   "execution_count": 709,
   "metadata": {},
   "outputs": [
    {
     "data": {
      "text/plain": [
       "9298"
      ]
     },
     "execution_count": 709,
     "metadata": {},
     "output_type": "execute_result"
    }
   ],
   "source": [
    "# Performn sentiment analysis (Do NOT Print more than five results) on original tweets only\n",
    "\n",
    "#import data using vaderSentiment\n",
    "openfile = open(\"data/tweetdata.csv\", 'r', encoding='utf-8')\n",
    "r = csv.reader(openfile)\n",
    "vreviews = []\n",
    "for i in r:\n",
    "    vreviews.append(i)\n",
    "openfile.close()\n",
    "len(vreviews)"
   ]
  },
  {
   "cell_type": "code",
   "execution_count": 710,
   "metadata": {},
   "outputs": [
    {
     "data": {
      "text/plain": [
       "[['id',\n",
       "  'created at',\n",
       "  'text',\n",
       "  'screen name',\n",
       "  'followers_count',\n",
       "  'friends_count',\n",
       "  'name',\n",
       "  'lat',\n",
       "  'lon',\n",
       "  'place name',\n",
       "  'place type'],\n",
       " ['1254587263398240256',\n",
       "  'Mon Apr 27 01:44:47 +0000 2020',\n",
       "  'RT @TeamPelosi: The president is asking you to inject Lysol into your lungs. Please don’t do this or drink bleach. https://t.co/fSmiRvo8QG',\n",
       "  'JbthomJohn',\n",
       "  '11081',\n",
       "  '11864',\n",
       "  'John',\n",
       "  '',\n",
       "  '',\n",
       "  '',\n",
       "  '']]"
      ]
     },
     "execution_count": 710,
     "metadata": {},
     "output_type": "execute_result"
    }
   ],
   "source": [
    "vreviews[:2]"
   ]
  },
  {
   "cell_type": "code",
   "execution_count": 711,
   "metadata": {},
   "outputs": [
    {
     "data": {
      "text/plain": [
       "['id', 'created at']"
      ]
     },
     "execution_count": 711,
     "metadata": {},
     "output_type": "execute_result"
    }
   ],
   "source": [
    "#remove the extra bracket\n",
    "vreviews = [x for y in vreviews for x in y]\n",
    "vreviews[:2]"
   ]
  },
  {
   "cell_type": "code",
   "execution_count": 712,
   "metadata": {},
   "outputs": [],
   "source": [
    "# Remove useless numbers and alphanumerical words\n",
    "documents = [re.sub(\"[^a-zA-Z]+\", \" \", document) for document in vreviews]\n"
   ]
  },
  {
   "cell_type": "code",
   "execution_count": 713,
   "metadata": {},
   "outputs": [
    {
     "name": "stdout",
     "output_type": "stream",
     "text": [
      "0.0 0.0 1.0 0.0\n",
      "0.25 0.0 0.333 0.667\n"
     ]
    }
   ],
   "source": [
    "analyzer = SentimentIntensityAnalyzer()\n",
    "\n",
    "for sentence in documents [:2]:\n",
    "    vs = analyzer.polarity_scores(sentence)\n",
    "    #print(\"{:-<65} {}\".format(sentence, str(vs)))\n",
    "    print(vs[\"compound\"], vs[\"neg\"], vs[\"neu\"], vs[\"pos\"])"
   ]
  },
  {
   "cell_type": "code",
   "execution_count": 714,
   "metadata": {},
   "outputs": [
    {
     "data": {
      "text/plain": [
       "102278"
      ]
     },
     "execution_count": 714,
     "metadata": {},
     "output_type": "execute_result"
    }
   ],
   "source": [
    "finaldata = []\n",
    "for sentence in documents:\n",
    "    vs = analyzer.polarity_scores(sentence)\n",
    "    finaldata.append([sentence, (str(vs[\"compound\"]))])\n",
    "\n",
    "len(finaldata)"
   ]
  },
  {
   "cell_type": "code",
   "execution_count": 715,
   "metadata": {},
   "outputs": [
    {
     "data": {
      "text/html": [
       "<div>\n",
       "<style scoped>\n",
       "    .dataframe tbody tr th:only-of-type {\n",
       "        vertical-align: middle;\n",
       "    }\n",
       "\n",
       "    .dataframe tbody tr th {\n",
       "        vertical-align: top;\n",
       "    }\n",
       "\n",
       "    .dataframe thead th {\n",
       "        text-align: right;\n",
       "    }\n",
       "</style>\n",
       "<table border=\"1\" class=\"dataframe\">\n",
       "  <thead>\n",
       "    <tr style=\"text-align: right;\">\n",
       "      <th></th>\n",
       "      <th>tweets</th>\n",
       "      <th>compound</th>\n",
       "    </tr>\n",
       "  </thead>\n",
       "  <tbody>\n",
       "    <tr>\n",
       "      <th>0</th>\n",
       "      <td>id</td>\n",
       "      <td>0.0</td>\n",
       "    </tr>\n",
       "    <tr>\n",
       "      <th>1</th>\n",
       "      <td>created at</td>\n",
       "      <td>0.25</td>\n",
       "    </tr>\n",
       "    <tr>\n",
       "      <th>2</th>\n",
       "      <td>text</td>\n",
       "      <td>0.0</td>\n",
       "    </tr>\n",
       "    <tr>\n",
       "      <th>3</th>\n",
       "      <td>screen name</td>\n",
       "      <td>0.0</td>\n",
       "    </tr>\n",
       "    <tr>\n",
       "      <th>4</th>\n",
       "      <td>followers count</td>\n",
       "      <td>0.0</td>\n",
       "    </tr>\n",
       "  </tbody>\n",
       "</table>\n",
       "</div>"
      ],
      "text/plain": [
       "            tweets compound\n",
       "0               id      0.0\n",
       "1       created at     0.25\n",
       "2             text      0.0\n",
       "3      screen name      0.0\n",
       "4  followers count      0.0"
      ]
     },
     "execution_count": 715,
     "metadata": {},
     "output_type": "execute_result"
    }
   ],
   "source": [
    "df = pd.DataFrame(finaldata)\n",
    "df.columns = ['tweets', 'compound']\n",
    "df.head(5)"
   ]
  },
  {
   "cell_type": "code",
   "execution_count": 716,
   "metadata": {},
   "outputs": [
    {
     "data": {
      "text/plain": [
       "tweets       object\n",
       "compound    float64\n",
       "dtype: object"
      ]
     },
     "execution_count": 716,
     "metadata": {},
     "output_type": "execute_result"
    }
   ],
   "source": [
    "df['compound'] = df['compound'].astype(float)\n",
    "df.dtypes"
   ]
  },
  {
   "cell_type": "code",
   "execution_count": 717,
   "metadata": {},
   "outputs": [
    {
     "name": "stdout",
     "output_type": "stream",
     "text": [
      "3589\n",
      "4258\n",
      "94431\n"
     ]
    }
   ],
   "source": [
    "# What is the overal sentiment? How many positive? how many negative? \n",
    "positive = df.loc[df['compound'] > 0]\n",
    "negative = df.loc[df['compound'] < 0]\n",
    "neutral =  df.loc[df['compound'] == 0]\n",
    "print(len(positive))\n",
    "print(len(negative))\n",
    "print(len(neutral))\n",
    "\n",
    "positive.to_csv('data/positivevader.csv')\n",
    "negative.to_csv('data/negativevader.csv')\n",
    "neutral.to_csv('data/neutralvader.csv')\n"
   ]
  },
  {
   "cell_type": "code",
   "execution_count": 718,
   "metadata": {},
   "outputs": [
    {
     "name": "stdout",
     "output_type": "stream",
     "text": [
      "                                                  tweets  compound\n",
      "87397   realDonaldTrump No doubt pathological liar co...   -0.9477\n",
      "77453  IN THE HAMPTONS CALLING TRUMP TO GET WAL STREE...   -0.9393\n",
      "39008  Texas Man Sentenced To Months In Prison For Po...   -0.9371\n",
      "37952  They are such nasty dishonest twisted pigs it ...   -0.9349\n",
      "72833   realDonaldTrump You are just a fucking idiot ...   -0.9329\n"
     ]
    }
   ],
   "source": [
    "# Show five most negative tweets\n",
    "negative = df.sort_values('compound')\n",
    "print(negative.head(n=5))\n",
    "\n",
    "# work cited: https://kite.com/blog/python/pandas-sort-values/"
   ]
  },
  {
   "cell_type": "code",
   "execution_count": 719,
   "metadata": {},
   "outputs": [
    {
     "name": "stdout",
     "output_type": "stream",
     "text": [
      "                                                  tweets  compound\n",
      "7724   RT ohmy GOD BLESS POTUS amp FLOTUS GOD BLESS A...    0.9710\n",
      "84163  RT TheRISEofROD Happy Birthday to the most ele...    0.9786\n",
      "28668  RT TheRISEofROD Happy Birthday to the most ele...    0.9786\n",
      "46543  RT TheRISEofROD Happy Birthday to the most ele...    0.9786\n",
      "89553  RT TheRISEofROD Happy Birthday to the most ele...    0.9786\n"
     ]
    }
   ],
   "source": [
    "# Show five most positive tweets\n",
    "positive = df.sort_values('compound')\n",
    "print(positive.tail(n=5))\n",
    "\n",
    "# work cited: https://kite.com/blog/python/pandas-sort-values/"
   ]
  },
  {
   "cell_type": "markdown",
   "metadata": {},
   "source": [
    "# Any other business intelligence from the sentiment analysis results?\n",
    "### Positive\n",
    "    - Four of the top five Positive tweets were Retweets.  \n",
    "    - Top five retweets all mentioned God  \n",
    "    \n",
    "### Negative  \n",
    "    - Two of the top five Negative tweets were directly at Trump  \n",
    "    - Three of the top five used negative descriptors to describe Trump: Pathological liar, F'ing Idiot, Nasty dishonest twisted pigs  \n",
    "    "
   ]
  },
  {
   "cell_type": "markdown",
   "metadata": {},
   "source": [
    "## Topic modeling\n",
    "\n",
    "- original tweets only"
   ]
  },
  {
   "cell_type": "code",
   "execution_count": 720,
   "metadata": {},
   "outputs": [],
   "source": [
    "# import packages for text processing\n",
    "import nltk\n",
    "from nltk.corpus import stopwords\n",
    "from nltk.stem.wordnet import WordNetLemmatizer\n",
    "from nltk.stem.porter import PorterStemmer\n",
    "import re\n",
    "\n",
    "# gensim for topic modeling\n",
    "import gensim\n",
    "from gensim.corpora import Dictionary\n",
    "from gensim.models import ldamodel\n",
    "from gensim import corpora, models, similarities\n",
    "from gensim.models.coherencemodel import CoherenceModel\n",
    "from gensim.models.wrappers import LdaVowpalWabbit, LdaMallet\n",
    "\n",
    "import csv\n",
    "import pandas as pd\n",
    "import numpy\n",
    "import matplotlib.pyplot as plt\n",
    "%matplotlib inline\n",
    "\n",
    "from wordcloud import WordCloud, STOPWORDS\n",
    "import matplotlib.colors as mcolors\n",
    "\n",
    "# show images\n",
    "from IPython.display import Image\n",
    "from IPython.core.display import HTML \n",
    "\n",
    "# suppress error messages\n",
    "import warnings\n",
    "warnings.filterwarnings('ignore')  # To ignore all warnings that arise here to enhance clarity\n",
    "pd.options.mode.chained_assignment = None  # default='warn'"
   ]
  },
  {
   "cell_type": "code",
   "execution_count": 721,
   "metadata": {},
   "outputs": [
    {
     "data": {
      "text/html": [
       "<div>\n",
       "<style scoped>\n",
       "    .dataframe tbody tr th:only-of-type {\n",
       "        vertical-align: middle;\n",
       "    }\n",
       "\n",
       "    .dataframe tbody tr th {\n",
       "        vertical-align: top;\n",
       "    }\n",
       "\n",
       "    .dataframe thead th {\n",
       "        text-align: right;\n",
       "    }\n",
       "</style>\n",
       "<table border=\"1\" class=\"dataframe\">\n",
       "  <thead>\n",
       "    <tr style=\"text-align: right;\">\n",
       "      <th></th>\n",
       "      <th>0</th>\n",
       "      <th>1</th>\n",
       "      <th>2</th>\n",
       "      <th>3</th>\n",
       "      <th>4</th>\n",
       "      <th>5</th>\n",
       "      <th>6</th>\n",
       "      <th>7</th>\n",
       "      <th>8</th>\n",
       "      <th>9</th>\n",
       "      <th>10</th>\n",
       "    </tr>\n",
       "  </thead>\n",
       "  <tbody>\n",
       "    <tr>\n",
       "      <th>0</th>\n",
       "      <td>id</td>\n",
       "      <td>created at</td>\n",
       "      <td>text</td>\n",
       "      <td>screen name</td>\n",
       "      <td>followers_count</td>\n",
       "      <td>friends_count</td>\n",
       "      <td>name</td>\n",
       "      <td>lat</td>\n",
       "      <td>lon</td>\n",
       "      <td>place name</td>\n",
       "      <td>place type</td>\n",
       "    </tr>\n",
       "    <tr>\n",
       "      <th>1</th>\n",
       "      <td>1254587263398240256</td>\n",
       "      <td>Mon Apr 27 01:44:47 +0000 2020</td>\n",
       "      <td>RT @TeamPelosi: The president is asking you to...</td>\n",
       "      <td>JbthomJohn</td>\n",
       "      <td>11081</td>\n",
       "      <td>11864</td>\n",
       "      <td>John</td>\n",
       "      <td>NaN</td>\n",
       "      <td>NaN</td>\n",
       "      <td>NaN</td>\n",
       "      <td>NaN</td>\n",
       "    </tr>\n",
       "  </tbody>\n",
       "</table>\n",
       "</div>"
      ],
      "text/plain": [
       "                    0                               1   \\\n",
       "0                   id                      created at   \n",
       "1  1254587263398240256  Mon Apr 27 01:44:47 +0000 2020   \n",
       "\n",
       "                                                  2            3   \\\n",
       "0                                               text  screen name   \n",
       "1  RT @TeamPelosi: The president is asking you to...   JbthomJohn   \n",
       "\n",
       "                4              5     6    7    8           9           10  \n",
       "0  followers_count  friends_count  name  lat  lon  place name  place type  \n",
       "1            11081          11864  John  NaN  NaN         NaN         NaN  "
      ]
     },
     "execution_count": 721,
     "metadata": {},
     "output_type": "execute_result"
    }
   ],
   "source": [
    "# Importing Data\n",
    "data = pd.read_csv('data/tweetdata.csv', header=None)\n",
    "data.head(2)"
   ]
  },
  {
   "cell_type": "code",
   "execution_count": 722,
   "metadata": {},
   "outputs": [
    {
     "data": {
      "text/html": [
       "<div>\n",
       "<style scoped>\n",
       "    .dataframe tbody tr th:only-of-type {\n",
       "        vertical-align: middle;\n",
       "    }\n",
       "\n",
       "    .dataframe tbody tr th {\n",
       "        vertical-align: top;\n",
       "    }\n",
       "\n",
       "    .dataframe thead th {\n",
       "        text-align: right;\n",
       "    }\n",
       "</style>\n",
       "<table border=\"1\" class=\"dataframe\">\n",
       "  <thead>\n",
       "    <tr style=\"text-align: right;\">\n",
       "      <th></th>\n",
       "      <th>2</th>\n",
       "    </tr>\n",
       "  </thead>\n",
       "  <tbody>\n",
       "    <tr>\n",
       "      <th>0</th>\n",
       "      <td>text</td>\n",
       "    </tr>\n",
       "    <tr>\n",
       "      <th>1</th>\n",
       "      <td>RT @TeamPelosi: The president is asking you to...</td>\n",
       "    </tr>\n",
       "    <tr>\n",
       "      <th>2</th>\n",
       "      <td>RT @RepAdamSchiff: There’s a disturbing echo i...</td>\n",
       "    </tr>\n",
       "    <tr>\n",
       "      <th>3</th>\n",
       "      <td>RT @TheRickWilson: Trump Is Seething About Mic...</td>\n",
       "    </tr>\n",
       "    <tr>\n",
       "      <th>4</th>\n",
       "      <td>RT @coleyworld: Fuck Trump and his “I’m the ha...</td>\n",
       "    </tr>\n",
       "  </tbody>\n",
       "</table>\n",
       "</div>"
      ],
      "text/plain": [
       "                                                   2\n",
       "0                                               text\n",
       "1  RT @TeamPelosi: The president is asking you to...\n",
       "2  RT @RepAdamSchiff: There’s a disturbing echo i...\n",
       "3  RT @TheRickWilson: Trump Is Seething About Mic...\n",
       "4  RT @coleyworld: Fuck Trump and his “I’m the ha..."
      ]
     },
     "execution_count": 722,
     "metadata": {},
     "output_type": "execute_result"
    }
   ],
   "source": [
    "data = data.iloc[:, [2]]\n",
    "data.head()"
   ]
  },
  {
   "cell_type": "code",
   "execution_count": 723,
   "metadata": {},
   "outputs": [
    {
     "data": {
      "text/html": [
       "<div>\n",
       "<style scoped>\n",
       "    .dataframe tbody tr th:only-of-type {\n",
       "        vertical-align: middle;\n",
       "    }\n",
       "\n",
       "    .dataframe tbody tr th {\n",
       "        vertical-align: top;\n",
       "    }\n",
       "\n",
       "    .dataframe thead th {\n",
       "        text-align: right;\n",
       "    }\n",
       "</style>\n",
       "<table border=\"1\" class=\"dataframe\">\n",
       "  <thead>\n",
       "    <tr style=\"text-align: right;\">\n",
       "      <th></th>\n",
       "      <th>text</th>\n",
       "    </tr>\n",
       "  </thead>\n",
       "  <tbody>\n",
       "    <tr>\n",
       "      <th>0</th>\n",
       "      <td>text</td>\n",
       "    </tr>\n",
       "    <tr>\n",
       "      <th>1</th>\n",
       "      <td>RT @TeamPelosi: The president is asking you to...</td>\n",
       "    </tr>\n",
       "    <tr>\n",
       "      <th>2</th>\n",
       "      <td>RT @RepAdamSchiff: There’s a disturbing echo i...</td>\n",
       "    </tr>\n",
       "    <tr>\n",
       "      <th>3</th>\n",
       "      <td>RT @TheRickWilson: Trump Is Seething About Mic...</td>\n",
       "    </tr>\n",
       "    <tr>\n",
       "      <th>4</th>\n",
       "      <td>RT @coleyworld: Fuck Trump and his “I’m the ha...</td>\n",
       "    </tr>\n",
       "  </tbody>\n",
       "</table>\n",
       "</div>"
      ],
      "text/plain": [
       "                                                text\n",
       "0                                               text\n",
       "1  RT @TeamPelosi: The president is asking you to...\n",
       "2  RT @RepAdamSchiff: There’s a disturbing echo i...\n",
       "3  RT @TheRickWilson: Trump Is Seething About Mic...\n",
       "4  RT @coleyworld: Fuck Trump and his “I’m the ha..."
      ]
     },
     "execution_count": 723,
     "metadata": {},
     "output_type": "execute_result"
    }
   ],
   "source": [
    "# Renaming columns\n",
    "\n",
    "data.columns = ['text']\n",
    "data.head(5)"
   ]
  },
  {
   "cell_type": "code",
   "execution_count": 724,
   "metadata": {},
   "outputs": [
    {
     "data": {
      "text/html": [
       "<div>\n",
       "<style scoped>\n",
       "    .dataframe tbody tr th:only-of-type {\n",
       "        vertical-align: middle;\n",
       "    }\n",
       "\n",
       "    .dataframe tbody tr th {\n",
       "        vertical-align: top;\n",
       "    }\n",
       "\n",
       "    .dataframe thead th {\n",
       "        text-align: right;\n",
       "    }\n",
       "</style>\n",
       "<table border=\"1\" class=\"dataframe\">\n",
       "  <thead>\n",
       "    <tr style=\"text-align: right;\">\n",
       "      <th></th>\n",
       "      <th>text</th>\n",
       "    </tr>\n",
       "  </thead>\n",
       "  <tbody>\n",
       "    <tr>\n",
       "      <th>1</th>\n",
       "      <td>RT @TeamPelosi: The president is asking you to...</td>\n",
       "    </tr>\n",
       "    <tr>\n",
       "      <th>2</th>\n",
       "      <td>RT @RepAdamSchiff: There’s a disturbing echo i...</td>\n",
       "    </tr>\n",
       "    <tr>\n",
       "      <th>3</th>\n",
       "      <td>RT @TheRickWilson: Trump Is Seething About Mic...</td>\n",
       "    </tr>\n",
       "    <tr>\n",
       "      <th>4</th>\n",
       "      <td>RT @coleyworld: Fuck Trump and his “I’m the ha...</td>\n",
       "    </tr>\n",
       "    <tr>\n",
       "      <th>5</th>\n",
       "      <td>RT @realDonaldTrump: Laura, just another Fake ...</td>\n",
       "    </tr>\n",
       "  </tbody>\n",
       "</table>\n",
       "</div>"
      ],
      "text/plain": [
       "                                                text\n",
       "1  RT @TeamPelosi: The president is asking you to...\n",
       "2  RT @RepAdamSchiff: There’s a disturbing echo i...\n",
       "3  RT @TheRickWilson: Trump Is Seething About Mic...\n",
       "4  RT @coleyworld: Fuck Trump and his “I’m the ha...\n",
       "5  RT @realDonaldTrump: Laura, just another Fake ..."
      ]
     },
     "execution_count": 724,
     "metadata": {},
     "output_type": "execute_result"
    }
   ],
   "source": [
    "# dropping first column (column names)\n",
    "data = data.drop(data.index[0])\n",
    "data.head(5)"
   ]
  },
  {
   "cell_type": "code",
   "execution_count": 725,
   "metadata": {},
   "outputs": [],
   "source": [
    "data.to_csv('data/trump.csv')"
   ]
  },
  {
   "cell_type": "code",
   "execution_count": 726,
   "metadata": {},
   "outputs": [
    {
     "data": {
      "text/plain": [
       "9298"
      ]
     },
     "execution_count": 726,
     "metadata": {},
     "output_type": "execute_result"
    }
   ],
   "source": [
    "#importing Data \n",
    "number = []\n",
    "data = []\n",
    "r = csv.reader(open('data/trump.csv', 'r', encoding = \"ISO-8859-1\"))\n",
    "for i in r:\n",
    "    number.append(i) \n",
    "    data.append(i[1])\n",
    "len(data)"
   ]
  },
  {
   "cell_type": "code",
   "execution_count": 727,
   "metadata": {},
   "outputs": [
    {
     "data": {
      "text/plain": [
       "['text',\n",
       " 'RT @TeamPelosi: The president is asking you to inject Lysol into your lungs. Please donâ\\x80\\x99t do this or drink bleach. https://t.co/fSmiRvo8QG']"
      ]
     },
     "execution_count": 727,
     "metadata": {},
     "output_type": "execute_result"
    }
   ],
   "source": [
    "data[:2]"
   ]
  },
  {
   "cell_type": "code",
   "execution_count": 728,
   "metadata": {},
   "outputs": [],
   "source": [
    "# using function\n",
    "def text_processing(texts):\n",
    "\n",
    "    # Remove useless numbers and alphanumerical words\n",
    "    documents = [re.sub(\"[^a-zA-Z]+\", \" \", str(text)) for text in texts]\n",
    "    \n",
    "    # tokenize\n",
    "    texts = [[word for word in text.lower().split() ] for text in documents]\n",
    "\n",
    "    # stemming words: having --> have; friends --> friend\n",
    "    lmtzr = WordNetLemmatizer()\n",
    "    texts = [[lmtzr.lemmatize(word) for word in text ] for text in texts]\n",
    "\n",
    "   #porter_stemmer = PorterStemmer()\n",
    "   #texts = [[porter_stemmer.stem(word) for word in text ] for text in texts]\n",
    "\n",
    "    # remove common words \n",
    "    stoplist = stopwords.words('english')\n",
    "    texts = [[word for word in text if word not in stoplist] for text in texts]\n",
    "\n",
    "    #remove short words\n",
    "    texts = [[ word for word in tokens if len(word) >= 3 ] for tokens in texts]\n",
    "\n",
    "    return texts"
   ]
  },
  {
   "cell_type": "code",
   "execution_count": 729,
   "metadata": {},
   "outputs": [],
   "source": [
    "# call the function\n",
    "texts = text_processing(data)"
   ]
  },
  {
   "cell_type": "code",
   "execution_count": 730,
   "metadata": {},
   "outputs": [
    {
     "data": {
      "text/plain": [
       "13819"
      ]
     },
     "execution_count": 730,
     "metadata": {},
     "output_type": "execute_result"
    }
   ],
   "source": [
    "# this is text processing required for topic modeling with Gensim\n",
    "\n",
    "## Create a dictionary representation of the documents.\n",
    "dictionary = Dictionary(texts)\n",
    "dictionary.save('data/trump.dict')  # store the dictionary, for future reference\n",
    "\n",
    "len(dictionary)"
   ]
  },
  {
   "cell_type": "code",
   "execution_count": 731,
   "metadata": {},
   "outputs": [
    {
     "data": {
      "text/plain": [
       "5733"
      ]
     },
     "execution_count": 731,
     "metadata": {},
     "output_type": "execute_result"
    }
   ],
   "source": [
    "## Remove rare and common tokens.\n",
    "# ignore words that appear in less than 2 documents or more than 40% documents (remove too frequent & infrequent words) \n",
    "\n",
    "dictionary.filter_extremes(no_below=2, no_above=0.4)                        \n",
    "len(dictionary)"
   ]
  },
  {
   "cell_type": "code",
   "execution_count": 732,
   "metadata": {},
   "outputs": [
    {
     "data": {
      "text/plain": [
       "9298"
      ]
     },
     "execution_count": 732,
     "metadata": {},
     "output_type": "execute_result"
    }
   ],
   "source": [
    "# convert words to vetors or integers\n",
    "corpus = [dictionary.doc2bow(text) for text in texts]\n",
    "corpora.MmCorpus.serialize('data/trump.mm', corpus)  # store to disk, for later use  # store to disk, for later use\n",
    "len(corpus)"
   ]
  },
  {
   "cell_type": "code",
   "execution_count": 733,
   "metadata": {},
   "outputs": [
    {
     "name": "stdout",
     "output_type": "stream",
     "text": [
      "Number of unique tokens: 5733\n",
      "Number of documents: 9298\n"
     ]
    }
   ],
   "source": [
    "print(('Number of unique tokens: %d' % len(dictionary)))\n",
    "print(('Number of documents: %d' % len(corpus)))"
   ]
  },
  {
   "cell_type": "code",
   "execution_count": 734,
   "metadata": {},
   "outputs": [],
   "source": [
    "# Performn topic modeling (Do NOT Print more than five results), perhaps k = 10\n",
    "\n",
    "# build a lda topic model (number of topics = 10, passes = 50)\n",
    "numpy.random.seed(1) # setting random seed to get the same results each time. \n",
    "model = ldamodel.LdaModel(corpus, id2word=dictionary, num_topics=10, passes=50)\n"
   ]
  },
  {
   "cell_type": "code",
   "execution_count": 735,
   "metadata": {},
   "outputs": [
    {
     "data": {
      "text/plain": [
       "[(0,\n",
       "  '0.024*\"fake\" + 0.021*\"news\" + 0.021*\"office\" + 0.020*\"erictrump\" + 0.020*\"read\" + 0.020*\"realdonaldtrump\" + 0.019*\"article\" + 0.018*\"non\" + 0.018*\"building\" + 0.018*\"interest\"'),\n",
       " (1,\n",
       "  '0.066*\"http\" + 0.021*\"prize\" + 0.015*\"birthday\" + 0.014*\"noble\" + 0.014*\"melania\" + 0.013*\"via\" + 0.012*\"happy\" + 0.010*\"flotus\" + 0.010*\"tell\" + 0.010*\"therickwilson\"'),\n",
       " (2,\n",
       "  '0.035*\"medium\" + 0.027*\"president\" + 0.026*\"matter\" + 0.025*\"vote\" + 0.021*\"million\" + 0.020*\"accused\" + 0.019*\"david\" + 0.019*\"spends\" + 0.019*\"jessiejaneduff\" + 0.019*\"lefty\"'),\n",
       " (3,\n",
       "  '0.046*\"http\" + 0.039*\"realdonaldtrump\" + 0.033*\"strzok\" + 0.027*\"obama\" + 0.024*\"show\" + 0.020*\"fbi\" + 0.019*\"donald\" + 0.019*\"knew\" + 0.018*\"breaking\" + 0.018*\"email\"'),\n",
       " (4,\n",
       "  '0.031*\"http\" + 0.029*\"news\" + 0.027*\"realdonaldtrump\" + 0.026*\"one\" + 0.019*\"worst\" + 0.018*\"briefing\" + 0.017*\"coronavirus\" + 0.017*\"business\" + 0.017*\"total\" + 0.016*\"ball\"'),\n",
       " (5,\n",
       "  '0.023*\"said\" + 0.020*\"american\" + 0.013*\"donald\" + 0.012*\"people\" + 0.012*\"dead\" + 0.011*\"business\" + 0.011*\"http\" + 0.011*\"sick\" + 0.010*\"one\" + 0.010*\"remove\"'),\n",
       " (6,\n",
       "  '0.027*\"like\" + 0.017*\"realdonaldtrump\" + 0.014*\"http\" + 0.013*\"china\" + 0.013*\"report\" + 0.012*\"million\" + 0.011*\"supporter\" + 0.011*\"bank\" + 0.010*\"light\" + 0.010*\"want\"'),\n",
       " (7,\n",
       "  '0.028*\"yes\" + 0.018*\"even\" + 0.013*\"realdonaldtrump\" + 0.013*\"state\" + 0.010*\"seems\" + 0.009*\"republican\" + 0.009*\"tweet\" + 0.009*\"poll\" + 0.009*\"fraud\" + 0.008*\"worse\"'),\n",
       " (8,\n",
       "  '0.057*\"http\" + 0.032*\"president\" + 0.020*\"realdonaldtrump\" + 0.012*\"donald\" + 0.009*\"white\" + 0.008*\"house\" + 0.008*\"story\" + 0.007*\"right\" + 0.007*\"future\" + 0.007*\"amp\"'),\n",
       " (9,\n",
       "  '0.022*\"president\" + 0.015*\"pelosi\" + 0.015*\"ever\" + 0.015*\"power\" + 0.014*\"people\" + 0.014*\"would\" + 0.012*\"tribelaw\" + 0.012*\"clear\" + 0.012*\"flynn\" + 0.012*\"constitutional\"')]"
      ]
     },
     "execution_count": 735,
     "metadata": {},
     "output_type": "execute_result"
    }
   ],
   "source": [
    "# Show the topic modeling results\n",
    "# print term-topic distribution\n",
    "model.show_topics(num_topics=10)"
   ]
  },
  {
   "cell_type": "code",
   "execution_count": 736,
   "metadata": {},
   "outputs": [
    {
     "name": "stdout",
     "output_type": "stream",
     "text": [
      "fake, news, office, erictrump, read\n",
      "http, prize, birthday, noble, melania\n",
      "medium, president, matter, vote, million\n",
      "http, realdonaldtrump, strzok, obama, show\n",
      "http, news, realdonaldtrump, one, worst\n",
      "said, american, donald, people, dead\n",
      "like, realdonaldtrump, http, china, report\n",
      "yes, even, realdonaldtrump, state, seems\n",
      "http, president, realdonaldtrump, donald, white\n",
      "president, pelosi, ever, power, people\n"
     ]
    }
   ],
   "source": [
    "# print words without probability\n",
    "for i in range(0,10):\n",
    "    topics = model.show_topic(i, 5)\n",
    "    print(', '.join([str(word[0]) for word in topics]))"
   ]
  },
  {
   "cell_type": "code",
   "execution_count": 737,
   "metadata": {},
   "outputs": [
    {
     "data": {
      "text/html": [
       "\n",
       "<link rel=\"stylesheet\" type=\"text/css\" href=\"https://cdn.rawgit.com/bmabey/pyLDAvis/files/ldavis.v1.0.0.css\">\n",
       "\n",
       "\n",
       "<div id=\"ldavis_el156414242114902806734773286\"></div>\n",
       "<script type=\"text/javascript\">\n",
       "\n",
       "var ldavis_el156414242114902806734773286_data = {\"mdsDat\": {\"x\": [-0.0478243703783574, 0.06382971891083897, -0.3541590000501855, 0.17207193021947004, 0.07114289887021642, 0.03082664734749919, -0.07648933997583382, 0.013193372777532537, 0.06348429946814806, 0.06392384281067144], \"y\": [-0.312912798453292, 0.026851621480636512, 0.09787591757925186, 0.04466372864122314, -0.07866090883021387, 0.11705084097306133, -0.06530447171561339, 0.07144189744061016, -0.04916624358832398, 0.1481604164726596], \"topics\": [1, 2, 3, 4, 5, 6, 7, 8, 9, 10], \"cluster\": [1, 1, 1, 1, 1, 1, 1, 1, 1, 1], \"Freq\": [10.782909393310547, 11.531439781188965, 6.792275428771973, 9.26309871673584, 8.524374961853027, 11.133282661437988, 9.732823371887207, 8.757613182067871, 14.672054290771484, 8.810133934020996]}, \"tinfo\": {\"Category\": [\"Default\", \"Default\", \"Default\", \"Default\", \"Default\", \"Default\", \"Default\", \"Default\", \"Default\", \"Default\", \"Default\", \"Default\", \"Default\", \"Default\", \"Default\", \"Default\", \"Default\", \"Default\", \"Default\", \"Default\", \"Default\", \"Default\", \"Default\", \"Default\", \"Default\", \"Default\", \"Default\", \"Default\", \"Default\", \"Default\", \"Topic1\", \"Topic1\", \"Topic1\", \"Topic1\", \"Topic1\", \"Topic1\", \"Topic1\", \"Topic1\", \"Topic1\", \"Topic1\", \"Topic1\", \"Topic1\", \"Topic1\", \"Topic1\", \"Topic1\", \"Topic1\", \"Topic1\", \"Topic1\", \"Topic1\", \"Topic1\", \"Topic1\", \"Topic1\", \"Topic1\", \"Topic1\", \"Topic1\", \"Topic1\", \"Topic1\", \"Topic1\", \"Topic1\", \"Topic1\", \"Topic1\", \"Topic1\", \"Topic1\", \"Topic1\", \"Topic1\", \"Topic1\", \"Topic1\", \"Topic1\", \"Topic1\", \"Topic1\", \"Topic1\", \"Topic1\", \"Topic1\", \"Topic1\", \"Topic1\", \"Topic1\", \"Topic1\", \"Topic1\", \"Topic1\", \"Topic1\", \"Topic1\", \"Topic1\", \"Topic2\", \"Topic2\", \"Topic2\", \"Topic2\", \"Topic2\", \"Topic2\", \"Topic2\", \"Topic2\", \"Topic2\", \"Topic2\", \"Topic2\", \"Topic2\", \"Topic2\", \"Topic2\", \"Topic2\", \"Topic2\", \"Topic2\", \"Topic2\", \"Topic2\", \"Topic2\", \"Topic2\", \"Topic2\", \"Topic2\", \"Topic2\", \"Topic2\", \"Topic2\", \"Topic2\", \"Topic2\", \"Topic2\", \"Topic2\", \"Topic2\", \"Topic2\", \"Topic2\", \"Topic2\", \"Topic2\", \"Topic2\", \"Topic2\", \"Topic2\", \"Topic2\", \"Topic2\", \"Topic2\", \"Topic2\", \"Topic2\", \"Topic2\", \"Topic2\", \"Topic2\", \"Topic2\", \"Topic2\", \"Topic2\", \"Topic2\", \"Topic3\", \"Topic3\", \"Topic3\", \"Topic3\", \"Topic3\", \"Topic3\", \"Topic3\", \"Topic3\", \"Topic3\", \"Topic3\", \"Topic3\", \"Topic3\", \"Topic3\", \"Topic3\", \"Topic3\", \"Topic3\", \"Topic3\", \"Topic3\", \"Topic3\", \"Topic3\", \"Topic3\", \"Topic3\", \"Topic3\", \"Topic3\", \"Topic3\", \"Topic3\", \"Topic3\", \"Topic3\", \"Topic3\", \"Topic3\", \"Topic3\", \"Topic3\", \"Topic3\", \"Topic3\", \"Topic3\", \"Topic3\", \"Topic3\", \"Topic3\", \"Topic3\", \"Topic3\", \"Topic3\", \"Topic3\", \"Topic3\", \"Topic4\", \"Topic4\", \"Topic4\", \"Topic4\", \"Topic4\", \"Topic4\", \"Topic4\", \"Topic4\", \"Topic4\", \"Topic4\", \"Topic4\", \"Topic4\", \"Topic4\", \"Topic4\", \"Topic4\", \"Topic4\", \"Topic4\", \"Topic4\", \"Topic4\", \"Topic4\", \"Topic4\", \"Topic4\", \"Topic4\", \"Topic4\", \"Topic4\", \"Topic4\", \"Topic4\", \"Topic4\", \"Topic4\", \"Topic4\", \"Topic4\", \"Topic4\", \"Topic4\", \"Topic4\", \"Topic4\", \"Topic4\", \"Topic4\", \"Topic4\", \"Topic4\", \"Topic4\", \"Topic4\", \"Topic4\", \"Topic4\", \"Topic4\", \"Topic4\", \"Topic5\", \"Topic5\", \"Topic5\", \"Topic5\", \"Topic5\", \"Topic5\", \"Topic5\", \"Topic5\", \"Topic5\", \"Topic5\", \"Topic5\", \"Topic5\", \"Topic5\", \"Topic5\", \"Topic5\", \"Topic5\", \"Topic5\", \"Topic5\", \"Topic5\", \"Topic5\", \"Topic5\", \"Topic5\", \"Topic5\", \"Topic5\", \"Topic5\", \"Topic5\", \"Topic5\", \"Topic5\", \"Topic5\", \"Topic5\", \"Topic5\", \"Topic5\", \"Topic5\", \"Topic5\", \"Topic5\", \"Topic5\", \"Topic5\", \"Topic5\", \"Topic5\", \"Topic5\", \"Topic5\", \"Topic5\", \"Topic5\", \"Topic5\", \"Topic5\", \"Topic5\", \"Topic5\", \"Topic5\", \"Topic5\", \"Topic5\", \"Topic5\", \"Topic5\", \"Topic5\", \"Topic5\", \"Topic5\", \"Topic5\", \"Topic6\", \"Topic6\", \"Topic6\", \"Topic6\", \"Topic6\", \"Topic6\", \"Topic6\", \"Topic6\", \"Topic6\", \"Topic6\", \"Topic6\", \"Topic6\", \"Topic6\", \"Topic6\", \"Topic6\", \"Topic6\", \"Topic6\", \"Topic6\", \"Topic6\", \"Topic6\", \"Topic6\", \"Topic6\", \"Topic6\", \"Topic6\", \"Topic6\", \"Topic6\", \"Topic6\", \"Topic6\", \"Topic6\", \"Topic6\", \"Topic6\", \"Topic6\", \"Topic6\", \"Topic6\", \"Topic6\", \"Topic6\", \"Topic6\", \"Topic6\", \"Topic6\", \"Topic6\", \"Topic6\", \"Topic6\", \"Topic6\", \"Topic6\", \"Topic6\", \"Topic6\", \"Topic6\", \"Topic6\", \"Topic6\", \"Topic6\", \"Topic6\", \"Topic6\", \"Topic6\", \"Topic6\", \"Topic7\", \"Topic7\", \"Topic7\", \"Topic7\", \"Topic7\", \"Topic7\", \"Topic7\", \"Topic7\", \"Topic7\", \"Topic7\", \"Topic7\", \"Topic7\", \"Topic7\", \"Topic7\", \"Topic7\", \"Topic7\", \"Topic7\", \"Topic7\", \"Topic7\", \"Topic7\", \"Topic7\", \"Topic7\", \"Topic7\", \"Topic7\", \"Topic7\", \"Topic7\", \"Topic7\", \"Topic7\", \"Topic7\", \"Topic7\", \"Topic7\", \"Topic7\", \"Topic7\", \"Topic7\", \"Topic7\", \"Topic7\", \"Topic7\", \"Topic7\", \"Topic7\", \"Topic7\", \"Topic7\", \"Topic7\", \"Topic7\", \"Topic7\", \"Topic7\", \"Topic7\", \"Topic7\", \"Topic7\", \"Topic7\", \"Topic7\", \"Topic7\", \"Topic7\", \"Topic7\", \"Topic8\", \"Topic8\", \"Topic8\", \"Topic8\", \"Topic8\", \"Topic8\", \"Topic8\", \"Topic8\", \"Topic8\", \"Topic8\", \"Topic8\", \"Topic8\", \"Topic8\", \"Topic8\", \"Topic8\", \"Topic8\", \"Topic8\", \"Topic8\", \"Topic8\", \"Topic8\", \"Topic8\", \"Topic8\", \"Topic8\", \"Topic8\", \"Topic8\", \"Topic8\", \"Topic8\", \"Topic8\", \"Topic8\", \"Topic8\", \"Topic8\", \"Topic8\", \"Topic8\", \"Topic8\", \"Topic8\", \"Topic8\", \"Topic8\", \"Topic8\", \"Topic8\", \"Topic8\", \"Topic8\", \"Topic8\", \"Topic8\", \"Topic8\", \"Topic8\", \"Topic8\", \"Topic8\", \"Topic8\", \"Topic8\", \"Topic8\", \"Topic8\", \"Topic9\", \"Topic9\", \"Topic9\", \"Topic9\", \"Topic9\", \"Topic9\", \"Topic9\", \"Topic9\", \"Topic9\", \"Topic9\", \"Topic9\", \"Topic9\", \"Topic9\", \"Topic9\", \"Topic9\", \"Topic9\", \"Topic9\", \"Topic9\", \"Topic9\", \"Topic9\", \"Topic9\", \"Topic9\", \"Topic9\", \"Topic9\", \"Topic9\", \"Topic9\", \"Topic9\", \"Topic9\", \"Topic9\", \"Topic9\", \"Topic9\", \"Topic9\", \"Topic9\", \"Topic9\", \"Topic9\", \"Topic9\", \"Topic9\", \"Topic9\", \"Topic9\", \"Topic9\", \"Topic9\", \"Topic9\", \"Topic9\", \"Topic9\", \"Topic9\", \"Topic9\", \"Topic9\", \"Topic9\", \"Topic9\", \"Topic9\", \"Topic9\", \"Topic9\", \"Topic9\", \"Topic9\", \"Topic9\", \"Topic10\", \"Topic10\", \"Topic10\", \"Topic10\", \"Topic10\", \"Topic10\", \"Topic10\", \"Topic10\", \"Topic10\", \"Topic10\", \"Topic10\", \"Topic10\", \"Topic10\", \"Topic10\", \"Topic10\", \"Topic10\", \"Topic10\", \"Topic10\", \"Topic10\", \"Topic10\", \"Topic10\", \"Topic10\", \"Topic10\", \"Topic10\", \"Topic10\", \"Topic10\", \"Topic10\", \"Topic10\", \"Topic10\", \"Topic10\", \"Topic10\", \"Topic10\", \"Topic10\", \"Topic10\", \"Topic10\", \"Topic10\", \"Topic10\", \"Topic10\", \"Topic10\", \"Topic10\", \"Topic10\", \"Topic10\", \"Topic10\"], \"Freq\": [2534.0, 461.0, 272.0, 1301.0, 333.0, 219.0, 327.0, 343.0, 227.0, 197.0, 259.0, 261.0, 1059.0, 351.0, 241.0, 156.0, 235.0, 153.0, 293.0, 175.0, 174.0, 174.0, 174.0, 234.0, 200.0, 170.0, 170.0, 482.0, 220.0, 158.0, 226.8483123779297, 174.39175415039062, 173.95033264160156, 173.6195068359375, 173.42465209960938, 169.50706481933594, 169.42855834960938, 168.51731872558594, 80.27447509765625, 57.567222595214844, 53.71826934814453, 44.532020568847656, 35.567527770996094, 34.45798110961914, 32.22828674316406, 31.508880615234375, 31.42061424255371, 30.859167098999023, 30.519210815429688, 29.674259185791016, 29.628162384033203, 28.11577033996582, 28.081493377685547, 27.862150192260742, 26.60860824584961, 25.233829498291016, 25.233829498291016, 24.898611068725586, 24.019798278808594, 23.066408157348633, 183.33360290527344, 79.60124206542969, 196.26922607421875, 199.52182006835938, 57.04462432861328, 195.40065002441406, 98.54351043701172, 51.478172302246094, 38.197078704833984, 201.67552185058594, 99.97191619873047, 130.56982421875, 127.67525482177734, 93.2948226928711, 194.01931762695312, 48.93153381347656, 78.80111694335938, 54.37273406982422, 141.90367126464844, 57.136817932128906, 55.46977996826172, 53.95661163330078, 157.2522735595703, 140.7958221435547, 126.9375228881836, 95.29512786865234, 88.7256088256836, 84.55623626708984, 79.47196197509766, 77.1309814453125, 72.83184051513672, 71.26000213623047, 49.74481964111328, 45.80621337890625, 43.98551940917969, 41.64442825317383, 39.91166687011719, 39.884525299072266, 38.705902099609375, 36.73515319824219, 35.247711181640625, 34.730106353759766, 32.6428108215332, 31.39945411682129, 30.10674476623535, 29.87062644958496, 28.678388595581055, 28.016036987304688, 27.473554611206055, 27.324731826782227, 26.74730682373047, 26.53447723388672, 106.71666717529297, 134.1942596435547, 50.1628303527832, 220.01095581054688, 143.2914581298828, 49.856441497802734, 93.71534729003906, 682.01171875, 100.15351867675781, 78.1967544555664, 64.36913299560547, 101.94781494140625, 61.660377502441406, 82.9292221069336, 71.4839859008789, 91.96442413330078, 76.14146423339844, 68.08140563964844, 68.6009750366211, 54.86803436279297, 155.69732666015625, 152.81576538085938, 118.80860137939453, 116.63082885742188, 115.93058776855469, 112.6777114868164, 111.90803527832031, 111.1383285522461, 111.1383285522461, 111.1383285522461, 111.1383285522461, 97.81426239013672, 72.67811584472656, 65.80094909667969, 64.61233520507812, 53.74602508544922, 50.121578216552734, 29.541841506958008, 29.338003158569336, 29.338003158569336, 29.322946548461914, 28.93888282775879, 27.493953704833984, 26.411298751831055, 25.386049270629883, 22.474576950073242, 21.82487678527832, 21.670291900634766, 21.430644989013672, 21.42710304260254, 116.7967758178711, 210.6013946533203, 60.08049011230469, 49.45716094970703, 85.53817749023438, 125.96299743652344, 74.61422729492188, 166.0674285888672, 33.477935791015625, 45.19379806518555, 41.01847839355469, 33.54141616821289, 34.9199104309082, 271.88116455078125, 196.752197265625, 157.5157470703125, 147.47039794921875, 141.54281616210938, 140.2779998779297, 140.1746826171875, 139.17691040039062, 137.763671875, 137.00523376464844, 40.310665130615234, 36.56351852416992, 34.52405548095703, 33.45088195800781, 30.97311782836914, 30.544933319091797, 29.79705047607422, 28.96481704711914, 27.747812271118164, 27.692264556884766, 26.330053329467773, 24.906797409057617, 24.613449096679688, 24.58175277709961, 24.197582244873047, 23.711061477661133, 23.128307342529297, 22.367788314819336, 21.849224090576172, 21.734939575195312, 139.1582489013672, 165.6702423095703, 221.2542724609375, 150.06015014648438, 53.97746276855469, 321.65814208984375, 377.9877014160156, 159.45620727539062, 70.05134582519531, 58.71393966674805, 46.3590087890625, 38.056758880615234, 47.6929931640625, 31.13118553161621, 32.119224548339844, 141.09559631347656, 128.2757568359375, 124.17896270751953, 121.76234436035156, 57.6801643371582, 48.49808883666992, 43.632537841796875, 39.808597564697266, 39.187843322753906, 37.372589111328125, 37.372352600097656, 35.815338134765625, 34.95600509643555, 32.33537292480469, 32.33537292480469, 32.33537292480469, 31.840429306030273, 29.431690216064453, 29.431690216064453, 28.790536880493164, 27.85814094543457, 27.33384132385254, 26.642807006835938, 23.806222915649414, 22.466266632080078, 22.312374114990234, 21.228132247924805, 20.791250228881836, 19.541505813598633, 19.04277801513672, 68.32833099365234, 65.6082992553711, 84.75189971923828, 76.0732421875, 69.06901550292969, 51.911983489990234, 90.94800567626953, 139.38449096679688, 68.87881469726562, 95.24779510498047, 67.20564270019531, 87.01000213623047, 62.20991516113281, 217.91018676757812, 194.3059539794922, 131.83628845214844, 132.79345703125, 59.53684997558594, 208.5522918701172, 238.6795654296875, 56.05644989013672, 74.93755340576172, 49.98280334472656, 73.1527099609375, 55.622737884521484, 57.766090393066406, 107.09467315673828, 98.35826110839844, 98.26800537109375, 91.15564727783203, 88.34587097167969, 82.10950469970703, 78.3980941772461, 75.7889175415039, 71.77120208740234, 64.63151550292969, 42.034542083740234, 32.42686462402344, 32.021766662597656, 31.313325881958008, 30.138957977294922, 29.954174041748047, 28.975156784057617, 28.05303192138672, 27.761690139770508, 27.70249366760254, 27.602455139160156, 26.75177574157715, 26.73785972595215, 26.117328643798828, 26.117328643798828, 25.42831039428711, 25.03188133239746, 23.88437843322754, 23.84136199951172, 23.67815399169922, 232.0569305419922, 87.0704574584961, 86.16287994384766, 97.97893524169922, 118.62592315673828, 86.9048843383789, 77.90250396728516, 54.88750457763672, 89.8381576538086, 97.71918487548828, 195.6662139892578, 66.98432159423828, 66.50614166259766, 81.92945861816406, 108.67256164550781, 119.40850067138672, 46.50474166870117, 132.3126220703125, 67.16053009033203, 102.23987579345703, 86.24980163574219, 69.46370697021484, 107.8348159790039, 74.07603454589844, 79.8856201171875, 77.6087646484375, 70.7970199584961, 69.40167236328125, 65.18909454345703, 65.18909454345703, 55.937400817871094, 55.8635368347168, 55.28288650512695, 52.7598991394043, 50.85088348388672, 50.5460205078125, 47.75382995605469, 47.75382995605469, 43.97490310668945, 37.75942611694336, 31.307832717895508, 30.800949096679688, 29.852096557617188, 29.49325180053711, 29.2482967376709, 29.2482967376709, 29.2482967376709, 29.2482967376709, 26.525108337402344, 23.5715274810791, 22.553415298461914, 22.528146743774414, 22.03059196472168, 21.03048324584961, 74.29497528076172, 74.0875015258789, 239.0185546875, 57.94000244140625, 49.042240142822266, 92.61357116699219, 58.77386474609375, 85.44963073730469, 98.76262664794922, 72.69264221191406, 76.23578643798828, 84.9697036743164, 61.936256408691406, 113.60438537597656, 111.3454818725586, 106.40477752685547, 145.3711700439453, 63.56195831298828, 63.73268127441406, 125.19361877441406, 83.97411346435547, 63.026004791259766, 66.49019622802734, 218.267333984375, 77.7143783569336, 67.67437744140625, 61.69245529174805, 57.835411071777344, 56.690025329589844, 52.25172805786133, 51.59056854248047, 46.374961853027344, 45.511409759521484, 44.33731460571289, 44.33731460571289, 44.118927001953125, 44.118927001953125, 44.118927001953125, 42.977935791015625, 42.644989013671875, 39.18672180175781, 39.0731201171875, 38.97848892211914, 38.20786666870117, 37.69810104370117, 35.27671432495117, 32.09042739868164, 31.768136978149414, 31.484596252441406, 27.50543785095215, 26.802291870117188, 24.956436157226562, 24.956436157226562, 142.24588012695312, 54.635433197021484, 67.71186828613281, 36.750205993652344, 100.74662017822266, 45.94736099243164, 47.7991828918457, 73.51860046386719, 70.94258117675781, 105.15772247314453, 50.98566818237305, 51.86137771606445, 53.97914505004883, 52.60078048706055, 55.889549255371094, 50.6517333984375, 47.46955108642578, 47.38733673095703, 48.1146240234375, 47.801998138427734, 47.936065673828125, 91.52836608886719, 79.07056427001953, 62.57489013671875, 57.49839401245117, 57.0664176940918, 56.43526077270508, 55.75759506225586, 50.292667388916016, 46.5006103515625, 45.923133850097656, 45.215797424316406, 44.56270980834961, 44.52927017211914, 42.954917907714844, 42.954917907714844, 42.39726638793945, 42.28632354736328, 42.17674255371094, 41.61875915527344, 41.132999420166016, 40.23172378540039, 40.23172378540039, 39.11069869995117, 38.88860321044922, 38.78044128417969, 37.42156982421875, 34.82883071899414, 33.382537841796875, 31.68114471435547, 31.147428512573242, 50.23799514770508, 77.8209228515625, 414.33154296875, 113.66218566894531, 751.9463500976562, 102.20418548583984, 102.40931701660156, 94.45085144042969, 259.30889892578125, 85.79357147216797, 65.63544464111328, 82.0945053100586, 60.19221115112305, 151.3076171875, 68.18403625488281, 90.22621154785156, 55.96163558959961, 88.7543716430664, 68.56412506103516, 74.42420959472656, 69.06681823730469, 68.16461181640625, 73.34076690673828, 53.897071838378906, 57.80091857910156, 116.8797378540039, 96.50859832763672, 90.85950469970703, 88.29130554199219, 85.70616912841797, 84.84874725341797, 84.84873962402344, 84.1082992553711, 79.00997924804688, 75.86136627197266, 70.72329711914062, 57.984737396240234, 55.751136779785156, 52.38135528564453, 50.993064880371094, 50.53504180908203, 49.52061080932617, 45.274478912353516, 44.88264083862305, 43.323097229003906, 42.25711441040039, 41.69695281982422, 41.51702880859375, 38.602745056152344, 38.18559646606445, 38.01174545288086, 34.06825256347656, 33.75105667114258, 31.684377670288086, 31.03831672668457, 119.13777923583984, 93.59317779541016, 118.71537780761719, 91.13904571533203, 106.79408264160156, 176.6396942138672, 89.55228424072266, 108.27837371826172, 82.06824493408203, 59.93879699707031, 67.11450958251953, 47.126365661621094, 45.81063461303711], \"Term\": [\"http\", \"news\", \"strzok\", \"realdonaldtrump\", \"medium\", \"yes\", \"like\", \"obama\", \"fake\", \"show\", \"said\", \"prize\", \"president\", \"million\", \"office\", \"matter\", \"erictrump\", \"vote\", \"read\", \"non\", \"building\", \"interest\", \"businessman\", \"breaking\", \"article\", \"controlling\", \"managing\", \"one\", \"fbi\", \"knew\", \"fake\", \"non\", \"building\", \"interest\", \"businessman\", \"controlling\", \"managing\", \"passive\", \"laura\", \"west\", \"board\", \"fauci\", \"concern\", \"davidjurban\", \"prop\", \"visitor\", \"walshfreedom\", \"speaks\", \"graduate\", \"brad\", \"quick\", \"speaking\", \"pitt\", \"trumpstudents\", \"nonstop\", \"swears\", \"hardworking\", \"master\", \"memo\", \"halper\", \"article\", \"point\", \"erictrump\", \"office\", \"biggest\", \"read\", \"another\", \"plan\", \"member\", \"news\", \"lie\", \"report\", \"get\", \"time\", \"realdonaldtrump\", \"maga\", \"know\", \"world\", \"http\", \"story\", \"first\", \"donald\", \"birthday\", \"melania\", \"happy\", \"michael\", \"thedailybeast\", \"cohen\", \"seething\", \"qjpwr\", \"far\", \"lying\", \"rally\", \"lady\", \"killed\", \"lunch\", \"spell\", \"home\", \"golf\", \"early\", \"truly\", \"trum\", \"prevent\", \"congratulation\", \"held\", \"february\", \"connected\", \"davidcorndc\", \"literally\", \"soul\", \"july\", \"played\", \"flotus\", \"via\", \"idiot\", \"prize\", \"noble\", \"order\", \"nobel\", \"http\", \"therickwilson\", \"every\", \"year\", \"tell\", \"much\", \"day\", \"first\", \"say\", \"today\", \"work\", \"covid\", \"donald\", \"matter\", \"vote\", \"accused\", \"spends\", \"jessiejaneduff\", \"lefty\", \"brock\", \"thou\", \"holier\", \"founder\", \"targeting\", \"stand\", \"hell\", \"line\", \"mask\", \"foot\", \"walmart\", \"attention\", \"guttenberg\", \"fred\", \"forget\", \"pushing\", \"dan\", \"stupidity\", \"favor\", \"peace\", \"concerned\", \"bongino\", \"infrastructure\", \"paying\", \"david\", \"medium\", \"part\", \"ryanafournier\", \"sure\", \"million\", \"thing\", \"president\", \"start\", \"biden\", \"office\", \"right\", \"one\", \"strzok\", \"show\", \"knew\", \"email\", \"tomfitton\", \"page\", \"leaked\", \"dossier\", \"mccain\", \"suggest\", \"married\", \"relief\", \"financial\", \"denied\", \"united\", \"anti\", \"therightmelissa\", \"ding\", \"humorpadawan\", \"meltdown\", \"immediately\", \"retweeting\", \"killing\", \"crime\", \"defense\", \"promoting\", \"putin\", \"attempt\", \"doubt\", \"billgates\", \"mocking\", \"fbi\", \"obama\", \"breaking\", \"chinese\", \"realdonaldtrump\", \"http\", \"donald\", \"state\", \"going\", \"flynn\", \"birx\", \"american\", \"immigrant\", \"million\", \"worst\", \"total\", \"ball\", \"slime\", \"gigantic\", \"team\", \"robreiner\", \"feel\", \"rick\", \"wilson\", \"touch\", \"discovery\", \"breakthrough\", \"clewandowski\", \"elisestefanik\", \"mattgaetz\", \"ask\", \"ldmts\", \"puxf\", \"demand\", \"kim\", \"together\", \"york\", \"jong\", \"tip\", \"echo\", \"usps\", \"joelockhart\", \"disturbing\", \"andylassner\", \"longer\", \"everything\", \"funder\", \"propaganda\", \"rep\", \"fox\", \"win\", \"briefing\", \"teamtrump\", \"daily\", \"pandemic\", \"press\", \"hold\", \"news\", \"one\", \"business\", \"coronavirus\", \"thought\", \"realdonaldtrump\", \"http\", \"watch\", \"breaking\", \"made\", \"american\", \"people\", \"president\", \"sick\", \"remove\", \"adam\", \"charliekirk\", \"away\", \"wonder\", \"wanted\", \"tie\", \"countless\", \"wealthy\", \"shit\", \"injection\", \"brianstelter\", \"police\", \"gone\", \"ridiculous\", \"proud\", \"sfpelosi\", \"ivankatrump\", \"shooting\", \"kaepernick\", \"kristenclarkejd\", \"kamalaharris\", \"peacefully\", \"unarmed\", \"greatest\", \"return\", \"honor\", \"cancelling\", \"era\", \"said\", \"failed\", \"tru\", \"schiff\", \"dead\", \"small\", \"que\", \"family\", \"senate\", \"got\", \"american\", \"turned\", \"firm\", \"joebiden\", \"business\", \"people\", \"los\", \"donald\", \"disinfectant\", \"one\", \"million\", \"need\", \"http\", \"say\", \"tammy\", \"owes\", \"duckworth\", \"gopchairwoman\", \"requesting\", \"investig\", \"seeing\", \"fuck\", \"politico\", \"gonna\", \"already\", \"question\", \"enthusiasm\", \"pitched\", \"friday\", \"spoke\", \"shut\", \"hear\", \"special\", \"social\", \"vindication\", \"confirming\", \"rain\", \"smell\", \"looking\", \"pres\", \"debunked\", \"morning\", \"deleted\", \"dancrenshawtx\", \"ten\", \"sen\", \"like\", \"across\", \"joke\", \"bank\", \"rudygiuliani\", \"light\", \"supporter\", \"thank\", \"kylegriffin\", \"want\", \"administration\", \"china\", \"report\", \"million\", \"realdonaldtrump\", \"reporter\", \"fact\", \"http\", \"president\", \"country\", \"donald\", \"yes\", \"seems\", \"fraud\", \"worse\", \"donnabrazile\", \"chris\", \"reject\", \"others\", \"wallace\", \"collapse\", \"deface\", \"nastier\", \"disaster\", \"imploding\", \"slippi\", \"brhodes\", \"weird\", \"die\", \"rooted\", \"realcandaceo\", \"obsession\", \"entirely\", \"libs\", \"vaccine\", \"education\", \"moron\", \"cabinet\", \"fraudulent\", \"defund\", \"microchip\", \"even\", \"mental\", \"poll\", \"release\", \"state\", \"cure\", \"open\", \"republican\", \"tweet\", \"realdonaldtrump\", \"make\", \"fact\", \"therickwilson\", \"covid\", \"amp\", \"would\", \"want\", \"democrat\", \"obama\", \"like\", \"president\", \"future\", \"god\", \"lysol\", \"washingtonpost\", \"presssec\", \"imagine\", \"eric\", \"bless\", \"inject\", \"build\", \"comb\", \"holder\", \"check\", \"directing\", \"exclusive\", \"run\", \"hillary\", \"paper\", \"two\", \"buried\", \"dirt\", \"obtain\", \"paragraph\", \"gatewaypundit\", \"expected\", \"unsurprisingly\", \"ashleyrparker\", \"treatment\", \"jojamkls\", \"working\", \"true\", \"care\", \"president\", \"white\", \"http\", \"story\", \"house\", \"right\", \"realdonaldtrump\", \"disinfectant\", \"health\", \"joebiden\", \"bleach\", \"donald\", \"give\", \"amp\", \"love\", \"people\", \"think\", \"would\", \"time\", \"know\", \"obama\", \"law\", \"say\", \"power\", \"tribelaw\", \"constitutional\", \"foreign\", \"deeply\", \"indebted\", \"command\", \"violates\", \"nancy\", \"donaldjtrumpjr\", \"citizen\", \"evidence\", \"abroad\", \"stranded\", \"interview\", \"party\", \"neglecting\", \"defeat\", \"cbs\", \"sidneypowell\", \"stunning\", \"argument\", \"herridge\", \"congress\", \"brady\", \"filing\", \"presidente\", \"truth\", \"tried\", \"behavior\", \"pelosi\", \"clear\", \"ever\", \"flynn\", \"would\", \"president\", \"tell\", \"people\", \"american\", \"read\", \"http\", \"say\", \"china\"], \"Total\": [2534.0, 461.0, 272.0, 1301.0, 333.0, 219.0, 327.0, 343.0, 227.0, 197.0, 259.0, 261.0, 1059.0, 351.0, 241.0, 156.0, 235.0, 153.0, 293.0, 175.0, 174.0, 174.0, 174.0, 234.0, 200.0, 170.0, 170.0, 482.0, 220.0, 158.0, 227.69898986816406, 175.24241638183594, 174.80099487304688, 174.4701690673828, 174.2753143310547, 170.35772705078125, 170.2792205810547, 169.36798095703125, 81.12512969970703, 58.41792678833008, 54.568931579589844, 45.38276290893555, 36.41822052001953, 35.30864715576172, 33.07894515991211, 32.35954284667969, 32.27130889892578, 31.709957122802734, 31.3698673248291, 30.52496337890625, 30.47882080078125, 28.966459274291992, 28.93219566345215, 28.712810516357422, 27.459280014038086, 26.08448600769043, 26.08448600769043, 25.749284744262695, 24.8704833984375, 23.917062759399414, 200.8682403564453, 88.16700744628906, 235.61273193359375, 241.29302978515625, 65.7619857788086, 293.16162109375, 130.59219360351562, 61.714576721191406, 43.12364196777344, 461.56597900390625, 174.00108337402344, 257.2158508300781, 306.9869079589844, 230.10943603515625, 1301.9805908203125, 81.32420349121094, 248.71995544433594, 108.23159790039062, 2534.470458984375, 160.098876953125, 159.17872619628906, 670.5407104492188, 158.10389709472656, 141.6474609375, 127.7891616821289, 96.14675903320312, 89.5772476196289, 85.40784454345703, 80.32357025146484, 77.98258972167969, 73.68352508544922, 72.11166381835938, 50.59647750854492, 46.657840728759766, 44.837154388427734, 42.49606704711914, 40.76332092285156, 40.736167907714844, 39.55754089355469, 37.5867919921875, 36.099361419677734, 35.58176040649414, 33.49449920654297, 32.251094818115234, 30.95840072631836, 30.722251892089844, 29.530038833618164, 28.86766242980957, 28.325227737426758, 28.176380157470703, 27.59893035888672, 27.38609504699707, 112.23303985595703, 149.053955078125, 53.296321868896484, 261.3885498046875, 170.8627166748047, 60.47603225708008, 140.00387573242188, 2534.470458984375, 171.48097229003906, 136.2246551513672, 104.4860610961914, 257.7181701660156, 103.21553039550781, 188.15740966796875, 159.17872619628906, 314.8946838378906, 207.3590087890625, 164.03604125976562, 173.22650146484375, 670.5407104492188, 156.54396057128906, 153.66246032714844, 119.65522003173828, 117.47744750976562, 116.77720642089844, 113.52433013916016, 112.75465393066406, 111.98494720458984, 111.98494720458984, 111.98494720458984, 111.98494720458984, 98.66094207763672, 73.52474975585938, 66.6476058959961, 65.45899200439453, 54.592655181884766, 50.968204498291016, 30.38849449157715, 30.18464469909668, 30.18464469909668, 30.169628143310547, 29.785579681396484, 28.340591430664062, 27.25796127319336, 26.23270606994629, 23.32130241394043, 22.6715145111084, 22.516916275024414, 22.277297973632812, 22.27373695373535, 123.00379943847656, 333.8195495605469, 83.95670318603516, 70.44253540039062, 174.67202758789062, 351.3002624511719, 188.9169921875, 1059.459716796875, 50.908287048339844, 202.97154235839844, 241.29302978515625, 175.15550231933594, 482.7714538574219, 272.729248046875, 197.6002960205078, 158.36383056640625, 148.3184814453125, 142.39088439941406, 141.12606811523438, 141.0227508544922, 140.0249786376953, 138.6117401123047, 137.85330200195312, 41.15876770019531, 37.411617279052734, 35.37213897705078, 34.298980712890625, 31.82124900817871, 31.393077850341797, 30.645145416259766, 29.812896728515625, 28.595895767211914, 28.54036521911621, 27.178173065185547, 25.75489044189453, 25.46162223815918, 25.429906845092773, 25.045658111572266, 24.559152603149414, 23.976457595825195, 23.215940475463867, 22.69733238220215, 22.583019256591797, 162.87918090820312, 220.44422912597656, 343.36993408203125, 234.12124633789062, 70.2862319946289, 1301.9805908203125, 2534.470458984375, 670.5407104492188, 191.2124786376953, 153.07321166992188, 165.67727661132812, 86.98455047607422, 459.9297180175781, 62.19670486450195, 351.3002624511719, 141.94573974609375, 129.12588500976562, 125.02909088134766, 122.61247253417969, 58.530303955078125, 49.34827423095703, 44.48270797729492, 40.658782958984375, 40.03799819946289, 38.22272872924805, 38.22249221801758, 36.66547775268555, 35.80614471435547, 33.18551254272461, 33.18551254272461, 33.18551254272461, 32.69066619873047, 30.281824111938477, 30.281824111938477, 29.640716552734375, 28.70832633972168, 28.18409538269043, 27.492977142333984, 24.656394958496094, 23.316417694091797, 23.16250991821289, 22.07830047607422, 21.641433715820312, 20.391639709472656, 19.892911911010742, 73.3442153930664, 71.69363403320312, 93.97349548339844, 84.25572967529297, 77.08370971679688, 59.69557571411133, 116.4215316772461, 209.52786254882812, 89.47474670410156, 134.39564514160156, 89.92295837402344, 126.35026550292969, 82.88375854492188, 461.56597900390625, 482.7714538574219, 274.3984680175781, 302.83795166015625, 89.96285247802734, 1301.9805908203125, 2534.470458984375, 95.8775634765625, 234.12124633789062, 94.69078826904297, 459.9297180175781, 430.36175537109375, 1059.459716796875, 107.94578552246094, 99.20938873291016, 99.11909484863281, 92.00672149658203, 89.19698333740234, 82.96062469482422, 79.24919128417969, 76.63999938964844, 72.62228393554688, 65.48258972167969, 42.885746002197266, 33.27796173095703, 32.872894287109375, 32.16444396972656, 30.99005126953125, 30.805301666259766, 29.826255798339844, 28.904129028320312, 28.612783432006836, 28.55357551574707, 28.453535079956055, 27.60284996032715, 27.588951110839844, 26.968400955200195, 26.968400955200195, 26.27952766418457, 25.88312530517578, 24.735462188720703, 24.692434310913086, 24.529237747192383, 259.7925720214844, 96.68708801269531, 97.8245620727539, 114.07563018798828, 142.028076171875, 110.39006042480469, 98.28816223144531, 66.29949188232422, 122.6547622680664, 156.40533447265625, 459.9297180175781, 106.94178771972656, 109.75132751464844, 164.7822723388672, 274.3984680175781, 430.36175537109375, 71.86539459228516, 670.5407104492188, 171.15773010253906, 482.7714538574219, 351.3002624511719, 200.00926208496094, 2534.470458984375, 314.8946838378906, 80.73695373535156, 78.4601058959961, 71.64835357666016, 70.25304412841797, 66.0404281616211, 66.0404281616211, 56.78874969482422, 56.714927673339844, 56.1342658996582, 53.61125946044922, 51.70228958129883, 51.39741897583008, 48.605167388916016, 48.605167388916016, 44.82624053955078, 38.61076736450195, 32.15919876098633, 31.65239143371582, 30.703664779663086, 30.344667434692383, 30.099626541137695, 30.099626541137695, 30.099626541137695, 30.099626541137695, 27.37648582458496, 24.422945022583008, 23.404788970947266, 23.37955665588379, 22.88198471069336, 21.88182258605957, 84.68285369873047, 86.5853271484375, 327.72900390625, 68.50170135498047, 57.57333755493164, 126.1298828125, 72.4118423461914, 119.08255767822266, 167.55197143554688, 110.52034759521484, 126.28997802734375, 155.2128143310547, 97.3101577758789, 262.6622619628906, 257.2158508300781, 351.3002624511719, 1301.9805908203125, 134.64942932128906, 138.04534912109375, 2534.470458984375, 1059.459716796875, 195.9599609375, 670.5407104492188, 219.11683654785156, 78.56388092041016, 68.52388763427734, 62.541961669921875, 58.68492126464844, 57.539527893066406, 53.101219177246094, 52.44008255004883, 47.22445297241211, 46.360897064208984, 45.18680191040039, 45.18680191040039, 44.968414306640625, 44.968414306640625, 44.968414306640625, 43.827430725097656, 43.494483947753906, 40.036251068115234, 39.922607421875, 39.828006744384766, 39.05735397338867, 38.54759216308594, 36.12621307373047, 32.939937591552734, 32.617652893066406, 32.33417510986328, 28.354969024658203, 27.65178871154785, 25.80592155456543, 25.80592155456543, 171.11639404296875, 65.90805053710938, 90.99568939208984, 42.47629165649414, 191.2124786376953, 61.98725891113281, 67.69073486328125, 171.1921844482422, 182.65054321289062, 1301.9805908203125, 118.30062866210938, 138.04534912109375, 171.48097229003906, 173.22650146484375, 261.47119140625, 262.5230712890625, 155.2128143310547, 205.19158935546875, 343.36993408203125, 327.72900390625, 1059.459716796875, 92.38014221191406, 79.92235565185547, 63.42670822143555, 58.350181579589844, 57.91820526123047, 57.28703689575195, 56.60939025878906, 51.14444351196289, 47.3524055480957, 46.77490234375, 46.06756591796875, 45.41447448730469, 45.381080627441406, 43.80668258666992, 43.80668258666992, 43.24907684326172, 43.138145446777344, 43.02851867675781, 42.470680236816406, 41.98477554321289, 41.08348846435547, 41.08348846435547, 39.96246337890625, 39.740386962890625, 39.63220977783203, 38.27333450317383, 35.680599212646484, 34.23435592651367, 32.53290939331055, 31.999237060546875, 57.749568939208984, 108.63471221923828, 1059.459716796875, 182.68939208984375, 2534.470458984375, 160.098876953125, 175.64451599121094, 175.15550231933594, 1301.9805908203125, 171.15773010253906, 103.88116455078125, 164.7822723388672, 91.05341339111328, 670.5407104492188, 131.890625, 261.47119140625, 84.38094329833984, 430.36175537109375, 197.53277587890625, 262.5230712890625, 230.10943603515625, 248.71995544433594, 343.36993408203125, 103.44410705566406, 314.8946838378906, 117.7301025390625, 97.35897064208984, 91.70985412597656, 89.14165496826172, 86.5565185546875, 85.69908905029297, 85.69908142089844, 84.9586410522461, 79.8603515625, 76.71174621582031, 71.57368469238281, 58.8350944519043, 56.60148239135742, 53.2317008972168, 51.84342956542969, 51.38548278808594, 50.37095642089844, 46.12483215332031, 45.732994079589844, 44.17344665527344, 43.10747146606445, 42.54731750488281, 42.367374420166016, 39.45316696166992, 39.03594207763672, 38.862091064453125, 34.91865921020508, 34.601505279541016, 32.53480529785156, 31.88867950439453, 127.48904418945312, 126.53733825683594, 184.34719848632812, 165.67727661132812, 262.5230712890625, 1059.459716796875, 257.7181701660156, 430.36175537109375, 459.9297180175781, 293.16162109375, 2534.470458984375, 314.8946838378906, 262.6622619628906], \"loglift\": [30.0, 29.0, 28.0, 27.0, 26.0, 25.0, 24.0, 23.0, 22.0, 21.0, 20.0, 19.0, 18.0, 17.0, 16.0, 15.0, 14.0, 13.0, 12.0, 11.0, 10.0, 9.0, 8.0, 7.0, 6.0, 5.0, 4.0, 3.0, 2.0, 1.0, 2.2235000133514404, 2.2223000526428223, 2.2223000526428223, 2.2223000526428223, 2.2223000526428223, 2.2221999168395996, 2.2221999168395996, 2.2221999168395996, 2.2167000770568848, 2.2125000953674316, 2.2114999294281006, 2.2083001136779785, 2.2035999298095703, 2.2028000354766846, 2.201200008392334, 2.2005999088287354, 2.200500011444092, 2.200000047683716, 2.199700117111206, 2.198899984359741, 2.198899984359741, 2.1974000930786133, 2.1974000930786133, 2.1970999240875244, 2.19569993019104, 2.1940999031066895, 2.1940999031066895, 2.1935999393463135, 2.1923999786376953, 2.190999984741211, 2.1359000205993652, 2.125, 2.0445001125335693, 2.037100076675415, 2.0850000381469727, 1.8214999437332153, 1.9456000328063965, 2.045799970626831, 2.1059000492095947, 1.3991999626159668, 1.6729999780654907, 1.5492000579833984, 1.3499000072479248, 1.3243999481201172, 0.32350000739097595, 1.7192000150680542, 1.0778000354766846, 1.5388000011444092, -0.6553999781608582, 1.1969000101089478, 1.1729999780654907, -0.29269999265670776, 2.1547000408172607, 2.154099941253662, 2.15339994430542, 2.15120005607605, 2.1505000591278076, 2.150099992752075, 2.149399995803833, 2.1491000652313232, 2.1484999656677246, 2.148200035095215, 2.1431000232696533, 2.141700029373169, 2.140899896621704, 2.1398000717163086, 2.1389999389648438, 2.1389999389648438, 2.1382999420166016, 2.137200117111206, 2.136199951171875, 2.1359000205993652, 2.1342999935150146, 2.1333000659942627, 2.132200002670288, 2.131999969482422, 2.1308000087738037, 2.1301000118255615, 2.1296000480651855, 2.1294000148773193, 2.128700017929077, 2.128499984741211, 2.1096999645233154, 2.0550999641418457, 2.0994999408721924, 1.9878000020980835, 1.9840999841690063, 1.9670000076293945, 1.7587000131607056, 0.8474000096321106, 1.6223000288009644, 1.6050000190734863, 1.6756999492645264, 1.232699990272522, 1.6448999643325806, 1.3408000469207764, 1.3595000505447388, 0.9293000102043152, 1.1582000255584717, 1.2806999683380127, 1.2338000535964966, -0.34310001134872437, 2.684000015258789, 2.6839001178741455, 2.682300090789795, 2.6821999549865723, 2.6821000576019287, 2.6819000244140625, 2.68179988861084, 2.68179988861084, 2.68179988861084, 2.68179988861084, 2.68179988861084, 2.680799961090088, 2.677799940109253, 2.6765999794006348, 2.6763999462127686, 2.673799991607666, 2.672600030899048, 2.661099910736084, 2.660900115966797, 2.660900115966797, 2.660900115966797, 2.6605000495910645, 2.65910005569458, 2.6577999591827393, 2.656599998474121, 2.652400016784668, 2.6512999534606934, 2.651099920272827, 2.650599956512451, 2.650599956512451, 2.6375999450683594, 2.228800058364868, 2.35479998588562, 2.335700035095215, 1.9753999710083008, 1.663699984550476, 1.7604000568389893, 0.8363000154495239, 2.27020001411438, 1.1872999668121338, 0.9174000024795532, 1.0364999771118164, 0.06289999932050705, 2.375999927520752, 2.374799966812134, 2.373800039291382, 2.3733999729156494, 2.373199939727783, 2.3731000423431396, 2.3731000423431396, 2.3731000423431396, 2.372999906539917, 2.372999906539917, 2.358299970626831, 2.3561999797821045, 2.3548998832702637, 2.354099988937378, 2.352099895477295, 2.3517000675201416, 2.351099967956543, 2.3503000736236572, 2.3489999771118164, 2.3489999771118164, 2.347399950027466, 2.345599889755249, 2.3452999591827393, 2.3452000617980957, 2.3447000980377197, 2.3440001010894775, 2.343100070953369, 2.341900110244751, 2.3410000801086426, 2.34089994430542, 2.2216999530792236, 2.0934998989105225, 1.9395999908447266, 1.9342999458312988, 2.1150999069213867, 0.9810000061988831, 0.4763000011444092, 0.942799985408783, 1.375, 1.4208999872207642, 1.1054999828338623, 1.5525000095367432, 0.1128000020980835, 1.687000036239624, -0.013100000098347664, 2.456199884414673, 2.4556000232696533, 2.455399990081787, 2.4553000926971436, 2.4475998878479004, 2.4449000358581543, 2.4428999423980713, 2.4410998821258545, 2.4407999515533447, 2.43969988822937, 2.43969988822937, 2.438800096511841, 2.438199996948242, 2.436300039291382, 2.436300039291382, 2.436300039291382, 2.4358999729156494, 2.433799982070923, 2.433799982070923, 2.4330999851226807, 2.4321999549865723, 2.4316000938415527, 2.430799961090088, 2.4272000789642334, 2.425100088119507, 2.424799919128418, 2.4230000972747803, 2.4221999645233154, 2.4196999073028564, 2.418600082397461, 2.391400098800659, 2.373500108718872, 2.3589999675750732, 2.360100030899048, 2.3524999618530273, 2.322499990463257, 2.2153000831604004, 2.0546000003814697, 2.2005999088287354, 2.1178998947143555, 2.1710000038146973, 2.089200019836426, 2.175299882888794, 1.7116999626159668, 1.5520999431610107, 1.729200005531311, 1.6377999782562256, 2.0494000911712646, 0.6308000087738037, 0.09960000216960907, 1.9255000352859497, 1.323099970817566, 1.8233000040054321, 0.6237000226974487, 0.41620001196861267, -0.44690001010894775, 2.187299966812134, 2.1865999698638916, 2.1865999698638916, 2.1858999729156494, 2.1856000423431396, 2.1849000453948975, 2.1844000816345215, 2.1840999126434326, 2.1833999156951904, 2.1821000576019287, 2.1751999855041504, 2.169300079345703, 2.1689999103546143, 2.1684000492095947, 2.1673998832702637, 2.1672000885009766, 2.166300058364868, 2.165299892425537, 2.1649999618530273, 2.1649999618530273, 2.164900064468384, 2.1638998985290527, 2.1638998985290527, 2.1631999015808105, 2.1631999015808105, 2.1623001098632812, 2.161799907684326, 2.1602001190185547, 2.1602001190185547, 2.159899950027466, 2.0822999477386475, 2.0905001163482666, 2.0683000087738037, 2.043100118637085, 2.015199899673462, 1.9559999704360962, 1.9628000259399414, 2.0062999725341797, 1.8839000463485718, 1.7249000072479248, 1.3406000137329102, 1.7273999452590942, 1.6943000555038452, 1.496500015258789, 1.2690000534057617, 0.9132000207901001, 1.7599999904632568, 0.5723000168800354, 1.2596999406814575, 0.6430000066757202, 0.7907999753952026, 1.1376999616622925, -0.961899995803833, 0.7480999827384949, 2.3190999031066895, 2.3187999725341797, 2.317699909210205, 2.317500114440918, 2.316699981689453, 2.316699981689453, 2.3145999908447266, 2.314500093460083, 2.3143999576568604, 2.313699960708618, 2.3131000995635986, 2.312999963760376, 2.312000036239624, 2.312000036239624, 2.310499906539917, 2.3073999881744385, 2.302799940109253, 2.3024001121520996, 2.301500082015991, 2.3011999130249023, 2.3010001182556152, 2.3010001182556152, 2.3010001182556152, 2.3010001182556152, 2.298099994659424, 2.2941999435424805, 2.29259991645813, 2.29259991645813, 2.2916998863220215, 2.2899999618530273, 2.1988000869750977, 2.173799991607666, 2.0139999389648438, 2.1621999740600586, 2.169300079345703, 2.0208001136779785, 2.121000051498413, 1.9977999925613403, 1.8011000156402588, 1.9106999635696411, 1.8249000310897827, 1.7272000312805176, 1.8779000043869019, 1.4915000200271606, 1.492400050163269, 1.1353000402450562, 0.13729999959468842, 1.5789999961853027, 1.5568000078201294, -0.6782000064849854, -0.2053000032901764, 1.1952999830245972, 0.01860000006854534, 2.4314000606536865, 2.4244000911712646, 2.422800064086914, 2.421600103378296, 2.4207000732421875, 2.4203999042510986, 2.419100046157837, 2.4189000129699707, 2.417099952697754, 2.416800022125244, 2.416300058364868, 2.416300058364868, 2.4161999225616455, 2.4161999225616455, 2.4161999225616455, 2.4156999588012695, 2.4154999256134033, 2.413800001144409, 2.4137001037597656, 2.4137001037597656, 2.413300037384033, 2.4130001068115234, 2.4114999771118164, 2.40910005569458, 2.408900022506714, 2.408600091934204, 2.4047999382019043, 2.4040000438690186, 2.4017999172210693, 2.4017999172210693, 2.250499963760376, 2.2476999759674072, 2.139699935913086, 2.2904000282287598, 1.7944999933242798, 2.1357998847961426, 2.0873000621795654, 1.590000033378601, 1.4895000457763672, -0.08089999854564667, 1.5936000347137451, 1.4562000036239624, 1.2793999910354614, 1.243399977684021, 0.892300009727478, 0.789900004863739, 1.250499963760376, 0.9696999788284302, 0.4699999988079071, 0.5101000070571899, -0.6603999733924866, 1.909999966621399, 1.9084999561309814, 1.9056999683380127, 1.9045000076293945, 1.9043999910354614, 1.9041999578475952, 1.904099941253662, 1.902400016784668, 1.9011000394821167, 1.9007999897003174, 1.9005999565124512, 1.9003000259399414, 1.9003000259399414, 1.8996000289916992, 1.8996000289916992, 1.8992999792099, 1.8992999792099, 1.8991999626159668, 1.8990000486373901, 1.8986999988555908, 1.898300051689148, 1.898300051689148, 1.8976999521255493, 1.8976000547409058, 1.8975000381469727, 1.8967000246047974, 1.8950999975204468, 1.8940000534057617, 1.892699956893921, 1.892199993133545, 1.7798999547958374, 1.5856000185012817, 0.980400025844574, 1.444700002670288, 0.704200029373169, 1.4703999757766724, 1.379699945449829, 1.3015999794006348, 0.30559998750686646, 1.228600025177002, 1.4601000547409058, 1.222499966621399, 1.5053000450134277, 0.43050000071525574, 1.2595000267028809, 0.8551999926567078, 1.5085999965667725, 0.34049999713897705, 0.8611000180244446, 0.6586999893188477, 0.7156999707221985, 0.6248000264167786, 0.37549999356269836, 1.267300009727478, 0.2240000069141388, 2.421999931335449, 2.4205000400543213, 2.4200000762939453, 2.4196999073028564, 2.4193999767303467, 2.419300079345703, 2.419300079345703, 2.4191999435424805, 2.418600082397461, 2.418100118637085, 2.41729998588562, 2.4147000312805176, 2.414099931716919, 2.4131999015808105, 2.4126999378204346, 2.412600040435791, 2.4121999740600586, 2.4107000827789307, 2.4105000495910645, 2.4098000526428223, 2.4093000888824463, 2.40910005569458, 2.4089999198913574, 2.4075000286102295, 2.4072000980377197, 2.407099962234497, 2.404599905014038, 2.404400110244751, 2.4028000831604004, 2.4021999835968018, 2.3615000247955322, 2.127700090408325, 1.9891999959945679, 1.8315999507904053, 1.5298000574111938, 0.6378999948501587, 1.3722000122070312, 1.049299955368042, 0.7056999802589417, 0.8418999910354614, -1.2021000385284424, 0.5299000144004822, 0.6829000115394592], \"logprob\": [30.0, 29.0, 28.0, 27.0, 26.0, 25.0, 24.0, 23.0, 22.0, 21.0, 20.0, 19.0, 18.0, 17.0, 16.0, 15.0, 14.0, 13.0, 12.0, 11.0, 10.0, 9.0, 8.0, 7.0, 6.0, 5.0, 4.0, 3.0, 2.0, 1.0, -3.7492001056671143, -4.012199878692627, -4.014699935913086, -4.016600131988525, -4.0177001953125, -4.040599822998047, -4.040999889373779, -4.04640007019043, -4.788000106811523, -5.120500087738037, -5.189700126647949, -5.377299785614014, -5.6020002365112305, -5.633699893951416, -5.7006001472473145, -5.723199844360352, -5.72599983215332, -5.74399995803833, -5.755099773406982, -5.783199787139893, -5.7846999168396, -5.837100028991699, -5.838399887084961, -5.846199989318848, -5.892199993133545, -5.945300102233887, -5.945300102233887, -5.958700180053711, -5.99459981918335, -6.035099983215332, -3.9621999263763428, -4.79640007019043, -3.8940000534057617, -3.877500057220459, -5.1296000480651855, -3.898400068283081, -4.583000183105469, -5.2322998046875, -5.530700206756592, -3.86680006980896, -4.568600177764893, -4.301599979400635, -4.323999881744385, -4.637700080871582, -3.9054999351501465, -5.2829999923706055, -4.80649995803833, -5.177599906921387, -4.218299865722656, -5.127999782562256, -5.157599925994873, -5.185299873352051, -4.182700157165527, -4.293300151824951, -4.396900177001953, -4.683599948883057, -4.755000114440918, -4.803199768066406, -4.865200042724609, -4.895100116729736, -4.952400207519531, -4.9741997718811035, -5.333700180053711, -5.416200160980225, -5.456699848175049, -5.51140022277832, -5.553899765014648, -5.554599761962891, -5.58459997177124, -5.636899948120117, -5.678199768066406, -5.692999839782715, -5.755000114440918, -5.793799877166748, -5.8358001708984375, -5.843699932098389, -5.884399890899658, -5.907800197601318, -5.9274001121521, -5.932799816131592, -5.95419979095459, -5.962100028991699, -4.570400238037109, -4.341300010681152, -5.325300216674805, -3.84689998626709, -4.275700092315674, -5.331399917602539, -4.700300216674805, -2.7155001163482666, -4.633900165557861, -4.881400108337402, -5.076000213623047, -4.616099834442139, -5.118899822235107, -4.8225998878479, -4.971099853515625, -4.719200134277344, -4.9079999923706055, -5.019899845123291, -5.01230001449585, -5.2357001304626465, -3.6633999347686768, -3.6821000576019287, -3.933799982070923, -3.9523000717163086, -3.9583001136779785, -3.986799955368042, -3.9935998916625977, -4.000500202178955, -4.000500202178955, -4.000500202178955, -4.000500202178955, -4.128200054168701, -4.425300121307373, -4.524700164794922, -4.542900085449219, -4.7270002365112305, -4.796800136566162, -5.325500011444092, -5.332399845123291, -5.332399845123291, -5.332900047302246, -5.346099853515625, -5.397299766540527, -5.4375, -5.477099895477295, -5.598899841308594, -5.628200054168701, -5.63539981842041, -5.646500110626221, -5.646599769592285, -3.950900077819824, -3.361299991607666, -4.615600109100342, -4.810200214385986, -4.26230001449585, -3.8752999305725098, -4.39900016784668, -3.598900079727173, -5.200399875640869, -4.900300025939941, -4.997300148010254, -5.198500156402588, -5.158199787139893, -3.4161999225616455, -3.7395999431610107, -3.9619998931884766, -4.027900218963623, -4.068900108337402, -4.077899932861328, -4.078700065612793, -4.0858001708984375, -4.0960001945495605, -4.101500034332275, -5.324900150299072, -5.422500133514404, -5.479899883270264, -5.511499881744385, -5.588399887084961, -5.60230016708374, -5.627099990844727, -5.6554999351501465, -5.698400020599365, -5.700399875640869, -5.750800132751465, -5.806399822235107, -5.818299770355225, -5.819499969482422, -5.835299968719482, -5.855599880218506, -5.880499839782715, -5.913899898529053, -5.937399864196777, -5.942599773406982, -4.085899829864502, -3.9114999771118164, -3.6222000122070312, -4.010499954223633, -5.0329999923706055, -3.2481000423431396, -3.086699962615967, -3.9498000144958496, -4.772299766540527, -4.94890022277832, -5.185100078582764, -5.382500171661377, -5.156799793243408, -5.5833001136779785, -5.55210018157959, -3.989000082015991, -4.0843000411987305, -4.116700172424316, -4.13640022277832, -4.883500099182129, -5.0569000244140625, -5.162600040435791, -5.25439977645874, -5.270100116729736, -5.317500114440918, -5.317500114440918, -5.360099792480469, -5.384300231933594, -5.462299823760986, -5.462299823760986, -5.462299823760986, -5.477700233459473, -5.556399822235107, -5.556399822235107, -5.578400135040283, -5.611299991607666, -5.630300045013428, -5.655900001525879, -5.768499851226807, -5.826399803161621, -5.8333001136779785, -5.8831000328063965, -5.903900146484375, -5.96589994430542, -5.991700172424316, -4.714099884033203, -4.754700183868408, -4.498700141906738, -4.6066999435424805, -4.7032999992370605, -4.988900184631348, -4.428100109100342, -4.001200199127197, -4.706099987030029, -4.381999969482422, -4.7307000160217285, -4.472400188446045, -4.8078999519348145, -3.5543999671936035, -3.6689999103546143, -4.0569000244140625, -4.049600124359131, -4.851799964904785, -3.5982000827789307, -3.4632999897003174, -4.912099838256836, -4.621799945831299, -5.026800155639648, -4.645899772644043, -4.9197998046875, -4.881999969482422, -4.531700134277344, -4.616799831390381, -4.617700099945068, -4.69290018081665, -4.7241997718811035, -4.797399997711182, -4.843599796295166, -4.877500057220459, -4.932000160217285, -5.0366997718811035, -5.4670000076293945, -5.726500034332275, -5.738999843597412, -5.76140022277832, -5.799600124359131, -5.805799961090088, -5.839000225067139, -5.871300220489502, -5.881800174713135, -5.883900165557861, -5.887499809265137, -5.918799877166748, -5.919400215148926, -5.942800045013428, -5.942800045013428, -5.969600200653076, -5.985300064086914, -6.032199859619141, -6.033999919891357, -6.040900230407715, -3.758500099182129, -4.738699913024902, -4.749199867248535, -4.620699882507324, -4.429500102996826, -4.740600109100342, -4.849999904632568, -5.200200080871582, -4.707399845123291, -4.623300075531006, -3.928999900817871, -5.000999927520752, -5.008200168609619, -4.799600124359131, -4.517099857330322, -4.422900199890137, -5.365900039672852, -4.320300102233887, -4.9984002113342285, -4.578100204467773, -4.748199939727783, -4.964600086212158, -4.524799823760986, -4.900400161743164, -4.690400123596191, -4.719299793243408, -4.811200141906738, -4.831099987030029, -4.893700122833252, -4.893700122833252, -5.046800136566162, -5.048099994659424, -5.058499813079834, -5.105299949645996, -5.142099857330322, -5.148099899291992, -5.204999923706055, -5.204999923706055, -5.287399768829346, -5.439799785614014, -5.627099990844727, -5.643499851226807, -5.674799919128418, -5.686800003051758, -5.695199966430664, -5.695199966430664, -5.695199966430664, -5.695199966430664, -5.792900085449219, -5.910999774932861, -5.955100059509277, -5.956200122833252, -5.978600025177002, -6.025000095367432, -4.763000011444092, -4.7657999992370605, -3.5945000648498535, -5.011600017547607, -5.178299903869629, -4.542600154876709, -4.997300148010254, -4.6230998039245605, -4.478300094604492, -4.784800052642822, -4.737199783325195, -4.628699779510498, -4.944900035858154, -4.3383002281188965, -4.358399868011475, -4.403800010681152, -4.091700077056885, -4.919000148773193, -4.916299819946289, -4.241199970245361, -4.640500068664551, -4.927499771118164, -4.874000072479248, -3.579699993133545, -4.612400054931641, -4.750699996948242, -4.843299865722656, -4.907800197601318, -4.927800178527832, -5.009399890899658, -5.02209997177124, -5.128699779510498, -5.147500038146973, -5.173600196838379, -5.173600196838379, -5.178500175476074, -5.178500175476074, -5.178500175476074, -5.204699993133545, -5.212500095367432, -5.297100067138672, -5.300000190734863, -5.3024001121521, -5.322400093078613, -5.3358001708984375, -5.402200222015381, -5.4969000816345215, -5.506999969482422, -5.515900135040283, -5.651000022888184, -5.6768999099731445, -5.748300075531006, -5.748300075531006, -4.007900238037109, -4.964700222015381, -4.750199794769287, -5.361299991607666, -4.352799892425537, -5.137899875640869, -5.098400115966797, -4.667900085449219, -4.70359992980957, -4.309999942779541, -5.033899784088135, -5.016900062561035, -4.976799964904785, -5.002699851989746, -4.9421000480651855, -5.040500164031982, -5.105299949645996, -5.107100009918213, -5.091800212860107, -5.098400115966797, -5.095600128173828, -4.964799880981445, -5.111100196838379, -5.345099925994873, -5.429699897766113, -5.43720006942749, -5.448400020599365, -5.460400104522705, -5.563600063323975, -5.642000198364258, -5.6545000076293945, -5.670000076293945, -5.684599876403809, -5.685299873352051, -5.72130012512207, -5.72130012512207, -5.734399795532227, -5.736999988555908, -5.73960018157959, -5.752900123596191, -5.764599800109863, -5.786799907684326, -5.786799907684326, -5.815100193023682, -5.820799827575684, -5.823500156402588, -5.8592000007629395, -5.931000232696533, -5.973400115966797, -6.025700092315674, -6.042699813842773, -5.564700126647949, -5.126999855041504, -3.4547998905181885, -4.748199939727783, -2.858799934387207, -4.854499816894531, -4.852499961853027, -4.9334001541137695, -3.9233999252319336, -5.0295000076293945, -5.297299861907959, -5.073599815368652, -5.383900165557861, -4.462100028991699, -5.259200096130371, -4.979100227355957, -5.4567999839782715, -4.99560022354126, -5.253699779510498, -5.1717000007629395, -5.246399879455566, -5.259500026702881, -5.186299800872803, -5.4944000244140625, -5.4243998527526855, -4.210299968719482, -4.401800155639648, -4.462100028991699, -4.490799903869629, -4.520500183105469, -4.5304999351501465, -4.5304999351501465, -4.539299964904785, -4.601799964904785, -4.642499923706055, -4.712600231170654, -4.911200046539307, -4.950500011444092, -5.012899875640869, -5.039700031280518, -5.048699855804443, -5.068999767303467, -5.158699989318848, -5.167399883270264, -5.202700138092041, -5.22760009765625, -5.241000175476074, -5.245299816131592, -5.3180999755859375, -5.328999996185303, -5.333499908447266, -5.442999839782715, -5.452400207519531, -5.515600204467773, -5.536200046539307, -4.191100120544434, -4.432499885559082, -4.194699764251709, -4.459000110626221, -4.30049991607666, -3.797300100326538, -4.476600170135498, -4.2866997718811035, -4.563899993896484, -4.8780999183654785, -4.764999866485596, -5.118599891662598, -5.146900177001953]}, \"token.table\": {\"Topic\": [10, 3, 2, 7, 6, 1, 3, 4, 7, 7, 4, 5, 6, 7, 9, 10, 1, 2, 5, 6, 7, 8, 9, 5, 1, 5, 7, 9, 10, 4, 10, 1, 3, 9, 5, 4, 3, 6, 5, 1, 3, 7, 10, 1, 3, 7, 8, 9, 10, 1, 10, 4, 2, 4, 5, 6, 9, 1, 7, 8, 9, 9, 1, 3, 1, 10, 4, 5, 6, 5, 8, 6, 2, 5, 6, 9, 10, 3, 9, 1, 9, 2, 3, 5, 6, 1, 8, 6, 2, 7, 9, 10, 6, 9, 1, 2, 3, 4, 5, 6, 7, 9, 10, 2, 4, 8, 10, 2, 3, 8, 10, 5, 2, 8, 9, 10, 1, 3, 7, 2, 10, 2, 10, 1, 2, 3, 4, 5, 6, 9, 10, 6, 2, 3, 4, 7, 8, 9, 1, 2, 3, 8, 9, 4, 1, 8, 9, 5, 6, 8, 3, 7, 3, 10, 2, 1, 1, 2, 3, 5, 7, 9, 6, 8, 7, 10, 8, 10, 4, 8, 7, 5, 2, 3, 6, 7, 8, 10, 4, 8, 4, 9, 9, 8, 5, 6, 9, 10, 5, 1, 2, 4, 6, 7, 8, 9, 10, 10, 8, 4, 4, 7, 2, 5, 8, 5, 4, 7, 8, 6, 9, 1, 7, 4, 8, 2, 8, 9, 10, 2, 5, 6, 1, 5, 10, 9, 9, 7, 8, 9, 6, 8, 1, 2, 6, 2, 1, 3, 4, 6, 10, 2, 5, 10, 4, 6, 9, 1, 2, 4, 5, 2, 4, 4, 8, 9, 10, 3, 10, 3, 3, 2, 5, 8, 8, 3, 7, 7, 5, 7, 9, 9, 1, 4, 6, 7, 8, 9, 5, 4, 5, 7, 8, 9, 10, 9, 2, 4, 5, 6, 8, 9, 2, 6, 7, 7, 6, 8, 9, 1, 6, 3, 1, 2, 1, 2, 4, 9, 10, 7, 2, 3, 10, 9, 2, 5, 7, 9, 3, 2, 6, 2, 6, 9, 1, 2, 4, 5, 6, 7, 8, 9, 10, 4, 2, 10, 9, 4, 2, 4, 8, 10, 3, 9, 6, 1, 10, 7, 6, 3, 6, 9, 5, 9, 6, 7, 5, 2, 6, 6, 2, 4, 5, 4, 1, 3, 5, 7, 8, 9, 6, 2, 7, 8, 9, 2, 1, 1, 6, 9, 5, 4, 3, 8, 1, 5, 9, 7, 9, 6, 7, 8, 3, 2, 2, 5, 7, 6, 7, 2, 9, 2, 2, 9, 2, 5, 6, 7, 8, 1, 2, 3, 4, 8, 9, 1, 4, 3, 1, 3, 5, 4, 1, 3, 5, 7, 8, 2, 4, 1, 2, 1, 8, 10, 2, 8, 3, 4, 6, 7, 4, 8, 7, 8, 2, 4, 5, 8, 10, 8, 2, 3, 6, 7, 9, 10, 10, 1, 5, 9, 2, 6, 8, 2, 8, 1, 1, 4, 8, 9, 8, 9, 1, 3, 1, 2, 3, 5, 6, 8, 9, 4, 8, 2, 3, 8, 7, 4, 5, 6, 9, 9, 9, 3, 8, 9, 10, 1, 3, 3, 6, 4, 10, 4, 5, 6, 8, 9, 10, 7, 1, 1, 9, 2, 1, 7, 6, 7, 2, 5, 8, 10, 7, 1, 2, 3, 4, 5, 6, 7, 8, 9, 10, 10, 1, 5, 10, 9, 2, 2, 8, 4, 1, 2, 5, 6, 3, 4, 5, 2, 6, 10, 7, 1, 7, 2, 1, 9, 10, 8, 1, 2, 4, 5, 6, 7, 8, 9, 10, 8, 8, 9, 4, 6, 5, 10, 1, 6, 7, 2, 3, 6, 7, 9, 1, 4, 6, 8, 9, 7, 6, 4, 5, 6, 2, 3, 7, 9, 5, 8, 2, 7, 9, 2, 3, 3, 5, 6, 2, 4, 6, 8, 9, 10, 3, 6, 7, 8, 2, 1, 7, 2, 6, 8, 6, 6, 6, 4, 7, 6, 10, 5, 8, 2, 6, 7, 7, 2, 1, 1, 7, 2, 3, 7, 3, 3, 5, 4, 5, 8, 10, 1, 9, 10, 4, 10, 3, 4, 3, 7, 9, 1, 2, 3, 8, 1, 7, 3, 5, 5, 7, 1, 2, 8, 9, 10, 6, 7, 2, 7, 9, 2, 2, 5, 8, 4, 1, 2, 3, 5, 7, 9, 3, 5, 6, 7, 9, 3, 3, 4, 5, 6, 1, 5, 7, 9, 5, 1, 2, 4, 6, 7, 9, 10, 5, 4, 5, 5, 9, 10, 10, 2, 6, 4, 9, 2, 2, 1, 10, 2, 5, 6, 4, 6, 7, 8, 10, 9, 6, 4, 9, 5, 8, 2, 3, 7, 10, 1, 3, 8, 3, 1, 7, 8, 9, 6, 9, 4, 5, 6, 7, 6, 8, 1, 2, 6, 9, 5, 5, 8, 9, 6, 1, 2, 6, 10, 9, 1, 2, 5, 6, 8, 5, 1, 5, 8, 9, 10, 2, 7, 8, 10, 8, 5], \"Freq\": [0.9893733859062195, 0.9945241212844849, 0.1459817737340927, 0.84669429063797, 0.988709568977356, 0.17469912767410278, 0.06165851652622223, 0.12331703305244446, 0.6371380090713501, 0.9864166378974915, 0.10436376929283142, 0.15871989727020264, 0.4261520802974701, 0.04131066054105759, 0.09131830185651779, 0.17828811705112457, 0.09561283141374588, 0.04589415714144707, 0.09943734109401703, 0.14150698482990265, 0.05354318395256996, 0.21417273581027985, 0.34420618414878845, 0.9551140666007996, 0.7580851316452026, 0.053601980209350586, 0.04594455286860466, 0.08423168212175369, 0.053601980209350586, 0.9874788522720337, 0.9871362447738647, 0.9110449552536011, 0.08463259041309357, 0.9809252023696899, 0.9788726568222046, 0.9476247429847717, 0.9872157573699951, 0.9865804314613342, 0.9917691946029663, 0.19028005003929138, 0.07135501503944397, 0.737335205078125, 0.9721318483352661, 0.0886823832988739, 0.22170595824718475, 0.1379503756761551, 0.19214516878128052, 0.1773647665977478, 0.1773647665977478, 0.8667621612548828, 0.121650829911232, 0.9741832613945007, 0.9930179119110107, 0.4368591904640198, 0.3218962550163269, 0.13795553147792816, 0.09197035431861877, 0.07687795162200928, 0.12080821394920349, 0.1427733451128006, 0.6589539051055908, 0.9776232838630676, 0.9895740747451782, 0.9770432114601135, 0.982802152633667, 0.9734618663787842, 0.6406936645507812, 0.3203468322753906, 0.034170329570770264, 0.9774858355522156, 0.9811207056045532, 0.9734463691711426, 0.0477263480424881, 0.6633962392807007, 0.12886114418506622, 0.05727161839604378, 0.0954526960849762, 0.9933071136474609, 0.9834333658218384, 0.9954176545143127, 0.9765444397926331, 0.08381970971822739, 0.036443352699279785, 0.4810522496700287, 0.3972325325012207, 0.992682158946991, 0.9874812364578247, 0.9719576239585876, 0.04602580517530441, 0.23933418095111847, 0.7180025577545166, 0.9839723110198975, 0.9890581965446472, 0.9916026592254639, 0.11040794104337692, 0.022843021899461746, 0.022843021899461746, 0.03426453471183777, 0.0494932159781456, 0.09137208759784698, 0.4340174198150635, 0.06091472879052162, 0.17512984573841095, 0.22764059901237488, 0.7682870030403137, 0.9906233549118042, 0.9919847249984741, 0.04741683602333069, 0.055319640785455704, 0.15015330910682678, 0.7428637146949768, 0.9642761945724487, 0.9952247142791748, 0.9922155141830444, 0.9768260717391968, 0.9918426275253296, 0.9885161519050598, 0.9703807234764099, 0.9634671211242676, 0.9612076878547668, 0.9885138273239136, 0.9820508360862732, 0.9922598004341125, 0.997900128364563, 0.05283353477716446, 0.042927250266075134, 0.07925030589103699, 0.4391787648200989, 0.1684069037437439, 0.18161527812480927, 0.03632305562496185, 0.9914312362670898, 0.17350482940673828, 0.1020616665482521, 0.12247399985790253, 0.3214942514896393, 0.22453565895557404, 0.05103083327412605, 0.09236461669206619, 0.3983224332332611, 0.0173183660954237, 0.3059577941894531, 0.19050203263759613, 0.9830944538116455, 0.048397041857242584, 0.7420879602432251, 0.20972052216529846, 0.7068681716918945, 0.20089936256408691, 0.0892886072397232, 0.9526970982551575, 0.9597007036209106, 0.9511901140213013, 0.04064914956688881, 0.9699434638023376, 0.9629369378089905, 0.25510555505752563, 0.4411200284957886, 0.021258795633912086, 0.03720289468765259, 0.08503518253564835, 0.15944096446037292, 0.837862491607666, 0.1619398146867752, 0.9827048778533936, 0.9935704469680786, 0.9737356305122375, 0.9756132960319519, 0.9582499265670776, 0.968769907951355, 0.9614550471305847, 0.9783838987350464, 0.20956024527549744, 0.07797590643167496, 0.1851927787065506, 0.2046867460012436, 0.22905422747135162, 0.08772289007902145, 0.9621277451515198, 0.9741171598434448, 0.9727333784103394, 0.9815853834152222, 0.9736271500587463, 0.9784645438194275, 0.9818500280380249, 0.39145180583000183, 0.5024604797363281, 0.10516615211963654, 0.9807941317558289, 0.0805320218205452, 0.08202335983514786, 0.2371220737695694, 0.1968560516834259, 0.09842802584171295, 0.028335342183709145, 0.2251913994550705, 0.049214012920856476, 0.9907218217849731, 0.9883288145065308, 0.992680013179779, 0.9692769050598145, 0.990950882434845, 0.9843883514404297, 0.9498106837272644, 0.9810638427734375, 0.9642761945724487, 0.9911104440689087, 0.9875493049621582, 0.9857943654060364, 0.9784241914749146, 0.9892351627349854, 0.8318735361099243, 0.16552585363388062, 0.16363130509853363, 0.8298445343971252, 0.17358548939228058, 0.059670016169548035, 0.1247645765542984, 0.6455210447311401, 0.5725835561752319, 0.14681629836559296, 0.27161017060279846, 0.06974119693040848, 0.9205838441848755, 0.9858061671257019, 0.9815853834152222, 0.984048068523407, 0.4636157751083374, 0.37668779492378235, 0.15936791896820068, 0.8998098969459534, 0.09308378398418427, 0.9969301819801331, 0.16591379046440125, 0.8295689225196838, 0.9907234907150269, 0.9915658831596375, 0.9530088305473328, 0.7530249357223511, 0.05443553626537323, 0.1905243843793869, 0.9764909148216248, 0.9837972521781921, 0.977816641330719, 0.9894793033599854, 0.6104709506034851, 0.38268330693244934, 0.34552356600761414, 0.44603949785232544, 0.12564493715763092, 0.06910470873117447, 0.9533734321594238, 0.04455016180872917, 0.2776482105255127, 0.0663941353559494, 0.09657329320907593, 0.5492606163024902, 0.9891440272331238, 0.9871928095817566, 0.9612315893173218, 0.9912046194076538, 0.1172616183757782, 0.8710863590240479, 0.992354691028595, 0.9764286875724792, 0.9607533812522888, 0.981567919254303, 0.987394392490387, 0.9045103788375854, 0.08513038605451584, 0.9958850145339966, 0.9813694357872009, 0.4169558882713318, 0.08469416201114655, 0.20522047579288483, 0.08469416201114655, 0.07166429609060287, 0.13681365549564362, 0.9909396767616272, 0.13647672533988953, 0.21229712665081024, 0.030328160151839256, 0.030328160151839256, 0.5155787467956543, 0.06823836266994476, 0.9884593486785889, 0.052262574434280396, 0.385436475276947, 0.058795396238565445, 0.261312872171402, 0.12412361055612564, 0.11759079247713089, 0.9859055876731873, 0.9680526256561279, 0.9885982871055603, 0.9821638464927673, 0.6265770792961121, 0.19180931150913239, 0.17902202904224396, 0.9882094860076904, 0.9513108730316162, 0.9607533812522888, 0.9616565704345703, 0.9938244819641113, 0.9584240913391113, 0.07701107114553452, 0.0962638407945633, 0.6353413462638855, 0.1925276815891266, 0.9793888926506042, 0.9690423011779785, 0.9928629398345947, 0.9913288354873657, 0.9736162424087524, 0.06032545119524002, 0.7480355501174927, 0.18097634613513947, 0.9908735156059265, 0.9912046194076538, 0.9819284081459045, 0.9702668786048889, 0.22773270308971405, 0.18787947297096252, 0.5807183980941772, 0.05602748319506645, 0.2690897285938263, 0.14914357662200928, 0.09429977834224701, 0.04261245205998421, 0.04931996762752533, 0.01657150872051716, 0.2967089116573334, 0.026435501873493195, 0.9791615009307861, 0.9381510615348816, 0.03752604126930237, 0.9775335192680359, 0.9566500186920166, 0.48234066367149353, 0.4984186887741089, 0.9784645438194275, 0.99184250831604, 0.9426636695861816, 0.9925578236579895, 0.9615973830223083, 0.997305154800415, 0.983731210231781, 0.9842455983161926, 0.978583574295044, 0.9933445453643799, 0.49762633442878723, 0.49762633442878723, 0.9703608751296997, 0.9836193919181824, 0.13895320892333984, 0.8510884046554565, 0.9733783006668091, 0.9782987833023071, 0.984060525894165, 0.9786526560783386, 0.9813290238380432, 0.9818698763847351, 0.9753267765045166, 0.9977025389671326, 0.31762629747390747, 0.07639113813638687, 0.07237055152654648, 0.16082344949245453, 0.09649406373500824, 0.27339985966682434, 0.9781598448753357, 0.08710113167762756, 0.601789653301239, 0.2296302616596222, 0.07918284833431244, 0.9859007596969604, 0.986130952835083, 0.24167640507221222, 0.22234229743480682, 0.5220210552215576, 0.9576701521873474, 0.9927476048469543, 0.9953813552856445, 0.9688255786895752, 0.5747090578079224, 0.14942435920238495, 0.2701132595539093, 0.7137905359268188, 0.2771186828613281, 0.12205205857753754, 0.729261040687561, 0.14646247029304504, 0.9902831315994263, 0.9532138705253601, 0.05453736335039139, 0.927135169506073, 0.9862478375434875, 0.654000461101532, 0.3478725850582123, 0.3318284749984741, 0.6636569499969482, 0.9883267283439636, 0.9845841526985168, 0.9932724237442017, 0.07392482459545135, 0.5280344486236572, 0.17953172326087952, 0.15841034054756165, 0.06336413323879242, 0.6025266647338867, 0.13526108860969543, 0.2582257091999054, 0.13524864614009857, 0.4311050772666931, 0.4311050772666931, 0.9924874901771545, 0.9718464016914368, 0.992988109588623, 0.9709007740020752, 0.9965251684188843, 0.9642761945724487, 0.9955866932868958, 0.059912607073783875, 0.6320779919624329, 0.059912607073783875, 0.13480336964130402, 0.1138339564204216, 0.9954290390014648, 0.9810666441917419, 0.8811871409416199, 0.09275654703378677, 0.9649993181228638, 0.8344959020614624, 0.1668991893529892, 0.9880728125572205, 0.968769907951355, 0.3586675226688385, 0.09109016507863998, 0.24480482935905457, 0.30173617601394653, 0.8533933162689209, 0.1412089616060257, 0.9837654232978821, 0.9587379097938538, 0.6006848216056824, 0.12595003843307495, 0.10657311230897903, 0.17439235746860504, 0.9892268180847168, 0.9737356305122375, 0.09999536722898483, 0.09999536722898483, 0.3449840247631073, 0.11999444663524628, 0.23998889327049255, 0.08999583125114441, 0.9926354885101318, 0.43764057755470276, 0.47230517864227295, 0.08882803469896317, 0.6714099645614624, 0.04999861493706703, 0.2785637080669403, 0.836929202079773, 0.15802159905433655, 0.9929103255271912, 0.9832741618156433, 0.6436207294464111, 0.13979092240333557, 0.21259869635105133, 0.9729281663894653, 0.9736271500587463, 0.8288677334785461, 0.16991788148880005, 0.08285494148731232, 0.026927854865789413, 0.07249807566404343, 0.4018464684486389, 0.21128009259700775, 0.08906906098127365, 0.11392554640769958, 0.2806883454322815, 0.7091073989868164, 0.8267738223075867, 0.16535475850105286, 0.9916079044342041, 0.9941357970237732, 0.992020845413208, 0.7450822591781616, 0.1112063080072403, 0.1334475725889206, 0.9760968089103699, 0.975915789604187, 0.7146540880203247, 0.11910901218652725, 0.15484172105789185, 0.9924982190132141, 0.9978273510932922, 0.9428144097328186, 0.9433435201644897, 0.9640913009643555, 0.06275048851966858, 0.933413565158844, 0.06273791939020157, 0.1301230937242508, 0.276511549949646, 0.07203242182731628, 0.20680275559425354, 0.2509516775608063, 0.9875493049621582, 0.9677799940109253, 0.8263850212097168, 0.14583264291286469, 0.9859017729759216, 0.9073688983917236, 0.09073688834905624, 0.9637971520423889, 0.9797937273979187, 0.12088485062122345, 0.12088485062122345, 0.747288167476654, 0.9937984943389893, 0.982682466506958, 0.02265305630862713, 0.04530611261725426, 0.15668363869190216, 0.015102037228643894, 0.05474488437175751, 0.02265305630862713, 0.07928569614887238, 0.04530611261725426, 0.3907652199268341, 0.167066290974617, 0.973691463470459, 0.0949740782380104, 0.6885620951652527, 0.20577716827392578, 0.9841465353965759, 0.985236406326294, 0.841658890247345, 0.15685461461544037, 0.9772323966026306, 0.9673827290534973, 0.08308040350675583, 0.9020158052444458, 0.972297728061676, 0.9736254811286926, 0.9592742919921875, 0.9576701521873474, 0.9873998761177063, 0.7935848832130432, 0.20348329842090607, 0.9922677278518677, 0.9842900633811951, 0.9634671211242676, 0.9882110953330994, 0.6651620864868164, 0.12621024250984192, 0.20466525852680206, 0.9792104363441467, 0.1490037590265274, 0.03609884902834892, 0.24731551110744476, 0.1605246663093567, 0.009216727688908577, 0.11136879026889801, 0.08064636588096619, 0.19892770051956177, 0.006912545301020145, 0.9792618751525879, 0.8710741400718689, 0.11771272122859955, 0.9889975786209106, 0.9878097176551819, 0.8951307535171509, 0.0908103659749031, 0.5092998743057251, 0.058316778391599655, 0.43154415488243103, 0.20052070915699005, 0.06684023886919022, 0.051986850798130035, 0.475308358669281, 0.20794740319252014, 0.19276580214500427, 0.01752416417002678, 0.25702106952667236, 0.43226271867752075, 0.09930359572172165, 0.9842455983161926, 0.965880274772644, 0.9706894159317017, 0.97407466173172, 0.9738583564758301, 0.05138291418552399, 0.19411322474479675, 0.21695007383823395, 0.5366659760475159, 0.9891484379768372, 0.9768900871276855, 0.1795286387205124, 0.8147838711738586, 0.9711189866065979, 0.2839193642139435, 0.6956024765968323, 0.08468294143676758, 0.023095348849892616, 0.8930201530456543, 0.29216116666793823, 0.019053990021348, 0.23499920964241028, 0.12067526578903198, 0.18418855965137482, 0.14925624430179596, 0.13149170577526093, 0.8590791821479797, 0.9861108064651489, 0.9928226470947266, 0.9835219979286194, 0.13859161734580994, 0.8546482920646667, 0.04076482728123665, 0.7337668538093567, 0.220130056142807, 0.9687197208404541, 0.9793463945388794, 0.9806127548217773, 0.9969620704650879, 0.9639543890953064, 0.9912383556365967, 0.9734354615211487, 0.9950048327445984, 0.9784645438194275, 0.20835208892822266, 0.7881144285202026, 0.9634671211242676, 0.9556868672370911, 0.9582494497299194, 0.9666352272033691, 0.9776108860969543, 0.9770820736885071, 0.9812743067741394, 0.99593585729599, 0.9841814041137695, 0.9933008551597595, 0.6482245326042175, 0.33393383026123047, 0.36608490347862244, 0.052297841757535934, 0.5282081961631775, 0.052297841757535934, 0.3560299873352051, 0.6371062994003296, 0.9768615365028381, 0.997326135635376, 0.9743090867996216, 0.9538497924804688, 0.9938100576400757, 0.16114403307437897, 0.590861439704895, 0.24470019340515137, 0.2919757664203644, 0.08587522804737091, 0.4923512935638428, 0.12595033645629883, 0.9584240913391113, 0.9908721446990967, 0.9912046194076538, 0.9726783633232117, 0.7711673378944397, 0.2235267609357834, 0.14356768131256104, 0.39578115940093994, 0.058203112334012985, 0.05044269934296608, 0.3492186963558197, 0.11808765679597855, 0.8738486766815186, 0.19001026451587677, 0.66051185131073, 0.14476972818374634, 0.9935558438301086, 0.58315509557724, 0.0991363599896431, 0.31490373611450195, 0.9789478778839111, 0.03175998106598854, 0.2329065203666687, 0.3969997465610504, 0.12174659222364426, 0.1535065770149231, 0.06351996213197708, 0.15693597495555878, 0.06581186503171921, 0.3341217637062073, 0.0961865708231926, 0.34930911660194397, 0.9912046194076538, 0.2223139852285385, 0.11115699261426926, 0.6669419407844543, 0.9916492700576782, 0.40415552258491516, 0.09995244443416595, 0.19121336936950684, 0.29985731840133667, 0.9435411691665649, 0.1398540586233139, 0.36651408672332764, 0.06269320100545883, 0.11091873794794083, 0.08198341727256775, 0.06269320100545883, 0.16878938674926758, 0.9579871296882629, 0.9972548484802246, 0.991280734539032, 0.9680164456367493, 0.9639439582824707, 0.9963129162788391, 0.9835620522499084, 0.11244619637727737, 0.8791248202323914, 0.12121302634477615, 0.8658073544502258, 0.9695462584495544, 0.9836500287055969, 0.9751744866371155, 0.9826161861419678, 0.2524738013744354, 0.11221057921648026, 0.6265090703964233, 0.104023776948452, 0.18614782392978668, 0.2573219835758209, 0.38872045278549194, 0.05474935844540596, 0.9889175295829773, 0.9640913009643555, 0.9741917848587036, 0.9667304754257202, 0.951160192489624, 0.9714651107788086, 0.8990033268928528, 0.09392572194337845, 0.9634671211242676, 0.9887163639068604, 0.9888890981674194, 0.9956888556480408, 0.9740716218948364, 0.9810037612915039, 0.9606056213378906, 0.5476351976394653, 0.30281004309654236, 0.14174087345600128, 0.9842371940612793, 0.9768607020378113, 0.15644952654838562, 0.5840782523155212, 0.18773943185806274, 0.06257981061935425, 0.9926302433013916, 0.9886311292648315, 0.992845892906189, 0.22989840805530548, 0.14231805503368378, 0.6240099668502808, 0.968010425567627, 0.7816423773765564, 0.12025266885757446, 0.09448423981666565, 0.9884207248687744, 0.22556018829345703, 0.4145430326461792, 0.28042617440223694, 0.07925087958574295, 0.9687731266021729, 0.49893009662628174, 0.2679439187049866, 0.12011279910802841, 0.10163390636444092, 0.9913344383239746, 0.9933373332023621, 0.04190107807517052, 0.07237458974123001, 0.19426864385604858, 0.2818799912929535, 0.40758323669433594, 0.6125218868255615, 0.32540225982666016, 0.028711963444948196, 0.028711963444948196, 0.994903028011322, 0.9820689558982849], \"Term\": [\"abroad\", \"accused\", \"across\", \"across\", \"adam\", \"administration\", \"administration\", \"administration\", \"administration\", \"already\", \"american\", \"american\", \"american\", \"american\", \"american\", \"american\", \"amp\", \"amp\", \"amp\", \"amp\", \"amp\", \"amp\", \"amp\", \"andylassner\", \"another\", \"another\", \"another\", \"another\", \"another\", \"anti\", \"argument\", \"article\", \"article\", \"ashleyrparker\", \"ask\", \"attempt\", \"attention\", \"away\", \"ball\", \"bank\", \"bank\", \"bank\", \"behavior\", \"biden\", \"biden\", \"biden\", \"biden\", \"biden\", \"biden\", \"biggest\", \"biggest\", \"billgates\", \"birthday\", \"birx\", \"birx\", \"birx\", \"birx\", \"bleach\", \"bleach\", \"bleach\", \"bleach\", \"bless\", \"board\", \"bongino\", \"brad\", \"brady\", \"breaking\", \"breaking\", \"breaking\", \"breakthrough\", \"brhodes\", \"brianstelter\", \"briefing\", \"briefing\", \"briefing\", \"briefing\", \"briefing\", \"brock\", \"build\", \"building\", \"buried\", \"business\", \"business\", \"business\", \"business\", \"businessman\", \"cabinet\", \"cancelling\", \"care\", \"care\", \"care\", \"cbs\", \"charliekirk\", \"check\", \"china\", \"china\", \"china\", \"china\", \"china\", \"china\", \"china\", \"china\", \"china\", \"chinese\", \"chinese\", \"chris\", \"citizen\", \"clear\", \"clear\", \"clear\", \"clear\", \"clewandowski\", \"cohen\", \"collapse\", \"comb\", \"command\", \"concern\", \"concerned\", \"confirming\", \"congratulation\", \"congress\", \"connected\", \"constitutional\", \"controlling\", \"coronavirus\", \"coronavirus\", \"coronavirus\", \"coronavirus\", \"coronavirus\", \"coronavirus\", \"coronavirus\", \"countless\", \"country\", \"country\", \"country\", \"country\", \"country\", \"country\", \"covid\", \"covid\", \"covid\", \"covid\", \"covid\", \"crime\", \"cure\", \"cure\", \"cure\", \"daily\", \"daily\", \"daily\", \"dan\", \"dancrenshawtx\", \"david\", \"david\", \"davidcorndc\", \"davidjurban\", \"day\", \"day\", \"day\", \"day\", \"day\", \"day\", \"dead\", \"dead\", \"debunked\", \"deeply\", \"deface\", \"defeat\", \"defense\", \"defund\", \"deleted\", \"demand\", \"democrat\", \"democrat\", \"democrat\", \"democrat\", \"democrat\", \"democrat\", \"denied\", \"die\", \"ding\", \"directing\", \"dirt\", \"disaster\", \"discovery\", \"disinfectant\", \"disinfectant\", \"disinfectant\", \"disturbing\", \"donald\", \"donald\", \"donald\", \"donald\", \"donald\", \"donald\", \"donald\", \"donald\", \"donaldjtrumpjr\", \"donnabrazile\", \"dossier\", \"doubt\", \"duckworth\", \"early\", \"echo\", \"education\", \"elisestefanik\", \"email\", \"enthusiasm\", \"entirely\", \"era\", \"eric\", \"erictrump\", \"erictrump\", \"even\", \"even\", \"ever\", \"ever\", \"ever\", \"ever\", \"every\", \"every\", \"every\", \"everything\", \"everything\", \"evidence\", \"exclusive\", \"expected\", \"fact\", \"fact\", \"fact\", \"failed\", \"failed\", \"fake\", \"family\", \"family\", \"far\", \"fauci\", \"favor\", \"fbi\", \"fbi\", \"fbi\", \"february\", \"feel\", \"filing\", \"financial\", \"firm\", \"firm\", \"first\", \"first\", \"first\", \"first\", \"flotus\", \"flotus\", \"flynn\", \"flynn\", \"flynn\", \"flynn\", \"foot\", \"foreign\", \"forget\", \"founder\", \"fox\", \"fox\", \"fraud\", \"fraudulent\", \"fred\", \"friday\", \"fuck\", \"funder\", \"funder\", \"future\", \"gatewaypundit\", \"get\", \"get\", \"get\", \"get\", \"get\", \"get\", \"gigantic\", \"give\", \"give\", \"give\", \"give\", \"give\", \"give\", \"god\", \"going\", \"going\", \"going\", \"going\", \"going\", \"going\", \"golf\", \"gone\", \"gonna\", \"gopchairwoman\", \"got\", \"got\", \"got\", \"graduate\", \"greatest\", \"guttenberg\", \"halper\", \"happy\", \"hardworking\", \"health\", \"health\", \"health\", \"health\", \"hear\", \"held\", \"hell\", \"herridge\", \"hillary\", \"hold\", \"hold\", \"hold\", \"holder\", \"holier\", \"home\", \"honor\", \"house\", \"house\", \"house\", \"http\", \"http\", \"http\", \"http\", \"http\", \"http\", \"http\", \"http\", \"http\", \"humorpadawan\", \"idiot\", \"idiot\", \"imagine\", \"immediately\", \"immigrant\", \"immigrant\", \"imploding\", \"indebted\", \"infrastructure\", \"inject\", \"injection\", \"interest\", \"interview\", \"investig\", \"ivankatrump\", \"jessiejaneduff\", \"joebiden\", \"joebiden\", \"joelockhart\", \"jojamkls\", \"joke\", \"joke\", \"jong\", \"july\", \"kaepernick\", \"kamalaharris\", \"killed\", \"killing\", \"kim\", \"knew\", \"know\", \"know\", \"know\", \"know\", \"know\", \"know\", \"kristenclarkejd\", \"kylegriffin\", \"kylegriffin\", \"kylegriffin\", \"kylegriffin\", \"lady\", \"laura\", \"law\", \"law\", \"law\", \"ldmts\", \"leaked\", \"lefty\", \"libs\", \"lie\", \"lie\", \"lie\", \"light\", \"light\", \"like\", \"like\", \"like\", \"line\", \"literally\", \"longer\", \"longer\", \"looking\", \"los\", \"los\", \"love\", \"love\", \"lunch\", \"lying\", \"lysol\", \"made\", \"made\", \"made\", \"made\", \"made\", \"maga\", \"maga\", \"maga\", \"make\", \"make\", \"make\", \"managing\", \"married\", \"mask\", \"master\", \"matter\", \"mattgaetz\", \"mccain\", \"medium\", \"medium\", \"medium\", \"medium\", \"medium\", \"melania\", \"meltdown\", \"member\", \"member\", \"memo\", \"mental\", \"mental\", \"michael\", \"microchip\", \"million\", \"million\", \"million\", \"million\", \"mocking\", \"mocking\", \"morning\", \"moron\", \"much\", \"much\", \"much\", \"much\", \"nancy\", \"nastier\", \"need\", \"need\", \"need\", \"need\", \"need\", \"need\", \"neglecting\", \"news\", \"news\", \"news\", \"nobel\", \"nobel\", \"nobel\", \"noble\", \"noble\", \"non\", \"nonstop\", \"obama\", \"obama\", \"obama\", \"obsession\", \"obtain\", \"office\", \"office\", \"one\", \"one\", \"one\", \"one\", \"one\", \"one\", \"one\", \"open\", \"open\", \"order\", \"order\", \"others\", \"owes\", \"page\", \"pandemic\", \"pandemic\", \"pandemic\", \"paper\", \"paragraph\", \"part\", \"part\", \"part\", \"party\", \"passive\", \"paying\", \"peace\", \"peacefully\", \"pelosi\", \"pelosi\", \"people\", \"people\", \"people\", \"people\", \"people\", \"people\", \"pitched\", \"pitt\", \"plan\", \"plan\", \"played\", \"point\", \"point\", \"police\", \"politico\", \"poll\", \"poll\", \"poll\", \"power\", \"pres\", \"president\", \"president\", \"president\", \"president\", \"president\", \"president\", \"president\", \"president\", \"president\", \"president\", \"presidente\", \"press\", \"press\", \"press\", \"presssec\", \"prevent\", \"prize\", \"prize\", \"promoting\", \"prop\", \"propaganda\", \"propaganda\", \"proud\", \"pushing\", \"putin\", \"puxf\", \"qjpwr\", \"que\", \"que\", \"question\", \"quick\", \"rain\", \"rally\", \"read\", \"read\", \"read\", \"realcandaceo\", \"realdonaldtrump\", \"realdonaldtrump\", \"realdonaldtrump\", \"realdonaldtrump\", \"realdonaldtrump\", \"realdonaldtrump\", \"realdonaldtrump\", \"realdonaldtrump\", \"realdonaldtrump\", \"reject\", \"release\", \"release\", \"relief\", \"remove\", \"rep\", \"rep\", \"report\", \"report\", \"report\", \"reporter\", \"reporter\", \"reporter\", \"reporter\", \"reporter\", \"republican\", \"republican\", \"republican\", \"republican\", \"republican\", \"requesting\", \"return\", \"retweeting\", \"rick\", \"ridiculous\", \"right\", \"right\", \"right\", \"right\", \"robreiner\", \"rooted\", \"rudygiuliani\", \"rudygiuliani\", \"run\", \"ryanafournier\", \"ryanafournier\", \"said\", \"said\", \"said\", \"say\", \"say\", \"say\", \"say\", \"say\", \"say\", \"schiff\", \"schiff\", \"seeing\", \"seems\", \"seething\", \"sen\", \"sen\", \"senate\", \"senate\", \"senate\", \"sfpelosi\", \"shit\", \"shooting\", \"show\", \"shut\", \"sick\", \"sidneypowell\", \"slime\", \"slippi\", \"small\", \"small\", \"smell\", \"social\", \"soul\", \"speaking\", \"speaks\", \"special\", \"spell\", \"spends\", \"spoke\", \"stand\", \"start\", \"start\", \"state\", \"state\", \"state\", \"state\", \"story\", \"story\", \"stranded\", \"strzok\", \"stunning\", \"stupidity\", \"suggest\", \"supporter\", \"supporter\", \"supporter\", \"sure\", \"sure\", \"sure\", \"sure\", \"swears\", \"tammy\", \"targeting\", \"team\", \"teamtrump\", \"teamtrump\", \"tell\", \"tell\", \"tell\", \"tell\", \"tell\", \"ten\", \"ten\", \"thank\", \"thank\", \"thank\", \"thedailybeast\", \"therickwilson\", \"therickwilson\", \"therickwilson\", \"therightmelissa\", \"thing\", \"thing\", \"thing\", \"thing\", \"thing\", \"thing\", \"think\", \"think\", \"think\", \"think\", \"think\", \"thou\", \"thought\", \"thought\", \"thought\", \"tie\", \"time\", \"time\", \"time\", \"time\", \"tip\", \"today\", \"today\", \"today\", \"today\", \"today\", \"today\", \"today\", \"together\", \"tomfitton\", \"total\", \"touch\", \"treatment\", \"tribelaw\", \"tried\", \"tru\", \"tru\", \"true\", \"true\", \"truly\", \"trum\", \"trumpstudents\", \"truth\", \"turned\", \"turned\", \"turned\", \"tweet\", \"tweet\", \"tweet\", \"tweet\", \"tweet\", \"two\", \"unarmed\", \"united\", \"unsurprisingly\", \"usps\", \"vaccine\", \"via\", \"via\", \"vindication\", \"violates\", \"visitor\", \"vote\", \"wallace\", \"walmart\", \"walshfreedom\", \"want\", \"want\", \"want\", \"wanted\", \"washingtonpost\", \"watch\", \"watch\", \"watch\", \"watch\", \"wealthy\", \"weird\", \"west\", \"white\", \"white\", \"white\", \"wilson\", \"win\", \"win\", \"win\", \"wonder\", \"work\", \"work\", \"work\", \"work\", \"working\", \"world\", \"world\", \"world\", \"world\", \"worse\", \"worst\", \"would\", \"would\", \"would\", \"would\", \"would\", \"year\", \"year\", \"year\", \"year\", \"yes\", \"york\"]}, \"R\": 30, \"lambda.step\": 0.01, \"plot.opts\": {\"xlab\": \"PC1\", \"ylab\": \"PC2\"}, \"topic.order\": [1, 2, 3, 4, 5, 6, 7, 8, 9, 10]};\n",
       "\n",
       "function LDAvis_load_lib(url, callback){\n",
       "  var s = document.createElement('script');\n",
       "  s.src = url;\n",
       "  s.async = true;\n",
       "  s.onreadystatechange = s.onload = callback;\n",
       "  s.onerror = function(){console.warn(\"failed to load library \" + url);};\n",
       "  document.getElementsByTagName(\"head\")[0].appendChild(s);\n",
       "}\n",
       "\n",
       "if(typeof(LDAvis) !== \"undefined\"){\n",
       "   // already loaded: just create the visualization\n",
       "   !function(LDAvis){\n",
       "       new LDAvis(\"#\" + \"ldavis_el156414242114902806734773286\", ldavis_el156414242114902806734773286_data);\n",
       "   }(LDAvis);\n",
       "}else if(typeof define === \"function\" && define.amd){\n",
       "   // require.js is available: use it to load d3/LDAvis\n",
       "   require.config({paths: {d3: \"https://cdnjs.cloudflare.com/ajax/libs/d3/3.5.5/d3.min\"}});\n",
       "   require([\"d3\"], function(d3){\n",
       "      window.d3 = d3;\n",
       "      LDAvis_load_lib(\"https://cdn.rawgit.com/bmabey/pyLDAvis/files/ldavis.v1.0.0.js\", function(){\n",
       "        new LDAvis(\"#\" + \"ldavis_el156414242114902806734773286\", ldavis_el156414242114902806734773286_data);\n",
       "      });\n",
       "    });\n",
       "}else{\n",
       "    // require.js not available: dynamically load d3 & LDAvis\n",
       "    LDAvis_load_lib(\"https://cdnjs.cloudflare.com/ajax/libs/d3/3.5.5/d3.min.js\", function(){\n",
       "         LDAvis_load_lib(\"https://cdn.rawgit.com/bmabey/pyLDAvis/files/ldavis.v1.0.0.js\", function(){\n",
       "                 new LDAvis(\"#\" + \"ldavis_el156414242114902806734773286\", ldavis_el156414242114902806734773286_data);\n",
       "            })\n",
       "         });\n",
       "}\n",
       "</script>"
      ],
      "text/plain": [
       "PreparedData(topic_coordinates=              x         y  topics  cluster       Freq\n",
       "topic                                                \n",
       "0     -0.047824 -0.312913       1        1  10.782909\n",
       "1      0.063830  0.026852       2        1  11.531440\n",
       "2     -0.354159  0.097876       3        1   6.792275\n",
       "3      0.172072  0.044664       4        1   9.263099\n",
       "4      0.071143 -0.078661       5        1   8.524375\n",
       "5      0.030827  0.117051       6        1  11.133283\n",
       "6     -0.076489 -0.065304       7        1   9.732823\n",
       "7      0.013193  0.071442       8        1   8.757613\n",
       "8      0.063484 -0.049166       9        1  14.672054\n",
       "9      0.063924  0.148160      10        1   8.810134, topic_info=     Category         Freq             Term        Total  loglift  logprob\n",
       "5     Default  2534.000000             http  2534.000000  30.0000  30.0000\n",
       "40    Default   461.000000             news   461.000000  29.0000  29.0000\n",
       "54    Default   272.000000           strzok   272.000000  28.0000  28.0000\n",
       "41    Default  1301.000000  realdonaldtrump  1301.000000  27.0000  27.0000\n",
       "90    Default   333.000000           medium   333.000000  26.0000  26.0000\n",
       "894   Default   219.000000              yes   219.000000  25.0000  25.0000\n",
       "186   Default   327.000000             like   327.000000  24.0000  24.0000\n",
       "51    Default   343.000000            obama   343.000000  23.0000  23.0000\n",
       "38    Default   227.000000             fake   227.000000  22.0000  22.0000\n",
       "53    Default   197.000000             show   197.000000  21.0000  21.0000\n",
       "100   Default   259.000000             said   259.000000  20.0000  20.0000\n",
       "177   Default   261.000000            prize   261.000000  19.0000  19.0000\n",
       "10    Default  1059.000000        president  1059.000000  18.0000  18.0000\n",
       "320   Default   351.000000          million   351.000000  17.0000  17.0000\n",
       "197   Default   241.000000           office   241.000000  16.0000  16.0000\n",
       "410   Default   156.000000           matter   156.000000  15.0000  15.0000\n",
       "104   Default   235.000000        erictrump   235.000000  14.0000  14.0000\n",
       "102   Default   153.000000             vote   153.000000  13.0000  13.0000\n",
       "306   Default   293.000000             read   293.000000  12.0000  12.0000\n",
       "673   Default   175.000000              non   175.000000  11.0000  11.0000\n",
       "668   Default   174.000000         building   174.000000  10.0000  10.0000\n",
       "671   Default   174.000000         interest   174.000000   9.0000   9.0000\n",
       "669   Default   174.000000      businessman   174.000000   8.0000   8.0000\n",
       "43    Default   234.000000         breaking   234.000000   7.0000   7.0000\n",
       "667   Default   200.000000          article   200.000000   6.0000   6.0000\n",
       "670   Default   170.000000      controlling   170.000000   5.0000   5.0000\n",
       "672   Default   170.000000         managing   170.000000   4.0000   4.0000\n",
       "148   Default   482.000000              one   482.000000   3.0000   3.0000\n",
       "46    Default   220.000000              fbi   220.000000   2.0000   2.0000\n",
       "47    Default   158.000000             knew   158.000000   1.0000   1.0000\n",
       "...       ...          ...              ...          ...      ...      ...\n",
       "218   Topic10    52.381355         stranded    53.231701   2.4132  -5.0129\n",
       "1467  Topic10    50.993065        interview    51.843430   2.4127  -5.0397\n",
       "368   Topic10    50.535042            party    51.385483   2.4126  -5.0487\n",
       "215   Topic10    49.520611       neglecting    50.370956   2.4122  -5.0690\n",
       "1548  Topic10    45.274479           defeat    46.124832   2.4107  -5.1587\n",
       "1547  Topic10    44.882641              cbs    45.732994   2.4105  -5.1674\n",
       "1551  Topic10    43.323097     sidneypowell    44.173447   2.4098  -5.2027\n",
       "1552  Topic10    42.257114         stunning    43.107471   2.4093  -5.2276\n",
       "1545  Topic10    41.696953         argument    42.547318   2.4091  -5.2410\n",
       "1550  Topic10    41.517029         herridge    42.367374   2.4090  -5.2453\n",
       "462   Topic10    38.602745         congress    39.453167   2.4075  -5.3181\n",
       "1546  Topic10    38.185596            brady    39.035942   2.4072  -5.3290\n",
       "1549  Topic10    38.011745           filing    38.862091   2.4071  -5.3335\n",
       "881   Topic10    34.068253       presidente    34.918659   2.4046  -5.4430\n",
       "734   Topic10    33.751057            truth    34.601505   2.4044  -5.4524\n",
       "1362  Topic10    31.684378            tried    32.534805   2.4028  -5.5156\n",
       "1312  Topic10    31.038317         behavior    31.888680   2.4022  -5.5362\n",
       "216   Topic10   119.137779           pelosi   127.489044   2.3615  -4.1911\n",
       "134   Topic10    93.593178            clear   126.537338   2.1277  -4.4325\n",
       "32    Topic10   118.715378             ever   184.347198   1.9892  -4.1947\n",
       "828   Topic10    91.139046            flynn   165.677277   1.8316  -4.4590\n",
       "219   Topic10   106.794083            would   262.523071   1.5298  -4.3005\n",
       "10    Topic10   176.639694        president  1059.459717   0.6379  -3.7973\n",
       "26    Topic10    89.552284             tell   257.718170   1.3722  -4.4766\n",
       "217   Topic10   108.278374           people   430.361755   1.0493  -4.2867\n",
       "211   Topic10    82.068245         american   459.929718   0.7057  -4.5639\n",
       "306   Topic10    59.938797             read   293.161621   0.8419  -4.8781\n",
       "5     Topic10    67.114510             http  2534.470459  -1.2021  -4.7650\n",
       "439   Topic10    47.126366              say   314.894684   0.5299  -5.1186\n",
       "144   Topic10    45.810635            china   262.662262   0.6829  -5.1469\n",
       "\n",
       "[532 rows x 6 columns], token_table=      Topic      Freq            Term\n",
       "term                                 \n",
       "210      10  0.989373          abroad\n",
       "403       3  0.994524         accused\n",
       "654       2  0.145982          across\n",
       "654       7  0.846694          across\n",
       "184       6  0.988710            adam\n",
       "86        1  0.174699  administration\n",
       "86        3  0.061659  administration\n",
       "86        4  0.123317  administration\n",
       "86        7  0.637138  administration\n",
       "1759      7  0.986417         already\n",
       "211       4  0.104364        american\n",
       "211       5  0.158720        american\n",
       "211       6  0.426152        american\n",
       "211       7  0.041311        american\n",
       "211       9  0.091318        american\n",
       "211      10  0.178288        american\n",
       "143       1  0.095613             amp\n",
       "143       2  0.045894             amp\n",
       "143       5  0.099437             amp\n",
       "143       6  0.141507             amp\n",
       "143       7  0.053543             amp\n",
       "143       8  0.214173             amp\n",
       "143       9  0.344206             amp\n",
       "229       5  0.955114     andylassner\n",
       "37        1  0.758085         another\n",
       "37        5  0.053602         another\n",
       "37        7  0.045945         another\n",
       "37        9  0.084232         another\n",
       "37       10  0.053602         another\n",
       "327       4  0.987479            anti\n",
       "...     ...       ...             ...\n",
       "346       2  0.229898           white\n",
       "346       6  0.142318           white\n",
       "346       9  0.624010           white\n",
       "1725      5  0.968010          wilson\n",
       "771       5  0.781642             win\n",
       "771       8  0.120253             win\n",
       "771       9  0.094484             win\n",
       "326       6  0.988421          wonder\n",
       "726       1  0.225560            work\n",
       "726       2  0.414543            work\n",
       "726       6  0.280426            work\n",
       "726      10  0.079251            work\n",
       "36        9  0.968773         working\n",
       "71        1  0.498930           world\n",
       "71        2  0.267944           world\n",
       "71        5  0.120113           world\n",
       "71        6  0.101634           world\n",
       "574       8  0.991334           worse\n",
       "241       5  0.993337           worst\n",
       "219       1  0.041901           would\n",
       "219       5  0.072375           would\n",
       "219       8  0.194269           would\n",
       "219       9  0.281880           would\n",
       "219      10  0.407583           would\n",
       "748       2  0.612522            year\n",
       "748       7  0.325402            year\n",
       "748       8  0.028712            year\n",
       "748      10  0.028712            year\n",
       "894       8  0.994903             yes\n",
       "1492      5  0.982069            york\n",
       "\n",
       "[794 rows x 3 columns], R=30, lambda_step=0.01, plot_opts={'xlab': 'PC1', 'ylab': 'PC2'}, topic_order=[1, 2, 3, 4, 5, 6, 7, 8, 9, 10])"
      ]
     },
     "execution_count": 737,
     "metadata": {},
     "output_type": "execute_result"
    }
   ],
   "source": [
    "# what is the most popular topic?\n",
    "import pyLDAvis.gensim\n",
    "pyLDAvis.enable_notebook()\n",
    "pyLDAvis.gensim.prepare(model, corpus, dictionary, sort_topics=False)\n"
   ]
  },
  {
   "cell_type": "code",
   "execution_count": 738,
   "metadata": {},
   "outputs": [],
   "source": [
    "def listify(l):\n",
    "    res = []\n",
    "    for j in l:\n",
    "        d = dict([(i, 0) for i in range(10)])  # create a dictionary: use range(8) for 8 topics\n",
    "        d.update(j)\n",
    "        #res.append(list(d.items()))  # saving both keys and values\n",
    "        #res.append(list(d.keys()))   # saving keys \n",
    "        res.append(list(d.values()))  # saving values\n",
    "    return res"
   ]
  },
  {
   "cell_type": "code",
   "execution_count": 739,
   "metadata": {},
   "outputs": [
    {
     "data": {
      "text/html": [
       "<div>\n",
       "<style scoped>\n",
       "    .dataframe tbody tr th:only-of-type {\n",
       "        vertical-align: middle;\n",
       "    }\n",
       "\n",
       "    .dataframe tbody tr th {\n",
       "        vertical-align: top;\n",
       "    }\n",
       "\n",
       "    .dataframe thead th {\n",
       "        text-align: right;\n",
       "    }\n",
       "</style>\n",
       "<table border=\"1\" class=\"dataframe\">\n",
       "  <thead>\n",
       "    <tr style=\"text-align: right;\">\n",
       "      <th></th>\n",
       "      <th>0</th>\n",
       "      <th>1</th>\n",
       "      <th>2</th>\n",
       "      <th>3</th>\n",
       "      <th>4</th>\n",
       "      <th>5</th>\n",
       "      <th>6</th>\n",
       "      <th>7</th>\n",
       "      <th>8</th>\n",
       "      <th>9</th>\n",
       "    </tr>\n",
       "  </thead>\n",
       "  <tbody>\n",
       "    <tr>\n",
       "      <th>0</th>\n",
       "      <td>0.050001</td>\n",
       "      <td>0.050001</td>\n",
       "      <td>0.050001</td>\n",
       "      <td>0.050005</td>\n",
       "      <td>0.549983</td>\n",
       "      <td>0.050001</td>\n",
       "      <td>0.050001</td>\n",
       "      <td>0.050001</td>\n",
       "      <td>0.050001</td>\n",
       "      <td>0.050001</td>\n",
       "    </tr>\n",
       "    <tr>\n",
       "      <th>1</th>\n",
       "      <td>0.000000</td>\n",
       "      <td>0.000000</td>\n",
       "      <td>0.000000</td>\n",
       "      <td>0.000000</td>\n",
       "      <td>0.000000</td>\n",
       "      <td>0.000000</td>\n",
       "      <td>0.000000</td>\n",
       "      <td>0.000000</td>\n",
       "      <td>0.924988</td>\n",
       "      <td>0.000000</td>\n",
       "    </tr>\n",
       "    <tr>\n",
       "      <th>2</th>\n",
       "      <td>0.000000</td>\n",
       "      <td>0.000000</td>\n",
       "      <td>0.000000</td>\n",
       "      <td>0.000000</td>\n",
       "      <td>0.918178</td>\n",
       "      <td>0.000000</td>\n",
       "      <td>0.000000</td>\n",
       "      <td>0.000000</td>\n",
       "      <td>0.000000</td>\n",
       "      <td>0.000000</td>\n",
       "    </tr>\n",
       "    <tr>\n",
       "      <th>3</th>\n",
       "      <td>0.010000</td>\n",
       "      <td>0.909997</td>\n",
       "      <td>0.010000</td>\n",
       "      <td>0.010000</td>\n",
       "      <td>0.010000</td>\n",
       "      <td>0.010000</td>\n",
       "      <td>0.010000</td>\n",
       "      <td>0.010000</td>\n",
       "      <td>0.010000</td>\n",
       "      <td>0.010001</td>\n",
       "    </tr>\n",
       "    <tr>\n",
       "      <th>4</th>\n",
       "      <td>0.011115</td>\n",
       "      <td>0.011116</td>\n",
       "      <td>0.011115</td>\n",
       "      <td>0.011117</td>\n",
       "      <td>0.011115</td>\n",
       "      <td>0.123183</td>\n",
       "      <td>0.126243</td>\n",
       "      <td>0.011116</td>\n",
       "      <td>0.672758</td>\n",
       "      <td>0.011123</td>\n",
       "    </tr>\n",
       "  </tbody>\n",
       "</table>\n",
       "</div>"
      ],
      "text/plain": [
       "          0         1         2         3         4         5         6  \\\n",
       "0  0.050001  0.050001  0.050001  0.050005  0.549983  0.050001  0.050001   \n",
       "1  0.000000  0.000000  0.000000  0.000000  0.000000  0.000000  0.000000   \n",
       "2  0.000000  0.000000  0.000000  0.000000  0.918178  0.000000  0.000000   \n",
       "3  0.010000  0.909997  0.010000  0.010000  0.010000  0.010000  0.010000   \n",
       "4  0.011115  0.011116  0.011115  0.011117  0.011115  0.123183  0.126243   \n",
       "\n",
       "          7         8         9  \n",
       "0  0.050001  0.050001  0.050001  \n",
       "1  0.000000  0.924988  0.000000  \n",
       "2  0.000000  0.000000  0.000000  \n",
       "3  0.010000  0.010000  0.010001  \n",
       "4  0.011116  0.672758  0.011123  "
      ]
     },
     "execution_count": 739,
     "metadata": {},
     "output_type": "execute_result"
    }
   ],
   "source": [
    "z = listify(results)\n",
    "dtd = pd.DataFrame(z)  # dtd: document topic distribution\n",
    "dtd.head()"
   ]
  },
  {
   "cell_type": "code",
   "execution_count": 740,
   "metadata": {},
   "outputs": [
    {
     "data": {
      "text/plain": [
       "8    0.148990\n",
       "1    0.120188\n",
       "5    0.101642\n",
       "0    0.101332\n",
       "6    0.096557\n",
       "4    0.084746\n",
       "7    0.083959\n",
       "3    0.083190\n",
       "9    0.082722\n",
       "2    0.060911\n",
       "dtype: float64"
      ]
     },
     "execution_count": 740,
     "metadata": {},
     "output_type": "execute_result"
    }
   ],
   "source": [
    "# for example, we can find out which topic is most prevalent, based on \"document-topic distribution\"?\n",
    "\n",
    "#dtd.sum(axis=0)  # find column sum          # axis=1 --> row sum\n",
    "#dtd.sum(axis=0).sort_values(ascending=False)\n",
    "dtd.sum(axis=0).sort_values(ascending=False) / len(dtd)   # topic prevalence or popularity"
   ]
  },
  {
   "cell_type": "code",
   "execution_count": 741,
   "metadata": {},
   "outputs": [
    {
     "data": {
      "image/png": "[encoded data removed]",
      "text/plain": [
       "<Figure size 432x288 with 1 Axes>"
      ]
     },
     "metadata": {
      "needs_background": "light"
     },
     "output_type": "display_data"
    }
   ],
   "source": [
    "# visualize topic prevalence (from most popular to least popular using horizontal bar)\n",
    "\n",
    "(dtd.sum(axis=0).sort_values() / len(dtd)).plot(kind='barh');"
   ]
  },
  {
   "cell_type": "markdown",
   "metadata": {},
   "source": [
    "### The most popular topic: \n",
    "    - Topic 8"
   ]
  },
  {
   "cell_type": "code",
   "execution_count": 742,
   "metadata": {},
   "outputs": [
    {
     "data": {
      "image/png": "[encoded data removed]",
      "text/plain": [
       "<Figure size 432x288 with 1 Axes>"
      ]
     },
     "metadata": {
      "needs_background": "light"
     },
     "output_type": "display_data"
    }
   ],
   "source": [
    "# Word cloud for the most poular topic\n",
    "\n",
    "# Showing WordCloud for most prevalent topic - Topic #8\n",
    "\n",
    "plt.figure()\n",
    "plt.imshow(WordCloud().fit_words(dict(model.show_topic(8,20))))\n",
    "plt.axis(\"off\")\n",
    "plt.title(\"Topic #8\");"
   ]
  },
  {
   "cell_type": "markdown",
   "metadata": {},
   "source": [
    "# Network Analytics\n",
    "\n",
    "- Prepare network data in Jupyter notebook\n",
    "- Visualize and analyze the network data in **Gephi**\n",
    "- Review **Lab_Advanced_Network_Analytics.ipynb**"
   ]
  },
  {
   "cell_type": "markdown",
   "metadata": {},
   "source": [
    "## Mention network\n",
    "\n",
    "- prepare mention network "
   ]
  },
  {
   "cell_type": "code",
   "execution_count": 743,
   "metadata": {},
   "outputs": [
    {
     "data": {
      "text/html": [
       "<div>\n",
       "<style scoped>\n",
       "    .dataframe tbody tr th:only-of-type {\n",
       "        vertical-align: middle;\n",
       "    }\n",
       "\n",
       "    .dataframe tbody tr th {\n",
       "        vertical-align: top;\n",
       "    }\n",
       "\n",
       "    .dataframe thead th {\n",
       "        text-align: right;\n",
       "    }\n",
       "</style>\n",
       "<table border=\"1\" class=\"dataframe\">\n",
       "  <thead>\n",
       "    <tr style=\"text-align: right;\">\n",
       "      <th></th>\n",
       "      <th>id</th>\n",
       "      <th>created at</th>\n",
       "      <th>text</th>\n",
       "      <th>screen name</th>\n",
       "      <th>followers_count</th>\n",
       "      <th>friends_count</th>\n",
       "      <th>name</th>\n",
       "      <th>lat</th>\n",
       "      <th>lon</th>\n",
       "      <th>place name</th>\n",
       "      <th>place type</th>\n",
       "    </tr>\n",
       "  </thead>\n",
       "  <tbody>\n",
       "    <tr>\n",
       "      <th>0</th>\n",
       "      <td>1254587263398240256</td>\n",
       "      <td>Mon Apr 27 01:44:47 +0000 2020</td>\n",
       "      <td>RT @TeamPelosi: The president is asking you to...</td>\n",
       "      <td>JbthomJohn</td>\n",
       "      <td>11081</td>\n",
       "      <td>11864</td>\n",
       "      <td>John</td>\n",
       "      <td>NaN</td>\n",
       "      <td>NaN</td>\n",
       "      <td>NaN</td>\n",
       "      <td>NaN</td>\n",
       "    </tr>\n",
       "    <tr>\n",
       "      <th>1</th>\n",
       "      <td>1254587263570153473</td>\n",
       "      <td>Mon Apr 27 01:44:47 +0000 2020</td>\n",
       "      <td>RT @RepAdamSchiff: There’s a disturbing echo i...</td>\n",
       "      <td>leehall11</td>\n",
       "      <td>406</td>\n",
       "      <td>789</td>\n",
       "      <td>🅛🅔🅔</td>\n",
       "      <td>NaN</td>\n",
       "      <td>NaN</td>\n",
       "      <td>NaN</td>\n",
       "      <td>NaN</td>\n",
       "    </tr>\n",
       "    <tr>\n",
       "      <th>2</th>\n",
       "      <td>1254587263603924992</td>\n",
       "      <td>Mon Apr 27 01:44:47 +0000 2020</td>\n",
       "      <td>RT @TheRickWilson: Trump Is Seething About Mic...</td>\n",
       "      <td>psu4joe</td>\n",
       "      <td>1592</td>\n",
       "      <td>1976</td>\n",
       "      <td>Sylvia  Henry</td>\n",
       "      <td>NaN</td>\n",
       "      <td>NaN</td>\n",
       "      <td>NaN</td>\n",
       "      <td>NaN</td>\n",
       "    </tr>\n",
       "    <tr>\n",
       "      <th>3</th>\n",
       "      <td>1254587263717163008</td>\n",
       "      <td>Mon Apr 27 01:44:47 +0000 2020</td>\n",
       "      <td>RT @coleyworld: Fuck Trump and his “I’m the ha...</td>\n",
       "      <td>LukaLuke966</td>\n",
       "      <td>1267</td>\n",
       "      <td>2832</td>\n",
       "      <td>Luka Luke🍀🌱🌿</td>\n",
       "      <td>NaN</td>\n",
       "      <td>NaN</td>\n",
       "      <td>NaN</td>\n",
       "      <td>NaN</td>\n",
       "    </tr>\n",
       "    <tr>\n",
       "      <th>4</th>\n",
       "      <td>1254587263893323776</td>\n",
       "      <td>Mon Apr 27 01:44:47 +0000 2020</td>\n",
       "      <td>RT @realDonaldTrump: Laura, just another Fake ...</td>\n",
       "      <td>agk_amy</td>\n",
       "      <td>1452</td>\n",
       "      <td>1165</td>\n",
       "      <td>Deporable American Cult45</td>\n",
       "      <td>NaN</td>\n",
       "      <td>NaN</td>\n",
       "      <td>NaN</td>\n",
       "      <td>NaN</td>\n",
       "    </tr>\n",
       "  </tbody>\n",
       "</table>\n",
       "</div>"
      ],
      "text/plain": [
       "                    id                      created at  \\\n",
       "0  1254587263398240256  Mon Apr 27 01:44:47 +0000 2020   \n",
       "1  1254587263570153473  Mon Apr 27 01:44:47 +0000 2020   \n",
       "2  1254587263603924992  Mon Apr 27 01:44:47 +0000 2020   \n",
       "3  1254587263717163008  Mon Apr 27 01:44:47 +0000 2020   \n",
       "4  1254587263893323776  Mon Apr 27 01:44:47 +0000 2020   \n",
       "\n",
       "                                                text  screen name  \\\n",
       "0  RT @TeamPelosi: The president is asking you to...   JbthomJohn   \n",
       "1  RT @RepAdamSchiff: There’s a disturbing echo i...    leehall11   \n",
       "2  RT @TheRickWilson: Trump Is Seething About Mic...      psu4joe   \n",
       "3  RT @coleyworld: Fuck Trump and his “I’m the ha...  LukaLuke966   \n",
       "4  RT @realDonaldTrump: Laura, just another Fake ...      agk_amy   \n",
       "\n",
       "   followers_count  friends_count                       name  lat  lon  \\\n",
       "0            11081          11864                       John  NaN  NaN   \n",
       "1              406            789                        🅛🅔🅔  NaN  NaN   \n",
       "2             1592           1976              Sylvia  Henry  NaN  NaN   \n",
       "3             1267           2832               Luka Luke🍀🌱🌿  NaN  NaN   \n",
       "4             1452           1165  Deporable American Cult45  NaN  NaN   \n",
       "\n",
       "  place name place type  \n",
       "0        NaN        NaN  \n",
       "1        NaN        NaN  \n",
       "2        NaN        NaN  \n",
       "3        NaN        NaN  \n",
       "4        NaN        NaN  "
      ]
     },
     "execution_count": 743,
     "metadata": {},
     "output_type": "execute_result"
    }
   ],
   "source": [
    "# uploading trump data\n",
    "df = pd.read_csv('data/tweetdata.csv')\n",
    "df.head()"
   ]
  },
  {
   "cell_type": "code",
   "execution_count": 744,
   "metadata": {},
   "outputs": [
    {
     "data": {
      "text/plain": [
       "9297"
      ]
     },
     "execution_count": 744,
     "metadata": {},
     "output_type": "execute_result"
    }
   ],
   "source": [
    "# let's process the data in list (better for text processing)\n",
    "\n",
    "tweets = df.values\n",
    "len(tweets)"
   ]
  },
  {
   "cell_type": "code",
   "execution_count": 745,
   "metadata": {},
   "outputs": [
    {
     "name": "stdout",
     "output_type": "stream",
     "text": [
      "JbthomJohn RT @TeamPelosi: The president is asking you to inject Lysol into your lungs. Please don’t do this or drink bleach. https://t.co/fSmiRvo8QG\n",
      "leehall11 RT @RepAdamSchiff: There’s a disturbing echo in Trump’s coronavirus response.\n",
      "\n",
      "From eschewing pandemic preparedness and oversight to demand…\n",
      "psu4joe RT @TheRickWilson: Trump Is Seething About Michael Cohen’s Tell-All https://t.co/qJpWR9IE4B via @thedailybeast\n",
      "LukaLuke966 RT @coleyworld: Fuck Trump and his “I’m the hardest working President EVER in all of history.” Bullshit.\n",
      "agk_amy RT @realDonaldTrump: Laura, just another Fake News Report!\n"
     ]
    }
   ],
   "source": [
    "for tweet in tweets[:5]:\n",
    "    print(tweet[3], tweet[2])"
   ]
  },
  {
   "cell_type": "code",
   "execution_count": 746,
   "metadata": {},
   "outputs": [
    {
     "data": {
      "text/plain": [
       "[['JbthomJohn',\n",
       "  'RT @TeamPelosi: The president is asking you to inject Lysol into your lungs. Please don’t do this or drink bleach. https://t.co/fSmiRvo8QG'],\n",
       " ['leehall11',\n",
       "  'RT @RepAdamSchiff: There’s a disturbing echo in Trump’s coronavirus response.\\n\\nFrom eschewing pandemic preparedness and oversight to demand…'],\n",
       " ['psu4joe',\n",
       "  'RT @TheRickWilson: Trump Is Seething About Michael Cohen’s Tell-All https://t.co/qJpWR9IE4B via @thedailybeast'],\n",
       " ['LukaLuke966',\n",
       "  'RT @coleyworld: Fuck Trump and his “I’m the hardest working President EVER in all of history.” Bullshit.'],\n",
       " ['agk_amy', 'RT @realDonaldTrump: Laura, just another Fake News Report!']]"
      ]
     },
     "execution_count": 746,
     "metadata": {},
     "output_type": "execute_result"
    }
   ],
   "source": [
    "# capturing mentions\n",
    "\n",
    "mention = []\n",
    "\n",
    "for tweet in tweets:\n",
    "    mention.append([tweet[3], tweet[2]])\n",
    "    \n",
    "mention[:5]"
   ]
  },
  {
   "cell_type": "code",
   "execution_count": 747,
   "metadata": {},
   "outputs": [
    {
     "name": "stdout",
     "output_type": "stream",
     "text": [
      "JbthomJohn RT @TeamPelosi: The president is asking you to inject Lysol into your lungs. Please don’t do this or drink bleach. https://t.co/fSmiRvo8QG\n",
      "leehall11 RT @RepAdamSchiff: There’s a disturbing echo in Trump’s coronavirus response.\n",
      "\n",
      "From eschewing pandemic preparedness and oversight to demand…\n",
      "psu4joe RT @TheRickWilson: Trump Is Seething About Michael Cohen’s Tell-All https://t.co/qJpWR9IE4B via @thedailybeast\n",
      "LukaLuke966 RT @coleyworld: Fuck Trump and his “I’m the hardest working President EVER in all of history.” Bullshit.\n",
      "agk_amy RT @realDonaldTrump: Laura, just another Fake News Report!\n"
     ]
    }
   ],
   "source": [
    "# computationally intensive ... very slow if you have a lot of data\n",
    "for i in mention[:5]:\n",
    "    print(i[0], i[1])"
   ]
  },
  {
   "cell_type": "code",
   "execution_count": 748,
   "metadata": {},
   "outputs": [
    {
     "name": "stdout",
     "output_type": "stream",
     "text": [
      "JbthomJohn ['TeamPelosi']\n",
      "leehall11 ['RepAdamSchiff']\n",
      "psu4joe ['TheRickWilson', 'thedailybeast']\n",
      "LukaLuke966 ['coleyworld']\n",
      "agk_amy ['realDonaldTrump']\n"
     ]
    }
   ],
   "source": [
    "for tweet in mention[:5]:\n",
    "    print(tweet[0], re.findall(r\"(?<=@)\\w+\", tweet[1]))"
   ]
  },
  {
   "cell_type": "code",
   "execution_count": 749,
   "metadata": {},
   "outputs": [
    {
     "name": "stdout",
     "output_type": "stream",
     "text": [
      "JbthomJohn TeamPelosi\n",
      "leehall11 RepAdamSchiff\n",
      "psu4joe TheRickWilson\n",
      "psu4joe thedailybeast\n",
      "LukaLuke966 coleyworld\n",
      "agk_amy realDonaldTrump\n"
     ]
    }
   ],
   "source": [
    "for tweet in mention[:5]:\n",
    "    a = re.findall(r\"(?<=@)\\w+\", tweet[1])\n",
    "    for i in a:\n",
    "        print(tweet[0], i)"
   ]
  },
  {
   "cell_type": "code",
   "execution_count": 750,
   "metadata": {},
   "outputs": [],
   "source": [
    "#putting everything together\n",
    "\n",
    "import csv\n",
    "\n",
    "mention = []\n",
    "for tweet in tweets:\n",
    "    mention.append([tweet[3], tweet[2]])\n",
    "    \n",
    "openfile = open(\"data/mentionnetwork.csv\", \"w\", newline='')\n",
    "w = csv.writer(openfile)\n",
    "\n",
    "for tweet in mention:\n",
    "    a = re.findall(r\"(?<=@)\\w+\", tweet[1])\n",
    "    for i in a:\n",
    "        w.writerow([tweet[0], i])\n",
    "        \n",
    "openfile.close()"
   ]
  },
  {
   "cell_type": "markdown",
   "metadata": {},
   "source": [
    "<img src=\"images/trump1.png\">"
   ]
  },
  {
   "cell_type": "markdown",
   "metadata": {},
   "source": [
    "## Co-Hashtag Network = Network-based Topic Modeling\n",
    "\n",
    "- Prepare co-hashtag network data"
   ]
  },
  {
   "cell_type": "code",
   "execution_count": 751,
   "metadata": {},
   "outputs": [
    {
     "name": "stdout",
     "output_type": "stream",
     "text": [
      "RT @TeamPelosi: The president is asking you to inject Lysol into your lungs. Please don’t do this or drink bleach. https://t.co/fSmiRvo8QG\n",
      "RT @RepAdamSchiff: There’s a disturbing echo in Trump’s coronavirus response.\n",
      "\n",
      "From eschewing pandemic preparedness and oversight to demand…\n",
      "RT @TheRickWilson: Trump Is Seething About Michael Cohen’s Tell-All https://t.co/qJpWR9IE4B via @thedailybeast\n",
      "RT @coleyworld: Fuck Trump and his “I’m the hardest working President EVER in all of history.” Bullshit.\n",
      "RT @realDonaldTrump: Laura, just another Fake News Report!\n"
     ]
    }
   ],
   "source": [
    "for tweet in tweets[:5]:\n",
    "    print(tweet[2])"
   ]
  },
  {
   "cell_type": "code",
   "execution_count": 752,
   "metadata": {},
   "outputs": [],
   "source": [
    "hashtag_network = []\n",
    "for tweet in tweets:\n",
    "    data = re.sub(\"[^a-zA-Z0-9#]+\", \" \", tweet[2])\n",
    "    hashtag = re.findall(r\"(?<=#)\\w+\", str(data).lower())\n",
    "    hashtag_network.append(hashtag)"
   ]
  },
  {
   "cell_type": "code",
   "execution_count": 753,
   "metadata": {},
   "outputs": [
    {
     "data": {
      "text/plain": [
       "[('supporttheuspostalservice', 'resignpostcard'),\n",
       " ('trump2020landsidereelectionvictory', 'kag20'),\n",
       " ('trump', 'disinfectant'),\n",
       " ('trump', 'covi'),\n",
       " ('disinfectant', 'covi'),\n",
       " ('pelosi', 'dems'),\n",
       " ('pelosi', 'trump'),\n",
       " ('dems', 'trump'),\n",
       " ('agentorange', 'putinspuppet'),\n",
       " ('trumpisa', 'trumpisanationaldisgrace')]"
      ]
     },
     "execution_count": 753,
     "metadata": {},
     "output_type": "execute_result"
    }
   ],
   "source": [
    "from itertools import combinations\n",
    "cohashtags = [x for d in hashtag_network for x in combinations(d, 2)]\n",
    "cohashtags[:10]"
   ]
  },
  {
   "cell_type": "code",
   "execution_count": 754,
   "metadata": {},
   "outputs": [],
   "source": [
    "#for cohashtag analysis\n",
    "outfile = open(\"data/cohashtag_network.csv\", \"w\", newline='')\n",
    "w = csv.writer(outfile)\n",
    "for i in cohashtags:\n",
    "    w.writerow(i)    \n",
    "outfile.close()"
   ]
  },
  {
   "cell_type": "markdown",
   "metadata": {},
   "source": [
    "<img src=\"images/trump2.png\">"
   ]
  },
  {
   "cell_type": "markdown",
   "metadata": {},
   "source": [
    "# Appendix"
   ]
  },
  {
   "cell_type": "code",
   "execution_count": 755,
   "metadata": {},
   "outputs": [
    {
     "name": "stdout",
     "output_type": "stream",
     "text": [
      "9306\n"
     ]
    }
   ],
   "source": [
    "## Needed to re-enter code to get Appendix to work without errors\n",
    "\n",
    "import json\n",
    "\n",
    "# create an empty list to store our tweets in\n",
    "data = []\n",
    "\n",
    "# append each line of the data to our tweets list using the json module\n",
    "for line in open('data/twitterdata.json'):\n",
    "    try:\n",
    "        data.append(json.loads(line))\n",
    "    except:\n",
    "        pass\n",
    "\n",
    "# lets see how many we got\n",
    "print(len(data))"
   ]
  },
  {
   "cell_type": "code",
   "execution_count": 757,
   "metadata": {},
   "outputs": [
    {
     "name": "stdout",
     "output_type": "stream",
     "text": [
      "{'created_at': 'Mon Apr 27 01:44:47 +0000 2020', 'id': 1254587263398240256, 'id_str': '1254587263398240256', 'text': 'RT @TeamPelosi: The president is asking you to inject Lysol into your lungs. Please don’t do this or drink bleach. https://t.co/fSmiRvo8QG', 'source': '<a href=\"https://mobile.twitter.com\" rel=\"nofollow\">Twitter Web App</a>', 'truncated': False, 'in_reply_to_status_id': None, 'in_reply_to_status_id_str': None, 'in_reply_to_user_id': None, 'in_reply_to_user_id_str': None, 'in_reply_to_screen_name': None, 'user': {'id': 631816995, 'id_str': '631816995', 'name': 'John', 'screen_name': 'JbthomJohn', 'location': 'California High Desert', 'url': None, 'description': \"3'd gen. Union member, retired public servant, current non-union factory employee, Progressive, PLEASE KEEP ME OFF THE FOLLOWBACK LISTS! - #FBR #TheResistance\", 'translator_type': 'none', 'protected': False, 'verified': False, 'followers_count': 11081, 'friends_count': 11864, 'listed_count': 89, 'favourites_count': 3286, 'statuses_count': 215311, 'created_at': 'Tue Jul 10 06:23:56 +0000 2012', 'utc_offset': None, 'time_zone': None, 'geo_enabled': False, 'lang': None, 'contributors_enabled': False, 'is_translator': False, 'profile_background_color': '000000', 'profile_background_image_url': 'http://abs.twimg.com/images/themes/theme1/bg.png', 'profile_background_image_url_https': 'https://abs.twimg.com/images/themes/theme1/bg.png', 'profile_background_tile': False, 'profile_link_color': '1B95E0', 'profile_sidebar_border_color': '000000', 'profile_sidebar_fill_color': '000000', 'profile_text_color': '000000', 'profile_use_background_image': False, 'profile_image_url': 'http://pbs.twimg.com/profile_images/754110423708819456/pxPvNUOp_normal.jpg', 'profile_image_url_https': 'https://pbs.twimg.com/profile_images/754110423708819456/pxPvNUOp_normal.jpg', 'profile_banner_url': 'https://pbs.twimg.com/profile_banners/631816995/1497317323', 'default_profile': False, 'default_profile_image': False, 'following': None, 'follow_request_sent': None, 'notifications': None}, 'geo': None, 'coordinates': None, 'place': None, 'contributors': None, 'retweeted_status': {'created_at': 'Sun Apr 26 22:28:58 +0000 2020', 'id': 1254537987016331267, 'id_str': '1254537987016331267', 'text': 'The president is asking you to inject Lysol into your lungs. Please don’t do this or drink bleach. https://t.co/fSmiRvo8QG', 'display_text_range': [0, 98], 'source': '<a href=\"http://twitter.com/download/iphone\" rel=\"nofollow\">Twitter for iPhone</a>', 'truncated': False, 'in_reply_to_status_id': None, 'in_reply_to_status_id_str': None, 'in_reply_to_user_id': None, 'in_reply_to_user_id_str': None, 'in_reply_to_screen_name': None, 'user': {'id': 2461810448, 'id_str': '2461810448', 'name': 'Nancy Pelosi', 'screen_name': 'TeamPelosi', 'location': 'San Francisco', 'url': 'https://store.pelosiforcongress.org/', 'description': \"Organize, mobilize and fight #ForThePeople. This is Nancy's political account. Tweets from Nancy are signed -NP.\", 'translator_type': 'none', 'protected': False, 'verified': True, 'followers_count': 506084, 'friends_count': 8197, 'listed_count': 1754, 'favourites_count': 1445, 'statuses_count': 7364, 'created_at': 'Thu Apr 24 15:17:41 +0000 2014', 'utc_offset': None, 'time_zone': None, 'geo_enabled': False, 'lang': None, 'contributors_enabled': False, 'is_translator': False, 'profile_background_color': 'C0DEED', 'profile_background_image_url': 'http://abs.twimg.com/images/themes/theme1/bg.png', 'profile_background_image_url_https': 'https://abs.twimg.com/images/themes/theme1/bg.png', 'profile_background_tile': False, 'profile_link_color': '1DA1F2', 'profile_sidebar_border_color': 'C0DEED', 'profile_sidebar_fill_color': 'DDEEF6', 'profile_text_color': '333333', 'profile_use_background_image': True, 'profile_image_url': 'http://pbs.twimg.com/profile_images/978983398231351296/i_dVcde2_normal.jpg', 'profile_image_url_https': 'https://pbs.twimg.com/profile_images/978983398231351296/i_dVcde2_normal.jpg', 'profile_banner_url': 'https://pbs.twimg.com/profile_banners/2461810448/1571268285', 'default_profile': True, 'default_profile_image': False, 'following': None, 'follow_request_sent': None, 'notifications': None}, 'geo': None, 'coordinates': None, 'place': None, 'contributors': None, 'quoted_status_id': 1254410225446240256, 'quoted_status_id_str': '1254410225446240256', 'quoted_status': {'created_at': 'Sun Apr 26 14:01:18 +0000 2020', 'id': 1254410225446240256, 'id_str': '1254410225446240256', 'text': '\"Disinfectant in the body — you know what they call that? They call that embalming, that\\'s the medical term.\"… https://t.co/KVmcaziQVC', 'display_text_range': [0, 140], 'source': '<a href=\"http://www.snapstream.com\" rel=\"nofollow\">SnapStream TV Search</a>', 'truncated': True, 'in_reply_to_status_id': None, 'in_reply_to_status_id_str': None, 'in_reply_to_user_id': None, 'in_reply_to_user_id_str': None, 'in_reply_to_screen_name': None, 'user': {'id': 17112878, 'id_str': '17112878', 'name': 'State of the Union', 'screen_name': 'CNNSotu', 'location': 'Washington, D.C.', 'url': 'http://www.cnn.com/sotu', 'description': 'From the staff of State of the Union w/ @JakeTapper. Watch Sundays at 9a ET on 📺 @CNN & 🌎🌍🌏 @CNNi + 12p ET on @CNN. Always on 📱💻 https://t.co/klSXjzLI6R! #CNNSOTU', 'translator_type': 'none', 'protected': False, 'verified': True, 'followers_count': 188986, 'friends_count': 10309, 'listed_count': 1928, 'favourites_count': 328, 'statuses_count': 19980, 'created_at': 'Sun Nov 02 10:52:24 +0000 2008', 'utc_offset': None, 'time_zone': None, 'geo_enabled': True, 'lang': None, 'contributors_enabled': False, 'is_translator': False, 'profile_background_color': 'ABB8C2', 'profile_background_image_url': 'http://abs.twimg.com/images/themes/theme1/bg.png', 'profile_background_image_url_https': 'https://abs.twimg.com/images/themes/theme1/bg.png', 'profile_background_tile': False, 'profile_link_color': '0F0101', 'profile_sidebar_border_color': '000000', 'profile_sidebar_fill_color': '9087FD', 'profile_text_color': '333333', 'profile_use_background_image': False, 'profile_image_url': 'http://pbs.twimg.com/profile_images/878281253585387520/uwUqAoQe_normal.jpg', 'profile_image_url_https': 'https://pbs.twimg.com/profile_images/878281253585387520/uwUqAoQe_normal.jpg', 'profile_banner_url': 'https://pbs.twimg.com/profile_banners/17112878/1436480362', 'default_profile': False, 'default_profile_image': False, 'following': None, 'follow_request_sent': None, 'notifications': None}, 'geo': None, 'coordinates': None, 'place': None, 'contributors': None, 'is_quote_status': False, 'extended_tweet': {'full_text': '\"Disinfectant in the body — you know what they call that? They call that embalming, that\\'s the medical term.\" @SpeakerPelosi on President Trump\\'s request to look into the possibility of injecting disinfectant as a treatment for the coronavirus #CNNSOTU https://t.co/XxGWnS2GxQ', 'display_text_range': [0, 252], 'entities': {'hashtags': [{'text': 'CNNSOTU', 'indices': [244, 252]}], 'urls': [], 'user_mentions': [{'screen_name': 'SpeakerPelosi', 'name': 'Nancy Pelosi', 'id': 15764644, 'id_str': '15764644', 'indices': [110, 124]}], 'symbols': [], 'media': [{'id': 1254410080008785920, 'id_str': '1254410080008785920', 'indices': [253, 276], 'additional_media_info': {'monetizable': False}, 'media_url': 'http://pbs.twimg.com/amplify_video_thumb/1254410080008785920/img/08qP6KZxXFuvTjjH.jpg', 'media_url_https': 'https://pbs.twimg.com/amplify_video_thumb/1254410080008785920/img/08qP6KZxXFuvTjjH.jpg', 'url': 'https://t.co/XxGWnS2GxQ', 'display_url': 'pic.twitter.com/XxGWnS2GxQ', 'expanded_url': 'https://twitter.com/CNNSotu/status/1254410225446240256/video/1', 'type': 'video', 'video_info': {'aspect_ratio': [16, 9], 'duration_millis': 177077, 'variants': [{'bitrate': 2176000, 'content_type': 'video/mp4', 'url': 'https://video.twimg.com/amplify_video/1254410080008785920/vid/1280x720/o3yKe29QgO6fH0BQ.mp4?tag=13'}, {'bitrate': 832000, 'content_type': 'video/mp4', 'url': 'https://video.twimg.com/amplify_video/1254410080008785920/vid/640x360/HdyFovGYm42eTYz2.mp4?tag=13'}, {'content_type': 'application/x-mpegURL', 'url': 'https://video.twimg.com/amplify_video/1254410080008785920/pl/bdcBnHn7t9xksyWy.m3u8?tag=13'}, {'bitrate': 288000, 'content_type': 'video/mp4', 'url': 'https://video.twimg.com/amplify_video/1254410080008785920/vid/480x270/kP_OWMQX3VBvP8JO.mp4?tag=13'}]}, 'sizes': {'thumb': {'w': 150, 'h': 150, 'resize': 'crop'}, 'medium': {'w': 1200, 'h': 675, 'resize': 'fit'}, 'small': {'w': 680, 'h': 383, 'resize': 'fit'}, 'large': {'w': 1280, 'h': 720, 'resize': 'fit'}}}]}, 'extended_entities': {'media': [{'id': 1254410080008785920, 'id_str': '1254410080008785920', 'indices': [253, 276], 'additional_media_info': {'monetizable': False}, 'media_url': 'http://pbs.twimg.com/amplify_video_thumb/1254410080008785920/img/08qP6KZxXFuvTjjH.jpg', 'media_url_https': 'https://pbs.twimg.com/amplify_video_thumb/1254410080008785920/img/08qP6KZxXFuvTjjH.jpg', 'url': 'https://t.co/XxGWnS2GxQ', 'display_url': 'pic.twitter.com/XxGWnS2GxQ', 'expanded_url': 'https://twitter.com/CNNSotu/status/1254410225446240256/video/1', 'type': 'video', 'video_info': {'aspect_ratio': [16, 9], 'duration_millis': 177077, 'variants': [{'bitrate': 2176000, 'content_type': 'video/mp4', 'url': 'https://video.twimg.com/amplify_video/1254410080008785920/vid/1280x720/o3yKe29QgO6fH0BQ.mp4?tag=13'}, {'bitrate': 832000, 'content_type': 'video/mp4', 'url': 'https://video.twimg.com/amplify_video/1254410080008785920/vid/640x360/HdyFovGYm42eTYz2.mp4?tag=13'}, {'content_type': 'application/x-mpegURL', 'url': 'https://video.twimg.com/amplify_video/1254410080008785920/pl/bdcBnHn7t9xksyWy.m3u8?tag=13'}, {'bitrate': 288000, 'content_type': 'video/mp4', 'url': 'https://video.twimg.com/amplify_video/1254410080008785920/vid/480x270/kP_OWMQX3VBvP8JO.mp4?tag=13'}]}, 'sizes': {'thumb': {'w': 150, 'h': 150, 'resize': 'crop'}, 'medium': {'w': 1200, 'h': 675, 'resize': 'fit'}, 'small': {'w': 680, 'h': 383, 'resize': 'fit'}, 'large': {'w': 1280, 'h': 720, 'resize': 'fit'}}}]}}, 'quote_count': 18, 'reply_count': 31, 'retweet_count': 235, 'favorite_count': 600, 'entities': {'hashtags': [], 'urls': [{'url': 'https://t.co/KVmcaziQVC', 'expanded_url': 'https://twitter.com/i/web/status/1254410225446240256', 'display_url': 'twitter.com/i/web/status/1…', 'indices': [111, 134]}], 'user_mentions': [], 'symbols': []}, 'favorited': False, 'retweeted': False, 'possibly_sensitive': False, 'filter_level': 'low', 'lang': 'en'}, 'quoted_status_permalink': {'url': 'https://t.co/fSmiRvo8QG', 'expanded': 'https://twitter.com/cnnsotu/status/1254410225446240256', 'display': 'twitter.com/cnnsotu/status…'}, 'is_quote_status': True, 'quote_count': 50, 'reply_count': 209, 'retweet_count': 1327, 'favorite_count': 4240, 'entities': {'hashtags': [], 'urls': [{'url': 'https://t.co/fSmiRvo8QG', 'expanded_url': 'https://twitter.com/cnnsotu/status/1254410225446240256', 'display_url': 'twitter.com/cnnsotu/status…', 'indices': [99, 122]}], 'user_mentions': [], 'symbols': []}, 'favorited': False, 'retweeted': False, 'possibly_sensitive': False, 'filter_level': 'low', 'lang': 'en'}, 'quoted_status_id': 1254410225446240256, 'quoted_status_id_str': '1254410225446240256', 'quoted_status': {'created_at': 'Sun Apr 26 14:01:18 +0000 2020', 'id': 1254410225446240256, 'id_str': '1254410225446240256', 'text': '\"Disinfectant in the body — you know what they call that? They call that embalming, that\\'s the medical term.\"… https://t.co/KVmcaziQVC', 'display_text_range': [0, 140], 'source': '<a href=\"http://www.snapstream.com\" rel=\"nofollow\">SnapStream TV Search</a>', 'truncated': True, 'in_reply_to_status_id': None, 'in_reply_to_status_id_str': None, 'in_reply_to_user_id': None, 'in_reply_to_user_id_str': None, 'in_reply_to_screen_name': None, 'user': {'id': 17112878, 'id_str': '17112878', 'name': 'State of the Union', 'screen_name': 'CNNSotu', 'location': 'Washington, D.C.', 'url': 'http://www.cnn.com/sotu', 'description': 'From the staff of State of the Union w/ @JakeTapper. Watch Sundays at 9a ET on 📺 @CNN & 🌎🌍🌏 @CNNi + 12p ET on @CNN. Always on 📱💻 https://t.co/klSXjzLI6R! #CNNSOTU', 'translator_type': 'none', 'protected': False, 'verified': True, 'followers_count': 188986, 'friends_count': 10309, 'listed_count': 1928, 'favourites_count': 328, 'statuses_count': 19980, 'created_at': 'Sun Nov 02 10:52:24 +0000 2008', 'utc_offset': None, 'time_zone': None, 'geo_enabled': True, 'lang': None, 'contributors_enabled': False, 'is_translator': False, 'profile_background_color': 'ABB8C2', 'profile_background_image_url': 'http://abs.twimg.com/images/themes/theme1/bg.png', 'profile_background_image_url_https': 'https://abs.twimg.com/images/themes/theme1/bg.png', 'profile_background_tile': False, 'profile_link_color': '0F0101', 'profile_sidebar_border_color': '000000', 'profile_sidebar_fill_color': '9087FD', 'profile_text_color': '333333', 'profile_use_background_image': False, 'profile_image_url': 'http://pbs.twimg.com/profile_images/878281253585387520/uwUqAoQe_normal.jpg', 'profile_image_url_https': 'https://pbs.twimg.com/profile_images/878281253585387520/uwUqAoQe_normal.jpg', 'profile_banner_url': 'https://pbs.twimg.com/profile_banners/17112878/1436480362', 'default_profile': False, 'default_profile_image': False, 'following': None, 'follow_request_sent': None, 'notifications': None}, 'geo': None, 'coordinates': None, 'place': None, 'contributors': None, 'is_quote_status': False, 'extended_tweet': {'full_text': '\"Disinfectant in the body — you know what they call that? They call that embalming, that\\'s the medical term.\" @SpeakerPelosi on President Trump\\'s request to look into the possibility of injecting disinfectant as a treatment for the coronavirus #CNNSOTU https://t.co/XxGWnS2GxQ', 'display_text_range': [0, 252], 'entities': {'hashtags': [{'text': 'CNNSOTU', 'indices': [244, 252]}], 'urls': [], 'user_mentions': [{'screen_name': 'SpeakerPelosi', 'name': 'Nancy Pelosi', 'id': 15764644, 'id_str': '15764644', 'indices': [110, 124]}], 'symbols': [], 'media': [{'id': 1254410080008785920, 'id_str': '1254410080008785920', 'indices': [253, 276], 'additional_media_info': {'monetizable': False}, 'media_url': 'http://pbs.twimg.com/amplify_video_thumb/1254410080008785920/img/08qP6KZxXFuvTjjH.jpg', 'media_url_https': 'https://pbs.twimg.com/amplify_video_thumb/1254410080008785920/img/08qP6KZxXFuvTjjH.jpg', 'url': 'https://t.co/XxGWnS2GxQ', 'display_url': 'pic.twitter.com/XxGWnS2GxQ', 'expanded_url': 'https://twitter.com/CNNSotu/status/1254410225446240256/video/1', 'type': 'video', 'video_info': {'aspect_ratio': [16, 9], 'duration_millis': 177077, 'variants': [{'bitrate': 2176000, 'content_type': 'video/mp4', 'url': 'https://video.twimg.com/amplify_video/1254410080008785920/vid/1280x720/o3yKe29QgO6fH0BQ.mp4?tag=13'}, {'bitrate': 832000, 'content_type': 'video/mp4', 'url': 'https://video.twimg.com/amplify_video/1254410080008785920/vid/640x360/HdyFovGYm42eTYz2.mp4?tag=13'}, {'content_type': 'application/x-mpegURL', 'url': 'https://video.twimg.com/amplify_video/1254410080008785920/pl/bdcBnHn7t9xksyWy.m3u8?tag=13'}, {'bitrate': 288000, 'content_type': 'video/mp4', 'url': 'https://video.twimg.com/amplify_video/1254410080008785920/vid/480x270/kP_OWMQX3VBvP8JO.mp4?tag=13'}]}, 'sizes': {'thumb': {'w': 150, 'h': 150, 'resize': 'crop'}, 'medium': {'w': 1200, 'h': 675, 'resize': 'fit'}, 'small': {'w': 680, 'h': 383, 'resize': 'fit'}, 'large': {'w': 1280, 'h': 720, 'resize': 'fit'}}}]}, 'extended_entities': {'media': [{'id': 1254410080008785920, 'id_str': '1254410080008785920', 'indices': [253, 276], 'additional_media_info': {'monetizable': False}, 'media_url': 'http://pbs.twimg.com/amplify_video_thumb/1254410080008785920/img/08qP6KZxXFuvTjjH.jpg', 'media_url_https': 'https://pbs.twimg.com/amplify_video_thumb/1254410080008785920/img/08qP6KZxXFuvTjjH.jpg', 'url': 'https://t.co/XxGWnS2GxQ', 'display_url': 'pic.twitter.com/XxGWnS2GxQ', 'expanded_url': 'https://twitter.com/CNNSotu/status/1254410225446240256/video/1', 'type': 'video', 'video_info': {'aspect_ratio': [16, 9], 'duration_millis': 177077, 'variants': [{'bitrate': 2176000, 'content_type': 'video/mp4', 'url': 'https://video.twimg.com/amplify_video/1254410080008785920/vid/1280x720/o3yKe29QgO6fH0BQ.mp4?tag=13'}, {'bitrate': 832000, 'content_type': 'video/mp4', 'url': 'https://video.twimg.com/amplify_video/1254410080008785920/vid/640x360/HdyFovGYm42eTYz2.mp4?tag=13'}, {'content_type': 'application/x-mpegURL', 'url': 'https://video.twimg.com/amplify_video/1254410080008785920/pl/bdcBnHn7t9xksyWy.m3u8?tag=13'}, {'bitrate': 288000, 'content_type': 'video/mp4', 'url': 'https://video.twimg.com/amplify_video/1254410080008785920/vid/480x270/kP_OWMQX3VBvP8JO.mp4?tag=13'}]}, 'sizes': {'thumb': {'w': 150, 'h': 150, 'resize': 'crop'}, 'medium': {'w': 1200, 'h': 675, 'resize': 'fit'}, 'small': {'w': 680, 'h': 383, 'resize': 'fit'}, 'large': {'w': 1280, 'h': 720, 'resize': 'fit'}}}]}}, 'quote_count': 18, 'reply_count': 31, 'retweet_count': 235, 'favorite_count': 600, 'entities': {'hashtags': [], 'urls': [{'url': 'https://t.co/KVmcaziQVC', 'expanded_url': 'https://twitter.com/i/web/status/1254410225446240256', 'display_url': 'twitter.com/i/web/status/1…', 'indices': [111, 134]}], 'user_mentions': [], 'symbols': []}, 'favorited': False, 'retweeted': False, 'possibly_sensitive': False, 'filter_level': 'low', 'lang': 'en'}, 'quoted_status_permalink': {'url': 'https://t.co/fSmiRvo8QG', 'expanded': 'https://twitter.com/cnnsotu/status/1254410225446240256', 'display': 'twitter.com/cnnsotu/status…'}, 'is_quote_status': True, 'quote_count': 0, 'reply_count': 0, 'retweet_count': 0, 'favorite_count': 0, 'entities': {'hashtags': [], 'urls': [{'url': 'https://t.co/fSmiRvo8QG', 'expanded_url': 'https://twitter.com/cnnsotu/status/1254410225446240256', 'display_url': 'twitter.com/cnnsotu/status…', 'indices': [115, 138]}], 'user_mentions': [{'screen_name': 'TeamPelosi', 'name': 'Nancy Pelosi', 'id': 2461810448, 'id_str': '2461810448', 'indices': [3, 14]}], 'symbols': []}, 'favorited': False, 'retweeted': False, 'possibly_sensitive': False, 'filter_level': 'low', 'lang': 'en', 'timestamp_ms': '1587951887355'}\n",
      "{'created_at': 'Mon Apr 27 01:44:47 +0000 2020', 'id': 1254587263570153473, 'id_str': '1254587263570153473', 'text': 'RT @RepAdamSchiff: There’s a disturbing echo in Trump’s coronavirus response.\\n\\nFrom eschewing pandemic preparedness and oversight to demand…', 'source': '<a href=\"http://twitter.com/download/iphone\" rel=\"nofollow\">Twitter for iPhone</a>', 'truncated': False, 'in_reply_to_status_id': None, 'in_reply_to_status_id_str': None, 'in_reply_to_user_id': None, 'in_reply_to_user_id_str': None, 'in_reply_to_screen_name': None, 'user': {'id': 186244490, 'id_str': '186244490', 'name': '🅛🅔🅔', 'screen_name': 'leehall11', 'location': 'Beaverton, OR', 'url': None, 'description': 'Biden/Harris 2020!!', 'translator_type': 'none', 'protected': False, 'verified': False, 'followers_count': 406, 'friends_count': 789, 'listed_count': 1, 'favourites_count': 14737, 'statuses_count': 20092, 'created_at': 'Thu Sep 02 23:15:51 +0000 2010', 'utc_offset': None, 'time_zone': None, 'geo_enabled': False, 'lang': None, 'contributors_enabled': False, 'is_translator': False, 'profile_background_color': 'C0DEED', 'profile_background_image_url': 'http://abs.twimg.com/images/themes/theme1/bg.png', 'profile_background_image_url_https': 'https://abs.twimg.com/images/themes/theme1/bg.png', 'profile_background_tile': False, 'profile_link_color': '1DA1F2', 'profile_sidebar_border_color': 'C0DEED', 'profile_sidebar_fill_color': 'DDEEF6', 'profile_text_color': '333333', 'profile_use_background_image': True, 'profile_image_url': 'http://pbs.twimg.com/profile_images/1253104602599141376/iuKVHnzf_normal.jpg', 'profile_image_url_https': 'https://pbs.twimg.com/profile_images/1253104602599141376/iuKVHnzf_normal.jpg', 'profile_banner_url': 'https://pbs.twimg.com/profile_banners/186244490/1587447583', 'default_profile': True, 'default_profile_image': False, 'following': None, 'follow_request_sent': None, 'notifications': None}, 'geo': None, 'coordinates': None, 'place': None, 'contributors': None, 'retweeted_status': {'created_at': 'Sun Apr 26 16:44:05 +0000 2020', 'id': 1254451191863545856, 'id_str': '1254451191863545856', 'text': 'There’s a disturbing echo in Trump’s coronavirus response.\\n\\nFrom eschewing pandemic preparedness and oversight to d… https://t.co/7PwrLOSU1W', 'display_text_range': [0, 140], 'source': '<a href=\"https://studio.twitter.com\" rel=\"nofollow\">Twitter Media Studio</a>', 'truncated': True, 'in_reply_to_status_id': None, 'in_reply_to_status_id_str': None, 'in_reply_to_user_id': None, 'in_reply_to_user_id_str': None, 'in_reply_to_screen_name': None, 'user': {'id': 29501253, 'id_str': '29501253', 'name': 'Adam Schiff', 'screen_name': 'RepAdamSchiff', 'location': 'Burbank, CA', 'url': 'http://schiff.house.gov/', 'description': \"Representing California's 28th Congressional District. Chairman of the House Intelligence Committee (@HouseIntel).\", 'translator_type': 'none', 'protected': False, 'verified': True, 'followers_count': 2207808, 'friends_count': 776, 'listed_count': 9709, 'favourites_count': 153, 'statuses_count': 5686, 'created_at': 'Tue Apr 07 17:54:35 +0000 2009', 'utc_offset': None, 'time_zone': None, 'geo_enabled': True, 'lang': None, 'contributors_enabled': False, 'is_translator': False, 'profile_background_color': '2578B8', 'profile_background_image_url': 'http://abs.twimg.com/images/themes/theme1/bg.png', 'profile_background_image_url_https': 'https://abs.twimg.com/images/themes/theme1/bg.png', 'profile_background_tile': False, 'profile_link_color': '2578B8', 'profile_sidebar_border_color': 'FFFFFF', 'profile_sidebar_fill_color': 'DDEEF6', 'profile_text_color': '333333', 'profile_use_background_image': False, 'profile_image_url': 'http://pbs.twimg.com/profile_images/816361054699667458/0DVL6HrY_normal.jpg', 'profile_image_url_https': 'https://pbs.twimg.com/profile_images/816361054699667458/0DVL6HrY_normal.jpg', 'profile_banner_url': 'https://pbs.twimg.com/profile_banners/29501253/1547736718', 'default_profile': False, 'default_profile_image': False, 'following': None, 'follow_request_sent': None, 'notifications': None}, 'geo': None, 'coordinates': None, 'place': None, 'contributors': None, 'is_quote_status': False, 'extended_tweet': {'full_text': 'There’s a disturbing echo in Trump’s coronavirus response.\\n\\nFrom eschewing pandemic preparedness and oversight to demanding praise,\\n\\nTrump acts in his personal political interest, not the national interest.\\n \\nBecause a man with no moral compass will never find his way. https://t.co/Z6M4p8ZS5Z', 'display_text_range': [0, 269], 'entities': {'hashtags': [], 'urls': [], 'user_mentions': [], 'symbols': [], 'media': [{'id': 1254445606946459648, 'id_str': '1254445606946459648', 'indices': [270, 293], 'additional_media_info': {'title': '', 'description': '', 'embeddable': True, 'monetizable': False}, 'media_url': 'http://pbs.twimg.com/media/EWix6ftXgAMU986.jpg', 'media_url_https': 'https://pbs.twimg.com/media/EWix6ftXgAMU986.jpg', 'url': 'https://t.co/Z6M4p8ZS5Z', 'display_url': 'pic.twitter.com/Z6M4p8ZS5Z', 'expanded_url': 'https://twitter.com/RepAdamSchiff/status/1254451191863545856/video/1', 'type': 'video', 'video_info': {'aspect_ratio': [16, 9], 'duration_millis': 359026, 'variants': [{'bitrate': 832000, 'content_type': 'video/mp4', 'url': 'https://video.twimg.com/amplify_video/1254445606946459648/vid/640x360/Fm9tNKLE_9shdmwF.mp4?tag=13'}, {'bitrate': 288000, 'content_type': 'video/mp4', 'url': 'https://video.twimg.com/amplify_video/1254445606946459648/vid/480x270/0vyL7kEQ2c4LhycB.mp4?tag=13'}, {'content_type': 'application/x-mpegURL', 'url': 'https://video.twimg.com/amplify_video/1254445606946459648/pl/k32WLjevEL24Go4r.m3u8?tag=13'}, {'bitrate': 2176000, 'content_type': 'video/mp4', 'url': 'https://video.twimg.com/amplify_video/1254445606946459648/vid/1280x720/Cp7vZ8b5Sz3XuXut.mp4?tag=13'}]}, 'sizes': {'thumb': {'w': 150, 'h': 150, 'resize': 'crop'}, 'medium': {'w': 1200, 'h': 675, 'resize': 'fit'}, 'small': {'w': 680, 'h': 383, 'resize': 'fit'}, 'large': {'w': 1280, 'h': 720, 'resize': 'fit'}}}]}, 'extended_entities': {'media': [{'id': 1254445606946459648, 'id_str': '1254445606946459648', 'indices': [270, 293], 'additional_media_info': {'title': '', 'description': '', 'embeddable': True, 'monetizable': False}, 'media_url': 'http://pbs.twimg.com/media/EWix6ftXgAMU986.jpg', 'media_url_https': 'https://pbs.twimg.com/media/EWix6ftXgAMU986.jpg', 'url': 'https://t.co/Z6M4p8ZS5Z', 'display_url': 'pic.twitter.com/Z6M4p8ZS5Z', 'expanded_url': 'https://twitter.com/RepAdamSchiff/status/1254451191863545856/video/1', 'type': 'video', 'video_info': {'aspect_ratio': [16, 9], 'duration_millis': 359026, 'variants': [{'bitrate': 832000, 'content_type': 'video/mp4', 'url': 'https://video.twimg.com/amplify_video/1254445606946459648/vid/640x360/Fm9tNKLE_9shdmwF.mp4?tag=13'}, {'bitrate': 288000, 'content_type': 'video/mp4', 'url': 'https://video.twimg.com/amplify_video/1254445606946459648/vid/480x270/0vyL7kEQ2c4LhycB.mp4?tag=13'}, {'content_type': 'application/x-mpegURL', 'url': 'https://video.twimg.com/amplify_video/1254445606946459648/pl/k32WLjevEL24Go4r.m3u8?tag=13'}, {'bitrate': 2176000, 'content_type': 'video/mp4', 'url': 'https://video.twimg.com/amplify_video/1254445606946459648/vid/1280x720/Cp7vZ8b5Sz3XuXut.mp4?tag=13'}]}, 'sizes': {'thumb': {'w': 150, 'h': 150, 'resize': 'crop'}, 'medium': {'w': 1200, 'h': 675, 'resize': 'fit'}, 'small': {'w': 680, 'h': 383, 'resize': 'fit'}, 'large': {'w': 1280, 'h': 720, 'resize': 'fit'}}}]}}, 'quote_count': 303, 'reply_count': 1916, 'retweet_count': 6471, 'favorite_count': 21659, 'entities': {'hashtags': [], 'urls': [{'url': 'https://t.co/7PwrLOSU1W', 'expanded_url': 'https://twitter.com/i/web/status/1254451191863545856', 'display_url': 'twitter.com/i/web/status/1…', 'indices': [117, 140]}], 'user_mentions': [], 'symbols': []}, 'favorited': False, 'retweeted': False, 'possibly_sensitive': False, 'filter_level': 'low', 'lang': 'en'}, 'is_quote_status': False, 'quote_count': 0, 'reply_count': 0, 'retweet_count': 0, 'favorite_count': 0, 'entities': {'hashtags': [], 'urls': [], 'user_mentions': [{'screen_name': 'RepAdamSchiff', 'name': 'Adam Schiff', 'id': 29501253, 'id_str': '29501253', 'indices': [3, 17]}], 'symbols': []}, 'favorited': False, 'retweeted': False, 'filter_level': 'low', 'lang': 'en', 'timestamp_ms': '1587951887396'}\n",
      "{'created_at': 'Mon Apr 27 01:44:47 +0000 2020', 'id': 1254587263603924992, 'id_str': '1254587263603924992', 'text': 'RT @TheRickWilson: Trump Is Seething About Michael Cohen’s Tell-All https://t.co/qJpWR9IE4B via @thedailybeast', 'source': '<a href=\"http://twitter.com/#!/download/ipad\" rel=\"nofollow\">Twitter for iPad</a>', 'truncated': False, 'in_reply_to_status_id': None, 'in_reply_to_status_id_str': None, 'in_reply_to_user_id': None, 'in_reply_to_user_id_str': None, 'in_reply_to_screen_name': None, 'user': {'id': 1916167339, 'id_str': '1916167339', 'name': 'Sylvia  Henry', 'screen_name': 'psu4joe', 'location': 'United States', 'url': None, 'description': 'Vote Blue No Matter Who. Climate Change is here now.', 'translator_type': 'none', 'protected': False, 'verified': False, 'followers_count': 1592, 'friends_count': 1976, 'listed_count': 46, 'favourites_count': 224182, 'statuses_count': 147535, 'created_at': 'Sun Sep 29 04:28:03 +0000 2013', 'utc_offset': None, 'time_zone': None, 'geo_enabled': False, 'lang': None, 'contributors_enabled': False, 'is_translator': False, 'profile_background_color': 'C0DEED', 'profile_background_image_url': 'http://abs.twimg.com/images/themes/theme1/bg.png', 'profile_background_image_url_https': 'https://abs.twimg.com/images/themes/theme1/bg.png', 'profile_background_tile': False, 'profile_link_color': '1DA1F2', 'profile_sidebar_border_color': 'C0DEED', 'profile_sidebar_fill_color': 'DDEEF6', 'profile_text_color': '333333', 'profile_use_background_image': True, 'profile_image_url': 'http://pbs.twimg.com/profile_images/1242590392081670152/4ecwTZ7b_normal.jpg', 'profile_image_url_https': 'https://pbs.twimg.com/profile_images/1242590392081670152/4ecwTZ7b_normal.jpg', 'default_profile': True, 'default_profile_image': False, 'following': None, 'follow_request_sent': None, 'notifications': None}, 'geo': None, 'coordinates': None, 'place': None, 'contributors': None, 'retweeted_status': {'created_at': 'Mon Apr 27 01:41:33 +0000 2020', 'id': 1254586451754471424, 'id_str': '1254586451754471424', 'text': 'Trump Is Seething About Michael Cohen’s Tell-All https://t.co/qJpWR9IE4B via @thedailybeast', 'source': '<a href=\"http://twitter.com\" rel=\"nofollow\">Twitter Web Client</a>', 'truncated': False, 'in_reply_to_status_id': None, 'in_reply_to_status_id_str': None, 'in_reply_to_user_id': None, 'in_reply_to_user_id_str': None, 'in_reply_to_screen_name': None, 'user': {'id': 19084896, 'id_str': '19084896', 'name': 'Rick Wilson', 'screen_name': 'TheRickWilson', 'location': 'Florida and points beyond', 'url': 'http://therickwilson.com', 'description': 'Apostate GOP Media Guy, writer, NYT #1 best-selling author. Lincoln Project co-founder. Order \"Running Against The Devil\" here: http://bit.ly/RATD2020', 'translator_type': 'none', 'protected': False, 'verified': True, 'followers_count': 824027, 'friends_count': 5764, 'listed_count': 7859, 'favourites_count': 88054, 'statuses_count': 318328, 'created_at': 'Fri Jan 16 20:50:17 +0000 2009', 'utc_offset': None, 'time_zone': None, 'geo_enabled': False, 'lang': None, 'contributors_enabled': False, 'is_translator': False, 'profile_background_color': '1A1B1F', 'profile_background_image_url': 'http://abs.twimg.com/images/themes/theme1/bg.png', 'profile_background_image_url_https': 'https://abs.twimg.com/images/themes/theme1/bg.png', 'profile_background_tile': True, 'profile_link_color': 'FF691F', 'profile_sidebar_border_color': '000000', 'profile_sidebar_fill_color': '252429', 'profile_text_color': '666666', 'profile_use_background_image': True, 'profile_image_url': 'http://pbs.twimg.com/profile_images/1212477294901702656/ACjWbt9d_normal.jpg', 'profile_image_url_https': 'https://pbs.twimg.com/profile_images/1212477294901702656/ACjWbt9d_normal.jpg', 'profile_banner_url': 'https://pbs.twimg.com/profile_banners/19084896/1584978025', 'default_profile': False, 'default_profile_image': False, 'following': None, 'follow_request_sent': None, 'notifications': None}, 'geo': None, 'coordinates': None, 'place': None, 'contributors': None, 'is_quote_status': False, 'quote_count': 4, 'reply_count': 38, 'retweet_count': 99, 'favorite_count': 275, 'entities': {'hashtags': [], 'urls': [{'url': 'https://t.co/qJpWR9IE4B', 'expanded_url': 'https://www.thedailybeast.com/trump-seethes-about-michael-cohens-early-release-and-new-tell-all-book?source=twitter&via=desktop', 'display_url': 'thedailybeast.com/trump-seethes-…', 'indices': [49, 72]}], 'user_mentions': [{'screen_name': 'thedailybeast', 'name': 'The Daily Beast', 'id': 16012783, 'id_str': '16012783', 'indices': [77, 91]}], 'symbols': []}, 'favorited': False, 'retweeted': False, 'possibly_sensitive': False, 'filter_level': 'low', 'lang': 'en'}, 'is_quote_status': False, 'quote_count': 0, 'reply_count': 0, 'retweet_count': 0, 'favorite_count': 0, 'entities': {'hashtags': [], 'urls': [{'url': 'https://t.co/qJpWR9IE4B', 'expanded_url': 'https://www.thedailybeast.com/trump-seethes-about-michael-cohens-early-release-and-new-tell-all-book?source=twitter&via=desktop', 'display_url': 'thedailybeast.com/trump-seethes-…', 'indices': [68, 91]}], 'user_mentions': [{'screen_name': 'TheRickWilson', 'name': 'Rick Wilson', 'id': 19084896, 'id_str': '19084896', 'indices': [3, 17]}, {'screen_name': 'thedailybeast', 'name': 'The Daily Beast', 'id': 16012783, 'id_str': '16012783', 'indices': [96, 110]}], 'symbols': []}, 'favorited': False, 'retweeted': False, 'possibly_sensitive': False, 'filter_level': 'low', 'lang': 'en', 'timestamp_ms': '1587951887404'}\n",
      "{'created_at': 'Mon Apr 27 01:44:47 +0000 2020', 'id': 1254587263717163008, 'id_str': '1254587263717163008', 'text': 'RT @coleyworld: Fuck Trump and his “I’m the hardest working President EVER in all of history.” Bullshit.', 'source': '<a href=\"http://twitter.com/download/android\" rel=\"nofollow\">Twitter for Android</a>', 'truncated': False, 'in_reply_to_status_id': None, 'in_reply_to_status_id_str': None, 'in_reply_to_user_id': None, 'in_reply_to_user_id_str': None, 'in_reply_to_screen_name': None, 'user': {'id': 16725354, 'id_str': '16725354', 'name': 'Luka Luke🍀🌱🌿', 'screen_name': 'LukaLuke966', 'location': 'DMV Blue, in Crimson Red Bama ', 'url': None, 'description': \"*Don't live the same year 75 times and call it a life* DC Born 🇺🇸 USARMY VET! Black with a snipet of Irish/scottish/welch. #Resist #LegalizIt  #2fish\", 'translator_type': 'none', 'protected': False, 'verified': False, 'followers_count': 1267, 'friends_count': 2832, 'listed_count': 18, 'favourites_count': 25595, 'statuses_count': 61708, 'created_at': 'Mon Oct 13 19:05:44 +0000 2008', 'utc_offset': None, 'time_zone': None, 'geo_enabled': True, 'lang': None, 'contributors_enabled': False, 'is_translator': False, 'profile_background_color': '000000', 'profile_background_image_url': 'http://abs.twimg.com/images/themes/theme14/bg.gif', 'profile_background_image_url_https': 'https://abs.twimg.com/images/themes/theme14/bg.gif', 'profile_background_tile': False, 'profile_link_color': '19CF86', 'profile_sidebar_border_color': '000000', 'profile_sidebar_fill_color': '000000', 'profile_text_color': '000000', 'profile_use_background_image': False, 'profile_image_url': 'http://pbs.twimg.com/profile_images/1248449716129390594/f_OyEUbc_normal.jpg', 'profile_image_url_https': 'https://pbs.twimg.com/profile_images/1248449716129390594/f_OyEUbc_normal.jpg', 'profile_banner_url': 'https://pbs.twimg.com/profile_banners/16725354/1512702343', 'default_profile': False, 'default_profile_image': False, 'following': None, 'follow_request_sent': None, 'notifications': None}, 'geo': None, 'coordinates': None, 'place': None, 'contributors': None, 'retweeted_status': {'created_at': 'Sun Apr 26 18:38:57 +0000 2020', 'id': 1254480100726378498, 'id_str': '1254480100726378498', 'text': 'Fuck Trump and his “I’m the hardest working President EVER in all of history.” Bullshit.', 'source': '<a href=\"http://twitter.com/download/iphone\" rel=\"nofollow\">Twitter for iPhone</a>', 'truncated': False, 'in_reply_to_status_id': None, 'in_reply_to_status_id_str': None, 'in_reply_to_user_id': None, 'in_reply_to_user_id_str': None, 'in_reply_to_screen_name': None, 'user': {'id': 379209090, 'id_str': '379209090', 'name': '#RandomWhiteGuy', 'screen_name': 'coleyworld', 'location': 'Wilds of Ohio', 'url': 'https://www.gunviolencearchive.org/reports/mass-shooting', 'description': '“Arguing with a trumper is like playing chess with a pigeon. They knock over the pieces, shit on the board, then strut around like they won.” #Resist', 'translator_type': 'none', 'protected': False, 'verified': False, 'followers_count': 116679, 'friends_count': 21568, 'listed_count': 223, 'favourites_count': 149746, 'statuses_count': 66444, 'created_at': 'Sat Sep 24 15:18:29 +0000 2011', 'utc_offset': None, 'time_zone': None, 'geo_enabled': False, 'lang': None, 'contributors_enabled': False, 'is_translator': False, 'profile_background_color': '000000', 'profile_background_image_url': 'http://abs.twimg.com/images/themes/theme1/bg.png', 'profile_background_image_url_https': 'https://abs.twimg.com/images/themes/theme1/bg.png', 'profile_background_tile': False, 'profile_link_color': 'FF691F', 'profile_sidebar_border_color': '000000', 'profile_sidebar_fill_color': '000000', 'profile_text_color': '000000', 'profile_use_background_image': False, 'profile_image_url': 'http://pbs.twimg.com/profile_images/1108544451973185536/ETtVthzV_normal.jpg', 'profile_image_url_https': 'https://pbs.twimg.com/profile_images/1108544451973185536/ETtVthzV_normal.jpg', 'profile_banner_url': 'https://pbs.twimg.com/profile_banners/379209090/1586013884', 'default_profile': False, 'default_profile_image': False, 'following': None, 'follow_request_sent': None, 'notifications': None}, 'geo': None, 'coordinates': None, 'place': None, 'contributors': None, 'is_quote_status': False, 'quote_count': 12, 'reply_count': 39, 'retweet_count': 103, 'favorite_count': 739, 'entities': {'hashtags': [], 'urls': [], 'user_mentions': [], 'symbols': []}, 'favorited': False, 'retweeted': False, 'filter_level': 'low', 'lang': 'en'}, 'is_quote_status': False, 'quote_count': 0, 'reply_count': 0, 'retweet_count': 0, 'favorite_count': 0, 'entities': {'hashtags': [], 'urls': [], 'user_mentions': [{'screen_name': 'coleyworld', 'name': '#RandomWhiteGuy', 'id': 379209090, 'id_str': '379209090', 'indices': [3, 14]}], 'symbols': []}, 'favorited': False, 'retweeted': False, 'filter_level': 'low', 'lang': 'en', 'timestamp_ms': '1587951887431'}\n",
      "{'created_at': 'Mon Apr 27 01:44:47 +0000 2020', 'id': 1254587263893323776, 'id_str': '1254587263893323776', 'text': 'RT @realDonaldTrump: Laura, just another Fake News Report!', 'source': '<a href=\"http://twitter.com/download/iphone\" rel=\"nofollow\">Twitter for iPhone</a>', 'truncated': False, 'in_reply_to_status_id': None, 'in_reply_to_status_id_str': None, 'in_reply_to_user_id': None, 'in_reply_to_user_id_str': None, 'in_reply_to_screen_name': None, 'user': {'id': 741372932455342080, 'id_str': '741372932455342080', 'name': 'Deporable American Cult45', 'screen_name': 'agk_amy', 'location': 'Trumpsylvania USA', 'url': None, 'description': 'Follower of CHRIST 1st! . All else is secondary !! 💯%TRUMP supporter #FinishTheWall.', 'translator_type': 'none', 'protected': False, 'verified': False, 'followers_count': 1452, 'friends_count': 1165, 'listed_count': 33, 'favourites_count': 119394, 'statuses_count': 94051, 'created_at': 'Fri Jun 10 20:54:16 +0000 2016', 'utc_offset': None, 'time_zone': None, 'geo_enabled': True, 'lang': None, 'contributors_enabled': False, 'is_translator': False, 'profile_background_color': 'F5F8FA', 'profile_background_image_url': '', 'profile_background_image_url_https': '', 'profile_background_tile': False, 'profile_link_color': '1DA1F2', 'profile_sidebar_border_color': 'C0DEED', 'profile_sidebar_fill_color': 'DDEEF6', 'profile_text_color': '333333', 'profile_use_background_image': True, 'profile_image_url': 'http://pbs.twimg.com/profile_images/884177896192999424/daxxyB8q_normal.jpg', 'profile_image_url_https': 'https://pbs.twimg.com/profile_images/884177896192999424/daxxyB8q_normal.jpg', 'profile_banner_url': 'https://pbs.twimg.com/profile_banners/741372932455342080/1570386001', 'default_profile': True, 'default_profile_image': False, 'following': None, 'follow_request_sent': None, 'notifications': None}, 'geo': None, 'coordinates': None, 'place': None, 'contributors': None, 'retweeted_status': {'created_at': 'Mon Apr 27 00:14:39 +0000 2020', 'id': 1254564582020059136, 'id_str': '1254564582020059136', 'text': 'Laura, just another Fake News Report!', 'source': '<a href=\"http://twitter.com/download/iphone\" rel=\"nofollow\">Twitter for iPhone</a>', 'truncated': False, 'in_reply_to_status_id': None, 'in_reply_to_status_id_str': None, 'in_reply_to_user_id': None, 'in_reply_to_user_id_str': None, 'in_reply_to_screen_name': None, 'user': {'id': 25073877, 'id_str': '25073877', 'name': 'Donald J. Trump', 'screen_name': 'realDonaldTrump', 'location': 'Washington, DC', 'url': 'http://www.Instagram.com/realDonaldTrump', 'description': '45th President of the United States of America🇺🇸', 'translator_type': 'regular', 'protected': False, 'verified': True, 'followers_count': 78665585, 'friends_count': 46, 'listed_count': 120286, 'favourites_count': 6, 'statuses_count': 50995, 'created_at': 'Wed Mar 18 13:46:38 +0000 2009', 'utc_offset': None, 'time_zone': None, 'geo_enabled': True, 'lang': None, 'contributors_enabled': False, 'is_translator': False, 'profile_background_color': '6D5C18', 'profile_background_image_url': 'http://abs.twimg.com/images/themes/theme1/bg.png', 'profile_background_image_url_https': 'https://abs.twimg.com/images/themes/theme1/bg.png', 'profile_background_tile': True, 'profile_link_color': '1B95E0', 'profile_sidebar_border_color': 'BDDCAD', 'profile_sidebar_fill_color': 'C5CEC0', 'profile_text_color': '333333', 'profile_use_background_image': True, 'profile_image_url': 'http://pbs.twimg.com/profile_images/874276197357596672/kUuht00m_normal.jpg', 'profile_image_url_https': 'https://pbs.twimg.com/profile_images/874276197357596672/kUuht00m_normal.jpg', 'profile_banner_url': 'https://pbs.twimg.com/profile_banners/25073877/1583212785', 'default_profile': False, 'default_profile_image': False, 'following': None, 'follow_request_sent': None, 'notifications': None}, 'geo': None, 'coordinates': None, 'place': None, 'contributors': None, 'quoted_status_id': 1254539514699304960, 'quoted_status_id_str': '1254539514699304960', 'quoted_status': {'created_at': 'Sun Apr 26 22:35:03 +0000 2020', 'id': 1254539514699304960, 'id_str': '1254539514699304960', 'text': 'Azar is one of the best, smartest, multi-talented, experienced people in the Trump Cabinet.  Also really good and c… https://t.co/N7J0KC1O0H', 'source': '<a href=\"http://twitter.com/download/iphone\" rel=\"nofollow\">Twitter for iPhone</a>', 'truncated': True, 'in_reply_to_status_id': None, 'in_reply_to_status_id_str': None, 'in_reply_to_user_id': None, 'in_reply_to_user_id_str': None, 'in_reply_to_screen_name': None, 'user': {'id': 50769180, 'id_str': '50769180', 'name': 'Laura Ingraham', 'screen_name': 'IngrahamAngle', 'location': 'DC', 'url': 'http://www.lauraingraham.com', 'description': 'Mom, author, host, The Ingraham Angle, 10p ET @FoxNews. Retweets do not = Endorsements', 'translator_type': 'none', 'protected': False, 'verified': True, 'followers_count': 3358830, 'friends_count': 337, 'listed_count': 13306, 'favourites_count': 3143, 'statuses_count': 42302, 'created_at': 'Thu Jun 25 21:03:25 +0000 2009', 'utc_offset': None, 'time_zone': None, 'geo_enabled': True, 'lang': None, 'contributors_enabled': False, 'is_translator': False, 'profile_background_color': 'DBE9ED', 'profile_background_image_url': 'http://abs.twimg.com/images/themes/theme1/bg.png', 'profile_background_image_url_https': 'https://abs.twimg.com/images/themes/theme1/bg.png', 'profile_background_tile': False, 'profile_link_color': 'CC3366', 'profile_sidebar_border_color': 'FFFFFF', 'profile_sidebar_fill_color': 'DDEEF6', 'profile_text_color': '333333', 'profile_use_background_image': True, 'profile_image_url': 'http://pbs.twimg.com/profile_images/1146349820912660480/CjdAuR5i_normal.jpg', 'profile_image_url_https': 'https://pbs.twimg.com/profile_images/1146349820912660480/CjdAuR5i_normal.jpg', 'profile_banner_url': 'https://pbs.twimg.com/profile_banners/50769180/1562146071', 'default_profile': False, 'default_profile_image': False, 'following': None, 'follow_request_sent': None, 'notifications': None}, 'geo': None, 'coordinates': None, 'place': None, 'contributors': None, 'quoted_status_id': 1254529069733105665, 'quoted_status_id_str': '1254529069733105665', 'is_quote_status': True, 'extended_tweet': {'full_text': 'Azar is one of the best, smartest, multi-talented, experienced people in the Trump Cabinet.  Also really good and clear on TV—which is also a plus.', 'display_text_range': [0, 147], 'entities': {'hashtags': [], 'urls': [], 'user_mentions': [], 'symbols': []}}, 'quote_count': 97, 'reply_count': 474, 'retweet_count': 1678, 'favorite_count': 6387, 'entities': {'hashtags': [], 'urls': [{'url': 'https://t.co/N7J0KC1O0H', 'expanded_url': 'https://twitter.com/i/web/status/1254539514699304960', 'display_url': 'twitter.com/i/web/status/1…', 'indices': [117, 140]}], 'user_mentions': [], 'symbols': []}, 'favorited': False, 'retweeted': False, 'filter_level': 'low', 'lang': 'en'}, 'quoted_status_permalink': {'url': 'https://t.co/Kya7NViNRB', 'expanded': 'https://twitter.com/ingrahamangle/status/1254539514699304960', 'display': 'twitter.com/ingrahamangle/…'}, 'is_quote_status': True, 'quote_count': 200, 'reply_count': 2146, 'retweet_count': 4854, 'favorite_count': 19428, 'entities': {'hashtags': [], 'urls': [], 'user_mentions': [], 'symbols': []}, 'favorited': False, 'retweeted': False, 'filter_level': 'low', 'lang': 'en'}, 'quoted_status_id': 1254539514699304960, 'quoted_status_id_str': '1254539514699304960', 'quoted_status': {'created_at': 'Sun Apr 26 22:35:03 +0000 2020', 'id': 1254539514699304960, 'id_str': '1254539514699304960', 'text': 'Azar is one of the best, smartest, multi-talented, experienced people in the Trump Cabinet.  Also really good and c… https://t.co/N7J0KC1O0H', 'source': '<a href=\"http://twitter.com/download/iphone\" rel=\"nofollow\">Twitter for iPhone</a>', 'truncated': True, 'in_reply_to_status_id': None, 'in_reply_to_status_id_str': None, 'in_reply_to_user_id': None, 'in_reply_to_user_id_str': None, 'in_reply_to_screen_name': None, 'user': {'id': 50769180, 'id_str': '50769180', 'name': 'Laura Ingraham', 'screen_name': 'IngrahamAngle', 'location': 'DC', 'url': 'http://www.lauraingraham.com', 'description': 'Mom, author, host, The Ingraham Angle, 10p ET @FoxNews. Retweets do not = Endorsements', 'translator_type': 'none', 'protected': False, 'verified': True, 'followers_count': 3358830, 'friends_count': 337, 'listed_count': 13306, 'favourites_count': 3143, 'statuses_count': 42302, 'created_at': 'Thu Jun 25 21:03:25 +0000 2009', 'utc_offset': None, 'time_zone': None, 'geo_enabled': True, 'lang': None, 'contributors_enabled': False, 'is_translator': False, 'profile_background_color': 'DBE9ED', 'profile_background_image_url': 'http://abs.twimg.com/images/themes/theme1/bg.png', 'profile_background_image_url_https': 'https://abs.twimg.com/images/themes/theme1/bg.png', 'profile_background_tile': False, 'profile_link_color': 'CC3366', 'profile_sidebar_border_color': 'FFFFFF', 'profile_sidebar_fill_color': 'DDEEF6', 'profile_text_color': '333333', 'profile_use_background_image': True, 'profile_image_url': 'http://pbs.twimg.com/profile_images/1146349820912660480/CjdAuR5i_normal.jpg', 'profile_image_url_https': 'https://pbs.twimg.com/profile_images/1146349820912660480/CjdAuR5i_normal.jpg', 'profile_banner_url': 'https://pbs.twimg.com/profile_banners/50769180/1562146071', 'default_profile': False, 'default_profile_image': False, 'following': None, 'follow_request_sent': None, 'notifications': None}, 'geo': None, 'coordinates': None, 'place': None, 'contributors': None, 'quoted_status_id': 1254529069733105665, 'quoted_status_id_str': '1254529069733105665', 'is_quote_status': True, 'extended_tweet': {'full_text': 'Azar is one of the best, smartest, multi-talented, experienced people in the Trump Cabinet.  Also really good and clear on TV—which is also a plus.', 'display_text_range': [0, 147], 'entities': {'hashtags': [], 'urls': [], 'user_mentions': [], 'symbols': []}}, 'quote_count': 97, 'reply_count': 474, 'retweet_count': 1678, 'favorite_count': 6387, 'entities': {'hashtags': [], 'urls': [{'url': 'https://t.co/N7J0KC1O0H', 'expanded_url': 'https://twitter.com/i/web/status/1254539514699304960', 'display_url': 'twitter.com/i/web/status/1…', 'indices': [117, 140]}], 'user_mentions': [], 'symbols': []}, 'favorited': False, 'retweeted': False, 'filter_level': 'low', 'lang': 'en'}, 'quoted_status_permalink': {'url': 'https://t.co/Kya7NViNRB', 'expanded': 'https://twitter.com/ingrahamangle/status/1254539514699304960', 'display': 'twitter.com/ingrahamangle/…'}, 'is_quote_status': True, 'quote_count': 0, 'reply_count': 0, 'retweet_count': 0, 'favorite_count': 0, 'entities': {'hashtags': [], 'urls': [], 'user_mentions': [{'screen_name': 'realDonaldTrump', 'name': 'Donald J. Trump', 'id': 25073877, 'id_str': '25073877', 'indices': [3, 19]}], 'symbols': []}, 'favorited': False, 'retweeted': False, 'filter_level': 'low', 'lang': 'en', 'timestamp_ms': '1587951887473'}\n"
     ]
    }
   ],
   "source": [
    "# read the first five tweets and other meta data only\n",
    "for i in data[:5]:\n",
    "    print(i)"
   ]
  },
  {
   "cell_type": "code",
   "execution_count": 758,
   "metadata": {},
   "outputs": [
    {
     "data": {
      "text/plain": [
       "9297"
      ]
     },
     "execution_count": 758,
     "metadata": {},
     "output_type": "execute_result"
    }
   ],
   "source": [
    "# removing any error messages from Twitter API\n",
    "tweets = []\n",
    "for T in data:\n",
    "    if 'text' in T:\n",
    "        tweets.append(T)\n",
    "len(tweets)"
   ]
  },
  {
   "cell_type": "markdown",
   "metadata": {},
   "source": [
    "### Collecting and analysting user profiles (Appendix)"
   ]
  },
  {
   "cell_type": "code",
   "execution_count": 759,
   "metadata": {},
   "outputs": [
    {
     "data": {
      "text/plain": [
       "9297"
      ]
     },
     "execution_count": 759,
     "metadata": {},
     "output_type": "execute_result"
    }
   ],
   "source": [
    "screen_names_description = [i['user']['description'] for i in tweets ]\n",
    "len(screen_names_description)"
   ]
  },
  {
   "cell_type": "code",
   "execution_count": 760,
   "metadata": {
    "ExecuteTime": {
     "end_time": "2019-02-14T16:24:25.584273Z",
     "start_time": "2019-02-14T16:24:25.577272Z"
    }
   },
   "outputs": [
    {
     "name": "stdout",
     "output_type": "stream",
     "text": [
      "3'd gen. Union member, retired public servant, current non-union factory employee, Progressive, PLEASE KEEP ME OFF THE FOLLOWBACK LISTS! - #FBR #TheResistance\n",
      "Biden/Harris 2020!!\n",
      "Vote Blue No Matter Who. Climate Change is here now.\n",
      "*Don't live the same year 75 times and call it a life* DC Born 🇺🇸 USARMY VET! Black with a snipet of Irish/scottish/welch. #Resist #LegalizIt  #2fish\n",
      "Follower of CHRIST 1st! . All else is secondary !! 💯%TRUMP supporter #FinishTheWall.\n",
      "Interested in the truth\n",
      "None\n",
      "🖖🌎🧘🏽‍♀️🎨🐋🐢🐙🦈🦓🐐🐓🐫🐏🦏🐝🐞🐘🦄!🙏(DS9) #Bernie2020\n",
      "None\n",
      "None\n",
      "I create visual piano music for your soul's eyes in a series of acoustic piano recordings called PIANORAMA. Question everything.\n",
      "social democracy is beautiful\n",
      "c/5 quad\n",
      "None\n",
      "i got my eyes, and they shine, like 1999\n",
      "None\n",
      "“Tell the wind and fire where to stop, but don’t tell me!\"\n",
      "Nevertheless, she persisted.  #RESIST Fighting against the Age of Ignorance.  Recovering from 37 years of social work.\n",
      "None\n",
      "None\n"
     ]
    }
   ],
   "source": [
    "for i in screen_names_description[:20]:\n",
    "    print(i)"
   ]
  },
  {
   "cell_type": "markdown",
   "metadata": {},
   "source": [
    "### Spatial Analytics"
   ]
  },
  {
   "cell_type": "code",
   "execution_count": 761,
   "metadata": {
    "ExecuteTime": {
     "end_time": "2019-02-14T16:24:27.144135Z",
     "start_time": "2019-02-14T16:24:27.137133Z"
    }
   },
   "outputs": [],
   "source": [
    "lats = [(T['geo']['coordinates'][0] if T['geo'] else None) for T in tweets]\n",
    "lons = [(T['geo']['coordinates'][1] if T['geo'] else None) for T in tweets]"
   ]
  },
  {
   "cell_type": "code",
   "execution_count": 762,
   "metadata": {
    "ExecuteTime": {
     "end_time": "2019-02-14T16:24:27.997064Z",
     "start_time": "2019-02-14T16:24:27.972062Z"
    }
   },
   "outputs": [
    {
     "data": {
      "text/plain": [
       "[(None, None), (None, None), (None, None), (None, None), (None, None)]"
      ]
     },
     "execution_count": 762,
     "metadata": {},
     "output_type": "execute_result"
    }
   ],
   "source": [
    "geo = list(zip(lats, lons))\n",
    "geo[:5]"
   ]
  },
  {
   "cell_type": "code",
   "execution_count": 763,
   "metadata": {
    "ExecuteTime": {
     "end_time": "2019-02-14T16:24:28.739002Z",
     "start_time": "2019-02-14T16:24:28.716313Z"
    }
   },
   "outputs": [],
   "source": [
    "import csv\n",
    "openfile = open(\"data/geo.csv\", \"w\", newline ='')\n",
    "w = csv.writer(openfile)\n",
    "for i in geo:\n",
    "    w.writerow([i])      \n",
    "openfile.close()"
   ]
  },
  {
   "cell_type": "markdown",
   "metadata": {},
   "source": [
    "# References & Additional Resources\n",
    "\n",
    "- http://adilmoujahid.com/posts/2014/07/twitter-analytics/\n",
    "- http://mike.teczno.com/notes/streaming-data-from-twitter.html\n",
    "- https://www.dataquest.io/blog/streaming-data-python/\n",
    "- https://www.digitalocean.com/community/tutorials/how-to-create-a-twitterbot-with-python-3-and-the-tweepy-library"
   ]
  },
  {
   "cell_type": "markdown",
   "metadata": {},
   "source": [
    "Kevin Moodie  \n",
    "\"On my honor, as a student, I have neither given nor received unauthorized aid on this academic work.\""
   ]
  }
 ],
 "metadata": {
  "hide_input": false,
  "kernelspec": {
   "display_name": "Python 3",
   "language": "python",
   "name": "python3"
  },
  "language_info": {
   "codemirror_mode": {
    "name": "ipython",
    "version": 3
   },
   "file_extension": ".py",
   "mimetype": "text/x-python",
   "name": "python",
   "nbconvert_exporter": "python",
   "pygments_lexer": "ipython3",
   "version": "3.7.3"
  },
  "toc": {
   "base_numbering": 1,
   "nav_menu": {},
   "number_sections": true,
   "sideBar": true,
   "skip_h1_title": false,
   "title_cell": "Table of Contents",
   "title_sidebar": "Contents",
   "toc_cell": true,
   "toc_position": {},
   "toc_section_display": true,
   "toc_window_display": false
  },
  "varInspector": {
   "cols": {
    "lenName": 16,
    "lenType": 16,
    "lenVar": 40
   },
   "kernels_config": {
    "python": {
     "delete_cmd_postfix": "",
     "delete_cmd_prefix": "del ",
     "library": "var_list.py",
     "varRefreshCmd": "print(var_dic_list())"
    },
    "r": {
     "delete_cmd_postfix": ") ",
     "delete_cmd_prefix": "rm(",
     "library": "var_list.r",
     "varRefreshCmd": "cat(var_dic_list()) "
    }
   },
   "types_to_exclude": [
    "module",
    "function",
    "builtin_function_or_method",
    "instance",
    "_Feature"
   ],
   "window_display": false
  }
 },
 "nbformat": 4,
 "nbformat_minor": 1
}
